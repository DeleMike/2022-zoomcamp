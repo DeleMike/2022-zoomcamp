{
 "cells": [
  {
   "cell_type": "markdown",
   "id": "080a8b67",
   "metadata": {},
   "source": [
    "## Session 3 Homework\n",
    "Understanding Logistic Regression"
   ]
  },
  {
   "cell_type": "code",
   "execution_count": 207,
   "id": "d5401a25",
   "metadata": {},
   "outputs": [],
   "source": [
    "# import necessary libraries\n",
    "import numpy as np\n",
    "import pandas as pd\n",
    "import matplotlib.pyplot as plt\n",
    "import seaborn as sns"
   ]
  },
  {
   "cell_type": "code",
   "execution_count": 208,
   "id": "d0af5378",
   "metadata": {},
   "outputs": [],
   "source": [
    "# get and load data\n",
    "df = pd.read_csv('housing.csv')"
   ]
  },
  {
   "cell_type": "code",
   "execution_count": 209,
   "id": "11a4f1fd",
   "metadata": {},
   "outputs": [
    {
     "data": {
      "text/html": [
       "<div>\n",
       "<style scoped>\n",
       "    .dataframe tbody tr th:only-of-type {\n",
       "        vertical-align: middle;\n",
       "    }\n",
       "\n",
       "    .dataframe tbody tr th {\n",
       "        vertical-align: top;\n",
       "    }\n",
       "\n",
       "    .dataframe thead th {\n",
       "        text-align: right;\n",
       "    }\n",
       "</style>\n",
       "<table border=\"1\" class=\"dataframe\">\n",
       "  <thead>\n",
       "    <tr style=\"text-align: right;\">\n",
       "      <th></th>\n",
       "      <th>longitude</th>\n",
       "      <th>latitude</th>\n",
       "      <th>housing_median_age</th>\n",
       "      <th>total_rooms</th>\n",
       "      <th>total_bedrooms</th>\n",
       "      <th>population</th>\n",
       "      <th>households</th>\n",
       "      <th>median_income</th>\n",
       "      <th>median_house_value</th>\n",
       "      <th>ocean_proximity</th>\n",
       "    </tr>\n",
       "  </thead>\n",
       "  <tbody>\n",
       "    <tr>\n",
       "      <th>7682</th>\n",
       "      <td>-118.10</td>\n",
       "      <td>33.93</td>\n",
       "      <td>33.0</td>\n",
       "      <td>1474.0</td>\n",
       "      <td>325.0</td>\n",
       "      <td>1205.0</td>\n",
       "      <td>335.0</td>\n",
       "      <td>3.1397</td>\n",
       "      <td>166800.0</td>\n",
       "      <td>&lt;1H OCEAN</td>\n",
       "    </tr>\n",
       "    <tr>\n",
       "      <th>12472</th>\n",
       "      <td>-121.47</td>\n",
       "      <td>38.58</td>\n",
       "      <td>44.0</td>\n",
       "      <td>2092.0</td>\n",
       "      <td>555.0</td>\n",
       "      <td>878.0</td>\n",
       "      <td>528.0</td>\n",
       "      <td>1.5922</td>\n",
       "      <td>115100.0</td>\n",
       "      <td>INLAND</td>\n",
       "    </tr>\n",
       "    <tr>\n",
       "      <th>3711</th>\n",
       "      <td>-118.40</td>\n",
       "      <td>34.20</td>\n",
       "      <td>13.0</td>\n",
       "      <td>4859.0</td>\n",
       "      <td>1293.0</td>\n",
       "      <td>3351.0</td>\n",
       "      <td>1200.0</td>\n",
       "      <td>3.6875</td>\n",
       "      <td>211900.0</td>\n",
       "      <td>&lt;1H OCEAN</td>\n",
       "    </tr>\n",
       "    <tr>\n",
       "      <th>6640</th>\n",
       "      <td>-118.15</td>\n",
       "      <td>34.16</td>\n",
       "      <td>52.0</td>\n",
       "      <td>1925.0</td>\n",
       "      <td>597.0</td>\n",
       "      <td>2258.0</td>\n",
       "      <td>594.0</td>\n",
       "      <td>1.6921</td>\n",
       "      <td>162500.0</td>\n",
       "      <td>&lt;1H OCEAN</td>\n",
       "    </tr>\n",
       "    <tr>\n",
       "      <th>3229</th>\n",
       "      <td>-119.64</td>\n",
       "      <td>36.31</td>\n",
       "      <td>27.0</td>\n",
       "      <td>1513.0</td>\n",
       "      <td>314.0</td>\n",
       "      <td>1071.0</td>\n",
       "      <td>284.0</td>\n",
       "      <td>1.5909</td>\n",
       "      <td>50100.0</td>\n",
       "      <td>INLAND</td>\n",
       "    </tr>\n",
       "    <tr>\n",
       "      <th>5817</th>\n",
       "      <td>-118.24</td>\n",
       "      <td>34.13</td>\n",
       "      <td>45.0</td>\n",
       "      <td>1971.0</td>\n",
       "      <td>439.0</td>\n",
       "      <td>1245.0</td>\n",
       "      <td>430.0</td>\n",
       "      <td>4.0272</td>\n",
       "      <td>260500.0</td>\n",
       "      <td>&lt;1H OCEAN</td>\n",
       "    </tr>\n",
       "    <tr>\n",
       "      <th>5851</th>\n",
       "      <td>-118.32</td>\n",
       "      <td>34.18</td>\n",
       "      <td>44.0</td>\n",
       "      <td>1594.0</td>\n",
       "      <td>389.0</td>\n",
       "      <td>832.0</td>\n",
       "      <td>340.0</td>\n",
       "      <td>3.4000</td>\n",
       "      <td>212100.0</td>\n",
       "      <td>&lt;1H OCEAN</td>\n",
       "    </tr>\n",
       "    <tr>\n",
       "      <th>14301</th>\n",
       "      <td>-117.14</td>\n",
       "      <td>32.72</td>\n",
       "      <td>43.0</td>\n",
       "      <td>1073.0</td>\n",
       "      <td>344.0</td>\n",
       "      <td>660.0</td>\n",
       "      <td>279.0</td>\n",
       "      <td>2.0529</td>\n",
       "      <td>168800.0</td>\n",
       "      <td>NEAR OCEAN</td>\n",
       "    </tr>\n",
       "  </tbody>\n",
       "</table>\n",
       "</div>"
      ],
      "text/plain": [
       "       longitude  latitude  housing_median_age  total_rooms  total_bedrooms  \\\n",
       "7682     -118.10     33.93                33.0       1474.0           325.0   \n",
       "12472    -121.47     38.58                44.0       2092.0           555.0   \n",
       "3711     -118.40     34.20                13.0       4859.0          1293.0   \n",
       "6640     -118.15     34.16                52.0       1925.0           597.0   \n",
       "3229     -119.64     36.31                27.0       1513.0           314.0   \n",
       "5817     -118.24     34.13                45.0       1971.0           439.0   \n",
       "5851     -118.32     34.18                44.0       1594.0           389.0   \n",
       "14301    -117.14     32.72                43.0       1073.0           344.0   \n",
       "\n",
       "       population  households  median_income  median_house_value  \\\n",
       "7682       1205.0       335.0         3.1397            166800.0   \n",
       "12472       878.0       528.0         1.5922            115100.0   \n",
       "3711       3351.0      1200.0         3.6875            211900.0   \n",
       "6640       2258.0       594.0         1.6921            162500.0   \n",
       "3229       1071.0       284.0         1.5909             50100.0   \n",
       "5817       1245.0       430.0         4.0272            260500.0   \n",
       "5851        832.0       340.0         3.4000            212100.0   \n",
       "14301       660.0       279.0         2.0529            168800.0   \n",
       "\n",
       "      ocean_proximity  \n",
       "7682        <1H OCEAN  \n",
       "12472          INLAND  \n",
       "3711        <1H OCEAN  \n",
       "6640        <1H OCEAN  \n",
       "3229           INLAND  \n",
       "5817        <1H OCEAN  \n",
       "5851        <1H OCEAN  \n",
       "14301      NEAR OCEAN  "
      ]
     },
     "execution_count": 209,
     "metadata": {},
     "output_type": "execute_result"
    }
   ],
   "source": [
    "df.sample(8)"
   ]
  },
  {
   "cell_type": "markdown",
   "id": "1bea17a7",
   "metadata": {},
   "source": [
    "### Data preparation"
   ]
  },
  {
   "cell_type": "markdown",
   "id": "56d21e67",
   "metadata": {},
   "source": [
    "The column headers are properly sorted but let's convert all string data to lower case to ensure uniformity"
   ]
  },
  {
   "cell_type": "code",
   "execution_count": 210,
   "id": "e14e2b6d",
   "metadata": {},
   "outputs": [
    {
     "data": {
      "text/html": [
       "<div>\n",
       "<style scoped>\n",
       "    .dataframe tbody tr th:only-of-type {\n",
       "        vertical-align: middle;\n",
       "    }\n",
       "\n",
       "    .dataframe tbody tr th {\n",
       "        vertical-align: top;\n",
       "    }\n",
       "\n",
       "    .dataframe thead th {\n",
       "        text-align: right;\n",
       "    }\n",
       "</style>\n",
       "<table border=\"1\" class=\"dataframe\">\n",
       "  <thead>\n",
       "    <tr style=\"text-align: right;\">\n",
       "      <th></th>\n",
       "      <th>longitude</th>\n",
       "      <th>latitude</th>\n",
       "      <th>housing_median_age</th>\n",
       "      <th>total_rooms</th>\n",
       "      <th>total_bedrooms</th>\n",
       "      <th>population</th>\n",
       "      <th>households</th>\n",
       "      <th>median_income</th>\n",
       "      <th>median_house_value</th>\n",
       "      <th>ocean_proximity</th>\n",
       "    </tr>\n",
       "  </thead>\n",
       "  <tbody>\n",
       "    <tr>\n",
       "      <th>10894</th>\n",
       "      <td>-117.86</td>\n",
       "      <td>33.72</td>\n",
       "      <td>37.0</td>\n",
       "      <td>1429.0</td>\n",
       "      <td>428.0</td>\n",
       "      <td>2089.0</td>\n",
       "      <td>399.0</td>\n",
       "      <td>3.4130</td>\n",
       "      <td>150600.0</td>\n",
       "      <td>&lt;1H OCEAN</td>\n",
       "    </tr>\n",
       "    <tr>\n",
       "      <th>20520</th>\n",
       "      <td>-121.53</td>\n",
       "      <td>38.58</td>\n",
       "      <td>35.0</td>\n",
       "      <td>1316.0</td>\n",
       "      <td>321.0</td>\n",
       "      <td>732.0</td>\n",
       "      <td>336.0</td>\n",
       "      <td>2.1213</td>\n",
       "      <td>79200.0</td>\n",
       "      <td>INLAND</td>\n",
       "    </tr>\n",
       "    <tr>\n",
       "      <th>15177</th>\n",
       "      <td>-117.07</td>\n",
       "      <td>33.04</td>\n",
       "      <td>4.0</td>\n",
       "      <td>2271.0</td>\n",
       "      <td>578.0</td>\n",
       "      <td>926.0</td>\n",
       "      <td>391.0</td>\n",
       "      <td>3.6437</td>\n",
       "      <td>210100.0</td>\n",
       "      <td>&lt;1H OCEAN</td>\n",
       "    </tr>\n",
       "    <tr>\n",
       "      <th>615</th>\n",
       "      <td>-122.16</td>\n",
       "      <td>37.73</td>\n",
       "      <td>52.0</td>\n",
       "      <td>2260.0</td>\n",
       "      <td>416.0</td>\n",
       "      <td>994.0</td>\n",
       "      <td>412.0</td>\n",
       "      <td>4.1164</td>\n",
       "      <td>198200.0</td>\n",
       "      <td>NEAR BAY</td>\n",
       "    </tr>\n",
       "    <tr>\n",
       "      <th>3777</th>\n",
       "      <td>-118.40</td>\n",
       "      <td>34.17</td>\n",
       "      <td>24.0</td>\n",
       "      <td>4443.0</td>\n",
       "      <td>1283.0</td>\n",
       "      <td>2421.0</td>\n",
       "      <td>1180.0</td>\n",
       "      <td>2.2652</td>\n",
       "      <td>269200.0</td>\n",
       "      <td>&lt;1H OCEAN</td>\n",
       "    </tr>\n",
       "  </tbody>\n",
       "</table>\n",
       "</div>"
      ],
      "text/plain": [
       "       longitude  latitude  housing_median_age  total_rooms  total_bedrooms  \\\n",
       "10894    -117.86     33.72                37.0       1429.0           428.0   \n",
       "20520    -121.53     38.58                35.0       1316.0           321.0   \n",
       "15177    -117.07     33.04                 4.0       2271.0           578.0   \n",
       "615      -122.16     37.73                52.0       2260.0           416.0   \n",
       "3777     -118.40     34.17                24.0       4443.0          1283.0   \n",
       "\n",
       "       population  households  median_income  median_house_value  \\\n",
       "10894      2089.0       399.0         3.4130            150600.0   \n",
       "20520       732.0       336.0         2.1213             79200.0   \n",
       "15177       926.0       391.0         3.6437            210100.0   \n",
       "615         994.0       412.0         4.1164            198200.0   \n",
       "3777       2421.0      1180.0         2.2652            269200.0   \n",
       "\n",
       "      ocean_proximity  \n",
       "10894       <1H OCEAN  \n",
       "20520          INLAND  \n",
       "15177       <1H OCEAN  \n",
       "615          NEAR BAY  \n",
       "3777        <1H OCEAN  "
      ]
     },
     "execution_count": 210,
     "metadata": {},
     "output_type": "execute_result"
    }
   ],
   "source": [
    "df.sample(5)"
   ]
  },
  {
   "cell_type": "code",
   "execution_count": 211,
   "id": "d7eb73ca",
   "metadata": {},
   "outputs": [],
   "source": [
    "features = ['latitude', 'longitude', 'housing_median_age', 'total_rooms', 'total_bedrooms',\n",
    "            'population', 'households', 'median_income', 'median_house_value', 'ocean_proximity']"
   ]
  },
  {
   "cell_type": "code",
   "execution_count": 212,
   "id": "6876af91",
   "metadata": {},
   "outputs": [],
   "source": [
    "df = df[features]"
   ]
  },
  {
   "cell_type": "code",
   "execution_count": 213,
   "id": "549dee9d",
   "metadata": {},
   "outputs": [
    {
     "data": {
      "text/html": [
       "<div>\n",
       "<style scoped>\n",
       "    .dataframe tbody tr th:only-of-type {\n",
       "        vertical-align: middle;\n",
       "    }\n",
       "\n",
       "    .dataframe tbody tr th {\n",
       "        vertical-align: top;\n",
       "    }\n",
       "\n",
       "    .dataframe thead th {\n",
       "        text-align: right;\n",
       "    }\n",
       "</style>\n",
       "<table border=\"1\" class=\"dataframe\">\n",
       "  <thead>\n",
       "    <tr style=\"text-align: right;\">\n",
       "      <th></th>\n",
       "      <th>latitude</th>\n",
       "      <th>longitude</th>\n",
       "      <th>housing_median_age</th>\n",
       "      <th>total_rooms</th>\n",
       "      <th>total_bedrooms</th>\n",
       "      <th>population</th>\n",
       "      <th>households</th>\n",
       "      <th>median_income</th>\n",
       "      <th>median_house_value</th>\n",
       "      <th>ocean_proximity</th>\n",
       "    </tr>\n",
       "  </thead>\n",
       "  <tbody>\n",
       "    <tr>\n",
       "      <th>7063</th>\n",
       "      <td>33.94</td>\n",
       "      <td>-118.03</td>\n",
       "      <td>37.0</td>\n",
       "      <td>1699.0</td>\n",
       "      <td>302.0</td>\n",
       "      <td>889.0</td>\n",
       "      <td>271.0</td>\n",
       "      <td>4.3542</td>\n",
       "      <td>179800.0</td>\n",
       "      <td>&lt;1H OCEAN</td>\n",
       "    </tr>\n",
       "    <tr>\n",
       "      <th>9294</th>\n",
       "      <td>38.00</td>\n",
       "      <td>-122.51</td>\n",
       "      <td>17.0</td>\n",
       "      <td>2449.0</td>\n",
       "      <td>536.0</td>\n",
       "      <td>1157.0</td>\n",
       "      <td>543.0</td>\n",
       "      <td>3.9519</td>\n",
       "      <td>274200.0</td>\n",
       "      <td>NEAR BAY</td>\n",
       "    </tr>\n",
       "    <tr>\n",
       "      <th>10722</th>\n",
       "      <td>33.63</td>\n",
       "      <td>-117.80</td>\n",
       "      <td>8.0</td>\n",
       "      <td>32.0</td>\n",
       "      <td>9.0</td>\n",
       "      <td>26.0</td>\n",
       "      <td>11.0</td>\n",
       "      <td>4.1944</td>\n",
       "      <td>270800.0</td>\n",
       "      <td>&lt;1H OCEAN</td>\n",
       "    </tr>\n",
       "    <tr>\n",
       "      <th>10019</th>\n",
       "      <td>39.19</td>\n",
       "      <td>-121.18</td>\n",
       "      <td>16.0</td>\n",
       "      <td>1528.0</td>\n",
       "      <td>351.0</td>\n",
       "      <td>729.0</td>\n",
       "      <td>319.0</td>\n",
       "      <td>2.4688</td>\n",
       "      <td>138800.0</td>\n",
       "      <td>INLAND</td>\n",
       "    </tr>\n",
       "    <tr>\n",
       "      <th>15179</th>\n",
       "      <td>33.03</td>\n",
       "      <td>-117.08</td>\n",
       "      <td>17.0</td>\n",
       "      <td>987.0</td>\n",
       "      <td>142.0</td>\n",
       "      <td>463.0</td>\n",
       "      <td>152.0</td>\n",
       "      <td>5.8747</td>\n",
       "      <td>229300.0</td>\n",
       "      <td>&lt;1H OCEAN</td>\n",
       "    </tr>\n",
       "    <tr>\n",
       "      <th>19190</th>\n",
       "      <td>38.44</td>\n",
       "      <td>-122.68</td>\n",
       "      <td>29.0</td>\n",
       "      <td>2796.0</td>\n",
       "      <td>588.0</td>\n",
       "      <td>1346.0</td>\n",
       "      <td>562.0</td>\n",
       "      <td>2.9107</td>\n",
       "      <td>169700.0</td>\n",
       "      <td>&lt;1H OCEAN</td>\n",
       "    </tr>\n",
       "    <tr>\n",
       "      <th>17190</th>\n",
       "      <td>37.24</td>\n",
       "      <td>-122.27</td>\n",
       "      <td>30.0</td>\n",
       "      <td>2762.0</td>\n",
       "      <td>593.0</td>\n",
       "      <td>1581.0</td>\n",
       "      <td>502.0</td>\n",
       "      <td>5.1002</td>\n",
       "      <td>319400.0</td>\n",
       "      <td>NEAR OCEAN</td>\n",
       "    </tr>\n",
       "    <tr>\n",
       "      <th>16087</th>\n",
       "      <td>37.73</td>\n",
       "      <td>-122.48</td>\n",
       "      <td>38.0</td>\n",
       "      <td>3195.0</td>\n",
       "      <td>828.0</td>\n",
       "      <td>2410.0</td>\n",
       "      <td>778.0</td>\n",
       "      <td>3.1359</td>\n",
       "      <td>350000.0</td>\n",
       "      <td>NEAR OCEAN</td>\n",
       "    </tr>\n",
       "    <tr>\n",
       "      <th>19386</th>\n",
       "      <td>37.77</td>\n",
       "      <td>-120.85</td>\n",
       "      <td>37.0</td>\n",
       "      <td>1738.0</td>\n",
       "      <td>403.0</td>\n",
       "      <td>936.0</td>\n",
       "      <td>366.0</td>\n",
       "      <td>2.4717</td>\n",
       "      <td>77100.0</td>\n",
       "      <td>INLAND</td>\n",
       "    </tr>\n",
       "    <tr>\n",
       "      <th>18629</th>\n",
       "      <td>37.10</td>\n",
       "      <td>-121.90</td>\n",
       "      <td>23.0</td>\n",
       "      <td>1708.0</td>\n",
       "      <td>287.0</td>\n",
       "      <td>670.0</td>\n",
       "      <td>238.0</td>\n",
       "      <td>6.4517</td>\n",
       "      <td>356600.0</td>\n",
       "      <td>&lt;1H OCEAN</td>\n",
       "    </tr>\n",
       "  </tbody>\n",
       "</table>\n",
       "</div>"
      ],
      "text/plain": [
       "       latitude  longitude  housing_median_age  total_rooms  total_bedrooms  \\\n",
       "7063      33.94    -118.03                37.0       1699.0           302.0   \n",
       "9294      38.00    -122.51                17.0       2449.0           536.0   \n",
       "10722     33.63    -117.80                 8.0         32.0             9.0   \n",
       "10019     39.19    -121.18                16.0       1528.0           351.0   \n",
       "15179     33.03    -117.08                17.0        987.0           142.0   \n",
       "19190     38.44    -122.68                29.0       2796.0           588.0   \n",
       "17190     37.24    -122.27                30.0       2762.0           593.0   \n",
       "16087     37.73    -122.48                38.0       3195.0           828.0   \n",
       "19386     37.77    -120.85                37.0       1738.0           403.0   \n",
       "18629     37.10    -121.90                23.0       1708.0           287.0   \n",
       "\n",
       "       population  households  median_income  median_house_value  \\\n",
       "7063        889.0       271.0         4.3542            179800.0   \n",
       "9294       1157.0       543.0         3.9519            274200.0   \n",
       "10722        26.0        11.0         4.1944            270800.0   \n",
       "10019       729.0       319.0         2.4688            138800.0   \n",
       "15179       463.0       152.0         5.8747            229300.0   \n",
       "19190      1346.0       562.0         2.9107            169700.0   \n",
       "17190      1581.0       502.0         5.1002            319400.0   \n",
       "16087      2410.0       778.0         3.1359            350000.0   \n",
       "19386       936.0       366.0         2.4717             77100.0   \n",
       "18629       670.0       238.0         6.4517            356600.0   \n",
       "\n",
       "      ocean_proximity  \n",
       "7063        <1H OCEAN  \n",
       "9294         NEAR BAY  \n",
       "10722       <1H OCEAN  \n",
       "10019          INLAND  \n",
       "15179       <1H OCEAN  \n",
       "19190       <1H OCEAN  \n",
       "17190      NEAR OCEAN  \n",
       "16087      NEAR OCEAN  \n",
       "19386          INLAND  \n",
       "18629       <1H OCEAN  "
      ]
     },
     "execution_count": 213,
     "metadata": {},
     "output_type": "execute_result"
    }
   ],
   "source": [
    "df.sample(10)"
   ]
  },
  {
   "cell_type": "code",
   "execution_count": 214,
   "id": "ff209417",
   "metadata": {},
   "outputs": [
    {
     "data": {
      "text/plain": [
       "latitude                0\n",
       "longitude               0\n",
       "housing_median_age      0\n",
       "total_rooms             0\n",
       "total_bedrooms        207\n",
       "population              0\n",
       "households              0\n",
       "median_income           0\n",
       "median_house_value      0\n",
       "ocean_proximity         0\n",
       "dtype: int64"
      ]
     },
     "execution_count": 214,
     "metadata": {},
     "output_type": "execute_result"
    }
   ],
   "source": [
    "df.isnull().sum()"
   ]
  },
  {
   "cell_type": "code",
   "execution_count": 215,
   "id": "c1efa43d",
   "metadata": {},
   "outputs": [],
   "source": [
    "df = df.fillna(0)"
   ]
  },
  {
   "cell_type": "code",
   "execution_count": 216,
   "id": "18f0c4c0",
   "metadata": {},
   "outputs": [
    {
     "data": {
      "text/plain": [
       "latitude              0\n",
       "longitude             0\n",
       "housing_median_age    0\n",
       "total_rooms           0\n",
       "total_bedrooms        0\n",
       "population            0\n",
       "households            0\n",
       "median_income         0\n",
       "median_house_value    0\n",
       "ocean_proximity       0\n",
       "dtype: int64"
      ]
     },
     "execution_count": 216,
     "metadata": {},
     "output_type": "execute_result"
    }
   ],
   "source": [
    "df.isnull().sum()"
   ]
  },
  {
   "cell_type": "code",
   "execution_count": 217,
   "id": "0507397a",
   "metadata": {},
   "outputs": [],
   "source": [
    "df['rooms_per_household'] = df['total_rooms'] / df['households']\n",
    "df['bedrooms_per_room'] = df['total_bedrooms'] / df['total_rooms']\n",
    "df['population_per_household'] = df['total_rooms'] / df['households']"
   ]
  },
  {
   "cell_type": "code",
   "execution_count": 218,
   "id": "fcd467cc",
   "metadata": {},
   "outputs": [
    {
     "data": {
      "text/html": [
       "<div>\n",
       "<style scoped>\n",
       "    .dataframe tbody tr th:only-of-type {\n",
       "        vertical-align: middle;\n",
       "    }\n",
       "\n",
       "    .dataframe tbody tr th {\n",
       "        vertical-align: top;\n",
       "    }\n",
       "\n",
       "    .dataframe thead th {\n",
       "        text-align: right;\n",
       "    }\n",
       "</style>\n",
       "<table border=\"1\" class=\"dataframe\">\n",
       "  <thead>\n",
       "    <tr style=\"text-align: right;\">\n",
       "      <th></th>\n",
       "      <th>latitude</th>\n",
       "      <th>longitude</th>\n",
       "      <th>housing_median_age</th>\n",
       "      <th>total_rooms</th>\n",
       "      <th>total_bedrooms</th>\n",
       "      <th>population</th>\n",
       "      <th>households</th>\n",
       "      <th>median_income</th>\n",
       "      <th>median_house_value</th>\n",
       "      <th>ocean_proximity</th>\n",
       "      <th>rooms_per_household</th>\n",
       "      <th>bedrooms_per_room</th>\n",
       "      <th>population_per_household</th>\n",
       "    </tr>\n",
       "  </thead>\n",
       "  <tbody>\n",
       "    <tr>\n",
       "      <th>0</th>\n",
       "      <td>37.88</td>\n",
       "      <td>-122.23</td>\n",
       "      <td>41.0</td>\n",
       "      <td>880.0</td>\n",
       "      <td>129.0</td>\n",
       "      <td>322.0</td>\n",
       "      <td>126.0</td>\n",
       "      <td>8.3252</td>\n",
       "      <td>452600.0</td>\n",
       "      <td>NEAR BAY</td>\n",
       "      <td>6.984127</td>\n",
       "      <td>0.146591</td>\n",
       "      <td>6.984127</td>\n",
       "    </tr>\n",
       "    <tr>\n",
       "      <th>1</th>\n",
       "      <td>37.86</td>\n",
       "      <td>-122.22</td>\n",
       "      <td>21.0</td>\n",
       "      <td>7099.0</td>\n",
       "      <td>1106.0</td>\n",
       "      <td>2401.0</td>\n",
       "      <td>1138.0</td>\n",
       "      <td>8.3014</td>\n",
       "      <td>358500.0</td>\n",
       "      <td>NEAR BAY</td>\n",
       "      <td>6.238137</td>\n",
       "      <td>0.155797</td>\n",
       "      <td>6.238137</td>\n",
       "    </tr>\n",
       "    <tr>\n",
       "      <th>2</th>\n",
       "      <td>37.85</td>\n",
       "      <td>-122.24</td>\n",
       "      <td>52.0</td>\n",
       "      <td>1467.0</td>\n",
       "      <td>190.0</td>\n",
       "      <td>496.0</td>\n",
       "      <td>177.0</td>\n",
       "      <td>7.2574</td>\n",
       "      <td>352100.0</td>\n",
       "      <td>NEAR BAY</td>\n",
       "      <td>8.288136</td>\n",
       "      <td>0.129516</td>\n",
       "      <td>8.288136</td>\n",
       "    </tr>\n",
       "    <tr>\n",
       "      <th>3</th>\n",
       "      <td>37.85</td>\n",
       "      <td>-122.25</td>\n",
       "      <td>52.0</td>\n",
       "      <td>1274.0</td>\n",
       "      <td>235.0</td>\n",
       "      <td>558.0</td>\n",
       "      <td>219.0</td>\n",
       "      <td>5.6431</td>\n",
       "      <td>341300.0</td>\n",
       "      <td>NEAR BAY</td>\n",
       "      <td>5.817352</td>\n",
       "      <td>0.184458</td>\n",
       "      <td>5.817352</td>\n",
       "    </tr>\n",
       "    <tr>\n",
       "      <th>4</th>\n",
       "      <td>37.85</td>\n",
       "      <td>-122.25</td>\n",
       "      <td>52.0</td>\n",
       "      <td>1627.0</td>\n",
       "      <td>280.0</td>\n",
       "      <td>565.0</td>\n",
       "      <td>259.0</td>\n",
       "      <td>3.8462</td>\n",
       "      <td>342200.0</td>\n",
       "      <td>NEAR BAY</td>\n",
       "      <td>6.281853</td>\n",
       "      <td>0.172096</td>\n",
       "      <td>6.281853</td>\n",
       "    </tr>\n",
       "  </tbody>\n",
       "</table>\n",
       "</div>"
      ],
      "text/plain": [
       "   latitude  longitude  housing_median_age  total_rooms  total_bedrooms  \\\n",
       "0     37.88    -122.23                41.0        880.0           129.0   \n",
       "1     37.86    -122.22                21.0       7099.0          1106.0   \n",
       "2     37.85    -122.24                52.0       1467.0           190.0   \n",
       "3     37.85    -122.25                52.0       1274.0           235.0   \n",
       "4     37.85    -122.25                52.0       1627.0           280.0   \n",
       "\n",
       "   population  households  median_income  median_house_value ocean_proximity  \\\n",
       "0       322.0       126.0         8.3252            452600.0        NEAR BAY   \n",
       "1      2401.0      1138.0         8.3014            358500.0        NEAR BAY   \n",
       "2       496.0       177.0         7.2574            352100.0        NEAR BAY   \n",
       "3       558.0       219.0         5.6431            341300.0        NEAR BAY   \n",
       "4       565.0       259.0         3.8462            342200.0        NEAR BAY   \n",
       "\n",
       "   rooms_per_household  bedrooms_per_room  population_per_household  \n",
       "0             6.984127           0.146591                  6.984127  \n",
       "1             6.238137           0.155797                  6.238137  \n",
       "2             8.288136           0.129516                  8.288136  \n",
       "3             5.817352           0.184458                  5.817352  \n",
       "4             6.281853           0.172096                  6.281853  "
      ]
     },
     "execution_count": 218,
     "metadata": {},
     "output_type": "execute_result"
    }
   ],
   "source": [
    "df.head()"
   ]
  },
  {
   "cell_type": "markdown",
   "id": "bb7564b0",
   "metadata": {},
   "source": [
    "### Question 1\n",
    "What is the most frequent observation (mode) for the column `ocean_proximity`?"
   ]
  },
  {
   "cell_type": "code",
   "execution_count": 219,
   "id": "0dbdbbeb",
   "metadata": {},
   "outputs": [
    {
     "data": {
      "text/plain": [
       "<1H OCEAN     9136\n",
       "INLAND        6551\n",
       "NEAR OCEAN    2658\n",
       "NEAR BAY      2290\n",
       "ISLAND           5\n",
       "Name: ocean_proximity, dtype: int64"
      ]
     },
     "execution_count": 219,
     "metadata": {},
     "output_type": "execute_result"
    }
   ],
   "source": [
    "df['ocean_proximity'].value_counts()"
   ]
  },
  {
   "cell_type": "code",
   "execution_count": 220,
   "id": "db129ab7",
   "metadata": {},
   "outputs": [
    {
     "data": {
      "text/plain": [
       "0    <1H OCEAN\n",
       "dtype: object"
      ]
     },
     "execution_count": 220,
     "metadata": {},
     "output_type": "execute_result"
    }
   ],
   "source": [
    "df['ocean_proximity'].mode()"
   ]
  },
  {
   "cell_type": "markdown",
   "id": "523e3b18",
   "metadata": {},
   "source": [
    "**From the above we can see that `<1H OCEAN` is the most frequent observation (mode) for the column `ocean_proximity`**"
   ]
  },
  {
   "cell_type": "markdown",
   "id": "b6569136",
   "metadata": {},
   "source": [
    "### Question 2 "
   ]
  },
  {
   "cell_type": "code",
   "execution_count": 221,
   "id": "ef03d77b",
   "metadata": {},
   "outputs": [
    {
     "data": {
      "text/plain": [
       "latitude                    float64\n",
       "longitude                   float64\n",
       "housing_median_age          float64\n",
       "total_rooms                 float64\n",
       "total_bedrooms              float64\n",
       "population                  float64\n",
       "households                  float64\n",
       "median_income               float64\n",
       "median_house_value          float64\n",
       "ocean_proximity              object\n",
       "rooms_per_household         float64\n",
       "bedrooms_per_room           float64\n",
       "population_per_household    float64\n",
       "dtype: object"
      ]
     },
     "execution_count": 221,
     "metadata": {},
     "output_type": "execute_result"
    }
   ],
   "source": [
    "df.dtypes"
   ]
  },
  {
   "cell_type": "code",
   "execution_count": 222,
   "id": "f67266fa",
   "metadata": {},
   "outputs": [
    {
     "data": {
      "text/plain": [
       "['latitude',\n",
       " 'longitude',\n",
       " 'housing_median_age',\n",
       " 'total_rooms',\n",
       " 'total_bedrooms',\n",
       " 'population',\n",
       " 'households',\n",
       " 'median_income',\n",
       " 'median_house_value',\n",
       " 'rooms_per_household',\n",
       " 'bedrooms_per_room',\n",
       " 'population_per_household']"
      ]
     },
     "execution_count": 222,
     "metadata": {},
     "output_type": "execute_result"
    }
   ],
   "source": [
    "numerical = list(df.dtypes[df.dtypes == 'float64'].index)\n",
    "numerical"
   ]
  },
  {
   "cell_type": "code",
   "execution_count": 223,
   "id": "a3c96d23",
   "metadata": {},
   "outputs": [
    {
     "data": {
      "text/plain": [
       "latitude                  latitude                    1.000000\n",
       "longitude                 longitude                   1.000000\n",
       "population_per_household  rooms_per_household         1.000000\n",
       "bedrooms_per_room         bedrooms_per_room           1.000000\n",
       "rooms_per_household       population_per_household    1.000000\n",
       "                                                        ...   \n",
       "bedrooms_per_room         population_per_household   -0.387465\n",
       "                          median_income              -0.573836\n",
       "median_income             bedrooms_per_room          -0.573836\n",
       "longitude                 latitude                   -0.924664\n",
       "latitude                  longitude                  -0.924664\n",
       "Length: 144, dtype: float64"
      ]
     },
     "execution_count": 223,
     "metadata": {},
     "output_type": "execute_result"
    }
   ],
   "source": [
    "df[numerical].corr().unstack().sort_values(ascending=False)"
   ]
  },
  {
   "cell_type": "code",
   "execution_count": 224,
   "id": "fc17885d",
   "metadata": {},
   "outputs": [
    {
     "data": {
      "image/png": "[encoded data removed]",
      "text/plain": [
       "<Figure size 576x576 with 2 Axes>"
      ]
     },
     "metadata": {
      "needs_background": "light"
     },
     "output_type": "display_data"
    }
   ],
   "source": [
    "plt.figure(figsize=(8,8))  \n",
    "sns.heatmap(df[numerical].corr(),annot=True,linewidths=.5, cmap=\"Reds\")\n",
    "plt.title('Heatmap showing correlations between numerical data')\n",
    "plt.show()"
   ]
  },
  {
   "cell_type": "markdown",
   "id": "3bc7adf5",
   "metadata": {},
   "source": [
    "**We can see it is *total_bedrooms* and *households* that have the highest correlation**"
   ]
  },
  {
   "cell_type": "code",
   "execution_count": 225,
   "id": "90940b7f",
   "metadata": {},
   "outputs": [
    {
     "data": {
      "text/plain": [
       "206855.81690891474"
      ]
     },
     "execution_count": 225,
     "metadata": {},
     "output_type": "execute_result"
    }
   ],
   "source": [
    "mean_for_house_val = df['median_house_value'].mean()\n",
    "mean_for_house_val"
   ]
  },
  {
   "cell_type": "code",
   "execution_count": 226,
   "id": "ee1c43ac",
   "metadata": {},
   "outputs": [
    {
     "data": {
      "text/html": [
       "<div>\n",
       "<style scoped>\n",
       "    .dataframe tbody tr th:only-of-type {\n",
       "        vertical-align: middle;\n",
       "    }\n",
       "\n",
       "    .dataframe tbody tr th {\n",
       "        vertical-align: top;\n",
       "    }\n",
       "\n",
       "    .dataframe thead th {\n",
       "        text-align: right;\n",
       "    }\n",
       "</style>\n",
       "<table border=\"1\" class=\"dataframe\">\n",
       "  <thead>\n",
       "    <tr style=\"text-align: right;\">\n",
       "      <th></th>\n",
       "      <th>latitude</th>\n",
       "      <th>longitude</th>\n",
       "      <th>housing_median_age</th>\n",
       "      <th>total_rooms</th>\n",
       "      <th>total_bedrooms</th>\n",
       "      <th>population</th>\n",
       "      <th>households</th>\n",
       "      <th>median_income</th>\n",
       "      <th>median_house_value</th>\n",
       "      <th>ocean_proximity</th>\n",
       "      <th>rooms_per_household</th>\n",
       "      <th>bedrooms_per_room</th>\n",
       "      <th>population_per_household</th>\n",
       "      <th>above_average</th>\n",
       "    </tr>\n",
       "  </thead>\n",
       "  <tbody>\n",
       "    <tr>\n",
       "      <th>12302</th>\n",
       "      <td>33.92</td>\n",
       "      <td>-116.89</td>\n",
       "      <td>10.0</td>\n",
       "      <td>2653.0</td>\n",
       "      <td>621.0</td>\n",
       "      <td>1967.0</td>\n",
       "      <td>598.0</td>\n",
       "      <td>2.6643</td>\n",
       "      <td>81000.0</td>\n",
       "      <td>INLAND</td>\n",
       "      <td>4.436455</td>\n",
       "      <td>0.234075</td>\n",
       "      <td>4.436455</td>\n",
       "      <td>0</td>\n",
       "    </tr>\n",
       "    <tr>\n",
       "      <th>13748</th>\n",
       "      <td>34.06</td>\n",
       "      <td>-117.14</td>\n",
       "      <td>15.0</td>\n",
       "      <td>3057.0</td>\n",
       "      <td>510.0</td>\n",
       "      <td>1154.0</td>\n",
       "      <td>460.0</td>\n",
       "      <td>3.9741</td>\n",
       "      <td>141100.0</td>\n",
       "      <td>INLAND</td>\n",
       "      <td>6.645652</td>\n",
       "      <td>0.166830</td>\n",
       "      <td>6.645652</td>\n",
       "      <td>0</td>\n",
       "    </tr>\n",
       "    <tr>\n",
       "      <th>4181</th>\n",
       "      <td>34.09</td>\n",
       "      <td>-118.23</td>\n",
       "      <td>41.0</td>\n",
       "      <td>438.0</td>\n",
       "      <td>201.0</td>\n",
       "      <td>690.0</td>\n",
       "      <td>161.0</td>\n",
       "      <td>2.0476</td>\n",
       "      <td>181300.0</td>\n",
       "      <td>&lt;1H OCEAN</td>\n",
       "      <td>2.720497</td>\n",
       "      <td>0.458904</td>\n",
       "      <td>2.720497</td>\n",
       "      <td>0</td>\n",
       "    </tr>\n",
       "    <tr>\n",
       "      <th>16720</th>\n",
       "      <td>35.46</td>\n",
       "      <td>-120.64</td>\n",
       "      <td>6.0</td>\n",
       "      <td>5876.0</td>\n",
       "      <td>1406.0</td>\n",
       "      <td>2877.0</td>\n",
       "      <td>1304.0</td>\n",
       "      <td>2.5437</td>\n",
       "      <td>146400.0</td>\n",
       "      <td>&lt;1H OCEAN</td>\n",
       "      <td>4.506135</td>\n",
       "      <td>0.239278</td>\n",
       "      <td>4.506135</td>\n",
       "      <td>0</td>\n",
       "    </tr>\n",
       "    <tr>\n",
       "      <th>2036</th>\n",
       "      <td>36.75</td>\n",
       "      <td>-119.69</td>\n",
       "      <td>6.0</td>\n",
       "      <td>1926.0</td>\n",
       "      <td>303.0</td>\n",
       "      <td>965.0</td>\n",
       "      <td>316.0</td>\n",
       "      <td>4.7463</td>\n",
       "      <td>93100.0</td>\n",
       "      <td>INLAND</td>\n",
       "      <td>6.094937</td>\n",
       "      <td>0.157321</td>\n",
       "      <td>6.094937</td>\n",
       "      <td>0</td>\n",
       "    </tr>\n",
       "    <tr>\n",
       "      <th>12736</th>\n",
       "      <td>38.59</td>\n",
       "      <td>-121.34</td>\n",
       "      <td>22.0</td>\n",
       "      <td>3273.0</td>\n",
       "      <td>480.0</td>\n",
       "      <td>1151.0</td>\n",
       "      <td>463.0</td>\n",
       "      <td>8.0500</td>\n",
       "      <td>380000.0</td>\n",
       "      <td>INLAND</td>\n",
       "      <td>7.069114</td>\n",
       "      <td>0.146654</td>\n",
       "      <td>7.069114</td>\n",
       "      <td>1</td>\n",
       "    </tr>\n",
       "    <tr>\n",
       "      <th>1595</th>\n",
       "      <td>37.89</td>\n",
       "      <td>-122.09</td>\n",
       "      <td>35.0</td>\n",
       "      <td>880.0</td>\n",
       "      <td>139.0</td>\n",
       "      <td>352.0</td>\n",
       "      <td>132.0</td>\n",
       "      <td>6.8686</td>\n",
       "      <td>406500.0</td>\n",
       "      <td>NEAR BAY</td>\n",
       "      <td>6.666667</td>\n",
       "      <td>0.157955</td>\n",
       "      <td>6.666667</td>\n",
       "      <td>1</td>\n",
       "    </tr>\n",
       "    <tr>\n",
       "      <th>17084</th>\n",
       "      <td>37.47</td>\n",
       "      <td>-122.20</td>\n",
       "      <td>37.0</td>\n",
       "      <td>1403.0</td>\n",
       "      <td>369.0</td>\n",
       "      <td>1587.0</td>\n",
       "      <td>331.0</td>\n",
       "      <td>2.8258</td>\n",
       "      <td>232800.0</td>\n",
       "      <td>NEAR BAY</td>\n",
       "      <td>4.238671</td>\n",
       "      <td>0.263008</td>\n",
       "      <td>4.238671</td>\n",
       "      <td>1</td>\n",
       "    </tr>\n",
       "  </tbody>\n",
       "</table>\n",
       "</div>"
      ],
      "text/plain": [
       "       latitude  longitude  housing_median_age  total_rooms  total_bedrooms  \\\n",
       "12302     33.92    -116.89                10.0       2653.0           621.0   \n",
       "13748     34.06    -117.14                15.0       3057.0           510.0   \n",
       "4181      34.09    -118.23                41.0        438.0           201.0   \n",
       "16720     35.46    -120.64                 6.0       5876.0          1406.0   \n",
       "2036      36.75    -119.69                 6.0       1926.0           303.0   \n",
       "12736     38.59    -121.34                22.0       3273.0           480.0   \n",
       "1595      37.89    -122.09                35.0        880.0           139.0   \n",
       "17084     37.47    -122.20                37.0       1403.0           369.0   \n",
       "\n",
       "       population  households  median_income  median_house_value  \\\n",
       "12302      1967.0       598.0         2.6643             81000.0   \n",
       "13748      1154.0       460.0         3.9741            141100.0   \n",
       "4181        690.0       161.0         2.0476            181300.0   \n",
       "16720      2877.0      1304.0         2.5437            146400.0   \n",
       "2036        965.0       316.0         4.7463             93100.0   \n",
       "12736      1151.0       463.0         8.0500            380000.0   \n",
       "1595        352.0       132.0         6.8686            406500.0   \n",
       "17084      1587.0       331.0         2.8258            232800.0   \n",
       "\n",
       "      ocean_proximity  rooms_per_household  bedrooms_per_room  \\\n",
       "12302          INLAND             4.436455           0.234075   \n",
       "13748          INLAND             6.645652           0.166830   \n",
       "4181        <1H OCEAN             2.720497           0.458904   \n",
       "16720       <1H OCEAN             4.506135           0.239278   \n",
       "2036           INLAND             6.094937           0.157321   \n",
       "12736          INLAND             7.069114           0.146654   \n",
       "1595         NEAR BAY             6.666667           0.157955   \n",
       "17084        NEAR BAY             4.238671           0.263008   \n",
       "\n",
       "       population_per_household  above_average  \n",
       "12302                  4.436455              0  \n",
       "13748                  6.645652              0  \n",
       "4181                   2.720497              0  \n",
       "16720                  4.506135              0  \n",
       "2036                   6.094937              0  \n",
       "12736                  7.069114              1  \n",
       "1595                   6.666667              1  \n",
       "17084                  4.238671              1  "
      ]
     },
     "execution_count": 226,
     "metadata": {},
     "output_type": "execute_result"
    }
   ],
   "source": [
    "df['above_average'] = (df['median_house_value'] > mean_for_house_val).astype(int)\n",
    "df.sample(8)"
   ]
  },
  {
   "cell_type": "markdown",
   "id": "042bfdb6",
   "metadata": {},
   "source": [
    "Spliting the data"
   ]
  },
  {
   "cell_type": "code",
   "execution_count": 227,
   "id": "08691c33",
   "metadata": {},
   "outputs": [],
   "source": [
    "from sklearn.model_selection import train_test_split\n",
    "from sklearn.metrics import mutual_info_score"
   ]
  },
  {
   "cell_type": "code",
   "execution_count": 228,
   "id": "467cb8ab",
   "metadata": {},
   "outputs": [],
   "source": [
    "# remove median_house_val from data frame\n",
    "del df['median_house_value']"
   ]
  },
  {
   "cell_type": "code",
   "execution_count": 229,
   "id": "7a3e978f",
   "metadata": {},
   "outputs": [],
   "source": [
    "df_full_train, df_test = train_test_split(df, test_size=0.2, random_state=42)\n",
    "df_train, df_val = train_test_split(df_full_train, test_size=0.25, random_state=42)"
   ]
  },
  {
   "cell_type": "code",
   "execution_count": 230,
   "id": "e8cfdff7",
   "metadata": {},
   "outputs": [
    {
     "data": {
      "text/plain": [
       "(0.6, 0.2, 0.2)"
      ]
     },
     "execution_count": 230,
     "metadata": {},
     "output_type": "execute_result"
    }
   ],
   "source": [
    "# sanity check\n",
    "(len(df_train) / len(df)), (len(df_val) / len(df)), (len(df_val) / len(df))"
   ]
  },
  {
   "cell_type": "code",
   "execution_count": 231,
   "id": "7cd43a20",
   "metadata": {},
   "outputs": [],
   "source": [
    "df_train = df_train.reset_index(drop=True)\n",
    "df_val = df_val.reset_index(drop=True)\n",
    "df_test = df_test.reset_index(drop=True)"
   ]
  },
  {
   "cell_type": "code",
   "execution_count": 232,
   "id": "0d15f482",
   "metadata": {},
   "outputs": [
    {
     "data": {
      "text/html": [
       "<div>\n",
       "<style scoped>\n",
       "    .dataframe tbody tr th:only-of-type {\n",
       "        vertical-align: middle;\n",
       "    }\n",
       "\n",
       "    .dataframe tbody tr th {\n",
       "        vertical-align: top;\n",
       "    }\n",
       "\n",
       "    .dataframe thead th {\n",
       "        text-align: right;\n",
       "    }\n",
       "</style>\n",
       "<table border=\"1\" class=\"dataframe\">\n",
       "  <thead>\n",
       "    <tr style=\"text-align: right;\">\n",
       "      <th></th>\n",
       "      <th>latitude</th>\n",
       "      <th>longitude</th>\n",
       "      <th>housing_median_age</th>\n",
       "      <th>total_rooms</th>\n",
       "      <th>total_bedrooms</th>\n",
       "      <th>population</th>\n",
       "      <th>households</th>\n",
       "      <th>median_income</th>\n",
       "      <th>ocean_proximity</th>\n",
       "      <th>rooms_per_household</th>\n",
       "      <th>bedrooms_per_room</th>\n",
       "      <th>population_per_household</th>\n",
       "      <th>above_average</th>\n",
       "    </tr>\n",
       "  </thead>\n",
       "  <tbody>\n",
       "    <tr>\n",
       "      <th>0</th>\n",
       "      <td>34.43</td>\n",
       "      <td>-119.67</td>\n",
       "      <td>39.0</td>\n",
       "      <td>1467.0</td>\n",
       "      <td>381.0</td>\n",
       "      <td>1404.0</td>\n",
       "      <td>374.0</td>\n",
       "      <td>2.3681</td>\n",
       "      <td>&lt;1H OCEAN</td>\n",
       "      <td>3.922460</td>\n",
       "      <td>0.259714</td>\n",
       "      <td>3.922460</td>\n",
       "      <td>1</td>\n",
       "    </tr>\n",
       "    <tr>\n",
       "      <th>1</th>\n",
       "      <td>33.74</td>\n",
       "      <td>-118.32</td>\n",
       "      <td>24.0</td>\n",
       "      <td>6097.0</td>\n",
       "      <td>794.0</td>\n",
       "      <td>2248.0</td>\n",
       "      <td>806.0</td>\n",
       "      <td>10.1357</td>\n",
       "      <td>NEAR OCEAN</td>\n",
       "      <td>7.564516</td>\n",
       "      <td>0.130228</td>\n",
       "      <td>7.564516</td>\n",
       "      <td>1</td>\n",
       "    </tr>\n",
       "    <tr>\n",
       "      <th>2</th>\n",
       "      <td>39.13</td>\n",
       "      <td>-121.62</td>\n",
       "      <td>41.0</td>\n",
       "      <td>1317.0</td>\n",
       "      <td>309.0</td>\n",
       "      <td>856.0</td>\n",
       "      <td>337.0</td>\n",
       "      <td>1.6719</td>\n",
       "      <td>INLAND</td>\n",
       "      <td>3.908012</td>\n",
       "      <td>0.234624</td>\n",
       "      <td>3.908012</td>\n",
       "      <td>0</td>\n",
       "    </tr>\n",
       "    <tr>\n",
       "      <th>3</th>\n",
       "      <td>34.24</td>\n",
       "      <td>-118.63</td>\n",
       "      <td>9.0</td>\n",
       "      <td>4759.0</td>\n",
       "      <td>924.0</td>\n",
       "      <td>1884.0</td>\n",
       "      <td>915.0</td>\n",
       "      <td>4.8333</td>\n",
       "      <td>&lt;1H OCEAN</td>\n",
       "      <td>5.201093</td>\n",
       "      <td>0.194158</td>\n",
       "      <td>5.201093</td>\n",
       "      <td>1</td>\n",
       "    </tr>\n",
       "    <tr>\n",
       "      <th>4</th>\n",
       "      <td>37.52</td>\n",
       "      <td>-122.30</td>\n",
       "      <td>38.0</td>\n",
       "      <td>2769.0</td>\n",
       "      <td>387.0</td>\n",
       "      <td>994.0</td>\n",
       "      <td>395.0</td>\n",
       "      <td>5.5902</td>\n",
       "      <td>NEAR OCEAN</td>\n",
       "      <td>7.010127</td>\n",
       "      <td>0.139762</td>\n",
       "      <td>7.010127</td>\n",
       "      <td>1</td>\n",
       "    </tr>\n",
       "  </tbody>\n",
       "</table>\n",
       "</div>"
      ],
      "text/plain": [
       "   latitude  longitude  housing_median_age  total_rooms  total_bedrooms  \\\n",
       "0     34.43    -119.67                39.0       1467.0           381.0   \n",
       "1     33.74    -118.32                24.0       6097.0           794.0   \n",
       "2     39.13    -121.62                41.0       1317.0           309.0   \n",
       "3     34.24    -118.63                 9.0       4759.0           924.0   \n",
       "4     37.52    -122.30                38.0       2769.0           387.0   \n",
       "\n",
       "   population  households  median_income ocean_proximity  rooms_per_household  \\\n",
       "0      1404.0       374.0         2.3681       <1H OCEAN             3.922460   \n",
       "1      2248.0       806.0        10.1357      NEAR OCEAN             7.564516   \n",
       "2       856.0       337.0         1.6719          INLAND             3.908012   \n",
       "3      1884.0       915.0         4.8333       <1H OCEAN             5.201093   \n",
       "4       994.0       395.0         5.5902      NEAR OCEAN             7.010127   \n",
       "\n",
       "   bedrooms_per_room  population_per_household  above_average  \n",
       "0           0.259714                  3.922460              1  \n",
       "1           0.130228                  7.564516              1  \n",
       "2           0.234624                  3.908012              0  \n",
       "3           0.194158                  5.201093              1  \n",
       "4           0.139762                  7.010127              1  "
      ]
     },
     "execution_count": 232,
     "metadata": {},
     "output_type": "execute_result"
    }
   ],
   "source": [
    "df_train.head()"
   ]
  },
  {
   "cell_type": "code",
   "execution_count": 233,
   "id": "41379383",
   "metadata": {},
   "outputs": [],
   "source": [
    "y_train = df_train.above_average.values\n",
    "y_val = df_val.above_average.values\n",
    "y_test = df_test.above_average.values"
   ]
  },
  {
   "cell_type": "code",
   "execution_count": 234,
   "id": "d0d594d7",
   "metadata": {},
   "outputs": [],
   "source": [
    "# drop target column\n",
    "df_train = df_train.drop('above_average', axis=1)\n",
    "df_val = df_val.drop('above_average', axis=1)\n",
    "df_test = df_test.drop('above_average', axis=1)"
   ]
  },
  {
   "cell_type": "code",
   "execution_count": 235,
   "id": "09c30bd6",
   "metadata": {},
   "outputs": [
    {
     "data": {
      "text/html": [
       "<div>\n",
       "<style scoped>\n",
       "    .dataframe tbody tr th:only-of-type {\n",
       "        vertical-align: middle;\n",
       "    }\n",
       "\n",
       "    .dataframe tbody tr th {\n",
       "        vertical-align: top;\n",
       "    }\n",
       "\n",
       "    .dataframe thead th {\n",
       "        text-align: right;\n",
       "    }\n",
       "</style>\n",
       "<table border=\"1\" class=\"dataframe\">\n",
       "  <thead>\n",
       "    <tr style=\"text-align: right;\">\n",
       "      <th></th>\n",
       "      <th>latitude</th>\n",
       "      <th>longitude</th>\n",
       "      <th>housing_median_age</th>\n",
       "      <th>total_rooms</th>\n",
       "      <th>total_bedrooms</th>\n",
       "      <th>population</th>\n",
       "      <th>households</th>\n",
       "      <th>median_income</th>\n",
       "      <th>ocean_proximity</th>\n",
       "      <th>rooms_per_household</th>\n",
       "      <th>bedrooms_per_room</th>\n",
       "      <th>population_per_household</th>\n",
       "    </tr>\n",
       "  </thead>\n",
       "  <tbody>\n",
       "    <tr>\n",
       "      <th>0</th>\n",
       "      <td>34.43</td>\n",
       "      <td>-119.67</td>\n",
       "      <td>39.0</td>\n",
       "      <td>1467.0</td>\n",
       "      <td>381.0</td>\n",
       "      <td>1404.0</td>\n",
       "      <td>374.0</td>\n",
       "      <td>2.3681</td>\n",
       "      <td>&lt;1H OCEAN</td>\n",
       "      <td>3.922460</td>\n",
       "      <td>0.259714</td>\n",
       "      <td>3.922460</td>\n",
       "    </tr>\n",
       "    <tr>\n",
       "      <th>1</th>\n",
       "      <td>33.74</td>\n",
       "      <td>-118.32</td>\n",
       "      <td>24.0</td>\n",
       "      <td>6097.0</td>\n",
       "      <td>794.0</td>\n",
       "      <td>2248.0</td>\n",
       "      <td>806.0</td>\n",
       "      <td>10.1357</td>\n",
       "      <td>NEAR OCEAN</td>\n",
       "      <td>7.564516</td>\n",
       "      <td>0.130228</td>\n",
       "      <td>7.564516</td>\n",
       "    </tr>\n",
       "    <tr>\n",
       "      <th>2</th>\n",
       "      <td>39.13</td>\n",
       "      <td>-121.62</td>\n",
       "      <td>41.0</td>\n",
       "      <td>1317.0</td>\n",
       "      <td>309.0</td>\n",
       "      <td>856.0</td>\n",
       "      <td>337.0</td>\n",
       "      <td>1.6719</td>\n",
       "      <td>INLAND</td>\n",
       "      <td>3.908012</td>\n",
       "      <td>0.234624</td>\n",
       "      <td>3.908012</td>\n",
       "    </tr>\n",
       "    <tr>\n",
       "      <th>3</th>\n",
       "      <td>34.24</td>\n",
       "      <td>-118.63</td>\n",
       "      <td>9.0</td>\n",
       "      <td>4759.0</td>\n",
       "      <td>924.0</td>\n",
       "      <td>1884.0</td>\n",
       "      <td>915.0</td>\n",
       "      <td>4.8333</td>\n",
       "      <td>&lt;1H OCEAN</td>\n",
       "      <td>5.201093</td>\n",
       "      <td>0.194158</td>\n",
       "      <td>5.201093</td>\n",
       "    </tr>\n",
       "    <tr>\n",
       "      <th>4</th>\n",
       "      <td>37.52</td>\n",
       "      <td>-122.30</td>\n",
       "      <td>38.0</td>\n",
       "      <td>2769.0</td>\n",
       "      <td>387.0</td>\n",
       "      <td>994.0</td>\n",
       "      <td>395.0</td>\n",
       "      <td>5.5902</td>\n",
       "      <td>NEAR OCEAN</td>\n",
       "      <td>7.010127</td>\n",
       "      <td>0.139762</td>\n",
       "      <td>7.010127</td>\n",
       "    </tr>\n",
       "  </tbody>\n",
       "</table>\n",
       "</div>"
      ],
      "text/plain": [
       "   latitude  longitude  housing_median_age  total_rooms  total_bedrooms  \\\n",
       "0     34.43    -119.67                39.0       1467.0           381.0   \n",
       "1     33.74    -118.32                24.0       6097.0           794.0   \n",
       "2     39.13    -121.62                41.0       1317.0           309.0   \n",
       "3     34.24    -118.63                 9.0       4759.0           924.0   \n",
       "4     37.52    -122.30                38.0       2769.0           387.0   \n",
       "\n",
       "   population  households  median_income ocean_proximity  rooms_per_household  \\\n",
       "0      1404.0       374.0         2.3681       <1H OCEAN             3.922460   \n",
       "1      2248.0       806.0        10.1357      NEAR OCEAN             7.564516   \n",
       "2       856.0       337.0         1.6719          INLAND             3.908012   \n",
       "3      1884.0       915.0         4.8333       <1H OCEAN             5.201093   \n",
       "4       994.0       395.0         5.5902      NEAR OCEAN             7.010127   \n",
       "\n",
       "   bedrooms_per_room  population_per_household  \n",
       "0           0.259714                  3.922460  \n",
       "1           0.130228                  7.564516  \n",
       "2           0.234624                  3.908012  \n",
       "3           0.194158                  5.201093  \n",
       "4           0.139762                  7.010127  "
      ]
     },
     "execution_count": 235,
     "metadata": {},
     "output_type": "execute_result"
    }
   ],
   "source": [
    "df_train.head()"
   ]
  },
  {
   "cell_type": "markdown",
   "id": "0e1c0db9",
   "metadata": {},
   "source": [
    "### Question 3"
   ]
  },
  {
   "cell_type": "code",
   "execution_count": 236,
   "id": "ab116edd",
   "metadata": {},
   "outputs": [
    {
     "data": {
      "text/plain": [
       "0.1"
      ]
     },
     "execution_count": 236,
     "metadata": {},
     "output_type": "execute_result"
    }
   ],
   "source": [
    "mi_score = round(mutual_info_score(df_full_train.above_average, df_full_train.ocean_proximity), 2)\n",
    "mi_score"
   ]
  },
  {
   "cell_type": "markdown",
   "id": "402377b0",
   "metadata": {},
   "source": [
    "The MI Score is **0.10**"
   ]
  },
  {
   "cell_type": "markdown",
   "id": "e113be11",
   "metadata": {},
   "source": [
    "### Question 4\n",
    "Train model and get val accuracy"
   ]
  },
  {
   "cell_type": "code",
   "execution_count": 237,
   "id": "225aac0d",
   "metadata": {},
   "outputs": [],
   "source": [
    "# perfrom linear regression\n",
    "from sklearn.linear_model import LogisticRegression\n",
    "from sklearn.feature_extraction import DictVectorizer\n",
    "from sklearn.metrics import accuracy_score"
   ]
  },
  {
   "cell_type": "code",
   "execution_count": 238,
   "id": "3dcf005f",
   "metadata": {},
   "outputs": [],
   "source": [
    "train_dict = df_train.to_dict(orient='records')\n",
    "dv = DictVectorizer(sparse=False)\n",
    "X_train = dv.fit_transform(train_dict)"
   ]
  },
  {
   "cell_type": "code",
   "execution_count": 239,
   "id": "116b6434",
   "metadata": {},
   "outputs": [
    {
     "data": {
      "text/plain": [
       "array(['bedrooms_per_room', 'households', 'housing_median_age',\n",
       "       'latitude', 'longitude', 'median_income',\n",
       "       'ocean_proximity=<1H OCEAN', 'ocean_proximity=INLAND',\n",
       "       'ocean_proximity=ISLAND', 'ocean_proximity=NEAR BAY',\n",
       "       'ocean_proximity=NEAR OCEAN', 'population',\n",
       "       'population_per_household', 'rooms_per_household',\n",
       "       'total_bedrooms', 'total_rooms'], dtype=object)"
      ]
     },
     "execution_count": 239,
     "metadata": {},
     "output_type": "execute_result"
    }
   ],
   "source": [
    "dv.get_feature_names_out()"
   ]
  },
  {
   "cell_type": "code",
   "execution_count": 240,
   "id": "8a3676be",
   "metadata": {},
   "outputs": [],
   "source": [
    "val_dict = df_val.to_dict(orient='records')\n",
    "X_val = dv.transform(val_dict)"
   ]
  },
  {
   "cell_type": "code",
   "execution_count": 241,
   "id": "867afcd2",
   "metadata": {},
   "outputs": [
    {
     "data": {
      "text/plain": [
       "array([1, 1, 0, ..., 1, 0, 0])"
      ]
     },
     "execution_count": 241,
     "metadata": {},
     "output_type": "execute_result"
    }
   ],
   "source": [
    "y_train"
   ]
  },
  {
   "cell_type": "code",
   "execution_count": 242,
   "id": "25a581cf",
   "metadata": {},
   "outputs": [],
   "source": [
    "model = LogisticRegression(solver=\"liblinear\", C=1.0, max_iter=1000, random_state=42)"
   ]
  },
  {
   "cell_type": "code",
   "execution_count": 243,
   "id": "c81ebcce",
   "metadata": {},
   "outputs": [
    {
     "data": {
      "text/plain": [
       "LogisticRegression(max_iter=1000, random_state=42, solver='liblinear')"
      ]
     },
     "execution_count": 243,
     "metadata": {},
     "output_type": "execute_result"
    }
   ],
   "source": [
    "model.fit(X_train, y_train)"
   ]
  },
  {
   "cell_type": "code",
   "execution_count": 244,
   "id": "651907ad",
   "metadata": {},
   "outputs": [
    {
     "data": {
      "text/plain": [
       "-0.25940131073246725"
      ]
     },
     "execution_count": 244,
     "metadata": {},
     "output_type": "execute_result"
    }
   ],
   "source": [
    "model.intercept_[0]"
   ]
  },
  {
   "cell_type": "code",
   "execution_count": 245,
   "id": "10aac4dd",
   "metadata": {},
   "outputs": [
    {
     "data": {
      "text/plain": [
       "array([ 7.78164990e-01,  3.94748045e-03,  3.73147850e-02,  1.58380818e-01,\n",
       "        9.98891934e-02,  1.22524647e+00,  5.13892925e-01, -1.77633456e+00,\n",
       "        8.09139293e-02,  4.81129735e-02,  8.74013419e-01, -1.62997832e-03,\n",
       "       -5.76342857e-03, -5.76342857e-03,  1.78132599e-03, -1.27028028e-04])"
      ]
     },
     "execution_count": 245,
     "metadata": {},
     "output_type": "execute_result"
    }
   ],
   "source": [
    "w = model.coef_[0]\n",
    "w"
   ]
  },
  {
   "cell_type": "code",
   "execution_count": 246,
   "id": "bc1a2a15",
   "metadata": {
    "scrolled": true
   },
   "outputs": [
    {
     "data": {
      "text/plain": [
       "{'bedrooms_per_room': 0.778164990263264,\n",
       " 'households': 0.003947480453347452,\n",
       " 'housing_median_age': 0.03731478504452587,\n",
       " 'latitude': 0.15838081836123882,\n",
       " 'longitude': 0.09988919343614036,\n",
       " 'median_income': 1.2252464705617867,\n",
       " 'ocean_proximity=<1H OCEAN': 0.5138929251193138,\n",
       " 'ocean_proximity=INLAND': -1.7763345577416463,\n",
       " 'ocean_proximity=ISLAND': 0.08091392932179192,\n",
       " 'ocean_proximity=NEAR BAY': 0.048112973503522574,\n",
       " 'ocean_proximity=NEAR OCEAN': 0.8740134190646576,\n",
       " 'population': -0.0016299783238169347,\n",
       " 'population_per_household': -0.005763428570314276,\n",
       " 'rooms_per_household': -0.005763428570314276,\n",
       " 'total_bedrooms': 0.0017813259854581424,\n",
       " 'total_rooms': -0.00012702802804524167}"
      ]
     },
     "execution_count": 246,
     "metadata": {},
     "output_type": "execute_result"
    }
   ],
   "source": [
    "dict(zip(dv.get_feature_names_out(), w))"
   ]
  },
  {
   "cell_type": "code",
   "execution_count": 248,
   "id": "008b884c",
   "metadata": {},
   "outputs": [],
   "source": [
    "y_pred = model.predict_proba(X_val)[:, 1]"
   ]
  },
  {
   "cell_type": "code",
   "execution_count": 249,
   "id": "f772ce38",
   "metadata": {},
   "outputs": [
    {
     "data": {
      "text/plain": [
       "array([False, False,  True, ...,  True,  True, False])"
      ]
     },
     "execution_count": 249,
     "metadata": {},
     "output_type": "execute_result"
    }
   ],
   "source": [
    "above_average = (y_pred >= 0.5)\n",
    "above_average"
   ]
  },
  {
   "cell_type": "code",
   "execution_count": 250,
   "id": "5985cc31",
   "metadata": {},
   "outputs": [
    {
     "data": {
      "text/plain": [
       "0.84"
      ]
     },
     "execution_count": 250,
     "metadata": {},
     "output_type": "execute_result"
    }
   ],
   "source": [
    "original_accuracy = accuracy_score(y_val, y_pred >= 0.5).round(2)\n",
    "original_accuracy"
   ]
  },
  {
   "cell_type": "markdown",
   "id": "f87115a8",
   "metadata": {},
   "source": [
    "The accuracy score is **0.84**"
   ]
  },
  {
   "cell_type": "markdown",
   "id": "b25f63ed",
   "metadata": {},
   "source": [
    "### Question 5\n"
   ]
  },
  {
   "cell_type": "code",
   "execution_count": 273,
   "id": "53494e22",
   "metadata": {},
   "outputs": [
    {
     "data": {
      "text/plain": [
       "['latitude',\n",
       " 'longitude',\n",
       " 'housing_median_age',\n",
       " 'total_rooms',\n",
       " 'total_bedrooms',\n",
       " 'population',\n",
       " 'households',\n",
       " 'median_income',\n",
       " 'ocean_proximity',\n",
       " 'rooms_per_household',\n",
       " 'bedrooms_per_room',\n",
       " 'population_per_household']"
      ]
     },
     "execution_count": 273,
     "metadata": {},
     "output_type": "execute_result"
    }
   ],
   "source": [
    "n_features = list(df.columns)[:-1]\n",
    "n_features"
   ]
  },
  {
   "cell_type": "code",
   "execution_count": 286,
   "id": "66c49319",
   "metadata": {},
   "outputs": [],
   "source": [
    "df_train_c = df_train.copy()\n",
    "del df_train_c['ocean_proximity']"
   ]
  },
  {
   "cell_type": "code",
   "execution_count": 287,
   "id": "579072ff",
   "metadata": {},
   "outputs": [
    {
     "data": {
      "text/html": [
       "<div>\n",
       "<style scoped>\n",
       "    .dataframe tbody tr th:only-of-type {\n",
       "        vertical-align: middle;\n",
       "    }\n",
       "\n",
       "    .dataframe tbody tr th {\n",
       "        vertical-align: top;\n",
       "    }\n",
       "\n",
       "    .dataframe thead th {\n",
       "        text-align: right;\n",
       "    }\n",
       "</style>\n",
       "<table border=\"1\" class=\"dataframe\">\n",
       "  <thead>\n",
       "    <tr style=\"text-align: right;\">\n",
       "      <th></th>\n",
       "      <th>latitude</th>\n",
       "      <th>longitude</th>\n",
       "      <th>housing_median_age</th>\n",
       "      <th>total_rooms</th>\n",
       "      <th>total_bedrooms</th>\n",
       "      <th>population</th>\n",
       "      <th>households</th>\n",
       "      <th>median_income</th>\n",
       "      <th>rooms_per_household</th>\n",
       "      <th>bedrooms_per_room</th>\n",
       "      <th>population_per_household</th>\n",
       "    </tr>\n",
       "  </thead>\n",
       "  <tbody>\n",
       "    <tr>\n",
       "      <th>0</th>\n",
       "      <td>34.43</td>\n",
       "      <td>-119.67</td>\n",
       "      <td>39.0</td>\n",
       "      <td>1467.0</td>\n",
       "      <td>381.0</td>\n",
       "      <td>1404.0</td>\n",
       "      <td>374.0</td>\n",
       "      <td>2.3681</td>\n",
       "      <td>3.922460</td>\n",
       "      <td>0.259714</td>\n",
       "      <td>3.922460</td>\n",
       "    </tr>\n",
       "    <tr>\n",
       "      <th>1</th>\n",
       "      <td>33.74</td>\n",
       "      <td>-118.32</td>\n",
       "      <td>24.0</td>\n",
       "      <td>6097.0</td>\n",
       "      <td>794.0</td>\n",
       "      <td>2248.0</td>\n",
       "      <td>806.0</td>\n",
       "      <td>10.1357</td>\n",
       "      <td>7.564516</td>\n",
       "      <td>0.130228</td>\n",
       "      <td>7.564516</td>\n",
       "    </tr>\n",
       "    <tr>\n",
       "      <th>2</th>\n",
       "      <td>39.13</td>\n",
       "      <td>-121.62</td>\n",
       "      <td>41.0</td>\n",
       "      <td>1317.0</td>\n",
       "      <td>309.0</td>\n",
       "      <td>856.0</td>\n",
       "      <td>337.0</td>\n",
       "      <td>1.6719</td>\n",
       "      <td>3.908012</td>\n",
       "      <td>0.234624</td>\n",
       "      <td>3.908012</td>\n",
       "    </tr>\n",
       "    <tr>\n",
       "      <th>3</th>\n",
       "      <td>34.24</td>\n",
       "      <td>-118.63</td>\n",
       "      <td>9.0</td>\n",
       "      <td>4759.0</td>\n",
       "      <td>924.0</td>\n",
       "      <td>1884.0</td>\n",
       "      <td>915.0</td>\n",
       "      <td>4.8333</td>\n",
       "      <td>5.201093</td>\n",
       "      <td>0.194158</td>\n",
       "      <td>5.201093</td>\n",
       "    </tr>\n",
       "    <tr>\n",
       "      <th>4</th>\n",
       "      <td>37.52</td>\n",
       "      <td>-122.30</td>\n",
       "      <td>38.0</td>\n",
       "      <td>2769.0</td>\n",
       "      <td>387.0</td>\n",
       "      <td>994.0</td>\n",
       "      <td>395.0</td>\n",
       "      <td>5.5902</td>\n",
       "      <td>7.010127</td>\n",
       "      <td>0.139762</td>\n",
       "      <td>7.010127</td>\n",
       "    </tr>\n",
       "  </tbody>\n",
       "</table>\n",
       "</div>"
      ],
      "text/plain": [
       "   latitude  longitude  housing_median_age  total_rooms  total_bedrooms  \\\n",
       "0     34.43    -119.67                39.0       1467.0           381.0   \n",
       "1     33.74    -118.32                24.0       6097.0           794.0   \n",
       "2     39.13    -121.62                41.0       1317.0           309.0   \n",
       "3     34.24    -118.63                 9.0       4759.0           924.0   \n",
       "4     37.52    -122.30                38.0       2769.0           387.0   \n",
       "\n",
       "   population  households  median_income  rooms_per_household  \\\n",
       "0      1404.0       374.0         2.3681             3.922460   \n",
       "1      2248.0       806.0        10.1357             7.564516   \n",
       "2       856.0       337.0         1.6719             3.908012   \n",
       "3      1884.0       915.0         4.8333             5.201093   \n",
       "4       994.0       395.0         5.5902             7.010127   \n",
       "\n",
       "   bedrooms_per_room  population_per_household  \n",
       "0           0.259714                  3.922460  \n",
       "1           0.130228                  7.564516  \n",
       "2           0.234624                  3.908012  \n",
       "3           0.194158                  5.201093  \n",
       "4           0.139762                  7.010127  "
      ]
     },
     "execution_count": 287,
     "metadata": {},
     "output_type": "execute_result"
    }
   ],
   "source": [
    "df_train_c.head()"
   ]
  },
  {
   "cell_type": "code",
   "execution_count": 288,
   "id": "a44723b4",
   "metadata": {},
   "outputs": [],
   "source": [
    "train_dict_c = df_train_c.to_dict(orient='records')\n",
    "dv_c = DictVectorizer(sparse=False)\n",
    "X_train_c = dv_c.fit_transform(train_dict_c)"
   ]
  },
  {
   "cell_type": "code",
   "execution_count": 289,
   "id": "333c40b2",
   "metadata": {},
   "outputs": [
    {
     "data": {
      "text/plain": [
       "array(['bedrooms_per_room', 'households', 'housing_median_age',\n",
       "       'latitude', 'longitude', 'median_income', 'population',\n",
       "       'population_per_household', 'rooms_per_household',\n",
       "       'total_bedrooms', 'total_rooms'], dtype=object)"
      ]
     },
     "execution_count": 289,
     "metadata": {},
     "output_type": "execute_result"
    }
   ],
   "source": [
    "dv_c.get_feature_names_out()"
   ]
  },
  {
   "cell_type": "code",
   "execution_count": 290,
   "id": "72c37a43",
   "metadata": {},
   "outputs": [],
   "source": [
    "df_val_c = df_val.copy()\n",
    "del df_val_c['ocean_proximity']"
   ]
  },
  {
   "cell_type": "code",
   "execution_count": 291,
   "id": "0bd58d35",
   "metadata": {},
   "outputs": [],
   "source": [
    "val_dict_c = df_val_c.to_dict(orient='records')\n",
    "X_val_c = dv_c.transform(val_dict_c)"
   ]
  },
  {
   "cell_type": "code",
   "execution_count": 292,
   "id": "91d84ef7",
   "metadata": {},
   "outputs": [
    {
     "data": {
      "text/plain": [
       "LogisticRegression(max_iter=1000, random_state=42, solver='liblinear')"
      ]
     },
     "execution_count": 292,
     "metadata": {},
     "output_type": "execute_result"
    }
   ],
   "source": [
    "model_c = LogisticRegression(solver=\"liblinear\", C=1.0, max_iter=1000, random_state=42)\n",
    "model_c.fit(X_train_c, y_train)"
   ]
  },
  {
   "cell_type": "code",
   "execution_count": 293,
   "id": "4148ce61",
   "metadata": {},
   "outputs": [],
   "source": [
    "y_pred_c = model_c.predict_proba(X_val_c)[:, 1]"
   ]
  },
  {
   "cell_type": "code",
   "execution_count": 294,
   "id": "dcad59f4",
   "metadata": {},
   "outputs": [
    {
     "data": {
      "text/plain": [
       "0.82"
      ]
     },
     "execution_count": 294,
     "metadata": {},
     "output_type": "execute_result"
    }
   ],
   "source": [
    "accuracy_score(y_val, y_pred_c >= 0.5).round(2)"
   ]
  },
  {
   "cell_type": "code",
   "execution_count": 301,
   "id": "53a98ec5",
   "metadata": {},
   "outputs": [],
   "source": [
    "def train_model(df_train, df_val, feature):\n",
    "    # make a copy and delete the feature\n",
    "    df_train_c = df_train.copy()\n",
    "    del df_train_c[feature]\n",
    "    \n",
    "    # convert to dictionaries\n",
    "    train_dict_c = df_train_c.to_dict(orient='records')\n",
    "    dv_c = DictVectorizer(sparse=False)\n",
    "    X_train_c = dv_c.fit_transform(train_dict_c)\n",
    "    \n",
    "    df_val_c = df_val.copy()\n",
    "    del df_val_c[feature]\n",
    "    \n",
    "    val_dict_c = df_val_c.to_dict(orient='records')\n",
    "    X_val_c = dv_c.transform(val_dict_c)\n",
    "    \n",
    "    model_c = LogisticRegression(solver=\"liblinear\", C=1.0, max_iter=1000, random_state=42)\n",
    "    model_c.fit(X_train_c, y_train)\n",
    "    \n",
    "    y_pred_c = model_c.predict_proba(X_val_c)[:, 1]\n",
    "    score = accuracy_score(y_val, y_pred_c >= 0.5).round(2)\n",
    "    print(\"{} has an accuracy of {}\".format(feature, score) )\n",
    "    difference = score - original_accuracy\n",
    "    return difference"
   ]
  },
  {
   "cell_type": "code",
   "execution_count": 302,
   "id": "eed022cc",
   "metadata": {},
   "outputs": [
    {
     "name": "stdout",
     "output_type": "stream",
     "text": [
      "latitude has an accuracy of 0.84\n",
      "Feature \"latitude\" has been removed accuracy of model is now = 0.0\n",
      "longitude has an accuracy of 0.83\n",
      "Feature \"longitude\" has been removed accuracy of model is now = -0.01\n",
      "housing_median_age has an accuracy of 0.83\n",
      "Feature \"housing_median_age\" has been removed accuracy of model is now = -0.01\n",
      "total_rooms has an accuracy of 0.84\n",
      "Feature \"total_rooms\" has been removed accuracy of model is now = 0.0\n",
      "total_bedrooms has an accuracy of 0.84\n",
      "Feature \"total_bedrooms\" has been removed accuracy of model is now = 0.0\n",
      "population has an accuracy of 0.82\n",
      "Feature \"population\" has been removed accuracy of model is now = -0.02\n",
      "households has an accuracy of 0.83\n",
      "Feature \"households\" has been removed accuracy of model is now = -0.01\n",
      "median_income has an accuracy of 0.79\n",
      "Feature \"median_income\" has been removed accuracy of model is now = -0.05\n",
      "ocean_proximity has an accuracy of 0.82\n",
      "Feature \"ocean_proximity\" has been removed accuracy of model is now = -0.02\n",
      "rooms_per_household has an accuracy of 0.84\n",
      "Feature \"rooms_per_household\" has been removed accuracy of model is now = 0.0\n",
      "bedrooms_per_room has an accuracy of 0.84\n",
      "Feature \"bedrooms_per_room\" has been removed accuracy of model is now = 0.0\n",
      "population_per_household has an accuracy of 0.84\n",
      "Feature \"population_per_household\" has been removed accuracy of model is now = 0.0\n"
     ]
    }
   ],
   "source": [
    "for feature in n_features:\n",
    "    score = train_model(df_train, df_val, feature)\n",
    "    print('Feature \"{}\" has been removed accuracy of model is now = {}'.format(feature, score.round(4)))"
   ]
  },
  {
   "cell_type": "markdown",
   "id": "746beef4",
   "metadata": {},
   "source": [
    "**Excluding the last 3 features, the least is *total_rooms***"
   ]
  },
  {
   "cell_type": "markdown",
   "id": "ff9fca7f",
   "metadata": {},
   "source": [
    "### Question 6\n",
    "Train Linear Regression Model"
   ]
  },
  {
   "cell_type": "code",
   "execution_count": 303,
   "id": "0f76c4cd",
   "metadata": {},
   "outputs": [],
   "source": [
    "# get libraries\n",
    "from sklearn.linear_model import LinearRegression\n",
    "from sklearn.linear_model import Ridge\n",
    "from sklearn.metrics import mean_squared_error"
   ]
  },
  {
   "cell_type": "code",
   "execution_count": 304,
   "id": "277f91df",
   "metadata": {},
   "outputs": [],
   "source": [
    "df = pd.read_csv('housing.csv')"
   ]
  },
  {
   "cell_type": "code",
   "execution_count": 305,
   "id": "06cd7171",
   "metadata": {},
   "outputs": [
    {
     "data": {
      "text/html": [
       "<div>\n",
       "<style scoped>\n",
       "    .dataframe tbody tr th:only-of-type {\n",
       "        vertical-align: middle;\n",
       "    }\n",
       "\n",
       "    .dataframe tbody tr th {\n",
       "        vertical-align: top;\n",
       "    }\n",
       "\n",
       "    .dataframe thead th {\n",
       "        text-align: right;\n",
       "    }\n",
       "</style>\n",
       "<table border=\"1\" class=\"dataframe\">\n",
       "  <thead>\n",
       "    <tr style=\"text-align: right;\">\n",
       "      <th></th>\n",
       "      <th>longitude</th>\n",
       "      <th>latitude</th>\n",
       "      <th>housing_median_age</th>\n",
       "      <th>total_rooms</th>\n",
       "      <th>total_bedrooms</th>\n",
       "      <th>population</th>\n",
       "      <th>households</th>\n",
       "      <th>median_income</th>\n",
       "      <th>median_house_value</th>\n",
       "      <th>ocean_proximity</th>\n",
       "    </tr>\n",
       "  </thead>\n",
       "  <tbody>\n",
       "    <tr>\n",
       "      <th>0</th>\n",
       "      <td>-122.23</td>\n",
       "      <td>37.88</td>\n",
       "      <td>41.0</td>\n",
       "      <td>880.0</td>\n",
       "      <td>129.0</td>\n",
       "      <td>322.0</td>\n",
       "      <td>126.0</td>\n",
       "      <td>8.3252</td>\n",
       "      <td>452600.0</td>\n",
       "      <td>NEAR BAY</td>\n",
       "    </tr>\n",
       "    <tr>\n",
       "      <th>1</th>\n",
       "      <td>-122.22</td>\n",
       "      <td>37.86</td>\n",
       "      <td>21.0</td>\n",
       "      <td>7099.0</td>\n",
       "      <td>1106.0</td>\n",
       "      <td>2401.0</td>\n",
       "      <td>1138.0</td>\n",
       "      <td>8.3014</td>\n",
       "      <td>358500.0</td>\n",
       "      <td>NEAR BAY</td>\n",
       "    </tr>\n",
       "    <tr>\n",
       "      <th>2</th>\n",
       "      <td>-122.24</td>\n",
       "      <td>37.85</td>\n",
       "      <td>52.0</td>\n",
       "      <td>1467.0</td>\n",
       "      <td>190.0</td>\n",
       "      <td>496.0</td>\n",
       "      <td>177.0</td>\n",
       "      <td>7.2574</td>\n",
       "      <td>352100.0</td>\n",
       "      <td>NEAR BAY</td>\n",
       "    </tr>\n",
       "    <tr>\n",
       "      <th>3</th>\n",
       "      <td>-122.25</td>\n",
       "      <td>37.85</td>\n",
       "      <td>52.0</td>\n",
       "      <td>1274.0</td>\n",
       "      <td>235.0</td>\n",
       "      <td>558.0</td>\n",
       "      <td>219.0</td>\n",
       "      <td>5.6431</td>\n",
       "      <td>341300.0</td>\n",
       "      <td>NEAR BAY</td>\n",
       "    </tr>\n",
       "    <tr>\n",
       "      <th>4</th>\n",
       "      <td>-122.25</td>\n",
       "      <td>37.85</td>\n",
       "      <td>52.0</td>\n",
       "      <td>1627.0</td>\n",
       "      <td>280.0</td>\n",
       "      <td>565.0</td>\n",
       "      <td>259.0</td>\n",
       "      <td>3.8462</td>\n",
       "      <td>342200.0</td>\n",
       "      <td>NEAR BAY</td>\n",
       "    </tr>\n",
       "  </tbody>\n",
       "</table>\n",
       "</div>"
      ],
      "text/plain": [
       "   longitude  latitude  housing_median_age  total_rooms  total_bedrooms  \\\n",
       "0    -122.23     37.88                41.0        880.0           129.0   \n",
       "1    -122.22     37.86                21.0       7099.0          1106.0   \n",
       "2    -122.24     37.85                52.0       1467.0           190.0   \n",
       "3    -122.25     37.85                52.0       1274.0           235.0   \n",
       "4    -122.25     37.85                52.0       1627.0           280.0   \n",
       "\n",
       "   population  households  median_income  median_house_value ocean_proximity  \n",
       "0       322.0       126.0         8.3252            452600.0        NEAR BAY  \n",
       "1      2401.0      1138.0         8.3014            358500.0        NEAR BAY  \n",
       "2       496.0       177.0         7.2574            352100.0        NEAR BAY  \n",
       "3       558.0       219.0         5.6431            341300.0        NEAR BAY  \n",
       "4       565.0       259.0         3.8462            342200.0        NEAR BAY  "
      ]
     },
     "execution_count": 305,
     "metadata": {},
     "output_type": "execute_result"
    }
   ],
   "source": [
    "df.head()"
   ]
  },
  {
   "cell_type": "code",
   "execution_count": 306,
   "id": "259004e7",
   "metadata": {},
   "outputs": [
    {
     "data": {
      "text/plain": [
       "0        13.022766\n",
       "1        12.789687\n",
       "2        12.771673\n",
       "3        12.740520\n",
       "4        12.743154\n",
       "           ...    \n",
       "20635    11.265758\n",
       "20636    11.252872\n",
       "20637    11.432810\n",
       "20638    11.346883\n",
       "20639    11.400887\n",
       "Name: median_house_value, Length: 20640, dtype: float64"
      ]
     },
     "execution_count": 306,
     "metadata": {},
     "output_type": "execute_result"
    }
   ],
   "source": [
    "df['median_house_value']=np.log1p(df['median_house_value'])\n",
    "df.median_house_value"
   ]
  },
  {
   "cell_type": "code",
   "execution_count": 307,
   "id": "78b758fb",
   "metadata": {},
   "outputs": [
    {
     "data": {
      "text/html": [
       "<div>\n",
       "<style scoped>\n",
       "    .dataframe tbody tr th:only-of-type {\n",
       "        vertical-align: middle;\n",
       "    }\n",
       "\n",
       "    .dataframe tbody tr th {\n",
       "        vertical-align: top;\n",
       "    }\n",
       "\n",
       "    .dataframe thead th {\n",
       "        text-align: right;\n",
       "    }\n",
       "</style>\n",
       "<table border=\"1\" class=\"dataframe\">\n",
       "  <thead>\n",
       "    <tr style=\"text-align: right;\">\n",
       "      <th></th>\n",
       "      <th>longitude</th>\n",
       "      <th>latitude</th>\n",
       "      <th>housing_median_age</th>\n",
       "      <th>total_rooms</th>\n",
       "      <th>total_bedrooms</th>\n",
       "      <th>population</th>\n",
       "      <th>households</th>\n",
       "      <th>median_income</th>\n",
       "      <th>median_house_value</th>\n",
       "      <th>ocean_proximity</th>\n",
       "    </tr>\n",
       "  </thead>\n",
       "  <tbody>\n",
       "    <tr>\n",
       "      <th>0</th>\n",
       "      <td>-122.23</td>\n",
       "      <td>37.88</td>\n",
       "      <td>41.0</td>\n",
       "      <td>880.0</td>\n",
       "      <td>129.0</td>\n",
       "      <td>322.0</td>\n",
       "      <td>126.0</td>\n",
       "      <td>8.3252</td>\n",
       "      <td>13.022766</td>\n",
       "      <td>NEAR BAY</td>\n",
       "    </tr>\n",
       "    <tr>\n",
       "      <th>1</th>\n",
       "      <td>-122.22</td>\n",
       "      <td>37.86</td>\n",
       "      <td>21.0</td>\n",
       "      <td>7099.0</td>\n",
       "      <td>1106.0</td>\n",
       "      <td>2401.0</td>\n",
       "      <td>1138.0</td>\n",
       "      <td>8.3014</td>\n",
       "      <td>12.789687</td>\n",
       "      <td>NEAR BAY</td>\n",
       "    </tr>\n",
       "    <tr>\n",
       "      <th>2</th>\n",
       "      <td>-122.24</td>\n",
       "      <td>37.85</td>\n",
       "      <td>52.0</td>\n",
       "      <td>1467.0</td>\n",
       "      <td>190.0</td>\n",
       "      <td>496.0</td>\n",
       "      <td>177.0</td>\n",
       "      <td>7.2574</td>\n",
       "      <td>12.771673</td>\n",
       "      <td>NEAR BAY</td>\n",
       "    </tr>\n",
       "    <tr>\n",
       "      <th>3</th>\n",
       "      <td>-122.25</td>\n",
       "      <td>37.85</td>\n",
       "      <td>52.0</td>\n",
       "      <td>1274.0</td>\n",
       "      <td>235.0</td>\n",
       "      <td>558.0</td>\n",
       "      <td>219.0</td>\n",
       "      <td>5.6431</td>\n",
       "      <td>12.740520</td>\n",
       "      <td>NEAR BAY</td>\n",
       "    </tr>\n",
       "    <tr>\n",
       "      <th>4</th>\n",
       "      <td>-122.25</td>\n",
       "      <td>37.85</td>\n",
       "      <td>52.0</td>\n",
       "      <td>1627.0</td>\n",
       "      <td>280.0</td>\n",
       "      <td>565.0</td>\n",
       "      <td>259.0</td>\n",
       "      <td>3.8462</td>\n",
       "      <td>12.743154</td>\n",
       "      <td>NEAR BAY</td>\n",
       "    </tr>\n",
       "  </tbody>\n",
       "</table>\n",
       "</div>"
      ],
      "text/plain": [
       "   longitude  latitude  housing_median_age  total_rooms  total_bedrooms  \\\n",
       "0    -122.23     37.88                41.0        880.0           129.0   \n",
       "1    -122.22     37.86                21.0       7099.0          1106.0   \n",
       "2    -122.24     37.85                52.0       1467.0           190.0   \n",
       "3    -122.25     37.85                52.0       1274.0           235.0   \n",
       "4    -122.25     37.85                52.0       1627.0           280.0   \n",
       "\n",
       "   population  households  median_income  median_house_value ocean_proximity  \n",
       "0       322.0       126.0         8.3252           13.022766        NEAR BAY  \n",
       "1      2401.0      1138.0         8.3014           12.789687        NEAR BAY  \n",
       "2       496.0       177.0         7.2574           12.771673        NEAR BAY  \n",
       "3       558.0       219.0         5.6431           12.740520        NEAR BAY  \n",
       "4       565.0       259.0         3.8462           12.743154        NEAR BAY  "
      ]
     },
     "execution_count": 307,
     "metadata": {},
     "output_type": "execute_result"
    }
   ],
   "source": [
    "df.head()"
   ]
  },
  {
   "cell_type": "code",
   "execution_count": 308,
   "id": "0844946e",
   "metadata": {},
   "outputs": [],
   "source": [
    "df_train_full, df_test = train_test_split(df, test_size=0.2, random_state=42)\n",
    "df_train, df_val = train_test_split(df_train_full, test_size=0.25, random_state=42)"
   ]
  },
  {
   "cell_type": "code",
   "execution_count": 309,
   "id": "f8f8d77f",
   "metadata": {},
   "outputs": [
    {
     "data": {
      "text/plain": [
       "(0.6, 0.2, 0.2)"
      ]
     },
     "execution_count": 309,
     "metadata": {},
     "output_type": "execute_result"
    }
   ],
   "source": [
    "# sanity check\n",
    "(len(df_train) / len(df)), (len(df_val) / len(df)), (len(df_val) / len(df))"
   ]
  },
  {
   "cell_type": "code",
   "execution_count": 310,
   "id": "44fc5b4b",
   "metadata": {},
   "outputs": [],
   "source": [
    "df_train = df_train.reset_index(drop=True)\n",
    "df_val = df_val.reset_index(drop=True)\n",
    "df_test = df_test.reset_index(drop=True)"
   ]
  },
  {
   "cell_type": "code",
   "execution_count": 311,
   "id": "66c87f6f",
   "metadata": {},
   "outputs": [
    {
     "data": {
      "text/html": [
       "<div>\n",
       "<style scoped>\n",
       "    .dataframe tbody tr th:only-of-type {\n",
       "        vertical-align: middle;\n",
       "    }\n",
       "\n",
       "    .dataframe tbody tr th {\n",
       "        vertical-align: top;\n",
       "    }\n",
       "\n",
       "    .dataframe thead th {\n",
       "        text-align: right;\n",
       "    }\n",
       "</style>\n",
       "<table border=\"1\" class=\"dataframe\">\n",
       "  <thead>\n",
       "    <tr style=\"text-align: right;\">\n",
       "      <th></th>\n",
       "      <th>longitude</th>\n",
       "      <th>latitude</th>\n",
       "      <th>housing_median_age</th>\n",
       "      <th>total_rooms</th>\n",
       "      <th>total_bedrooms</th>\n",
       "      <th>population</th>\n",
       "      <th>households</th>\n",
       "      <th>median_income</th>\n",
       "      <th>median_house_value</th>\n",
       "      <th>ocean_proximity</th>\n",
       "    </tr>\n",
       "  </thead>\n",
       "  <tbody>\n",
       "    <tr>\n",
       "      <th>0</th>\n",
       "      <td>-119.67</td>\n",
       "      <td>34.43</td>\n",
       "      <td>39.0</td>\n",
       "      <td>1467.0</td>\n",
       "      <td>381.0</td>\n",
       "      <td>1404.0</td>\n",
       "      <td>374.0</td>\n",
       "      <td>2.3681</td>\n",
       "      <td>12.394215</td>\n",
       "      <td>&lt;1H OCEAN</td>\n",
       "    </tr>\n",
       "    <tr>\n",
       "      <th>1</th>\n",
       "      <td>-118.32</td>\n",
       "      <td>33.74</td>\n",
       "      <td>24.0</td>\n",
       "      <td>6097.0</td>\n",
       "      <td>794.0</td>\n",
       "      <td>2248.0</td>\n",
       "      <td>806.0</td>\n",
       "      <td>10.1357</td>\n",
       "      <td>13.122367</td>\n",
       "      <td>NEAR OCEAN</td>\n",
       "    </tr>\n",
       "    <tr>\n",
       "      <th>2</th>\n",
       "      <td>-121.62</td>\n",
       "      <td>39.13</td>\n",
       "      <td>41.0</td>\n",
       "      <td>1317.0</td>\n",
       "      <td>309.0</td>\n",
       "      <td>856.0</td>\n",
       "      <td>337.0</td>\n",
       "      <td>1.6719</td>\n",
       "      <td>11.068215</td>\n",
       "      <td>INLAND</td>\n",
       "    </tr>\n",
       "    <tr>\n",
       "      <th>3</th>\n",
       "      <td>-118.63</td>\n",
       "      <td>34.24</td>\n",
       "      <td>9.0</td>\n",
       "      <td>4759.0</td>\n",
       "      <td>924.0</td>\n",
       "      <td>1884.0</td>\n",
       "      <td>915.0</td>\n",
       "      <td>4.8333</td>\n",
       "      <td>12.532498</td>\n",
       "      <td>&lt;1H OCEAN</td>\n",
       "    </tr>\n",
       "    <tr>\n",
       "      <th>4</th>\n",
       "      <td>-122.30</td>\n",
       "      <td>37.52</td>\n",
       "      <td>38.0</td>\n",
       "      <td>2769.0</td>\n",
       "      <td>387.0</td>\n",
       "      <td>994.0</td>\n",
       "      <td>395.0</td>\n",
       "      <td>5.5902</td>\n",
       "      <td>12.940844</td>\n",
       "      <td>NEAR OCEAN</td>\n",
       "    </tr>\n",
       "  </tbody>\n",
       "</table>\n",
       "</div>"
      ],
      "text/plain": [
       "   longitude  latitude  housing_median_age  total_rooms  total_bedrooms  \\\n",
       "0    -119.67     34.43                39.0       1467.0           381.0   \n",
       "1    -118.32     33.74                24.0       6097.0           794.0   \n",
       "2    -121.62     39.13                41.0       1317.0           309.0   \n",
       "3    -118.63     34.24                 9.0       4759.0           924.0   \n",
       "4    -122.30     37.52                38.0       2769.0           387.0   \n",
       "\n",
       "   population  households  median_income  median_house_value ocean_proximity  \n",
       "0      1404.0       374.0         2.3681           12.394215       <1H OCEAN  \n",
       "1      2248.0       806.0        10.1357           13.122367      NEAR OCEAN  \n",
       "2       856.0       337.0         1.6719           11.068215          INLAND  \n",
       "3      1884.0       915.0         4.8333           12.532498       <1H OCEAN  \n",
       "4       994.0       395.0         5.5902           12.940844      NEAR OCEAN  "
      ]
     },
     "execution_count": 311,
     "metadata": {},
     "output_type": "execute_result"
    }
   ],
   "source": [
    "df_train.head()"
   ]
  },
  {
   "cell_type": "code",
   "execution_count": 312,
   "id": "b6c8d5a9",
   "metadata": {},
   "outputs": [],
   "source": [
    "y_train = df_train.median_house_value.values\n",
    "y_val = df_val.median_house_value.values\n",
    "y_test = df_test.median_house_value.values"
   ]
  },
  {
   "cell_type": "code",
   "execution_count": 313,
   "id": "470e7c1a",
   "metadata": {},
   "outputs": [],
   "source": [
    "df_train = df_train.drop('median_house_value', axis=1)\n",
    "df_val = df_val.drop('median_house_value', axis=1)\n",
    "df_test = df_test.drop('median_house_value', axis=1)"
   ]
  },
  {
   "cell_type": "code",
   "execution_count": 314,
   "id": "41981f40",
   "metadata": {},
   "outputs": [],
   "source": [
    "train_dict = df_train.to_dict(orient='records')\n",
    "dv = DictVectorizer(sparse=False)\n",
    "X_train = dv.fit_transform(train_dict)"
   ]
  },
  {
   "cell_type": "code",
   "execution_count": 315,
   "id": "ba08f158",
   "metadata": {},
   "outputs": [],
   "source": [
    "val_dict = df_val.to_dict(orient='records')\n",
    "X_val = dv.transform(val_dict)"
   ]
  },
  {
   "cell_type": "code",
   "execution_count": 316,
   "id": "4a8cd072",
   "metadata": {},
   "outputs": [
    {
     "name": "stdout",
     "output_type": "stream",
     "text": [
      "Reglarization parameter: 0 and rmse is 0.525\n",
      "Reglarization parameter: 0.01 and rmse is 0.525\n",
      "Reglarization parameter: 0.1 and rmse is 0.525\n",
      "Reglarization parameter: 1 and rmse is 0.525\n",
      "Reglarization parameter: 10 and rmse is 0.525\n"
     ]
    }
   ],
   "source": [
    "for a in  [0, 0.01, 0.1, 1, 10]:\n",
    "    model = Ridge(alpha=a, solver=\"sag\", random_state=42)\n",
    "    model.fit(X_train, y_train)\n",
    "    \n",
    "    y_pred = model.predict(X_val)\n",
    "    score = np.sqrt(mean_squared_error(y_val, y_pred))\n",
    "    \n",
    "    print('Reglarization parameter: {} and rmse is {}'.format(a, score.round(3)))\n",
    "    "
   ]
  },
  {
   "cell_type": "markdown",
   "id": "6ea506d3",
   "metadata": {},
   "source": [
    "Since all of them are the same, we pick **0** "
   ]
  },
  {
   "cell_type": "code",
   "execution_count": null,
   "id": "705bf9bc",
   "metadata": {},
   "outputs": [],
   "source": []
  }
 ],
 "metadata": {
  "kernelspec": {
   "display_name": "Python 3.10.0 64-bit",
   "language": "python",
   "name": "python3"
  },
  "language_info": {
   "codemirror_mode": {
    "name": "ipython",
    "version": 3
   },
   "file_extension": ".py",
   "mimetype": "text/x-python",
   "name": "python",
   "nbconvert_exporter": "python",
   "pygments_lexer": "ipython3",
   "version": "3.10.0"
  },
  "vscode": {
   "interpreter": {
    "hash": "df95319d8ce4e1d89f5365ae10992bc1f65da593082b1d264e8f529830ec2f02"
   }
  }
 },
 "nbformat": 4,
 "nbformat_minor": 5
}
