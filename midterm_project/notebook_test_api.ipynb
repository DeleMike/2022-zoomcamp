{
 "cells": [
  {
   "cell_type": "markdown",
   "id": "077914de",
   "metadata": {},
   "source": [
    "## Notebook for API test\n",
    "This notebook contains code to test API endpoint"
   ]
  },
  {
   "cell_type": "code",
   "execution_count": 1,
   "id": "8be113c8",
   "metadata": {},
   "outputs": [],
   "source": [
    "import requests"
   ]
  },
  {
   "cell_type": "code",
   "execution_count": 2,
   "id": "278741f8",
   "metadata": {},
   "outputs": [],
   "source": [
    "url = \"http://localhost:9696/predict\""
   ]
  },
  {
   "cell_type": "code",
   "execution_count": 4,
   "id": "08952376",
   "metadata": {},
   "outputs": [
    {
     "data": {
      "text/plain": [
       "{'bmi': 29.84,\n",
       " 'smoking': 'no',\n",
       " 'alcoholdrinking': 'no',\n",
       " 'stroke': 'no',\n",
       " 'physicalhealth': 5.0,\n",
       " 'mentalhealth': 0.0,\n",
       " 'diffwalking': 'no',\n",
       " 'sex': 'male',\n",
       " 'agecategory': '60-64',\n",
       " 'race': 'white',\n",
       " 'diabetic': 'no',\n",
       " 'physicalactivity': 'yes',\n",
       " 'genhealth': 'very good',\n",
       " 'sleeptime': 8.0,\n",
       " 'asthma': 'no',\n",
       " 'kidneydisease': 'no',\n",
       " 'skincancer': 'no'}"
      ]
     },
     "execution_count": 4,
     "metadata": {},
     "output_type": "execute_result"
    }
   ],
   "source": [
    "patient = {\"bmi\": 29.84,\n",
    " \"smoking\": \"no\",\n",
    " \"alcoholdrinking\": \"no\",\n",
    " \"stroke\": \"no\",\n",
    " \"physicalhealth\": 5.0,\n",
    " \"mentalhealth\": 0.0,\n",
    " \"diffwalking\": \"no\",\n",
    " \"sex\": \"male\",\n",
    " \"agecategory\": \"60-64\",\n",
    " \"race\": \"white\",\n",
    " \"diabetic\": \"no\",\n",
    " \"physicalactivity\": \"yes\",\n",
    " \"genhealth\": \"very good\",\n",
    " \"sleeptime\": 8.0,\n",
    " \"asthma\": \"no\",\n",
    " \"kidneydisease\": \"no\",\n",
    " \"skincancer\": \"no\"}\n",
    "patient"
   ]
  },
  {
   "cell_type": "code",
   "execution_count": 9,
   "id": "3c45713f",
   "metadata": {},
   "outputs": [
    {
     "data": {
      "text/plain": [
       "{'heart_disease': False, 'heart_disease_probability': 0.05810770019888878}"
      ]
     },
     "execution_count": 9,
     "metadata": {},
     "output_type": "execute_result"
    }
   ],
   "source": [
    "response = requests.post(url, json=patient).json()\n",
    "response"
   ]
  },
  {
   "cell_type": "code",
   "execution_count": null,
   "id": "9399fbe8",
   "metadata": {},
   "outputs": [],
   "source": []
  }
 ],
 "metadata": {
  "kernelspec": {
   "display_name": "Python 3 (ipykernel)",
   "language": "python",
   "name": "python3"
  },
  "language_info": {
   "codemirror_mode": {
    "name": "ipython",
    "version": 3
   },
   "file_extension": ".py",
   "mimetype": "text/x-python",
   "name": "python",
   "nbconvert_exporter": "python",
   "pygments_lexer": "ipython3",
   "version": "3.7.9"
  }
 },
 "nbformat": 4,
 "nbformat_minor": 5
}
