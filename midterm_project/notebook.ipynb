{
 "cells": [
  {
   "cell_type": "markdown",
   "id": "333f8eb9",
   "metadata": {},
   "source": [
    "# Mid Term Project\n",
    "\n",
    "## Heart Disease Indicator\n",
    "This notebook contains all data analysis and model building to help identify or indicate the likelihood of heart disease"
   ]
  },
  {
   "cell_type": "code",
   "execution_count": 386,
   "id": "0b135fba",
   "metadata": {},
   "outputs": [],
   "source": [
    "# import necessary libraries\n",
    "%matplotlib inline\n",
    "\n",
    "import pandas as pd\n",
    "import numpy as np\n",
    "import matplotlib.pyplot as plt\n",
    "import seaborn as sns\n",
    "import xgboost as xgb\n",
    "import pickle\n",
    "\n",
    "from sklearn.model_selection import train_test_split\n",
    "from sklearn.metrics import roc_auc_score\n",
    "from sklearn.metrics import roc_curve\n",
    "from sklearn.metrics import auc\n",
    "from sklearn.metrics import mutual_info_score\n",
    "from sklearn.metrics import accuracy_score\n",
    "from sklearn.feature_extraction import DictVectorizer\n",
    "from sklearn.linear_model import LogisticRegression\n",
    "from sklearn.tree import DecisionTreeClassifier\n",
    "from sklearn.tree import export_text\n",
    "from sklearn.ensemble import RandomForestClassifier"
   ]
  },
  {
   "cell_type": "markdown",
   "id": "eeff9ff6",
   "metadata": {},
   "source": [
    "### Loading and Reading data"
   ]
  },
  {
   "cell_type": "code",
   "execution_count": 160,
   "id": "848f23a4",
   "metadata": {},
   "outputs": [
    {
     "data": {
      "text/html": [
       "<div>\n",
       "<style scoped>\n",
       "    .dataframe tbody tr th:only-of-type {\n",
       "        vertical-align: middle;\n",
       "    }\n",
       "\n",
       "    .dataframe tbody tr th {\n",
       "        vertical-align: top;\n",
       "    }\n",
       "\n",
       "    .dataframe thead th {\n",
       "        text-align: right;\n",
       "    }\n",
       "</style>\n",
       "<table border=\"1\" class=\"dataframe\">\n",
       "  <thead>\n",
       "    <tr style=\"text-align: right;\">\n",
       "      <th></th>\n",
       "      <th>HeartDisease</th>\n",
       "      <th>BMI</th>\n",
       "      <th>Smoking</th>\n",
       "      <th>AlcoholDrinking</th>\n",
       "      <th>Stroke</th>\n",
       "      <th>PhysicalHealth</th>\n",
       "      <th>MentalHealth</th>\n",
       "      <th>DiffWalking</th>\n",
       "      <th>Sex</th>\n",
       "      <th>AgeCategory</th>\n",
       "      <th>Race</th>\n",
       "      <th>Diabetic</th>\n",
       "      <th>PhysicalActivity</th>\n",
       "      <th>GenHealth</th>\n",
       "      <th>SleepTime</th>\n",
       "      <th>Asthma</th>\n",
       "      <th>KidneyDisease</th>\n",
       "      <th>SkinCancer</th>\n",
       "    </tr>\n",
       "  </thead>\n",
       "  <tbody>\n",
       "    <tr>\n",
       "      <th>0</th>\n",
       "      <td>No</td>\n",
       "      <td>16.60</td>\n",
       "      <td>Yes</td>\n",
       "      <td>No</td>\n",
       "      <td>No</td>\n",
       "      <td>3.0</td>\n",
       "      <td>30.0</td>\n",
       "      <td>No</td>\n",
       "      <td>Female</td>\n",
       "      <td>55-59</td>\n",
       "      <td>White</td>\n",
       "      <td>Yes</td>\n",
       "      <td>Yes</td>\n",
       "      <td>Very good</td>\n",
       "      <td>5.0</td>\n",
       "      <td>Yes</td>\n",
       "      <td>No</td>\n",
       "      <td>Yes</td>\n",
       "    </tr>\n",
       "    <tr>\n",
       "      <th>1</th>\n",
       "      <td>No</td>\n",
       "      <td>20.34</td>\n",
       "      <td>No</td>\n",
       "      <td>No</td>\n",
       "      <td>Yes</td>\n",
       "      <td>0.0</td>\n",
       "      <td>0.0</td>\n",
       "      <td>No</td>\n",
       "      <td>Female</td>\n",
       "      <td>80 or older</td>\n",
       "      <td>White</td>\n",
       "      <td>No</td>\n",
       "      <td>Yes</td>\n",
       "      <td>Very good</td>\n",
       "      <td>7.0</td>\n",
       "      <td>No</td>\n",
       "      <td>No</td>\n",
       "      <td>No</td>\n",
       "    </tr>\n",
       "    <tr>\n",
       "      <th>2</th>\n",
       "      <td>No</td>\n",
       "      <td>26.58</td>\n",
       "      <td>Yes</td>\n",
       "      <td>No</td>\n",
       "      <td>No</td>\n",
       "      <td>20.0</td>\n",
       "      <td>30.0</td>\n",
       "      <td>No</td>\n",
       "      <td>Male</td>\n",
       "      <td>65-69</td>\n",
       "      <td>White</td>\n",
       "      <td>Yes</td>\n",
       "      <td>Yes</td>\n",
       "      <td>Fair</td>\n",
       "      <td>8.0</td>\n",
       "      <td>Yes</td>\n",
       "      <td>No</td>\n",
       "      <td>No</td>\n",
       "    </tr>\n",
       "    <tr>\n",
       "      <th>3</th>\n",
       "      <td>No</td>\n",
       "      <td>24.21</td>\n",
       "      <td>No</td>\n",
       "      <td>No</td>\n",
       "      <td>No</td>\n",
       "      <td>0.0</td>\n",
       "      <td>0.0</td>\n",
       "      <td>No</td>\n",
       "      <td>Female</td>\n",
       "      <td>75-79</td>\n",
       "      <td>White</td>\n",
       "      <td>No</td>\n",
       "      <td>No</td>\n",
       "      <td>Good</td>\n",
       "      <td>6.0</td>\n",
       "      <td>No</td>\n",
       "      <td>No</td>\n",
       "      <td>Yes</td>\n",
       "    </tr>\n",
       "    <tr>\n",
       "      <th>4</th>\n",
       "      <td>No</td>\n",
       "      <td>23.71</td>\n",
       "      <td>No</td>\n",
       "      <td>No</td>\n",
       "      <td>No</td>\n",
       "      <td>28.0</td>\n",
       "      <td>0.0</td>\n",
       "      <td>Yes</td>\n",
       "      <td>Female</td>\n",
       "      <td>40-44</td>\n",
       "      <td>White</td>\n",
       "      <td>No</td>\n",
       "      <td>Yes</td>\n",
       "      <td>Very good</td>\n",
       "      <td>8.0</td>\n",
       "      <td>No</td>\n",
       "      <td>No</td>\n",
       "      <td>No</td>\n",
       "    </tr>\n",
       "  </tbody>\n",
       "</table>\n",
       "</div>"
      ],
      "text/plain": [
       "  HeartDisease    BMI Smoking AlcoholDrinking Stroke  PhysicalHealth  \\\n",
       "0           No  16.60     Yes              No     No             3.0   \n",
       "1           No  20.34      No              No    Yes             0.0   \n",
       "2           No  26.58     Yes              No     No            20.0   \n",
       "3           No  24.21      No              No     No             0.0   \n",
       "4           No  23.71      No              No     No            28.0   \n",
       "\n",
       "   MentalHealth DiffWalking     Sex  AgeCategory   Race Diabetic  \\\n",
       "0          30.0          No  Female        55-59  White      Yes   \n",
       "1           0.0          No  Female  80 or older  White       No   \n",
       "2          30.0          No    Male        65-69  White      Yes   \n",
       "3           0.0          No  Female        75-79  White       No   \n",
       "4           0.0         Yes  Female        40-44  White       No   \n",
       "\n",
       "  PhysicalActivity  GenHealth  SleepTime Asthma KidneyDisease SkinCancer  \n",
       "0              Yes  Very good        5.0    Yes            No        Yes  \n",
       "1              Yes  Very good        7.0     No            No         No  \n",
       "2              Yes       Fair        8.0    Yes            No         No  \n",
       "3               No       Good        6.0     No            No        Yes  \n",
       "4              Yes  Very good        8.0     No            No         No  "
      ]
     },
     "metadata": {},
     "output_type": "display_data"
    },
    {
     "name": "stdout",
     "output_type": "stream",
     "text": [
      "\n",
      "<class 'pandas.core.frame.DataFrame'>\n",
      "RangeIndex: 319795 entries, 0 to 319794\n",
      "Data columns (total 18 columns):\n",
      " #   Column            Non-Null Count   Dtype  \n",
      "---  ------            --------------   -----  \n",
      " 0   HeartDisease      319795 non-null  object \n",
      " 1   BMI               319795 non-null  float64\n",
      " 2   Smoking           319795 non-null  object \n",
      " 3   AlcoholDrinking   319795 non-null  object \n",
      " 4   Stroke            319795 non-null  object \n",
      " 5   PhysicalHealth    319795 non-null  float64\n",
      " 6   MentalHealth      319795 non-null  float64\n",
      " 7   DiffWalking       319795 non-null  object \n",
      " 8   Sex               319795 non-null  object \n",
      " 9   AgeCategory       319795 non-null  object \n",
      " 10  Race              319795 non-null  object \n",
      " 11  Diabetic          319795 non-null  object \n",
      " 12  PhysicalActivity  319795 non-null  object \n",
      " 13  GenHealth         319795 non-null  object \n",
      " 14  SleepTime         319795 non-null  float64\n",
      " 15  Asthma            319795 non-null  object \n",
      " 16  KidneyDisease     319795 non-null  object \n",
      " 17  SkinCancer        319795 non-null  object \n",
      "dtypes: float64(4), object(14)\n",
      "memory usage: 43.9+ MB\n"
     ]
    },
    {
     "data": {
      "text/plain": [
       "None"
      ]
     },
     "metadata": {},
     "output_type": "display_data"
    }
   ],
   "source": [
    "df = pd.read_csv('heart_2020_cleaned.csv')\n",
    "display(df.head())\n",
    "print()\n",
    "display(df.info())"
   ]
  },
  {
   "cell_type": "markdown",
   "id": "8e8b0c87",
   "metadata": {},
   "source": [
    "The **Heart Disease** column is what we are predicting."
   ]
  },
  {
   "cell_type": "markdown",
   "id": "308ca01d",
   "metadata": {},
   "source": [
    "### Data cleaning\n",
    "converting all string to lowercase and encoding the \"AgeCategory\" feature"
   ]
  },
  {
   "cell_type": "code",
   "execution_count": 161,
   "id": "609a3625",
   "metadata": {},
   "outputs": [
    {
     "data": {
      "text/plain": [
       "Index(['heartdisease', 'bmi', 'smoking', 'alcoholdrinking', 'stroke',\n",
       "       'physicalhealth', 'mentalhealth', 'diffwalking', 'sex', 'agecategory',\n",
       "       'race', 'diabetic', 'physicalactivity', 'genhealth', 'sleeptime',\n",
       "       'asthma', 'kidneydisease', 'skincancer'],\n",
       "      dtype='object')"
      ]
     },
     "execution_count": 161,
     "metadata": {},
     "output_type": "execute_result"
    }
   ],
   "source": [
    "# convert all columns to lower\n",
    "df.columns = df.columns.str.lower()\n",
    "df.columns"
   ]
  },
  {
   "cell_type": "code",
   "execution_count": 162,
   "id": "c53d86c3",
   "metadata": {},
   "outputs": [],
   "source": [
    "# change all \"string\" data to lowercase\n",
    "string_columns = list(df.dtypes[df.dtypes == 'object'].index)\n",
    "for col in string_columns:\n",
    "    df[col] = df[col].str.lower()"
   ]
  },
  {
   "cell_type": "code",
   "execution_count": 163,
   "id": "b5539be0",
   "metadata": {},
   "outputs": [
    {
     "data": {
      "text/html": [
       "<div>\n",
       "<style scoped>\n",
       "    .dataframe tbody tr th:only-of-type {\n",
       "        vertical-align: middle;\n",
       "    }\n",
       "\n",
       "    .dataframe tbody tr th {\n",
       "        vertical-align: top;\n",
       "    }\n",
       "\n",
       "    .dataframe thead th {\n",
       "        text-align: right;\n",
       "    }\n",
       "</style>\n",
       "<table border=\"1\" class=\"dataframe\">\n",
       "  <thead>\n",
       "    <tr style=\"text-align: right;\">\n",
       "      <th></th>\n",
       "      <th>0</th>\n",
       "      <th>1</th>\n",
       "      <th>2</th>\n",
       "      <th>3</th>\n",
       "      <th>4</th>\n",
       "    </tr>\n",
       "  </thead>\n",
       "  <tbody>\n",
       "    <tr>\n",
       "      <th>heartdisease</th>\n",
       "      <td>no</td>\n",
       "      <td>no</td>\n",
       "      <td>no</td>\n",
       "      <td>no</td>\n",
       "      <td>no</td>\n",
       "    </tr>\n",
       "    <tr>\n",
       "      <th>bmi</th>\n",
       "      <td>16.6</td>\n",
       "      <td>20.34</td>\n",
       "      <td>26.58</td>\n",
       "      <td>24.21</td>\n",
       "      <td>23.71</td>\n",
       "    </tr>\n",
       "    <tr>\n",
       "      <th>smoking</th>\n",
       "      <td>yes</td>\n",
       "      <td>no</td>\n",
       "      <td>yes</td>\n",
       "      <td>no</td>\n",
       "      <td>no</td>\n",
       "    </tr>\n",
       "    <tr>\n",
       "      <th>alcoholdrinking</th>\n",
       "      <td>no</td>\n",
       "      <td>no</td>\n",
       "      <td>no</td>\n",
       "      <td>no</td>\n",
       "      <td>no</td>\n",
       "    </tr>\n",
       "    <tr>\n",
       "      <th>stroke</th>\n",
       "      <td>no</td>\n",
       "      <td>yes</td>\n",
       "      <td>no</td>\n",
       "      <td>no</td>\n",
       "      <td>no</td>\n",
       "    </tr>\n",
       "    <tr>\n",
       "      <th>physicalhealth</th>\n",
       "      <td>3.0</td>\n",
       "      <td>0.0</td>\n",
       "      <td>20.0</td>\n",
       "      <td>0.0</td>\n",
       "      <td>28.0</td>\n",
       "    </tr>\n",
       "    <tr>\n",
       "      <th>mentalhealth</th>\n",
       "      <td>30.0</td>\n",
       "      <td>0.0</td>\n",
       "      <td>30.0</td>\n",
       "      <td>0.0</td>\n",
       "      <td>0.0</td>\n",
       "    </tr>\n",
       "    <tr>\n",
       "      <th>diffwalking</th>\n",
       "      <td>no</td>\n",
       "      <td>no</td>\n",
       "      <td>no</td>\n",
       "      <td>no</td>\n",
       "      <td>yes</td>\n",
       "    </tr>\n",
       "    <tr>\n",
       "      <th>sex</th>\n",
       "      <td>female</td>\n",
       "      <td>female</td>\n",
       "      <td>male</td>\n",
       "      <td>female</td>\n",
       "      <td>female</td>\n",
       "    </tr>\n",
       "    <tr>\n",
       "      <th>agecategory</th>\n",
       "      <td>55-59</td>\n",
       "      <td>80 or older</td>\n",
       "      <td>65-69</td>\n",
       "      <td>75-79</td>\n",
       "      <td>40-44</td>\n",
       "    </tr>\n",
       "    <tr>\n",
       "      <th>race</th>\n",
       "      <td>white</td>\n",
       "      <td>white</td>\n",
       "      <td>white</td>\n",
       "      <td>white</td>\n",
       "      <td>white</td>\n",
       "    </tr>\n",
       "    <tr>\n",
       "      <th>diabetic</th>\n",
       "      <td>yes</td>\n",
       "      <td>no</td>\n",
       "      <td>yes</td>\n",
       "      <td>no</td>\n",
       "      <td>no</td>\n",
       "    </tr>\n",
       "    <tr>\n",
       "      <th>physicalactivity</th>\n",
       "      <td>yes</td>\n",
       "      <td>yes</td>\n",
       "      <td>yes</td>\n",
       "      <td>no</td>\n",
       "      <td>yes</td>\n",
       "    </tr>\n",
       "    <tr>\n",
       "      <th>genhealth</th>\n",
       "      <td>very good</td>\n",
       "      <td>very good</td>\n",
       "      <td>fair</td>\n",
       "      <td>good</td>\n",
       "      <td>very good</td>\n",
       "    </tr>\n",
       "    <tr>\n",
       "      <th>sleeptime</th>\n",
       "      <td>5.0</td>\n",
       "      <td>7.0</td>\n",
       "      <td>8.0</td>\n",
       "      <td>6.0</td>\n",
       "      <td>8.0</td>\n",
       "    </tr>\n",
       "    <tr>\n",
       "      <th>asthma</th>\n",
       "      <td>yes</td>\n",
       "      <td>no</td>\n",
       "      <td>yes</td>\n",
       "      <td>no</td>\n",
       "      <td>no</td>\n",
       "    </tr>\n",
       "    <tr>\n",
       "      <th>kidneydisease</th>\n",
       "      <td>no</td>\n",
       "      <td>no</td>\n",
       "      <td>no</td>\n",
       "      <td>no</td>\n",
       "      <td>no</td>\n",
       "    </tr>\n",
       "    <tr>\n",
       "      <th>skincancer</th>\n",
       "      <td>yes</td>\n",
       "      <td>no</td>\n",
       "      <td>no</td>\n",
       "      <td>yes</td>\n",
       "      <td>no</td>\n",
       "    </tr>\n",
       "  </tbody>\n",
       "</table>\n",
       "</div>"
      ],
      "text/plain": [
       "                          0            1      2       3          4\n",
       "heartdisease             no           no     no      no         no\n",
       "bmi                    16.6        20.34  26.58   24.21      23.71\n",
       "smoking                 yes           no    yes      no         no\n",
       "alcoholdrinking          no           no     no      no         no\n",
       "stroke                   no          yes     no      no         no\n",
       "physicalhealth          3.0          0.0   20.0     0.0       28.0\n",
       "mentalhealth           30.0          0.0   30.0     0.0        0.0\n",
       "diffwalking              no           no     no      no        yes\n",
       "sex                  female       female   male  female     female\n",
       "agecategory           55-59  80 or older  65-69   75-79      40-44\n",
       "race                  white        white  white   white      white\n",
       "diabetic                yes           no    yes      no         no\n",
       "physicalactivity        yes          yes    yes      no        yes\n",
       "genhealth         very good    very good   fair    good  very good\n",
       "sleeptime               5.0          7.0    8.0     6.0        8.0\n",
       "asthma                  yes           no    yes      no         no\n",
       "kidneydisease            no           no     no      no         no\n",
       "skincancer              yes           no     no     yes         no"
      ]
     },
     "execution_count": 163,
     "metadata": {},
     "output_type": "execute_result"
    }
   ],
   "source": [
    "# viewing the head\n",
    "df.head().T"
   ]
  },
  {
   "cell_type": "code",
   "execution_count": 164,
   "id": "c072214b",
   "metadata": {},
   "outputs": [
    {
     "data": {
      "text/plain": [
       "['55-59',\n",
       " '80 or older',\n",
       " '65-69',\n",
       " '75-79',\n",
       " '40-44',\n",
       " '70-74',\n",
       " '60-64',\n",
       " '50-54',\n",
       " '45-49',\n",
       " '18-24',\n",
       " '35-39',\n",
       " '30-34',\n",
       " '25-29']"
      ]
     },
     "execution_count": 164,
     "metadata": {},
     "output_type": "execute_result"
    }
   ],
   "source": [
    "list(df['agecategory'].unique())"
   ]
  },
  {
   "cell_type": "code",
   "execution_count": 165,
   "id": "488e0e04",
   "metadata": {},
   "outputs": [],
   "source": [
    "df['heartdisease'] = (df.heartdisease == 'yes').astype(int)"
   ]
  },
  {
   "cell_type": "code",
   "execution_count": 166,
   "id": "82c73ff4",
   "metadata": {},
   "outputs": [
    {
     "data": {
      "text/html": [
       "<div>\n",
       "<style scoped>\n",
       "    .dataframe tbody tr th:only-of-type {\n",
       "        vertical-align: middle;\n",
       "    }\n",
       "\n",
       "    .dataframe tbody tr th {\n",
       "        vertical-align: top;\n",
       "    }\n",
       "\n",
       "    .dataframe thead th {\n",
       "        text-align: right;\n",
       "    }\n",
       "</style>\n",
       "<table border=\"1\" class=\"dataframe\">\n",
       "  <thead>\n",
       "    <tr style=\"text-align: right;\">\n",
       "      <th></th>\n",
       "      <th>heartdisease</th>\n",
       "      <th>bmi</th>\n",
       "      <th>smoking</th>\n",
       "      <th>alcoholdrinking</th>\n",
       "      <th>stroke</th>\n",
       "      <th>physicalhealth</th>\n",
       "      <th>mentalhealth</th>\n",
       "      <th>diffwalking</th>\n",
       "      <th>sex</th>\n",
       "      <th>agecategory</th>\n",
       "      <th>race</th>\n",
       "      <th>diabetic</th>\n",
       "      <th>physicalactivity</th>\n",
       "      <th>genhealth</th>\n",
       "      <th>sleeptime</th>\n",
       "      <th>asthma</th>\n",
       "      <th>kidneydisease</th>\n",
       "      <th>skincancer</th>\n",
       "    </tr>\n",
       "  </thead>\n",
       "  <tbody>\n",
       "    <tr>\n",
       "      <th>73485</th>\n",
       "      <td>1</td>\n",
       "      <td>28.17</td>\n",
       "      <td>no</td>\n",
       "      <td>no</td>\n",
       "      <td>no</td>\n",
       "      <td>13.0</td>\n",
       "      <td>0.0</td>\n",
       "      <td>yes</td>\n",
       "      <td>female</td>\n",
       "      <td>80 or older</td>\n",
       "      <td>white</td>\n",
       "      <td>yes</td>\n",
       "      <td>no</td>\n",
       "      <td>poor</td>\n",
       "      <td>4.0</td>\n",
       "      <td>no</td>\n",
       "      <td>no</td>\n",
       "      <td>no</td>\n",
       "    </tr>\n",
       "    <tr>\n",
       "      <th>104098</th>\n",
       "      <td>0</td>\n",
       "      <td>30.83</td>\n",
       "      <td>no</td>\n",
       "      <td>no</td>\n",
       "      <td>no</td>\n",
       "      <td>15.0</td>\n",
       "      <td>0.0</td>\n",
       "      <td>yes</td>\n",
       "      <td>male</td>\n",
       "      <td>75-79</td>\n",
       "      <td>white</td>\n",
       "      <td>no</td>\n",
       "      <td>yes</td>\n",
       "      <td>poor</td>\n",
       "      <td>7.0</td>\n",
       "      <td>yes</td>\n",
       "      <td>no</td>\n",
       "      <td>yes</td>\n",
       "    </tr>\n",
       "    <tr>\n",
       "      <th>286449</th>\n",
       "      <td>0</td>\n",
       "      <td>46.06</td>\n",
       "      <td>no</td>\n",
       "      <td>no</td>\n",
       "      <td>no</td>\n",
       "      <td>0.0</td>\n",
       "      <td>0.0</td>\n",
       "      <td>no</td>\n",
       "      <td>female</td>\n",
       "      <td>60-64</td>\n",
       "      <td>white</td>\n",
       "      <td>yes</td>\n",
       "      <td>no</td>\n",
       "      <td>good</td>\n",
       "      <td>8.0</td>\n",
       "      <td>no</td>\n",
       "      <td>no</td>\n",
       "      <td>no</td>\n",
       "    </tr>\n",
       "    <tr>\n",
       "      <th>142076</th>\n",
       "      <td>0</td>\n",
       "      <td>23.12</td>\n",
       "      <td>yes</td>\n",
       "      <td>no</td>\n",
       "      <td>no</td>\n",
       "      <td>30.0</td>\n",
       "      <td>30.0</td>\n",
       "      <td>no</td>\n",
       "      <td>male</td>\n",
       "      <td>45-49</td>\n",
       "      <td>white</td>\n",
       "      <td>yes</td>\n",
       "      <td>yes</td>\n",
       "      <td>fair</td>\n",
       "      <td>5.0</td>\n",
       "      <td>no</td>\n",
       "      <td>no</td>\n",
       "      <td>no</td>\n",
       "    </tr>\n",
       "    <tr>\n",
       "      <th>58749</th>\n",
       "      <td>0</td>\n",
       "      <td>35.24</td>\n",
       "      <td>no</td>\n",
       "      <td>no</td>\n",
       "      <td>no</td>\n",
       "      <td>5.0</td>\n",
       "      <td>15.0</td>\n",
       "      <td>no</td>\n",
       "      <td>male</td>\n",
       "      <td>55-59</td>\n",
       "      <td>white</td>\n",
       "      <td>yes</td>\n",
       "      <td>yes</td>\n",
       "      <td>good</td>\n",
       "      <td>6.0</td>\n",
       "      <td>yes</td>\n",
       "      <td>no</td>\n",
       "      <td>no</td>\n",
       "    </tr>\n",
       "    <tr>\n",
       "      <th>297828</th>\n",
       "      <td>0</td>\n",
       "      <td>32.01</td>\n",
       "      <td>no</td>\n",
       "      <td>no</td>\n",
       "      <td>yes</td>\n",
       "      <td>2.0</td>\n",
       "      <td>3.0</td>\n",
       "      <td>no</td>\n",
       "      <td>female</td>\n",
       "      <td>60-64</td>\n",
       "      <td>hispanic</td>\n",
       "      <td>no</td>\n",
       "      <td>yes</td>\n",
       "      <td>good</td>\n",
       "      <td>10.0</td>\n",
       "      <td>yes</td>\n",
       "      <td>no</td>\n",
       "      <td>no</td>\n",
       "    </tr>\n",
       "  </tbody>\n",
       "</table>\n",
       "</div>"
      ],
      "text/plain": [
       "        heartdisease    bmi smoking alcoholdrinking stroke  physicalhealth  \\\n",
       "73485              1  28.17      no              no     no            13.0   \n",
       "104098             0  30.83      no              no     no            15.0   \n",
       "286449             0  46.06      no              no     no             0.0   \n",
       "142076             0  23.12     yes              no     no            30.0   \n",
       "58749              0  35.24      no              no     no             5.0   \n",
       "297828             0  32.01      no              no    yes             2.0   \n",
       "\n",
       "        mentalhealth diffwalking     sex  agecategory      race diabetic  \\\n",
       "73485            0.0         yes  female  80 or older     white      yes   \n",
       "104098           0.0         yes    male        75-79     white       no   \n",
       "286449           0.0          no  female        60-64     white      yes   \n",
       "142076          30.0          no    male        45-49     white      yes   \n",
       "58749           15.0          no    male        55-59     white      yes   \n",
       "297828           3.0          no  female        60-64  hispanic       no   \n",
       "\n",
       "       physicalactivity genhealth  sleeptime asthma kidneydisease skincancer  \n",
       "73485                no      poor        4.0     no            no         no  \n",
       "104098              yes      poor        7.0    yes            no        yes  \n",
       "286449               no      good        8.0     no            no         no  \n",
       "142076              yes      fair        5.0     no            no         no  \n",
       "58749               yes      good        6.0    yes            no         no  \n",
       "297828              yes      good       10.0    yes            no         no  "
      ]
     },
     "execution_count": 166,
     "metadata": {},
     "output_type": "execute_result"
    }
   ],
   "source": [
    "df.sample(6)"
   ]
  },
  {
   "cell_type": "markdown",
   "id": "065ed7c8",
   "metadata": {},
   "source": [
    "### EDA"
   ]
  },
  {
   "cell_type": "code",
   "execution_count": 167,
   "id": "f612a23e",
   "metadata": {},
   "outputs": [
    {
     "data": {
      "text/plain": [
       "(319795, 18)"
      ]
     },
     "execution_count": 167,
     "metadata": {},
     "output_type": "execute_result"
    }
   ],
   "source": [
    "df.shape"
   ]
  },
  {
   "cell_type": "code",
   "execution_count": 168,
   "id": "20f774d9",
   "metadata": {},
   "outputs": [
    {
     "name": "stdout",
     "output_type": "stream",
     "text": [
      "heartdisease\n",
      "[0 1]\n",
      "2\n",
      "\n",
      "bmi\n",
      "[16.6  20.34 26.58 24.21 23.71 28.87 21.63]\n",
      "3604\n",
      "\n",
      "smoking\n",
      "['yes' 'no']\n",
      "2\n",
      "\n",
      "alcoholdrinking\n",
      "['no' 'yes']\n",
      "2\n",
      "\n",
      "stroke\n",
      "['no' 'yes']\n",
      "2\n",
      "\n",
      "physicalhealth\n",
      "[ 3.  0. 20. 28.  6. 15.  5.]\n",
      "31\n",
      "\n",
      "mentalhealth\n",
      "[30.  0.  2.  5. 15.  8.  4.]\n",
      "31\n",
      "\n",
      "diffwalking\n",
      "['no' 'yes']\n",
      "2\n",
      "\n",
      "sex\n",
      "['female' 'male']\n",
      "2\n",
      "\n",
      "agecategory\n",
      "['55-59' '80 or older' '65-69' '75-79' '40-44' '70-74' '60-64']\n",
      "13\n",
      "\n",
      "race\n",
      "['white' 'black' 'asian' 'american indian/alaskan native' 'other'\n",
      " 'hispanic']\n",
      "6\n",
      "\n",
      "diabetic\n",
      "['yes' 'no' 'no, borderline diabetes' 'yes (during pregnancy)']\n",
      "4\n",
      "\n",
      "physicalactivity\n",
      "['yes' 'no']\n",
      "2\n",
      "\n",
      "genhealth\n",
      "['very good' 'fair' 'good' 'poor' 'excellent']\n",
      "5\n",
      "\n",
      "sleeptime\n",
      "[ 5.  7.  8.  6. 12.  4.  9.]\n",
      "24\n",
      "\n",
      "asthma\n",
      "['yes' 'no']\n",
      "2\n",
      "\n",
      "kidneydisease\n",
      "['no' 'yes']\n",
      "2\n",
      "\n",
      "skincancer\n",
      "['yes' 'no']\n",
      "2\n",
      "\n"
     ]
    }
   ],
   "source": [
    "for col in df.columns:\n",
    "    print(col)\n",
    "    print(df[col].unique()[:7]) # looks for all unique values\n",
    "    print(df[col].nunique())\n",
    "    print()"
   ]
  },
  {
   "cell_type": "code",
   "execution_count": 169,
   "id": "7c630e35",
   "metadata": {},
   "outputs": [
    {
     "data": {
      "text/plain": [
       "heartdisease        0\n",
       "bmi                 0\n",
       "smoking             0\n",
       "alcoholdrinking     0\n",
       "stroke              0\n",
       "physicalhealth      0\n",
       "mentalhealth        0\n",
       "diffwalking         0\n",
       "sex                 0\n",
       "agecategory         0\n",
       "race                0\n",
       "diabetic            0\n",
       "physicalactivity    0\n",
       "genhealth           0\n",
       "sleeptime           0\n",
       "asthma              0\n",
       "kidneydisease       0\n",
       "skincancer          0\n",
       "dtype: int64"
      ]
     },
     "execution_count": 169,
     "metadata": {},
     "output_type": "execute_result"
    }
   ],
   "source": [
    "df.isnull().sum()"
   ]
  },
  {
   "cell_type": "code",
   "execution_count": 170,
   "id": "252d504c",
   "metadata": {},
   "outputs": [
    {
     "data": {
      "text/html": [
       "<div>\n",
       "<style scoped>\n",
       "    .dataframe tbody tr th:only-of-type {\n",
       "        vertical-align: middle;\n",
       "    }\n",
       "\n",
       "    .dataframe tbody tr th {\n",
       "        vertical-align: top;\n",
       "    }\n",
       "\n",
       "    .dataframe thead th {\n",
       "        text-align: right;\n",
       "    }\n",
       "</style>\n",
       "<table border=\"1\" class=\"dataframe\">\n",
       "  <thead>\n",
       "    <tr style=\"text-align: right;\">\n",
       "      <th></th>\n",
       "      <th>heartdisease</th>\n",
       "      <th>bmi</th>\n",
       "      <th>physicalhealth</th>\n",
       "      <th>mentalhealth</th>\n",
       "      <th>sleeptime</th>\n",
       "    </tr>\n",
       "  </thead>\n",
       "  <tbody>\n",
       "    <tr>\n",
       "      <th>count</th>\n",
       "      <td>319795.000000</td>\n",
       "      <td>319795.000000</td>\n",
       "      <td>319795.00000</td>\n",
       "      <td>319795.000000</td>\n",
       "      <td>319795.000000</td>\n",
       "    </tr>\n",
       "    <tr>\n",
       "      <th>mean</th>\n",
       "      <td>0.085595</td>\n",
       "      <td>28.325399</td>\n",
       "      <td>3.37171</td>\n",
       "      <td>3.898366</td>\n",
       "      <td>7.097075</td>\n",
       "    </tr>\n",
       "    <tr>\n",
       "      <th>std</th>\n",
       "      <td>0.279766</td>\n",
       "      <td>6.356100</td>\n",
       "      <td>7.95085</td>\n",
       "      <td>7.955235</td>\n",
       "      <td>1.436007</td>\n",
       "    </tr>\n",
       "    <tr>\n",
       "      <th>min</th>\n",
       "      <td>0.000000</td>\n",
       "      <td>12.020000</td>\n",
       "      <td>0.00000</td>\n",
       "      <td>0.000000</td>\n",
       "      <td>1.000000</td>\n",
       "    </tr>\n",
       "    <tr>\n",
       "      <th>25%</th>\n",
       "      <td>0.000000</td>\n",
       "      <td>24.030000</td>\n",
       "      <td>0.00000</td>\n",
       "      <td>0.000000</td>\n",
       "      <td>6.000000</td>\n",
       "    </tr>\n",
       "    <tr>\n",
       "      <th>50%</th>\n",
       "      <td>0.000000</td>\n",
       "      <td>27.340000</td>\n",
       "      <td>0.00000</td>\n",
       "      <td>0.000000</td>\n",
       "      <td>7.000000</td>\n",
       "    </tr>\n",
       "    <tr>\n",
       "      <th>75%</th>\n",
       "      <td>0.000000</td>\n",
       "      <td>31.420000</td>\n",
       "      <td>2.00000</td>\n",
       "      <td>3.000000</td>\n",
       "      <td>8.000000</td>\n",
       "    </tr>\n",
       "    <tr>\n",
       "      <th>max</th>\n",
       "      <td>1.000000</td>\n",
       "      <td>94.850000</td>\n",
       "      <td>30.00000</td>\n",
       "      <td>30.000000</td>\n",
       "      <td>24.000000</td>\n",
       "    </tr>\n",
       "  </tbody>\n",
       "</table>\n",
       "</div>"
      ],
      "text/plain": [
       "        heartdisease            bmi  physicalhealth   mentalhealth  \\\n",
       "count  319795.000000  319795.000000    319795.00000  319795.000000   \n",
       "mean        0.085595      28.325399         3.37171       3.898366   \n",
       "std         0.279766       6.356100         7.95085       7.955235   \n",
       "min         0.000000      12.020000         0.00000       0.000000   \n",
       "25%         0.000000      24.030000         0.00000       0.000000   \n",
       "50%         0.000000      27.340000         0.00000       0.000000   \n",
       "75%         0.000000      31.420000         2.00000       3.000000   \n",
       "max         1.000000      94.850000        30.00000      30.000000   \n",
       "\n",
       "           sleeptime  \n",
       "count  319795.000000  \n",
       "mean        7.097075  \n",
       "std         1.436007  \n",
       "min         1.000000  \n",
       "25%         6.000000  \n",
       "50%         7.000000  \n",
       "75%         8.000000  \n",
       "max        24.000000  "
      ]
     },
     "execution_count": 170,
     "metadata": {},
     "output_type": "execute_result"
    }
   ],
   "source": [
    "df.describe()"
   ]
  },
  {
   "cell_type": "markdown",
   "id": "1c85d534",
   "metadata": {},
   "source": [
    "Let's take a quick look at Target variable"
   ]
  },
  {
   "cell_type": "code",
   "execution_count": 171,
   "id": "e1844c46",
   "metadata": {},
   "outputs": [
    {
     "name": "stdout",
     "output_type": "stream",
     "text": [
      "Percentage of \u001b[1m\"being diagnosed with heart disease\"\u001b[0m: % 8.56 --> (27373 heart diseases cases out of 319795)\n",
      "Percentage of \u001b[1m\"NOT being diagnosed with heart disease\"\u001b[0m: % 91.44 --> (292422 NOT churn cases out of 319795)\n"
     ]
    },
    {
     "data": {
      "image/png": "[encoded data removed]",
      "text/plain": [
       "<Figure size 504x504 with 1 Axes>"
      ]
     },
     "metadata": {},
     "output_type": "display_data"
    }
   ],
   "source": [
    "y = df['heartdisease']\n",
    "\n",
    "print(f'Percentage of \\033[1m\"being diagnosed with heart disease\"\\033[0m: % {round(y.value_counts(normalize=True)[1]*100,2)} --> \\\n",
    "({y.value_counts()[1]} heart diseases cases out of {len(df)})\\nPercentage of \\033[1m\"NOT being diagnosed with heart disease\"\\033[0m: % {round(y.value_counts(normalize=True)[0]*100,2)} --> ({y.value_counts()[0]} NOT churn cases out of {len(df)})')\n",
    "\n",
    "explode = [0, 0.1]\n",
    "\n",
    "df[\"heartdisease\"].value_counts().plot(kind=\"pie\", \n",
    "                                 autopct='%1.1f%%', \n",
    "                                 figsize=(7, 7), \n",
    "                                 explode=explode, \n",
    "                                 wedgeprops={'edgecolor': 'black'}, \n",
    "                                 shadow=True, \n",
    "                                 colors = ['darkorchid', 'turquoise'], \n",
    "                                 startangle=140)\n",
    "plt.title('Heart Disease Distribution');"
   ]
  },
  {
   "cell_type": "markdown",
   "id": "59709041",
   "metadata": {},
   "source": [
    "We have a typical **class imbalance** here.\n",
    "It is more likely not to have a heart disease from this dataset with a probability of 91.44%"
   ]
  },
  {
   "cell_type": "code",
   "execution_count": 172,
   "id": "e4ec1413",
   "metadata": {},
   "outputs": [
    {
     "data": {
      "text/html": [
       "<div>\n",
       "<style scoped>\n",
       "    .dataframe tbody tr th:only-of-type {\n",
       "        vertical-align: middle;\n",
       "    }\n",
       "\n",
       "    .dataframe tbody tr th {\n",
       "        vertical-align: top;\n",
       "    }\n",
       "\n",
       "    .dataframe thead th {\n",
       "        text-align: right;\n",
       "    }\n",
       "</style>\n",
       "<table border=\"1\" class=\"dataframe\">\n",
       "  <thead>\n",
       "    <tr style=\"text-align: right;\">\n",
       "      <th></th>\n",
       "      <th>heartdisease</th>\n",
       "      <th>bmi</th>\n",
       "      <th>physicalhealth</th>\n",
       "      <th>mentalhealth</th>\n",
       "      <th>sleeptime</th>\n",
       "    </tr>\n",
       "  </thead>\n",
       "  <tbody>\n",
       "    <tr>\n",
       "      <th>heartdisease</th>\n",
       "      <td>1.000000</td>\n",
       "      <td>0.051803</td>\n",
       "      <td>0.170721</td>\n",
       "      <td>0.028591</td>\n",
       "      <td>0.008327</td>\n",
       "    </tr>\n",
       "    <tr>\n",
       "      <th>bmi</th>\n",
       "      <td>0.051803</td>\n",
       "      <td>1.000000</td>\n",
       "      <td>0.109788</td>\n",
       "      <td>0.064131</td>\n",
       "      <td>-0.051822</td>\n",
       "    </tr>\n",
       "    <tr>\n",
       "      <th>physicalhealth</th>\n",
       "      <td>0.170721</td>\n",
       "      <td>0.109788</td>\n",
       "      <td>1.000000</td>\n",
       "      <td>0.287987</td>\n",
       "      <td>-0.061387</td>\n",
       "    </tr>\n",
       "    <tr>\n",
       "      <th>mentalhealth</th>\n",
       "      <td>0.028591</td>\n",
       "      <td>0.064131</td>\n",
       "      <td>0.287987</td>\n",
       "      <td>1.000000</td>\n",
       "      <td>-0.119717</td>\n",
       "    </tr>\n",
       "    <tr>\n",
       "      <th>sleeptime</th>\n",
       "      <td>0.008327</td>\n",
       "      <td>-0.051822</td>\n",
       "      <td>-0.061387</td>\n",
       "      <td>-0.119717</td>\n",
       "      <td>1.000000</td>\n",
       "    </tr>\n",
       "  </tbody>\n",
       "</table>\n",
       "</div>"
      ],
      "text/plain": [
       "                heartdisease       bmi  physicalhealth  mentalhealth  \\\n",
       "heartdisease        1.000000  0.051803        0.170721      0.028591   \n",
       "bmi                 0.051803  1.000000        0.109788      0.064131   \n",
       "physicalhealth      0.170721  0.109788        1.000000      0.287987   \n",
       "mentalhealth        0.028591  0.064131        0.287987      1.000000   \n",
       "sleeptime           0.008327 -0.051822       -0.061387     -0.119717   \n",
       "\n",
       "                sleeptime  \n",
       "heartdisease     0.008327  \n",
       "bmi             -0.051822  \n",
       "physicalhealth  -0.061387  \n",
       "mentalhealth    -0.119717  \n",
       "sleeptime        1.000000  "
      ]
     },
     "execution_count": 172,
     "metadata": {},
     "output_type": "execute_result"
    }
   ],
   "source": [
    "df.corr() # correlation table "
   ]
  },
  {
   "cell_type": "code",
   "execution_count": 173,
   "id": "511b9312",
   "metadata": {},
   "outputs": [
    {
     "data": {
      "image/png": "[encoded data removed]",
      "text/plain": [
       "<Figure size 576x576 with 2 Axes>"
      ]
     },
     "metadata": {
      "needs_background": "light"
     },
     "output_type": "display_data"
    }
   ],
   "source": [
    "# this plot helps me to spot highest correlation\n",
    "plt.figure(figsize=(8,8))  \n",
    "sns.heatmap(df.corr(),annot=True,linewidths=.5, cmap=\"Blues\")\n",
    "plt.title('Heatmap showing correlations between numerical data')\n",
    "plt.show()"
   ]
  },
  {
   "cell_type": "code",
   "execution_count": 174,
   "id": "37fdc357",
   "metadata": {},
   "outputs": [
    {
     "data": {
      "text/plain": [
       "heartdisease    heartdisease      1.000000\n",
       "bmi             bmi               1.000000\n",
       "mentalhealth    mentalhealth      1.000000\n",
       "physicalhealth  physicalhealth    1.000000\n",
       "sleeptime       sleeptime         1.000000\n",
       "physicalhealth  mentalhealth      0.287987\n",
       "mentalhealth    physicalhealth    0.287987\n",
       "heartdisease    physicalhealth    0.170721\n",
       "physicalhealth  heartdisease      0.170721\n",
       "bmi             physicalhealth    0.109788\n",
       "physicalhealth  bmi               0.109788\n",
       "bmi             mentalhealth      0.064131\n",
       "mentalhealth    bmi               0.064131\n",
       "heartdisease    bmi               0.051803\n",
       "bmi             heartdisease      0.051803\n",
       "heartdisease    mentalhealth      0.028591\n",
       "mentalhealth    heartdisease      0.028591\n",
       "sleeptime       heartdisease      0.008327\n",
       "heartdisease    sleeptime         0.008327\n",
       "bmi             sleeptime        -0.051822\n",
       "sleeptime       bmi              -0.051822\n",
       "                physicalhealth   -0.061387\n",
       "physicalhealth  sleeptime        -0.061387\n",
       "mentalhealth    sleeptime        -0.119717\n",
       "sleeptime       mentalhealth     -0.119717\n",
       "dtype: float64"
      ]
     },
     "execution_count": 174,
     "metadata": {},
     "output_type": "execute_result"
    }
   ],
   "source": [
    "df.corr().unstack().sort_values(ascending = False)"
   ]
  },
  {
   "cell_type": "markdown",
   "id": "0d3f3322",
   "metadata": {},
   "source": [
    "There is some reasonable good correlation between **physical health** and **mental health**"
   ]
  },
  {
   "cell_type": "code",
   "execution_count": 175,
   "id": "0785dcb7",
   "metadata": {},
   "outputs": [
    {
     "name": "stdout",
     "output_type": "stream",
     "text": [
      "<class 'pandas.core.frame.DataFrame'>\n",
      "RangeIndex: 319795 entries, 0 to 319794\n",
      "Data columns (total 18 columns):\n",
      " #   Column            Non-Null Count   Dtype  \n",
      "---  ------            --------------   -----  \n",
      " 0   heartdisease      319795 non-null  int32  \n",
      " 1   bmi               319795 non-null  float64\n",
      " 2   smoking           319795 non-null  object \n",
      " 3   alcoholdrinking   319795 non-null  object \n",
      " 4   stroke            319795 non-null  object \n",
      " 5   physicalhealth    319795 non-null  float64\n",
      " 6   mentalhealth      319795 non-null  float64\n",
      " 7   diffwalking       319795 non-null  object \n",
      " 8   sex               319795 non-null  object \n",
      " 9   agecategory       319795 non-null  object \n",
      " 10  race              319795 non-null  object \n",
      " 11  diabetic          319795 non-null  object \n",
      " 12  physicalactivity  319795 non-null  object \n",
      " 13  genhealth         319795 non-null  object \n",
      " 14  sleeptime         319795 non-null  float64\n",
      " 15  asthma            319795 non-null  object \n",
      " 16  kidneydisease     319795 non-null  object \n",
      " 17  skincancer        319795 non-null  object \n",
      "dtypes: float64(4), int32(1), object(13)\n",
      "memory usage: 42.7+ MB\n"
     ]
    }
   ],
   "source": [
    "df.info()"
   ]
  },
  {
   "cell_type": "code",
   "execution_count": 176,
   "id": "a8f882b8",
   "metadata": {},
   "outputs": [
    {
     "data": {
      "text/plain": [
       "['bmi', 'physicalhealth', 'mentalhealth', 'sleeptime']"
      ]
     },
     "execution_count": 176,
     "metadata": {},
     "output_type": "execute_result"
    }
   ],
   "source": [
    "numerical = ['bmi', 'physicalhealth', 'mentalhealth', 'sleeptime']\n",
    "numerical"
   ]
  },
  {
   "cell_type": "code",
   "execution_count": 177,
   "id": "49cceb3d",
   "metadata": {},
   "outputs": [
    {
     "data": {
      "text/plain": [
       "['smoking',\n",
       " 'alcoholdrinking',\n",
       " 'stroke',\n",
       " 'diffwalking',\n",
       " 'sex',\n",
       " 'agecategory',\n",
       " 'race',\n",
       " 'diabetic',\n",
       " 'physicalactivity',\n",
       " 'genhealth',\n",
       " 'asthma',\n",
       " 'kidneydisease',\n",
       " 'skincancer']"
      ]
     },
     "execution_count": 177,
     "metadata": {},
     "output_type": "execute_result"
    }
   ],
   "source": [
    "categorical = list(df.dtypes[df.dtypes == 'object'].index)\n",
    "categorical"
   ]
  },
  {
   "cell_type": "markdown",
   "id": "51070f7d",
   "metadata": {},
   "source": [
    "### Data separation  - Setting up the validation framework\n",
    "\n",
    "I am gonna split it into three datasets (train, val, and test) - training, validation and test datasets\n",
    "I will use scikit-learn for this step"
   ]
  },
  {
   "cell_type": "code",
   "execution_count": 178,
   "id": "f820e90c",
   "metadata": {},
   "outputs": [],
   "source": [
    "df_full_train, df_test = train_test_split(df, test_size=0.2, random_state=1)\n",
    "df_train, df_val = train_test_split(df_full_train, test_size=0.25, random_state=1)"
   ]
  },
  {
   "cell_type": "code",
   "execution_count": 179,
   "id": "73f69e32",
   "metadata": {},
   "outputs": [
    {
     "data": {
      "text/plain": [
       "(0.6, 0.2, 0.2)"
      ]
     },
     "execution_count": 179,
     "metadata": {},
     "output_type": "execute_result"
    }
   ],
   "source": [
    "# sanity check\n",
    "(len(df_train) / len(df)), (len(df_val) / len(df)), (len(df_val) / len(df))"
   ]
  },
  {
   "cell_type": "code",
   "execution_count": 180,
   "id": "d558b300",
   "metadata": {},
   "outputs": [
    {
     "data": {
      "text/html": [
       "<div>\n",
       "<style scoped>\n",
       "    .dataframe tbody tr th:only-of-type {\n",
       "        vertical-align: middle;\n",
       "    }\n",
       "\n",
       "    .dataframe tbody tr th {\n",
       "        vertical-align: top;\n",
       "    }\n",
       "\n",
       "    .dataframe thead th {\n",
       "        text-align: right;\n",
       "    }\n",
       "</style>\n",
       "<table border=\"1\" class=\"dataframe\">\n",
       "  <thead>\n",
       "    <tr style=\"text-align: right;\">\n",
       "      <th></th>\n",
       "      <th>heartdisease</th>\n",
       "      <th>bmi</th>\n",
       "      <th>smoking</th>\n",
       "      <th>alcoholdrinking</th>\n",
       "      <th>stroke</th>\n",
       "      <th>physicalhealth</th>\n",
       "      <th>mentalhealth</th>\n",
       "      <th>diffwalking</th>\n",
       "      <th>sex</th>\n",
       "      <th>agecategory</th>\n",
       "      <th>race</th>\n",
       "      <th>diabetic</th>\n",
       "      <th>physicalactivity</th>\n",
       "      <th>genhealth</th>\n",
       "      <th>sleeptime</th>\n",
       "      <th>asthma</th>\n",
       "      <th>kidneydisease</th>\n",
       "      <th>skincancer</th>\n",
       "    </tr>\n",
       "  </thead>\n",
       "  <tbody>\n",
       "    <tr>\n",
       "      <th>283797</th>\n",
       "      <td>0</td>\n",
       "      <td>23.34</td>\n",
       "      <td>yes</td>\n",
       "      <td>no</td>\n",
       "      <td>no</td>\n",
       "      <td>0.0</td>\n",
       "      <td>0.0</td>\n",
       "      <td>yes</td>\n",
       "      <td>female</td>\n",
       "      <td>75-79</td>\n",
       "      <td>black</td>\n",
       "      <td>no</td>\n",
       "      <td>yes</td>\n",
       "      <td>good</td>\n",
       "      <td>7.0</td>\n",
       "      <td>no</td>\n",
       "      <td>no</td>\n",
       "      <td>no</td>\n",
       "    </tr>\n",
       "    <tr>\n",
       "      <th>133469</th>\n",
       "      <td>1</td>\n",
       "      <td>31.87</td>\n",
       "      <td>yes</td>\n",
       "      <td>no</td>\n",
       "      <td>yes</td>\n",
       "      <td>0.0</td>\n",
       "      <td>0.0</td>\n",
       "      <td>yes</td>\n",
       "      <td>male</td>\n",
       "      <td>65-69</td>\n",
       "      <td>white</td>\n",
       "      <td>yes</td>\n",
       "      <td>no</td>\n",
       "      <td>fair</td>\n",
       "      <td>4.0</td>\n",
       "      <td>no</td>\n",
       "      <td>no</td>\n",
       "      <td>no</td>\n",
       "    </tr>\n",
       "    <tr>\n",
       "      <th>217392</th>\n",
       "      <td>0</td>\n",
       "      <td>27.37</td>\n",
       "      <td>yes</td>\n",
       "      <td>no</td>\n",
       "      <td>no</td>\n",
       "      <td>30.0</td>\n",
       "      <td>0.0</td>\n",
       "      <td>yes</td>\n",
       "      <td>male</td>\n",
       "      <td>65-69</td>\n",
       "      <td>white</td>\n",
       "      <td>yes</td>\n",
       "      <td>no</td>\n",
       "      <td>poor</td>\n",
       "      <td>6.0</td>\n",
       "      <td>yes</td>\n",
       "      <td>no</td>\n",
       "      <td>no</td>\n",
       "    </tr>\n",
       "    <tr>\n",
       "      <th>91650</th>\n",
       "      <td>0</td>\n",
       "      <td>27.44</td>\n",
       "      <td>no</td>\n",
       "      <td>no</td>\n",
       "      <td>no</td>\n",
       "      <td>0.0</td>\n",
       "      <td>0.0</td>\n",
       "      <td>no</td>\n",
       "      <td>female</td>\n",
       "      <td>60-64</td>\n",
       "      <td>white</td>\n",
       "      <td>no</td>\n",
       "      <td>yes</td>\n",
       "      <td>excellent</td>\n",
       "      <td>8.0</td>\n",
       "      <td>no</td>\n",
       "      <td>no</td>\n",
       "      <td>no</td>\n",
       "    </tr>\n",
       "    <tr>\n",
       "      <th>109459</th>\n",
       "      <td>0</td>\n",
       "      <td>27.41</td>\n",
       "      <td>no</td>\n",
       "      <td>no</td>\n",
       "      <td>no</td>\n",
       "      <td>0.0</td>\n",
       "      <td>0.0</td>\n",
       "      <td>no</td>\n",
       "      <td>female</td>\n",
       "      <td>50-54</td>\n",
       "      <td>white</td>\n",
       "      <td>no</td>\n",
       "      <td>yes</td>\n",
       "      <td>excellent</td>\n",
       "      <td>6.0</td>\n",
       "      <td>no</td>\n",
       "      <td>no</td>\n",
       "      <td>no</td>\n",
       "    </tr>\n",
       "  </tbody>\n",
       "</table>\n",
       "</div>"
      ],
      "text/plain": [
       "        heartdisease    bmi smoking alcoholdrinking stroke  physicalhealth  \\\n",
       "283797             0  23.34     yes              no     no             0.0   \n",
       "133469             1  31.87     yes              no    yes             0.0   \n",
       "217392             0  27.37     yes              no     no            30.0   \n",
       "91650              0  27.44      no              no     no             0.0   \n",
       "109459             0  27.41      no              no     no             0.0   \n",
       "\n",
       "        mentalhealth diffwalking     sex agecategory   race diabetic  \\\n",
       "283797           0.0         yes  female       75-79  black       no   \n",
       "133469           0.0         yes    male       65-69  white      yes   \n",
       "217392           0.0         yes    male       65-69  white      yes   \n",
       "91650            0.0          no  female       60-64  white       no   \n",
       "109459           0.0          no  female       50-54  white       no   \n",
       "\n",
       "       physicalactivity  genhealth  sleeptime asthma kidneydisease skincancer  \n",
       "283797              yes       good        7.0     no            no         no  \n",
       "133469               no       fair        4.0     no            no         no  \n",
       "217392               no       poor        6.0    yes            no         no  \n",
       "91650               yes  excellent        8.0     no            no         no  \n",
       "109459              yes  excellent        6.0     no            no         no  "
      ]
     },
     "execution_count": 180,
     "metadata": {},
     "output_type": "execute_result"
    }
   ],
   "source": [
    "df_train.head()"
   ]
  },
  {
   "cell_type": "code",
   "execution_count": 181,
   "id": "45b185eb",
   "metadata": {},
   "outputs": [],
   "source": [
    "## reset indexes\n",
    "df_train = df_train.reset_index(drop=True)\n",
    "df_val = df_val.reset_index(drop=True)\n",
    "df_test = df_test.reset_index(drop=True)"
   ]
  },
  {
   "cell_type": "code",
   "execution_count": 182,
   "id": "8d851c57",
   "metadata": {},
   "outputs": [
    {
     "data": {
      "text/html": [
       "<div>\n",
       "<style scoped>\n",
       "    .dataframe tbody tr th:only-of-type {\n",
       "        vertical-align: middle;\n",
       "    }\n",
       "\n",
       "    .dataframe tbody tr th {\n",
       "        vertical-align: top;\n",
       "    }\n",
       "\n",
       "    .dataframe thead th {\n",
       "        text-align: right;\n",
       "    }\n",
       "</style>\n",
       "<table border=\"1\" class=\"dataframe\">\n",
       "  <thead>\n",
       "    <tr style=\"text-align: right;\">\n",
       "      <th></th>\n",
       "      <th>heartdisease</th>\n",
       "      <th>bmi</th>\n",
       "      <th>smoking</th>\n",
       "      <th>alcoholdrinking</th>\n",
       "      <th>stroke</th>\n",
       "      <th>physicalhealth</th>\n",
       "      <th>mentalhealth</th>\n",
       "      <th>diffwalking</th>\n",
       "      <th>sex</th>\n",
       "      <th>agecategory</th>\n",
       "      <th>race</th>\n",
       "      <th>diabetic</th>\n",
       "      <th>physicalactivity</th>\n",
       "      <th>genhealth</th>\n",
       "      <th>sleeptime</th>\n",
       "      <th>asthma</th>\n",
       "      <th>kidneydisease</th>\n",
       "      <th>skincancer</th>\n",
       "    </tr>\n",
       "  </thead>\n",
       "  <tbody>\n",
       "    <tr>\n",
       "      <th>0</th>\n",
       "      <td>0</td>\n",
       "      <td>23.34</td>\n",
       "      <td>yes</td>\n",
       "      <td>no</td>\n",
       "      <td>no</td>\n",
       "      <td>0.0</td>\n",
       "      <td>0.0</td>\n",
       "      <td>yes</td>\n",
       "      <td>female</td>\n",
       "      <td>75-79</td>\n",
       "      <td>black</td>\n",
       "      <td>no</td>\n",
       "      <td>yes</td>\n",
       "      <td>good</td>\n",
       "      <td>7.0</td>\n",
       "      <td>no</td>\n",
       "      <td>no</td>\n",
       "      <td>no</td>\n",
       "    </tr>\n",
       "    <tr>\n",
       "      <th>1</th>\n",
       "      <td>1</td>\n",
       "      <td>31.87</td>\n",
       "      <td>yes</td>\n",
       "      <td>no</td>\n",
       "      <td>yes</td>\n",
       "      <td>0.0</td>\n",
       "      <td>0.0</td>\n",
       "      <td>yes</td>\n",
       "      <td>male</td>\n",
       "      <td>65-69</td>\n",
       "      <td>white</td>\n",
       "      <td>yes</td>\n",
       "      <td>no</td>\n",
       "      <td>fair</td>\n",
       "      <td>4.0</td>\n",
       "      <td>no</td>\n",
       "      <td>no</td>\n",
       "      <td>no</td>\n",
       "    </tr>\n",
       "    <tr>\n",
       "      <th>2</th>\n",
       "      <td>0</td>\n",
       "      <td>27.37</td>\n",
       "      <td>yes</td>\n",
       "      <td>no</td>\n",
       "      <td>no</td>\n",
       "      <td>30.0</td>\n",
       "      <td>0.0</td>\n",
       "      <td>yes</td>\n",
       "      <td>male</td>\n",
       "      <td>65-69</td>\n",
       "      <td>white</td>\n",
       "      <td>yes</td>\n",
       "      <td>no</td>\n",
       "      <td>poor</td>\n",
       "      <td>6.0</td>\n",
       "      <td>yes</td>\n",
       "      <td>no</td>\n",
       "      <td>no</td>\n",
       "    </tr>\n",
       "    <tr>\n",
       "      <th>3</th>\n",
       "      <td>0</td>\n",
       "      <td>27.44</td>\n",
       "      <td>no</td>\n",
       "      <td>no</td>\n",
       "      <td>no</td>\n",
       "      <td>0.0</td>\n",
       "      <td>0.0</td>\n",
       "      <td>no</td>\n",
       "      <td>female</td>\n",
       "      <td>60-64</td>\n",
       "      <td>white</td>\n",
       "      <td>no</td>\n",
       "      <td>yes</td>\n",
       "      <td>excellent</td>\n",
       "      <td>8.0</td>\n",
       "      <td>no</td>\n",
       "      <td>no</td>\n",
       "      <td>no</td>\n",
       "    </tr>\n",
       "    <tr>\n",
       "      <th>4</th>\n",
       "      <td>0</td>\n",
       "      <td>27.41</td>\n",
       "      <td>no</td>\n",
       "      <td>no</td>\n",
       "      <td>no</td>\n",
       "      <td>0.0</td>\n",
       "      <td>0.0</td>\n",
       "      <td>no</td>\n",
       "      <td>female</td>\n",
       "      <td>50-54</td>\n",
       "      <td>white</td>\n",
       "      <td>no</td>\n",
       "      <td>yes</td>\n",
       "      <td>excellent</td>\n",
       "      <td>6.0</td>\n",
       "      <td>no</td>\n",
       "      <td>no</td>\n",
       "      <td>no</td>\n",
       "    </tr>\n",
       "  </tbody>\n",
       "</table>\n",
       "</div>"
      ],
      "text/plain": [
       "   heartdisease    bmi smoking alcoholdrinking stroke  physicalhealth  \\\n",
       "0             0  23.34     yes              no     no             0.0   \n",
       "1             1  31.87     yes              no    yes             0.0   \n",
       "2             0  27.37     yes              no     no            30.0   \n",
       "3             0  27.44      no              no     no             0.0   \n",
       "4             0  27.41      no              no     no             0.0   \n",
       "\n",
       "   mentalhealth diffwalking     sex agecategory   race diabetic  \\\n",
       "0           0.0         yes  female       75-79  black       no   \n",
       "1           0.0         yes    male       65-69  white      yes   \n",
       "2           0.0         yes    male       65-69  white      yes   \n",
       "3           0.0          no  female       60-64  white       no   \n",
       "4           0.0          no  female       50-54  white       no   \n",
       "\n",
       "  physicalactivity  genhealth  sleeptime asthma kidneydisease skincancer  \n",
       "0              yes       good        7.0     no            no         no  \n",
       "1               no       fair        4.0     no            no         no  \n",
       "2               no       poor        6.0    yes            no         no  \n",
       "3              yes  excellent        8.0     no            no         no  \n",
       "4              yes  excellent        6.0     no            no         no  "
      ]
     },
     "execution_count": 182,
     "metadata": {},
     "output_type": "execute_result"
    }
   ],
   "source": [
    "df_train.head()"
   ]
  },
  {
   "cell_type": "code",
   "execution_count": 183,
   "id": "a8773f23",
   "metadata": {},
   "outputs": [],
   "source": [
    "y_train = df_train.heartdisease.values\n",
    "y_val = df_val.heartdisease.values\n",
    "y_test = df_test.heartdisease.values"
   ]
  },
  {
   "cell_type": "code",
   "execution_count": 184,
   "id": "a3e37986",
   "metadata": {},
   "outputs": [
    {
     "data": {
      "text/plain": [
       "array([0, 1, 0, ..., 0, 0, 0])"
      ]
     },
     "execution_count": 184,
     "metadata": {},
     "output_type": "execute_result"
    }
   ],
   "source": [
    "y_train"
   ]
  },
  {
   "cell_type": "code",
   "execution_count": 185,
   "id": "8a0c5f46",
   "metadata": {},
   "outputs": [],
   "source": [
    "# drop target column\n",
    "df_train = df_train.drop('heartdisease', axis=1)\n",
    "df_val = df_val.drop('heartdisease', axis=1)\n",
    "df_test = df_test.drop('heartdisease', axis=1)"
   ]
  },
  {
   "cell_type": "code",
   "execution_count": 186,
   "id": "690639ca",
   "metadata": {},
   "outputs": [
    {
     "data": {
      "text/html": [
       "<div>\n",
       "<style scoped>\n",
       "    .dataframe tbody tr th:only-of-type {\n",
       "        vertical-align: middle;\n",
       "    }\n",
       "\n",
       "    .dataframe tbody tr th {\n",
       "        vertical-align: top;\n",
       "    }\n",
       "\n",
       "    .dataframe thead th {\n",
       "        text-align: right;\n",
       "    }\n",
       "</style>\n",
       "<table border=\"1\" class=\"dataframe\">\n",
       "  <thead>\n",
       "    <tr style=\"text-align: right;\">\n",
       "      <th></th>\n",
       "      <th>bmi</th>\n",
       "      <th>smoking</th>\n",
       "      <th>alcoholdrinking</th>\n",
       "      <th>stroke</th>\n",
       "      <th>physicalhealth</th>\n",
       "      <th>mentalhealth</th>\n",
       "      <th>diffwalking</th>\n",
       "      <th>sex</th>\n",
       "      <th>agecategory</th>\n",
       "      <th>race</th>\n",
       "      <th>diabetic</th>\n",
       "      <th>physicalactivity</th>\n",
       "      <th>genhealth</th>\n",
       "      <th>sleeptime</th>\n",
       "      <th>asthma</th>\n",
       "      <th>kidneydisease</th>\n",
       "      <th>skincancer</th>\n",
       "    </tr>\n",
       "  </thead>\n",
       "  <tbody>\n",
       "    <tr>\n",
       "      <th>0</th>\n",
       "      <td>24.30</td>\n",
       "      <td>no</td>\n",
       "      <td>no</td>\n",
       "      <td>no</td>\n",
       "      <td>0.0</td>\n",
       "      <td>15.0</td>\n",
       "      <td>no</td>\n",
       "      <td>female</td>\n",
       "      <td>40-44</td>\n",
       "      <td>white</td>\n",
       "      <td>no</td>\n",
       "      <td>yes</td>\n",
       "      <td>excellent</td>\n",
       "      <td>7.0</td>\n",
       "      <td>no</td>\n",
       "      <td>no</td>\n",
       "      <td>no</td>\n",
       "    </tr>\n",
       "    <tr>\n",
       "      <th>1</th>\n",
       "      <td>23.78</td>\n",
       "      <td>yes</td>\n",
       "      <td>no</td>\n",
       "      <td>yes</td>\n",
       "      <td>0.0</td>\n",
       "      <td>0.0</td>\n",
       "      <td>yes</td>\n",
       "      <td>female</td>\n",
       "      <td>80 or older</td>\n",
       "      <td>black</td>\n",
       "      <td>yes</td>\n",
       "      <td>no</td>\n",
       "      <td>good</td>\n",
       "      <td>7.0</td>\n",
       "      <td>no</td>\n",
       "      <td>no</td>\n",
       "      <td>no</td>\n",
       "    </tr>\n",
       "    <tr>\n",
       "      <th>2</th>\n",
       "      <td>20.60</td>\n",
       "      <td>yes</td>\n",
       "      <td>no</td>\n",
       "      <td>no</td>\n",
       "      <td>0.0</td>\n",
       "      <td>0.0</td>\n",
       "      <td>no</td>\n",
       "      <td>female</td>\n",
       "      <td>70-74</td>\n",
       "      <td>white</td>\n",
       "      <td>no</td>\n",
       "      <td>yes</td>\n",
       "      <td>good</td>\n",
       "      <td>7.0</td>\n",
       "      <td>no</td>\n",
       "      <td>no</td>\n",
       "      <td>no</td>\n",
       "    </tr>\n",
       "    <tr>\n",
       "      <th>3</th>\n",
       "      <td>28.29</td>\n",
       "      <td>yes</td>\n",
       "      <td>no</td>\n",
       "      <td>no</td>\n",
       "      <td>0.0</td>\n",
       "      <td>20.0</td>\n",
       "      <td>no</td>\n",
       "      <td>female</td>\n",
       "      <td>25-29</td>\n",
       "      <td>white</td>\n",
       "      <td>no</td>\n",
       "      <td>no</td>\n",
       "      <td>good</td>\n",
       "      <td>4.0</td>\n",
       "      <td>no</td>\n",
       "      <td>no</td>\n",
       "      <td>no</td>\n",
       "    </tr>\n",
       "    <tr>\n",
       "      <th>4</th>\n",
       "      <td>33.00</td>\n",
       "      <td>no</td>\n",
       "      <td>no</td>\n",
       "      <td>no</td>\n",
       "      <td>0.0</td>\n",
       "      <td>0.0</td>\n",
       "      <td>no</td>\n",
       "      <td>male</td>\n",
       "      <td>75-79</td>\n",
       "      <td>white</td>\n",
       "      <td>yes</td>\n",
       "      <td>yes</td>\n",
       "      <td>excellent</td>\n",
       "      <td>8.0</td>\n",
       "      <td>no</td>\n",
       "      <td>no</td>\n",
       "      <td>no</td>\n",
       "    </tr>\n",
       "  </tbody>\n",
       "</table>\n",
       "</div>"
      ],
      "text/plain": [
       "     bmi smoking alcoholdrinking stroke  physicalhealth  mentalhealth  \\\n",
       "0  24.30      no              no     no             0.0          15.0   \n",
       "1  23.78     yes              no    yes             0.0           0.0   \n",
       "2  20.60     yes              no     no             0.0           0.0   \n",
       "3  28.29     yes              no     no             0.0          20.0   \n",
       "4  33.00      no              no     no             0.0           0.0   \n",
       "\n",
       "  diffwalking     sex  agecategory   race diabetic physicalactivity  \\\n",
       "0          no  female        40-44  white       no              yes   \n",
       "1         yes  female  80 or older  black      yes               no   \n",
       "2          no  female        70-74  white       no              yes   \n",
       "3          no  female        25-29  white       no               no   \n",
       "4          no    male        75-79  white      yes              yes   \n",
       "\n",
       "   genhealth  sleeptime asthma kidneydisease skincancer  \n",
       "0  excellent        7.0     no            no         no  \n",
       "1       good        7.0     no            no         no  \n",
       "2       good        7.0     no            no         no  \n",
       "3       good        4.0     no            no         no  \n",
       "4  excellent        8.0     no            no         no  "
      ]
     },
     "execution_count": 186,
     "metadata": {},
     "output_type": "execute_result"
    }
   ],
   "source": [
    "df_test.head()"
   ]
  },
  {
   "cell_type": "markdown",
   "id": "8235bab2",
   "metadata": {},
   "source": [
    "I still want to know what variables are important. ROC AUC could also be used to evaluate feature importance of numerical variables."
   ]
  },
  {
   "cell_type": "code",
   "execution_count": 187,
   "id": "a31cab2f",
   "metadata": {},
   "outputs": [
    {
     "name": "stdout",
     "output_type": "stream",
     "text": [
      "            bmi, 0.559\n",
      " physicalhealth, 0.617\n",
      "   mentalhealth, 0.503\n",
      "      sleeptime, 0.506\n"
     ]
    }
   ],
   "source": [
    "for c in numerical:\n",
    "    auc = roc_auc_score(y_train, df_train[c])\n",
    "    if auc < 0.5:\n",
    "        auc = roc_auc_score(y_train, -df_train[c])\n",
    "    print('%15s, %.3f' % (c, auc))"
   ]
  },
  {
   "cell_type": "markdown",
   "id": "a208368a",
   "metadata": {},
   "source": [
    "We see that **physical health** is a serious feature "
   ]
  },
  {
   "cell_type": "code",
   "execution_count": 188,
   "id": "d62d86eb",
   "metadata": {},
   "outputs": [
    {
     "data": {
      "image/png": "[encoded data removed]",
      "text/plain": [
       "<Figure size 360x360 with 1 Axes>"
      ]
     },
     "metadata": {
      "needs_background": "light"
     },
     "output_type": "display_data"
    }
   ],
   "source": [
    "plt.figure(figsize=(5, 5))\n",
    "\n",
    "fpr, tpr, _ = roc_curve(y_train, df_train.bmi)\n",
    "plt.plot(fpr, tpr, label='+bmi')\n",
    "\n",
    "fpr, tpr, _ = roc_curve(y_train, -df_train.bmi)\n",
    "plt.plot(fpr, tpr, label='-bmi')\n",
    "\n",
    "plt.plot([0, 1], [0, 1], color='grey', linestyle='--')\n",
    "\n",
    "plt.legend()\n",
    "plt.show()"
   ]
  },
  {
   "cell_type": "code",
   "execution_count": 189,
   "id": "ba41e609",
   "metadata": {},
   "outputs": [
    {
     "data": {
      "image/png": "[encoded data removed]",
      "text/plain": [
       "<Figure size 432x288 with 1 Axes>"
      ]
     },
     "metadata": {
      "needs_background": "light"
     },
     "output_type": "display_data"
    }
   ],
   "source": [
    "sns.histplot(df_train.bmi[y_train == 1],\n",
    "             stat='density', bins=50,\n",
    "             color='orange', alpha=0.5,\n",
    "             label='positive')\n",
    "sns.histplot(df_train.bmi[y_train == 0],\n",
    "             stat='density', bins=50,\n",
    "             color='blue', alpha=0.5,\n",
    "             label='negative')\n",
    "\n",
    "plt.legend()\n",
    "plt.show()"
   ]
  },
  {
   "cell_type": "code",
   "execution_count": 190,
   "id": "e01099d8",
   "metadata": {},
   "outputs": [
    {
     "data": {
      "text/html": [
       "<div>\n",
       "<style scoped>\n",
       "    .dataframe tbody tr th:only-of-type {\n",
       "        vertical-align: middle;\n",
       "    }\n",
       "\n",
       "    .dataframe tbody tr th {\n",
       "        vertical-align: top;\n",
       "    }\n",
       "\n",
       "    .dataframe thead th {\n",
       "        text-align: right;\n",
       "    }\n",
       "</style>\n",
       "<table border=\"1\" class=\"dataframe\">\n",
       "  <thead>\n",
       "    <tr style=\"text-align: right;\">\n",
       "      <th></th>\n",
       "      <th>heartdisease</th>\n",
       "      <th>bmi</th>\n",
       "      <th>smoking</th>\n",
       "      <th>alcoholdrinking</th>\n",
       "      <th>stroke</th>\n",
       "      <th>physicalhealth</th>\n",
       "      <th>mentalhealth</th>\n",
       "      <th>diffwalking</th>\n",
       "      <th>sex</th>\n",
       "      <th>agecategory</th>\n",
       "      <th>race</th>\n",
       "      <th>diabetic</th>\n",
       "      <th>physicalactivity</th>\n",
       "      <th>genhealth</th>\n",
       "      <th>sleeptime</th>\n",
       "      <th>asthma</th>\n",
       "      <th>kidneydisease</th>\n",
       "      <th>skincancer</th>\n",
       "    </tr>\n",
       "  </thead>\n",
       "  <tbody>\n",
       "    <tr>\n",
       "      <th>291133</th>\n",
       "      <td>0</td>\n",
       "      <td>24.53</td>\n",
       "      <td>yes</td>\n",
       "      <td>no</td>\n",
       "      <td>no</td>\n",
       "      <td>2.0</td>\n",
       "      <td>0.0</td>\n",
       "      <td>no</td>\n",
       "      <td>female</td>\n",
       "      <td>75-79</td>\n",
       "      <td>white</td>\n",
       "      <td>no</td>\n",
       "      <td>yes</td>\n",
       "      <td>fair</td>\n",
       "      <td>6.0</td>\n",
       "      <td>no</td>\n",
       "      <td>no</td>\n",
       "      <td>no</td>\n",
       "    </tr>\n",
       "    <tr>\n",
       "      <th>309330</th>\n",
       "      <td>0</td>\n",
       "      <td>33.00</td>\n",
       "      <td>yes</td>\n",
       "      <td>no</td>\n",
       "      <td>no</td>\n",
       "      <td>0.0</td>\n",
       "      <td>0.0</td>\n",
       "      <td>no</td>\n",
       "      <td>male</td>\n",
       "      <td>50-54</td>\n",
       "      <td>white</td>\n",
       "      <td>no</td>\n",
       "      <td>yes</td>\n",
       "      <td>excellent</td>\n",
       "      <td>7.0</td>\n",
       "      <td>no</td>\n",
       "      <td>no</td>\n",
       "      <td>no</td>\n",
       "    </tr>\n",
       "    <tr>\n",
       "      <th>307280</th>\n",
       "      <td>0</td>\n",
       "      <td>27.60</td>\n",
       "      <td>no</td>\n",
       "      <td>no</td>\n",
       "      <td>no</td>\n",
       "      <td>0.0</td>\n",
       "      <td>5.0</td>\n",
       "      <td>no</td>\n",
       "      <td>male</td>\n",
       "      <td>35-39</td>\n",
       "      <td>white</td>\n",
       "      <td>no</td>\n",
       "      <td>yes</td>\n",
       "      <td>excellent</td>\n",
       "      <td>9.0</td>\n",
       "      <td>no</td>\n",
       "      <td>no</td>\n",
       "      <td>no</td>\n",
       "    </tr>\n",
       "    <tr>\n",
       "      <th>7469</th>\n",
       "      <td>0</td>\n",
       "      <td>28.70</td>\n",
       "      <td>yes</td>\n",
       "      <td>no</td>\n",
       "      <td>no</td>\n",
       "      <td>0.0</td>\n",
       "      <td>14.0</td>\n",
       "      <td>no</td>\n",
       "      <td>male</td>\n",
       "      <td>45-49</td>\n",
       "      <td>white</td>\n",
       "      <td>no</td>\n",
       "      <td>yes</td>\n",
       "      <td>excellent</td>\n",
       "      <td>8.0</td>\n",
       "      <td>no</td>\n",
       "      <td>no</td>\n",
       "      <td>no</td>\n",
       "    </tr>\n",
       "    <tr>\n",
       "      <th>33630</th>\n",
       "      <td>1</td>\n",
       "      <td>28.98</td>\n",
       "      <td>yes</td>\n",
       "      <td>no</td>\n",
       "      <td>no</td>\n",
       "      <td>0.0</td>\n",
       "      <td>0.0</td>\n",
       "      <td>no</td>\n",
       "      <td>male</td>\n",
       "      <td>70-74</td>\n",
       "      <td>white</td>\n",
       "      <td>no, borderline diabetes</td>\n",
       "      <td>yes</td>\n",
       "      <td>good</td>\n",
       "      <td>7.0</td>\n",
       "      <td>no</td>\n",
       "      <td>no</td>\n",
       "      <td>no</td>\n",
       "    </tr>\n",
       "  </tbody>\n",
       "</table>\n",
       "</div>"
      ],
      "text/plain": [
       "        heartdisease    bmi smoking alcoholdrinking stroke  physicalhealth  \\\n",
       "291133             0  24.53     yes              no     no             2.0   \n",
       "309330             0  33.00     yes              no     no             0.0   \n",
       "307280             0  27.60      no              no     no             0.0   \n",
       "7469               0  28.70     yes              no     no             0.0   \n",
       "33630              1  28.98     yes              no     no             0.0   \n",
       "\n",
       "        mentalhealth diffwalking     sex agecategory   race  \\\n",
       "291133           0.0          no  female       75-79  white   \n",
       "309330           0.0          no    male       50-54  white   \n",
       "307280           5.0          no    male       35-39  white   \n",
       "7469            14.0          no    male       45-49  white   \n",
       "33630            0.0          no    male       70-74  white   \n",
       "\n",
       "                       diabetic physicalactivity  genhealth  sleeptime asthma  \\\n",
       "291133                       no              yes       fair        6.0     no   \n",
       "309330                       no              yes  excellent        7.0     no   \n",
       "307280                       no              yes  excellent        9.0     no   \n",
       "7469                         no              yes  excellent        8.0     no   \n",
       "33630   no, borderline diabetes              yes       good        7.0     no   \n",
       "\n",
       "       kidneydisease skincancer  \n",
       "291133            no         no  \n",
       "309330            no         no  \n",
       "307280            no         no  \n",
       "7469              no         no  \n",
       "33630             no         no  "
      ]
     },
     "execution_count": 190,
     "metadata": {},
     "output_type": "execute_result"
    }
   ],
   "source": [
    "df_full_train.head()"
   ]
  },
  {
   "cell_type": "code",
   "execution_count": 191,
   "id": "be37b9f6",
   "metadata": {},
   "outputs": [
    {
     "data": {
      "text/plain": [
       "physicalhealth    0.169790\n",
       "bmi               0.052349\n",
       "mentalhealth      0.028456\n",
       "sleeptime         0.007855\n",
       "dtype: float64"
      ]
     },
     "execution_count": 191,
     "metadata": {},
     "output_type": "execute_result"
    }
   ],
   "source": [
    "df_full_train[numerical].corrwith(df_full_train.heartdisease).abs().sort_values(ascending = False)"
   ]
  },
  {
   "cell_type": "markdown",
   "id": "4609c6dc",
   "metadata": {},
   "source": [
    "From the above we can see that **physical health** places an important role in determining chances of a heart disease while **sleep time** has almost **no significance with 0.7%**"
   ]
  },
  {
   "cell_type": "code",
   "execution_count": 192,
   "id": "d7753bc8",
   "metadata": {},
   "outputs": [],
   "source": [
    "# determine the feature importance for the categorical variables\n",
    "# use the mutual_info_score to determine the relation of \n",
    "# one categorical variable to the target variable\n",
    "\n",
    "def mutual_info_heart_disease_score(series):\n",
    "    return mutual_info_score(series, df_full_train.heartdisease)"
   ]
  },
  {
   "cell_type": "code",
   "execution_count": 193,
   "id": "4b49e7d0",
   "metadata": {},
   "outputs": [
    {
     "data": {
      "text/plain": [
       "['smoking',\n",
       " 'alcoholdrinking',\n",
       " 'stroke',\n",
       " 'diffwalking',\n",
       " 'sex',\n",
       " 'agecategory',\n",
       " 'race',\n",
       " 'diabetic',\n",
       " 'physicalactivity',\n",
       " 'genhealth',\n",
       " 'asthma',\n",
       " 'kidneydisease',\n",
       " 'skincancer']"
      ]
     },
     "execution_count": 193,
     "metadata": {},
     "output_type": "execute_result"
    }
   ],
   "source": [
    "categorical"
   ]
  },
  {
   "cell_type": "code",
   "execution_count": 194,
   "id": "bccaabdc",
   "metadata": {},
   "outputs": [
    {
     "data": {
      "text/plain": [
       "agecategory         0.032074\n",
       "genhealth           0.027688\n",
       "diffwalking         0.015598\n",
       "diabetic            0.013268\n",
       "stroke              0.012182\n",
       "kidneydisease       0.006800\n",
       "smoking             0.005635\n",
       "physicalactivity    0.004469\n",
       "skincancer          0.003628\n",
       "sex                 0.002500\n",
       "race                0.001544\n",
       "asthma              0.000829\n",
       "alcoholdrinking     0.000578\n",
       "dtype: float64"
      ]
     },
     "execution_count": 194,
     "metadata": {},
     "output_type": "execute_result"
    }
   ],
   "source": [
    "mutual_info = df_full_train[categorical].apply(mutual_info_heart_disease_score)\n",
    "mutual_info.sort_values(ascending=False)"
   ]
  },
  {
   "cell_type": "markdown",
   "id": "2dac8f66",
   "metadata": {},
   "source": [
    "From the above, we can see that age category, general health, diffculty walking, diabetic and stroke have some effects on one having a heart disease. While suprisingly to me, alcohol consumption has very little importance"
   ]
  },
  {
   "cell_type": "markdown",
   "id": "715d82b2",
   "metadata": {},
   "source": [
    "### Train / Build a model"
   ]
  },
  {
   "cell_type": "code",
   "execution_count": 195,
   "id": "dbc1f71b",
   "metadata": {},
   "outputs": [],
   "source": [
    "dv = DictVectorizer(sparse=False)\n",
    "\n",
    "train_dict = df_train[categorical + numerical].to_dict(orient='records')\n",
    "X_train = dv.fit_transform(train_dict)\n",
    "\n",
    "val_dict = df_val[categorical + numerical].to_dict(orient='records')\n",
    "X_val = dv.transform(val_dict)"
   ]
  },
  {
   "cell_type": "code",
   "execution_count": 196,
   "id": "0a0e4daa",
   "metadata": {},
   "outputs": [
    {
     "data": {
      "text/plain": [
       "LogisticRegression(solver='liblinear')"
      ]
     },
     "execution_count": 196,
     "metadata": {},
     "output_type": "execute_result"
    }
   ],
   "source": [
    "model = LogisticRegression(solver='liblinear', penalty='l2')\n",
    "model.fit(X_train, y_train)"
   ]
  },
  {
   "cell_type": "code",
   "execution_count": 197,
   "id": "e2115e5a",
   "metadata": {},
   "outputs": [
    {
     "data": {
      "text/plain": [
       "{'agecategory=18-24': -1.6275737207217178,\n",
       " 'agecategory=25-29': -1.402327663665428,\n",
       " 'agecategory=30-34': -1.1171365891438791,\n",
       " 'agecategory=35-39': -1.1097812098296356,\n",
       " 'agecategory=40-44': -0.5859950467986866,\n",
       " 'agecategory=45-49': -0.33030634476785126,\n",
       " 'agecategory=50-54': 0.05751349026678776,\n",
       " 'agecategory=55-59': 0.32342041400647215,\n",
       " 'agecategory=60-64': 0.5940755224212528,\n",
       " 'agecategory=65-69': 0.8302504172412559,\n",
       " 'agecategory=70-74': 1.136802426763357,\n",
       " 'agecategory=75-79': 1.3158061427861028,\n",
       " 'agecategory=80 or older': 1.5756180246671572,\n",
       " 'alcoholdrinking=no': -0.0641641509958219,\n",
       " 'alcoholdrinking=yes': -0.27546998577993365,\n",
       " 'asthma=no': -0.31915830446137583,\n",
       " 'asthma=yes': -0.020475832314168753,\n",
       " 'bmi': 0.008524129319718623,\n",
       " 'diabetic=no': -0.29004523268205396,\n",
       " 'diabetic=no, borderline diabetes': -0.14092089897659976,\n",
       " 'diabetic=yes': 0.18749068841247893,\n",
       " 'diabetic=yes (during pregnancy)': -0.09615869352832675,\n",
       " 'diffwalking=no': -0.27376945401467584,\n",
       " 'diffwalking=yes': -0.06586468276008772,\n",
       " 'genhealth=excellent': -1.0408708472655546,\n",
       " 'genhealth=fair': 0.4610954555477807,\n",
       " 'genhealth=good': -0.02696142801837863,\n",
       " 'genhealth=poor': 0.82947673467117,\n",
       " 'genhealth=very good': -0.5623740517088723,\n",
       " 'kidneydisease=no': -0.4424542769397792,\n",
       " 'kidneydisease=yes': 0.10282014016512636,\n",
       " 'mentalhealth': 0.004332165718336041,\n",
       " 'physicalactivity=no': -0.16811847771098273,\n",
       " 'physicalactivity=yes': -0.17151565906464922,\n",
       " 'physicalhealth': 0.003202411849769204,\n",
       " 'race=american indian/alaskan native': 0.17544194711833702,\n",
       " 'race=asian': -0.3651788032021596,\n",
       " 'race=black': -0.1973506676606628,\n",
       " 'race=hispanic': -0.12304026988170677,\n",
       " 'race=other': 0.08937154517304062,\n",
       " 'race=white': 0.08112211167824872,\n",
       " 'sex=female': -0.52646251569602,\n",
       " 'sex=male': 0.18682837892021703,\n",
       " 'skincancer=no': -0.22490913036740756,\n",
       " 'skincancer=yes': -0.11472500640881578,\n",
       " 'sleeptime': -0.029925867898159365,\n",
       " 'smoking=no': -0.3460996911659757,\n",
       " 'smoking=yes': 0.006465554389379253,\n",
       " 'stroke=no': -0.7116802341456264,\n",
       " 'stroke=yes': 0.37204609737021527}"
      ]
     },
     "execution_count": 197,
     "metadata": {},
     "output_type": "execute_result"
    }
   ],
   "source": [
    "dict(zip(dv.get_feature_names_out(), model.coef_[0]))"
   ]
  },
  {
   "cell_type": "code",
   "execution_count": 198,
   "id": "25f3ebf7",
   "metadata": {},
   "outputs": [],
   "source": [
    "y_pred = model.predict_proba(X_val)[:, 1]"
   ]
  },
  {
   "cell_type": "code",
   "execution_count": 199,
   "id": "cb34aa83",
   "metadata": {},
   "outputs": [
    {
     "data": {
      "text/plain": [
       "0.915"
      ]
     },
     "execution_count": 199,
     "metadata": {},
     "output_type": "execute_result"
    }
   ],
   "source": [
    "accuracy_score(y_val, y_pred >= 0.5).round(3)"
   ]
  },
  {
   "cell_type": "markdown",
   "id": "772ed3f2",
   "metadata": {},
   "source": [
    "We have an **accuracy score of 91.4%**"
   ]
  },
  {
   "cell_type": "code",
   "execution_count": 200,
   "id": "0dd229d8",
   "metadata": {},
   "outputs": [],
   "source": [
    "fpr, tpr, thresholds = roc_curve(y_val, y_pred)"
   ]
  },
  {
   "cell_type": "code",
   "execution_count": 201,
   "id": "8f94d5c4",
   "metadata": {},
   "outputs": [
    {
     "data": {
      "text/plain": [
       "<matplotlib.legend.Legend at 0x226f6d85cc8>"
      ]
     },
     "execution_count": 201,
     "metadata": {},
     "output_type": "execute_result"
    },
    {
     "data": {
      "image/png": "[encoded data removed]",
      "text/plain": [
       "<Figure size 360x360 with 1 Axes>"
      ]
     },
     "metadata": {
      "needs_background": "light"
     },
     "output_type": "display_data"
    }
   ],
   "source": [
    "plt.figure(figsize=(5,5))\n",
    "\n",
    "plt.plot(fpr, tpr, label='model')\n",
    "plt.plot([0,1], [0,1], label='random', linestyle='--')\n",
    "\n",
    "plt.xlabel('FPR')\n",
    "plt.ylabel('TPR')\n",
    "\n",
    "plt.legend()"
   ]
  },
  {
   "cell_type": "code",
   "execution_count": 202,
   "id": "936ef43c",
   "metadata": {},
   "outputs": [
    {
     "data": {
      "text/plain": [
       "0.8405355265915435"
      ]
     },
     "execution_count": 202,
     "metadata": {},
     "output_type": "execute_result"
    }
   ],
   "source": [
    "roc_auc_score(y_val, y_pred)"
   ]
  },
  {
   "cell_type": "markdown",
   "id": "0e3d4a5e",
   "metadata": {},
   "source": [
    "And also just for our basic model we have an **AUC score of 84%**"
   ]
  },
  {
   "cell_type": "markdown",
   "id": "b0545d33",
   "metadata": {},
   "source": [
    "### Building a Decision Tree Classifier\n",
    "\n",
    "After using our logistic regression model, we get a score of 84%. Next, I'm trying to see if I can achieve an even higher performance"
   ]
  },
  {
   "cell_type": "code",
   "execution_count": 203,
   "id": "e3b32871",
   "metadata": {},
   "outputs": [],
   "source": [
    "train_dicts = df_train.to_dict(orient='records')\n",
    "dv = DictVectorizer(sparse=False)\n",
    "X_train = dv.fit_transform(train_dicts)\n",
    "\n",
    "val_dicts = df_val.to_dict(orient='records')\n",
    "X_val = dv.transform(val_dicts)"
   ]
  },
  {
   "cell_type": "code",
   "execution_count": 204,
   "id": "e8884885",
   "metadata": {},
   "outputs": [
    {
     "data": {
      "text/plain": [
       "DecisionTreeClassifier()"
      ]
     },
     "execution_count": 204,
     "metadata": {},
     "output_type": "execute_result"
    }
   ],
   "source": [
    "dt = DecisionTreeClassifier()\n",
    "dt.fit(X_train, y_train)"
   ]
  },
  {
   "cell_type": "code",
   "execution_count": 205,
   "id": "8ca9dec9",
   "metadata": {},
   "outputs": [
    {
     "data": {
      "text/plain": [
       "0.5845703105843942"
      ]
     },
     "execution_count": 205,
     "metadata": {},
     "output_type": "execute_result"
    }
   ],
   "source": [
    "y_pred = dt.predict_proba(X_val)[:, 1]\n",
    "roc_auc_score(y_val, y_pred)"
   ]
  },
  {
   "cell_type": "markdown",
   "id": "d4a3c228",
   "metadata": {},
   "source": [
    "A lower auc score compared to the **LogisticRegression** Model"
   ]
  },
  {
   "cell_type": "code",
   "execution_count": 206,
   "id": "510e01f5",
   "metadata": {},
   "outputs": [
    {
     "data": {
      "text/plain": [
       "0.9999477307964958"
      ]
     },
     "execution_count": 206,
     "metadata": {},
     "output_type": "execute_result"
    }
   ],
   "source": [
    "y_pred = dt.predict_proba(X_train)[:, 1]\n",
    "roc_auc_score(y_train, y_pred)"
   ]
  },
  {
   "cell_type": "markdown",
   "id": "5f063ab1",
   "metadata": {},
   "source": [
    "We can see that the model is overfitting here hence the bad performance on the validation dataset.\n",
    "I will try reducing the **depth** of the tree"
   ]
  },
  {
   "cell_type": "code",
   "execution_count": 207,
   "id": "58d8b9f1",
   "metadata": {},
   "outputs": [
    {
     "data": {
      "text/plain": [
       "DecisionTreeClassifier(max_depth=9)"
      ]
     },
     "execution_count": 207,
     "metadata": {},
     "output_type": "execute_result"
    }
   ],
   "source": [
    "# restrict depth search\n",
    "dt = DecisionTreeClassifier(max_depth=9)\n",
    "dt.fit(X_train, y_train)"
   ]
  },
  {
   "cell_type": "code",
   "execution_count": 208,
   "id": "283049a5",
   "metadata": {},
   "outputs": [
    {
     "name": "stdout",
     "output_type": "stream",
     "text": [
      "train: 0.8231927382843013\n",
      "val: 0.8089674727760303\n"
     ]
    }
   ],
   "source": [
    "y_pred = dt.predict_proba(X_train)[:, 1]\n",
    "auc = roc_auc_score(y_train, y_pred)\n",
    "print('train:', auc)\n",
    "\n",
    "y_pred = dt.predict_proba(X_val)[:, 1]\n",
    "auc = roc_auc_score(y_val, y_pred)\n",
    "print('val:', auc)"
   ]
  },
  {
   "cell_type": "code",
   "execution_count": 209,
   "id": "86cf7ba9",
   "metadata": {
    "collapsed": true
   },
   "outputs": [
    {
     "name": "stdout",
     "output_type": "stream",
     "text": [
      "|--- stroke=yes <= 0.50\n",
      "|   |--- diffwalking=no <= 0.50\n",
      "|   |   |--- diabetic=yes <= 0.50\n",
      "|   |   |   |--- agecategory=80 or older <= 0.50\n",
      "|   |   |   |   |--- genhealth=poor <= 0.50\n",
      "|   |   |   |   |   |--- genhealth=fair <= 0.50\n",
      "|   |   |   |   |   |   |--- agecategory=75-79 <= 0.50\n",
      "|   |   |   |   |   |   |   |--- agecategory=70-74 <= 0.50\n",
      "|   |   |   |   |   |   |   |   |--- smoking=yes <= 0.50\n",
      "|   |   |   |   |   |   |   |   |   |--- class: 0\n",
      "|   |   |   |   |   |   |   |   |--- smoking=yes >  0.50\n",
      "|   |   |   |   |   |   |   |   |   |--- class: 0\n",
      "|   |   |   |   |   |   |   |--- agecategory=70-74 >  0.50\n",
      "|   |   |   |   |   |   |   |   |--- sex=female <= 0.50\n",
      "|   |   |   |   |   |   |   |   |   |--- class: 0\n",
      "|   |   |   |   |   |   |   |   |--- sex=female >  0.50\n",
      "|   |   |   |   |   |   |   |   |   |--- class: 0\n",
      "|   |   |   |   |   |   |--- agecategory=75-79 >  0.50\n",
      "|   |   |   |   |   |   |   |--- sex=male <= 0.50\n",
      "|   |   |   |   |   |   |   |   |--- kidneydisease=yes <= 0.50\n",
      "|   |   |   |   |   |   |   |   |   |--- class: 0\n",
      "|   |   |   |   |   |   |   |   |--- kidneydisease=yes >  0.50\n",
      "|   |   |   |   |   |   |   |   |   |--- class: 0\n",
      "|   |   |   |   |   |   |   |--- sex=male >  0.50\n",
      "|   |   |   |   |   |   |   |   |--- race=white <= 0.50\n",
      "|   |   |   |   |   |   |   |   |   |--- class: 0\n",
      "|   |   |   |   |   |   |   |   |--- race=white >  0.50\n",
      "|   |   |   |   |   |   |   |   |   |--- class: 0\n",
      "|   |   |   |   |   |--- genhealth=fair >  0.50\n",
      "|   |   |   |   |   |   |--- agecategory=75-79 <= 0.50\n",
      "|   |   |   |   |   |   |   |--- smoking=no <= 0.50\n",
      "|   |   |   |   |   |   |   |   |--- agecategory=70-74 <= 0.50\n",
      "|   |   |   |   |   |   |   |   |   |--- class: 0\n",
      "|   |   |   |   |   |   |   |   |--- agecategory=70-74 >  0.50\n",
      "|   |   |   |   |   |   |   |   |   |--- class: 0\n",
      "|   |   |   |   |   |   |   |--- smoking=no >  0.50\n",
      "|   |   |   |   |   |   |   |   |--- kidneydisease=yes <= 0.50\n",
      "|   |   |   |   |   |   |   |   |   |--- class: 0\n",
      "|   |   |   |   |   |   |   |   |--- kidneydisease=yes >  0.50\n",
      "|   |   |   |   |   |   |   |   |   |--- class: 0\n",
      "|   |   |   |   |   |   |--- agecategory=75-79 >  0.50\n",
      "|   |   |   |   |   |   |   |--- bmi <= 33.93\n",
      "|   |   |   |   |   |   |   |   |--- sex=male <= 0.50\n",
      "|   |   |   |   |   |   |   |   |   |--- class: 0\n",
      "|   |   |   |   |   |   |   |   |--- sex=male >  0.50\n",
      "|   |   |   |   |   |   |   |   |   |--- class: 0\n",
      "|   |   |   |   |   |   |   |--- bmi >  33.93\n",
      "|   |   |   |   |   |   |   |   |--- race=black <= 0.50\n",
      "|   |   |   |   |   |   |   |   |   |--- class: 0\n",
      "|   |   |   |   |   |   |   |   |--- race=black >  0.50\n",
      "|   |   |   |   |   |   |   |   |   |--- class: 1\n",
      "|   |   |   |   |--- genhealth=poor >  0.50\n",
      "|   |   |   |   |   |--- kidneydisease=no <= 0.50\n",
      "|   |   |   |   |   |   |--- skincancer=no <= 0.50\n",
      "|   |   |   |   |   |   |   |--- bmi <= 21.39\n",
      "|   |   |   |   |   |   |   |   |--- class: 0\n",
      "|   |   |   |   |   |   |   |--- bmi >  21.39\n",
      "|   |   |   |   |   |   |   |   |--- smoking=yes <= 0.50\n",
      "|   |   |   |   |   |   |   |   |   |--- class: 0\n",
      "|   |   |   |   |   |   |   |   |--- smoking=yes >  0.50\n",
      "|   |   |   |   |   |   |   |   |   |--- class: 1\n",
      "|   |   |   |   |   |   |--- skincancer=no >  0.50\n",
      "|   |   |   |   |   |   |   |--- agecategory=75-79 <= 0.50\n",
      "|   |   |   |   |   |   |   |   |--- physicalhealth <= 13.00\n",
      "|   |   |   |   |   |   |   |   |   |--- class: 1\n",
      "|   |   |   |   |   |   |   |   |--- physicalhealth >  13.00\n",
      "|   |   |   |   |   |   |   |   |   |--- class: 0\n",
      "|   |   |   |   |   |   |   |--- agecategory=75-79 >  0.50\n",
      "|   |   |   |   |   |   |   |   |--- physicalactivity=yes <= 0.50\n",
      "|   |   |   |   |   |   |   |   |   |--- class: 1\n",
      "|   |   |   |   |   |   |   |   |--- physicalactivity=yes >  0.50\n",
      "|   |   |   |   |   |   |   |   |   |--- class: 0\n",
      "|   |   |   |   |   |--- kidneydisease=no >  0.50\n",
      "|   |   |   |   |   |   |--- sex=male <= 0.50\n",
      "|   |   |   |   |   |   |   |--- agecategory=75-79 <= 0.50\n",
      "|   |   |   |   |   |   |   |   |--- agecategory=70-74 <= 0.50\n",
      "|   |   |   |   |   |   |   |   |   |--- class: 0\n",
      "|   |   |   |   |   |   |   |   |--- agecategory=70-74 >  0.50\n",
      "|   |   |   |   |   |   |   |   |   |--- class: 0\n",
      "|   |   |   |   |   |   |   |--- agecategory=75-79 >  0.50\n",
      "|   |   |   |   |   |   |   |   |--- race=other <= 0.50\n",
      "|   |   |   |   |   |   |   |   |   |--- class: 0\n",
      "|   |   |   |   |   |   |   |   |--- race=other >  0.50\n",
      "|   |   |   |   |   |   |   |   |   |--- class: 1\n",
      "|   |   |   |   |   |   |--- sex=male >  0.50\n",
      "|   |   |   |   |   |   |   |--- race=white <= 0.50\n",
      "|   |   |   |   |   |   |   |   |--- bmi <= 35.38\n",
      "|   |   |   |   |   |   |   |   |   |--- class: 0\n",
      "|   |   |   |   |   |   |   |   |--- bmi >  35.38\n",
      "|   |   |   |   |   |   |   |   |   |--- class: 0\n",
      "|   |   |   |   |   |   |   |--- race=white >  0.50\n",
      "|   |   |   |   |   |   |   |   |--- agecategory=65-69 <= 0.50\n",
      "|   |   |   |   |   |   |   |   |   |--- class: 0\n",
      "|   |   |   |   |   |   |   |   |--- agecategory=65-69 >  0.50\n",
      "|   |   |   |   |   |   |   |   |   |--- class: 0\n",
      "|   |   |   |--- agecategory=80 or older >  0.50\n",
      "|   |   |   |   |--- sex=female <= 0.50\n",
      "|   |   |   |   |   |--- physicalhealth <= 15.50\n",
      "|   |   |   |   |   |   |--- bmi <= 24.55\n",
      "|   |   |   |   |   |   |   |--- physicalhealth <= 12.00\n",
      "|   |   |   |   |   |   |   |   |--- physicalactivity=no <= 0.50\n",
      "|   |   |   |   |   |   |   |   |   |--- class: 0\n",
      "|   |   |   |   |   |   |   |   |--- physicalactivity=no >  0.50\n",
      "|   |   |   |   |   |   |   |   |   |--- class: 0\n",
      "|   |   |   |   |   |   |   |--- physicalhealth >  12.00\n",
      "|   |   |   |   |   |   |   |   |--- genhealth=good <= 0.50\n",
      "|   |   |   |   |   |   |   |   |   |--- class: 1\n",
      "|   |   |   |   |   |   |   |   |--- genhealth=good >  0.50\n",
      "|   |   |   |   |   |   |   |   |   |--- class: 0\n",
      "|   |   |   |   |   |   |--- bmi >  24.55\n",
      "|   |   |   |   |   |   |   |--- mentalhealth <= 4.50\n",
      "|   |   |   |   |   |   |   |   |--- genhealth=very good <= 0.50\n",
      "|   |   |   |   |   |   |   |   |   |--- class: 0\n",
      "|   |   |   |   |   |   |   |   |--- genhealth=very good >  0.50\n",
      "|   |   |   |   |   |   |   |   |   |--- class: 0\n",
      "|   |   |   |   |   |   |   |--- mentalhealth >  4.50\n",
      "|   |   |   |   |   |   |   |   |--- bmi <= 25.10\n",
      "|   |   |   |   |   |   |   |   |   |--- class: 1\n",
      "|   |   |   |   |   |   |   |   |--- bmi >  25.10\n",
      "|   |   |   |   |   |   |   |   |   |--- class: 0\n",
      "|   |   |   |   |   |--- physicalhealth >  15.50\n",
      "|   |   |   |   |   |   |--- physicalhealth <= 24.00\n",
      "|   |   |   |   |   |   |   |--- sleeptime <= 7.50\n",
      "|   |   |   |   |   |   |   |   |--- genhealth=very good <= 0.50\n",
      "|   |   |   |   |   |   |   |   |   |--- class: 0\n",
      "|   |   |   |   |   |   |   |   |--- genhealth=very good >  0.50\n",
      "|   |   |   |   |   |   |   |   |   |--- class: 0\n",
      "|   |   |   |   |   |   |   |--- sleeptime >  7.50\n",
      "|   |   |   |   |   |   |   |   |--- genhealth=very good <= 0.50\n",
      "|   |   |   |   |   |   |   |   |   |--- class: 1\n",
      "|   |   |   |   |   |   |   |   |--- genhealth=very good >  0.50\n",
      "|   |   |   |   |   |   |   |   |   |--- class: 0\n",
      "|   |   |   |   |   |   |--- physicalhealth >  24.00\n",
      "|   |   |   |   |   |   |   |--- genhealth=good <= 0.50\n",
      "|   |   |   |   |   |   |   |   |--- mentalhealth <= 6.50\n",
      "|   |   |   |   |   |   |   |   |   |--- class: 0\n",
      "|   |   |   |   |   |   |   |   |--- mentalhealth >  6.50\n",
      "|   |   |   |   |   |   |   |   |   |--- class: 0\n",
      "|   |   |   |   |   |   |   |--- genhealth=good >  0.50\n",
      "|   |   |   |   |   |   |   |   |--- smoking=no <= 0.50\n",
      "|   |   |   |   |   |   |   |   |   |--- class: 0\n",
      "|   |   |   |   |   |   |   |   |--- smoking=no >  0.50\n",
      "|   |   |   |   |   |   |   |   |   |--- class: 0\n",
      "|   |   |   |   |--- sex=female >  0.50\n",
      "|   |   |   |   |   |--- genhealth=poor <= 0.50\n",
      "|   |   |   |   |   |   |--- genhealth=fair <= 0.50\n",
      "|   |   |   |   |   |   |   |--- genhealth=good <= 0.50\n",
      "|   |   |   |   |   |   |   |   |--- physicalhealth <= 2.50\n",
      "|   |   |   |   |   |   |   |   |   |--- class: 0\n",
      "|   |   |   |   |   |   |   |   |--- physicalhealth >  2.50\n",
      "|   |   |   |   |   |   |   |   |   |--- class: 0\n",
      "|   |   |   |   |   |   |   |--- genhealth=good >  0.50\n",
      "|   |   |   |   |   |   |   |   |--- bmi <= 22.77\n",
      "|   |   |   |   |   |   |   |   |   |--- class: 0\n",
      "|   |   |   |   |   |   |   |   |--- bmi >  22.77\n",
      "|   |   |   |   |   |   |   |   |   |--- class: 0\n",
      "|   |   |   |   |   |   |--- genhealth=fair >  0.50\n",
      "|   |   |   |   |   |   |   |--- bmi <= 48.03\n",
      "|   |   |   |   |   |   |   |   |--- kidneydisease=yes <= 0.50\n",
      "|   |   |   |   |   |   |   |   |   |--- class: 0\n",
      "|   |   |   |   |   |   |   |   |--- kidneydisease=yes >  0.50\n",
      "|   |   |   |   |   |   |   |   |   |--- class: 0\n",
      "|   |   |   |   |   |   |   |--- bmi >  48.03\n",
      "|   |   |   |   |   |   |   |   |--- class: 1\n",
      "|   |   |   |   |   |--- genhealth=poor >  0.50\n",
      "|   |   |   |   |   |   |--- sleeptime <= 6.50\n",
      "|   |   |   |   |   |   |   |--- physicalactivity=no <= 0.50\n",
      "|   |   |   |   |   |   |   |   |--- bmi <= 20.60\n",
      "|   |   |   |   |   |   |   |   |   |--- class: 0\n",
      "|   |   |   |   |   |   |   |   |--- bmi >  20.60\n",
      "|   |   |   |   |   |   |   |   |   |--- class: 0\n",
      "|   |   |   |   |   |   |   |--- physicalactivity=no >  0.50\n",
      "|   |   |   |   |   |   |   |   |--- race=hispanic <= 0.50\n",
      "|   |   |   |   |   |   |   |   |   |--- class: 1\n",
      "|   |   |   |   |   |   |   |   |--- race=hispanic >  0.50\n",
      "|   |   |   |   |   |   |   |   |   |--- class: 0\n",
      "|   |   |   |   |   |   |--- sleeptime >  6.50\n",
      "|   |   |   |   |   |   |   |--- bmi <= 24.15\n",
      "|   |   |   |   |   |   |   |   |--- bmi <= 22.90\n",
      "|   |   |   |   |   |   |   |   |   |--- class: 0\n",
      "|   |   |   |   |   |   |   |   |--- bmi >  22.90\n",
      "|   |   |   |   |   |   |   |   |   |--- class: 1\n",
      "|   |   |   |   |   |   |   |--- bmi >  24.15\n",
      "|   |   |   |   |   |   |   |   |--- bmi <= 45.37\n",
      "|   |   |   |   |   |   |   |   |   |--- class: 0\n",
      "|   |   |   |   |   |   |   |   |--- bmi >  45.37\n",
      "|   |   |   |   |   |   |   |   |   |--- class: 1\n",
      "|   |   |--- diabetic=yes >  0.50\n",
      "|   |   |   |--- genhealth=poor <= 0.50\n",
      "|   |   |   |   |--- kidneydisease=no <= 0.50\n",
      "|   |   |   |   |   |--- sex=female <= 0.50\n",
      "|   |   |   |   |   |   |--- sleeptime <= 5.50\n",
      "|   |   |   |   |   |   |   |--- bmi <= 30.33\n",
      "|   |   |   |   |   |   |   |   |--- bmi <= 27.01\n",
      "|   |   |   |   |   |   |   |   |   |--- class: 1\n",
      "|   |   |   |   |   |   |   |   |--- bmi >  27.01\n",
      "|   |   |   |   |   |   |   |   |   |--- class: 0\n",
      "|   |   |   |   |   |   |   |--- bmi >  30.33\n",
      "|   |   |   |   |   |   |   |   |--- mentalhealth <= 28.00\n",
      "|   |   |   |   |   |   |   |   |   |--- class: 1\n",
      "|   |   |   |   |   |   |   |   |--- mentalhealth >  28.00\n",
      "|   |   |   |   |   |   |   |   |   |--- class: 0\n",
      "|   |   |   |   |   |   |--- sleeptime >  5.50\n",
      "|   |   |   |   |   |   |   |--- race=white <= 0.50\n",
      "|   |   |   |   |   |   |   |   |--- agecategory=80 or older <= 0.50\n",
      "|   |   |   |   |   |   |   |   |   |--- class: 0\n",
      "|   |   |   |   |   |   |   |   |--- agecategory=80 or older >  0.50\n",
      "|   |   |   |   |   |   |   |   |   |--- class: 1\n",
      "|   |   |   |   |   |   |   |--- race=white >  0.50\n",
      "|   |   |   |   |   |   |   |   |--- bmi <= 24.58\n",
      "|   |   |   |   |   |   |   |   |   |--- class: 1\n",
      "|   |   |   |   |   |   |   |   |--- bmi >  24.58\n",
      "|   |   |   |   |   |   |   |   |   |--- class: 0\n",
      "|   |   |   |   |   |--- sex=female >  0.50\n",
      "|   |   |   |   |   |   |--- sleeptime <= 2.50\n",
      "|   |   |   |   |   |   |   |--- class: 1\n",
      "|   |   |   |   |   |   |--- sleeptime >  2.50\n",
      "|   |   |   |   |   |   |   |--- bmi <= 21.12\n",
      "|   |   |   |   |   |   |   |   |--- class: 0\n",
      "|   |   |   |   |   |   |   |--- bmi >  21.12\n",
      "|   |   |   |   |   |   |   |   |--- sleeptime <= 6.50\n",
      "|   |   |   |   |   |   |   |   |   |--- class: 0\n",
      "|   |   |   |   |   |   |   |   |--- sleeptime >  6.50\n",
      "|   |   |   |   |   |   |   |   |   |--- class: 0\n",
      "|   |   |   |   |--- kidneydisease=no >  0.50\n",
      "|   |   |   |   |   |--- sex=male <= 0.50\n",
      "|   |   |   |   |   |   |--- genhealth=fair <= 0.50\n",
      "|   |   |   |   |   |   |   |--- agecategory=80 or older <= 0.50\n",
      "|   |   |   |   |   |   |   |   |--- mentalhealth <= 13.00\n",
      "|   |   |   |   |   |   |   |   |   |--- class: 0\n",
      "|   |   |   |   |   |   |   |   |--- mentalhealth >  13.00\n",
      "|   |   |   |   |   |   |   |   |   |--- class: 0\n",
      "|   |   |   |   |   |   |   |--- agecategory=80 or older >  0.50\n",
      "|   |   |   |   |   |   |   |   |--- sleeptime <= 17.00\n",
      "|   |   |   |   |   |   |   |   |   |--- class: 0\n",
      "|   |   |   |   |   |   |   |   |--- sleeptime >  17.00\n",
      "|   |   |   |   |   |   |   |   |   |--- class: 1\n",
      "|   |   |   |   |   |   |--- genhealth=fair >  0.50\n",
      "|   |   |   |   |   |   |   |--- bmi <= 28.93\n",
      "|   |   |   |   |   |   |   |   |--- asthma=no <= 0.50\n",
      "|   |   |   |   |   |   |   |   |   |--- class: 0\n",
      "|   |   |   |   |   |   |   |   |--- asthma=no >  0.50\n",
      "|   |   |   |   |   |   |   |   |   |--- class: 0\n",
      "|   |   |   |   |   |   |   |--- bmi >  28.93\n",
      "|   |   |   |   |   |   |   |   |--- bmi <= 29.29\n",
      "|   |   |   |   |   |   |   |   |   |--- class: 0\n",
      "|   |   |   |   |   |   |   |   |--- bmi >  29.29\n",
      "|   |   |   |   |   |   |   |   |   |--- class: 0\n",
      "|   |   |   |   |   |--- sex=male >  0.50\n",
      "|   |   |   |   |   |   |--- smoking=no <= 0.50\n",
      "|   |   |   |   |   |   |   |--- race=white <= 0.50\n",
      "|   |   |   |   |   |   |   |   |--- asthma=no <= 0.50\n",
      "|   |   |   |   |   |   |   |   |   |--- class: 0\n",
      "|   |   |   |   |   |   |   |   |--- asthma=no >  0.50\n",
      "|   |   |   |   |   |   |   |   |   |--- class: 0\n",
      "|   |   |   |   |   |   |   |--- race=white >  0.50\n",
      "|   |   |   |   |   |   |   |   |--- genhealth=fair <= 0.50\n",
      "|   |   |   |   |   |   |   |   |   |--- class: 0\n",
      "|   |   |   |   |   |   |   |   |--- genhealth=fair >  0.50\n",
      "|   |   |   |   |   |   |   |   |   |--- class: 0\n",
      "|   |   |   |   |   |   |--- smoking=no >  0.50\n",
      "|   |   |   |   |   |   |   |--- agecategory=80 or older <= 0.50\n",
      "|   |   |   |   |   |   |   |   |--- sleeptime <= 5.50\n",
      "|   |   |   |   |   |   |   |   |   |--- class: 0\n",
      "|   |   |   |   |   |   |   |   |--- sleeptime >  5.50\n",
      "|   |   |   |   |   |   |   |   |   |--- class: 0\n",
      "|   |   |   |   |   |   |   |--- agecategory=80 or older >  0.50\n",
      "|   |   |   |   |   |   |   |   |--- bmi <= 23.89\n",
      "|   |   |   |   |   |   |   |   |   |--- class: 0\n",
      "|   |   |   |   |   |   |   |   |--- bmi >  23.89\n",
      "|   |   |   |   |   |   |   |   |   |--- class: 0\n",
      "|   |   |   |--- genhealth=poor >  0.50\n",
      "|   |   |   |   |--- sex=male <= 0.50\n",
      "|   |   |   |   |   |--- agecategory=75-79 <= 0.50\n",
      "|   |   |   |   |   |   |--- race=white <= 0.50\n",
      "|   |   |   |   |   |   |   |--- bmi <= 19.85\n",
      "|   |   |   |   |   |   |   |   |--- mentalhealth <= 10.50\n",
      "|   |   |   |   |   |   |   |   |   |--- class: 0\n",
      "|   |   |   |   |   |   |   |   |--- mentalhealth >  10.50\n",
      "|   |   |   |   |   |   |   |   |   |--- class: 1\n",
      "|   |   |   |   |   |   |   |--- bmi >  19.85\n",
      "|   |   |   |   |   |   |   |   |--- bmi <= 32.00\n",
      "|   |   |   |   |   |   |   |   |   |--- class: 0\n",
      "|   |   |   |   |   |   |   |   |--- bmi >  32.00\n",
      "|   |   |   |   |   |   |   |   |   |--- class: 0\n",
      "|   |   |   |   |   |   |--- race=white >  0.50\n",
      "|   |   |   |   |   |   |   |--- mentalhealth <= 21.50\n",
      "|   |   |   |   |   |   |   |   |--- bmi <= 59.20\n",
      "|   |   |   |   |   |   |   |   |   |--- class: 0\n",
      "|   |   |   |   |   |   |   |   |--- bmi >  59.20\n",
      "|   |   |   |   |   |   |   |   |   |--- class: 0\n",
      "|   |   |   |   |   |   |   |--- mentalhealth >  21.50\n",
      "|   |   |   |   |   |   |   |   |--- physicalhealth <= 29.50\n",
      "|   |   |   |   |   |   |   |   |   |--- class: 0\n",
      "|   |   |   |   |   |   |   |   |--- physicalhealth >  29.50\n",
      "|   |   |   |   |   |   |   |   |   |--- class: 0\n",
      "|   |   |   |   |   |--- agecategory=75-79 >  0.50\n",
      "|   |   |   |   |   |   |--- bmi <= 34.92\n",
      "|   |   |   |   |   |   |   |--- kidneydisease=no <= 0.50\n",
      "|   |   |   |   |   |   |   |   |--- race=american indian/alaskan native <= 0.50\n",
      "|   |   |   |   |   |   |   |   |   |--- class: 1\n",
      "|   |   |   |   |   |   |   |   |--- race=american indian/alaskan native >  0.50\n",
      "|   |   |   |   |   |   |   |   |   |--- class: 0\n",
      "|   |   |   |   |   |   |   |--- kidneydisease=no >  0.50\n",
      "|   |   |   |   |   |   |   |   |--- mentalhealth <= 14.50\n",
      "|   |   |   |   |   |   |   |   |   |--- class: 1\n",
      "|   |   |   |   |   |   |   |   |--- mentalhealth >  14.50\n",
      "|   |   |   |   |   |   |   |   |   |--- class: 0\n",
      "|   |   |   |   |   |   |--- bmi >  34.92\n",
      "|   |   |   |   |   |   |   |--- sleeptime <= 7.50\n",
      "|   |   |   |   |   |   |   |   |--- bmi <= 36.71\n",
      "|   |   |   |   |   |   |   |   |   |--- class: 0\n",
      "|   |   |   |   |   |   |   |   |--- bmi >  36.71\n",
      "|   |   |   |   |   |   |   |   |   |--- class: 1\n",
      "|   |   |   |   |   |   |   |--- sleeptime >  7.50\n",
      "|   |   |   |   |   |   |   |   |--- bmi <= 36.45\n",
      "|   |   |   |   |   |   |   |   |   |--- class: 0\n",
      "|   |   |   |   |   |   |   |   |--- bmi >  36.45\n",
      "|   |   |   |   |   |   |   |   |   |--- class: 0\n",
      "|   |   |   |   |--- sex=male >  0.50\n",
      "|   |   |   |   |   |--- race=white <= 0.50\n",
      "|   |   |   |   |   |   |--- physicalhealth <= 29.50\n",
      "|   |   |   |   |   |   |   |--- bmi <= 33.59\n",
      "|   |   |   |   |   |   |   |   |--- bmi <= 32.10\n",
      "|   |   |   |   |   |   |   |   |   |--- class: 0\n",
      "|   |   |   |   |   |   |   |   |--- bmi >  32.10\n",
      "|   |   |   |   |   |   |   |   |   |--- class: 0\n",
      "|   |   |   |   |   |   |   |--- bmi >  33.59\n",
      "|   |   |   |   |   |   |   |   |--- bmi <= 39.66\n",
      "|   |   |   |   |   |   |   |   |   |--- class: 1\n",
      "|   |   |   |   |   |   |   |   |--- bmi >  39.66\n",
      "|   |   |   |   |   |   |   |   |   |--- class: 0\n",
      "|   |   |   |   |   |   |--- physicalhealth >  29.50\n",
      "|   |   |   |   |   |   |   |--- mentalhealth <= 17.50\n",
      "|   |   |   |   |   |   |   |   |--- asthma=no <= 0.50\n",
      "|   |   |   |   |   |   |   |   |   |--- class: 0\n",
      "|   |   |   |   |   |   |   |   |--- asthma=no >  0.50\n",
      "|   |   |   |   |   |   |   |   |   |--- class: 0\n",
      "|   |   |   |   |   |   |   |--- mentalhealth >  17.50\n",
      "|   |   |   |   |   |   |   |   |--- sleeptime <= 5.50\n",
      "|   |   |   |   |   |   |   |   |   |--- class: 1\n",
      "|   |   |   |   |   |   |   |   |--- sleeptime >  5.50\n",
      "|   |   |   |   |   |   |   |   |   |--- class: 0\n",
      "|   |   |   |   |   |--- race=white >  0.50\n",
      "|   |   |   |   |   |   |--- bmi <= 18.92\n",
      "|   |   |   |   |   |   |   |--- class: 0\n",
      "|   |   |   |   |   |   |--- bmi >  18.92\n",
      "|   |   |   |   |   |   |   |--- agecategory=40-44 <= 0.50\n",
      "|   |   |   |   |   |   |   |   |--- smoking=no <= 0.50\n",
      "|   |   |   |   |   |   |   |   |   |--- class: 1\n",
      "|   |   |   |   |   |   |   |   |--- smoking=no >  0.50\n",
      "|   |   |   |   |   |   |   |   |   |--- class: 0\n",
      "|   |   |   |   |   |   |   |--- agecategory=40-44 >  0.50\n",
      "|   |   |   |   |   |   |   |   |--- bmi <= 43.12\n",
      "|   |   |   |   |   |   |   |   |   |--- class: 0\n",
      "|   |   |   |   |   |   |   |   |--- bmi >  43.12\n",
      "|   |   |   |   |   |   |   |   |   |--- class: 1\n",
      "|   |--- diffwalking=no >  0.50\n",
      "|   |   |--- diabetic=yes <= 0.50\n",
      "|   |   |   |--- agecategory=80 or older <= 0.50\n",
      "|   |   |   |   |--- agecategory=75-79 <= 0.50\n",
      "|   |   |   |   |   |--- agecategory=70-74 <= 0.50\n",
      "|   |   |   |   |   |   |--- agecategory=65-69 <= 0.50\n",
      "|   |   |   |   |   |   |   |--- agecategory=60-64 <= 0.50\n",
      "|   |   |   |   |   |   |   |   |--- genhealth=fair <= 0.50\n",
      "|   |   |   |   |   |   |   |   |   |--- class: 0\n",
      "|   |   |   |   |   |   |   |   |--- genhealth=fair >  0.50\n",
      "|   |   |   |   |   |   |   |   |   |--- class: 0\n",
      "|   |   |   |   |   |   |   |--- agecategory=60-64 >  0.50\n",
      "|   |   |   |   |   |   |   |   |--- sex=male <= 0.50\n",
      "|   |   |   |   |   |   |   |   |   |--- class: 0\n",
      "|   |   |   |   |   |   |   |   |--- sex=male >  0.50\n",
      "|   |   |   |   |   |   |   |   |   |--- class: 0\n",
      "|   |   |   |   |   |   |--- agecategory=65-69 >  0.50\n",
      "|   |   |   |   |   |   |   |--- sex=female <= 0.50\n",
      "|   |   |   |   |   |   |   |   |--- genhealth=fair <= 0.50\n",
      "|   |   |   |   |   |   |   |   |   |--- class: 0\n",
      "|   |   |   |   |   |   |   |   |--- genhealth=fair >  0.50\n",
      "|   |   |   |   |   |   |   |   |   |--- class: 0\n",
      "|   |   |   |   |   |   |   |--- sex=female >  0.50\n",
      "|   |   |   |   |   |   |   |   |--- genhealth=fair <= 0.50\n",
      "|   |   |   |   |   |   |   |   |   |--- class: 0\n",
      "|   |   |   |   |   |   |   |   |--- genhealth=fair >  0.50\n",
      "|   |   |   |   |   |   |   |   |   |--- class: 0\n",
      "|   |   |   |   |   |--- agecategory=70-74 >  0.50\n",
      "|   |   |   |   |   |   |--- sex=male <= 0.50\n",
      "|   |   |   |   |   |   |   |--- genhealth=fair <= 0.50\n",
      "|   |   |   |   |   |   |   |   |--- genhealth=poor <= 0.50\n",
      "|   |   |   |   |   |   |   |   |   |--- class: 0\n",
      "|   |   |   |   |   |   |   |   |--- genhealth=poor >  0.50\n",
      "|   |   |   |   |   |   |   |   |   |--- class: 0\n",
      "|   |   |   |   |   |   |   |--- genhealth=fair >  0.50\n",
      "|   |   |   |   |   |   |   |   |--- smoking=no <= 0.50\n",
      "|   |   |   |   |   |   |   |   |   |--- class: 0\n",
      "|   |   |   |   |   |   |   |   |--- smoking=no >  0.50\n",
      "|   |   |   |   |   |   |   |   |   |--- class: 0\n",
      "|   |   |   |   |   |   |--- sex=male >  0.50\n",
      "|   |   |   |   |   |   |   |--- genhealth=excellent <= 0.50\n",
      "|   |   |   |   |   |   |   |   |--- genhealth=very good <= 0.50\n",
      "|   |   |   |   |   |   |   |   |   |--- class: 0\n",
      "|   |   |   |   |   |   |   |   |--- genhealth=very good >  0.50\n",
      "|   |   |   |   |   |   |   |   |   |--- class: 0\n",
      "|   |   |   |   |   |   |   |--- genhealth=excellent >  0.50\n",
      "|   |   |   |   |   |   |   |   |--- smoking=no <= 0.50\n",
      "|   |   |   |   |   |   |   |   |   |--- class: 0\n",
      "|   |   |   |   |   |   |   |   |--- smoking=no >  0.50\n",
      "|   |   |   |   |   |   |   |   |   |--- class: 0\n",
      "|   |   |   |   |--- agecategory=75-79 >  0.50\n",
      "|   |   |   |   |   |--- sex=female <= 0.50\n",
      "|   |   |   |   |   |   |--- genhealth=excellent <= 0.50\n",
      "|   |   |   |   |   |   |   |--- genhealth=very good <= 0.50\n",
      "|   |   |   |   |   |   |   |   |--- race=white <= 0.50\n",
      "|   |   |   |   |   |   |   |   |   |--- class: 0\n",
      "|   |   |   |   |   |   |   |   |--- race=white >  0.50\n",
      "|   |   |   |   |   |   |   |   |   |--- class: 0\n",
      "|   |   |   |   |   |   |   |--- genhealth=very good >  0.50\n",
      "|   |   |   |   |   |   |   |   |--- physicalhealth <= 11.00\n",
      "|   |   |   |   |   |   |   |   |   |--- class: 0\n",
      "|   |   |   |   |   |   |   |   |--- physicalhealth >  11.00\n",
      "|   |   |   |   |   |   |   |   |   |--- class: 0\n",
      "|   |   |   |   |   |   |--- genhealth=excellent >  0.50\n",
      "|   |   |   |   |   |   |   |--- kidneydisease=yes <= 0.50\n",
      "|   |   |   |   |   |   |   |   |--- bmi <= 32.85\n",
      "|   |   |   |   |   |   |   |   |   |--- class: 0\n",
      "|   |   |   |   |   |   |   |   |--- bmi >  32.85\n",
      "|   |   |   |   |   |   |   |   |   |--- class: 0\n",
      "|   |   |   |   |   |   |   |--- kidneydisease=yes >  0.50\n",
      "|   |   |   |   |   |   |   |   |--- bmi <= 24.08\n",
      "|   |   |   |   |   |   |   |   |   |--- class: 1\n",
      "|   |   |   |   |   |   |   |   |--- bmi >  24.08\n",
      "|   |   |   |   |   |   |   |   |   |--- class: 0\n",
      "|   |   |   |   |   |--- sex=female >  0.50\n",
      "|   |   |   |   |   |   |--- genhealth=excellent <= 0.50\n",
      "|   |   |   |   |   |   |   |--- genhealth=very good <= 0.50\n",
      "|   |   |   |   |   |   |   |   |--- genhealth=good <= 0.50\n",
      "|   |   |   |   |   |   |   |   |   |--- class: 0\n",
      "|   |   |   |   |   |   |   |   |--- genhealth=good >  0.50\n",
      "|   |   |   |   |   |   |   |   |   |--- class: 0\n",
      "|   |   |   |   |   |   |   |--- genhealth=very good >  0.50\n",
      "|   |   |   |   |   |   |   |   |--- physicalhealth <= 29.50\n",
      "|   |   |   |   |   |   |   |   |   |--- class: 0\n",
      "|   |   |   |   |   |   |   |   |--- physicalhealth >  29.50\n",
      "|   |   |   |   |   |   |   |   |   |--- class: 0\n",
      "|   |   |   |   |   |   |--- genhealth=excellent >  0.50\n",
      "|   |   |   |   |   |   |   |--- physicalhealth <= 3.50\n",
      "|   |   |   |   |   |   |   |   |--- skincancer=yes <= 0.50\n",
      "|   |   |   |   |   |   |   |   |   |--- class: 0\n",
      "|   |   |   |   |   |   |   |   |--- skincancer=yes >  0.50\n",
      "|   |   |   |   |   |   |   |   |   |--- class: 0\n",
      "|   |   |   |   |   |   |   |--- physicalhealth >  3.50\n",
      "|   |   |   |   |   |   |   |   |--- sleeptime <= 9.50\n",
      "|   |   |   |   |   |   |   |   |   |--- class: 0\n",
      "|   |   |   |   |   |   |   |   |--- sleeptime >  9.50\n",
      "|   |   |   |   |   |   |   |   |   |--- class: 1\n",
      "|   |   |   |--- agecategory=80 or older >  0.50\n",
      "|   |   |   |   |--- sex=female <= 0.50\n",
      "|   |   |   |   |   |--- genhealth=fair <= 0.50\n",
      "|   |   |   |   |   |   |--- genhealth=good <= 0.50\n",
      "|   |   |   |   |   |   |   |--- kidneydisease=yes <= 0.50\n",
      "|   |   |   |   |   |   |   |   |--- genhealth=excellent <= 0.50\n",
      "|   |   |   |   |   |   |   |   |   |--- class: 0\n",
      "|   |   |   |   |   |   |   |   |--- genhealth=excellent >  0.50\n",
      "|   |   |   |   |   |   |   |   |   |--- class: 0\n",
      "|   |   |   |   |   |   |   |--- kidneydisease=yes >  0.50\n",
      "|   |   |   |   |   |   |   |   |--- bmi <= 23.96\n",
      "|   |   |   |   |   |   |   |   |   |--- class: 0\n",
      "|   |   |   |   |   |   |   |   |--- bmi >  23.96\n",
      "|   |   |   |   |   |   |   |   |   |--- class: 0\n",
      "|   |   |   |   |   |   |--- genhealth=good >  0.50\n",
      "|   |   |   |   |   |   |   |--- race=white <= 0.50\n",
      "|   |   |   |   |   |   |   |   |--- physicalhealth <= 14.50\n",
      "|   |   |   |   |   |   |   |   |   |--- class: 0\n",
      "|   |   |   |   |   |   |   |   |--- physicalhealth >  14.50\n",
      "|   |   |   |   |   |   |   |   |   |--- class: 1\n",
      "|   |   |   |   |   |   |   |--- race=white >  0.50\n",
      "|   |   |   |   |   |   |   |   |--- bmi <= 20.49\n",
      "|   |   |   |   |   |   |   |   |   |--- class: 0\n",
      "|   |   |   |   |   |   |   |   |--- bmi >  20.49\n",
      "|   |   |   |   |   |   |   |   |   |--- class: 0\n",
      "|   |   |   |   |   |--- genhealth=fair >  0.50\n",
      "|   |   |   |   |   |   |--- race=asian <= 0.50\n",
      "|   |   |   |   |   |   |   |--- bmi <= 20.35\n",
      "|   |   |   |   |   |   |   |   |--- bmi <= 18.09\n",
      "|   |   |   |   |   |   |   |   |   |--- class: 0\n",
      "|   |   |   |   |   |   |   |   |--- bmi >  18.09\n",
      "|   |   |   |   |   |   |   |   |   |--- class: 0\n",
      "|   |   |   |   |   |   |   |--- bmi >  20.35\n",
      "|   |   |   |   |   |   |   |   |--- bmi <= 20.80\n",
      "|   |   |   |   |   |   |   |   |   |--- class: 1\n",
      "|   |   |   |   |   |   |   |   |--- bmi >  20.80\n",
      "|   |   |   |   |   |   |   |   |   |--- class: 0\n",
      "|   |   |   |   |   |   |--- race=asian >  0.50\n",
      "|   |   |   |   |   |   |   |--- class: 1\n",
      "|   |   |   |   |--- sex=female >  0.50\n",
      "|   |   |   |   |   |--- genhealth=poor <= 0.50\n",
      "|   |   |   |   |   |   |--- genhealth=fair <= 0.50\n",
      "|   |   |   |   |   |   |   |--- genhealth=good <= 0.50\n",
      "|   |   |   |   |   |   |   |   |--- bmi <= 42.25\n",
      "|   |   |   |   |   |   |   |   |   |--- class: 0\n",
      "|   |   |   |   |   |   |   |   |--- bmi >  42.25\n",
      "|   |   |   |   |   |   |   |   |   |--- class: 1\n",
      "|   |   |   |   |   |   |   |--- genhealth=good >  0.50\n",
      "|   |   |   |   |   |   |   |   |--- sleeptime <= 15.50\n",
      "|   |   |   |   |   |   |   |   |   |--- class: 0\n",
      "|   |   |   |   |   |   |   |   |--- sleeptime >  15.50\n",
      "|   |   |   |   |   |   |   |   |   |--- class: 1\n",
      "|   |   |   |   |   |   |--- genhealth=fair >  0.50\n",
      "|   |   |   |   |   |   |   |--- physicalactivity=yes <= 0.50\n",
      "|   |   |   |   |   |   |   |   |--- bmi <= 39.90\n",
      "|   |   |   |   |   |   |   |   |   |--- class: 0\n",
      "|   |   |   |   |   |   |   |   |--- bmi >  39.90\n",
      "|   |   |   |   |   |   |   |   |   |--- class: 1\n",
      "|   |   |   |   |   |   |   |--- physicalactivity=yes >  0.50\n",
      "|   |   |   |   |   |   |   |   |--- sleeptime <= 8.50\n",
      "|   |   |   |   |   |   |   |   |   |--- class: 0\n",
      "|   |   |   |   |   |   |   |   |--- sleeptime >  8.50\n",
      "|   |   |   |   |   |   |   |   |   |--- class: 0\n",
      "|   |   |   |   |   |--- genhealth=poor >  0.50\n",
      "|   |   |   |   |   |   |--- bmi <= 25.35\n",
      "|   |   |   |   |   |   |   |--- physicalhealth <= 29.50\n",
      "|   |   |   |   |   |   |   |   |--- skincancer=no <= 0.50\n",
      "|   |   |   |   |   |   |   |   |   |--- class: 0\n",
      "|   |   |   |   |   |   |   |   |--- skincancer=no >  0.50\n",
      "|   |   |   |   |   |   |   |   |   |--- class: 0\n",
      "|   |   |   |   |   |   |   |--- physicalhealth >  29.50\n",
      "|   |   |   |   |   |   |   |   |--- kidneydisease=no <= 0.50\n",
      "|   |   |   |   |   |   |   |   |   |--- class: 1\n",
      "|   |   |   |   |   |   |   |   |--- kidneydisease=no >  0.50\n",
      "|   |   |   |   |   |   |   |   |   |--- class: 0\n",
      "|   |   |   |   |   |   |--- bmi >  25.35\n",
      "|   |   |   |   |   |   |   |--- bmi <= 27.03\n",
      "|   |   |   |   |   |   |   |   |--- bmi <= 25.52\n",
      "|   |   |   |   |   |   |   |   |   |--- class: 1\n",
      "|   |   |   |   |   |   |   |   |--- bmi >  25.52\n",
      "|   |   |   |   |   |   |   |   |   |--- class: 0\n",
      "|   |   |   |   |   |   |   |--- bmi >  27.03\n",
      "|   |   |   |   |   |   |   |   |--- race=black <= 0.50\n",
      "|   |   |   |   |   |   |   |   |   |--- class: 1\n",
      "|   |   |   |   |   |   |   |   |--- race=black >  0.50\n",
      "|   |   |   |   |   |   |   |   |   |--- class: 0\n",
      "|   |   |--- diabetic=yes >  0.50\n",
      "|   |   |   |--- sex=female <= 0.50\n",
      "|   |   |   |   |--- smoking=no <= 0.50\n",
      "|   |   |   |   |   |--- race=white <= 0.50\n",
      "|   |   |   |   |   |   |--- agecategory=70-74 <= 0.50\n",
      "|   |   |   |   |   |   |   |--- physicalhealth <= 20.50\n",
      "|   |   |   |   |   |   |   |   |--- agecategory=75-79 <= 0.50\n",
      "|   |   |   |   |   |   |   |   |   |--- class: 0\n",
      "|   |   |   |   |   |   |   |   |--- agecategory=75-79 >  0.50\n",
      "|   |   |   |   |   |   |   |   |   |--- class: 0\n",
      "|   |   |   |   |   |   |   |--- physicalhealth >  20.50\n",
      "|   |   |   |   |   |   |   |   |--- agecategory=65-69 <= 0.50\n",
      "|   |   |   |   |   |   |   |   |   |--- class: 0\n",
      "|   |   |   |   |   |   |   |   |--- agecategory=65-69 >  0.50\n",
      "|   |   |   |   |   |   |   |   |   |--- class: 1\n",
      "|   |   |   |   |   |   |--- agecategory=70-74 >  0.50\n",
      "|   |   |   |   |   |   |   |--- asthma=yes <= 0.50\n",
      "|   |   |   |   |   |   |   |   |--- sleeptime <= 7.50\n",
      "|   |   |   |   |   |   |   |   |   |--- class: 0\n",
      "|   |   |   |   |   |   |   |   |--- sleeptime >  7.50\n",
      "|   |   |   |   |   |   |   |   |   |--- class: 0\n",
      "|   |   |   |   |   |   |   |--- asthma=yes >  0.50\n",
      "|   |   |   |   |   |   |   |   |--- physicalhealth <= 7.50\n",
      "|   |   |   |   |   |   |   |   |   |--- class: 0\n",
      "|   |   |   |   |   |   |   |   |--- physicalhealth >  7.50\n",
      "|   |   |   |   |   |   |   |   |   |--- class: 1\n",
      "|   |   |   |   |   |--- race=white >  0.50\n",
      "|   |   |   |   |   |   |--- genhealth=very good <= 0.50\n",
      "|   |   |   |   |   |   |   |--- agecategory=80 or older <= 0.50\n",
      "|   |   |   |   |   |   |   |   |--- agecategory=75-79 <= 0.50\n",
      "|   |   |   |   |   |   |   |   |   |--- class: 0\n",
      "|   |   |   |   |   |   |   |   |--- agecategory=75-79 >  0.50\n",
      "|   |   |   |   |   |   |   |   |   |--- class: 0\n",
      "|   |   |   |   |   |   |   |--- agecategory=80 or older >  0.50\n",
      "|   |   |   |   |   |   |   |   |--- physicalhealth <= 18.50\n",
      "|   |   |   |   |   |   |   |   |   |--- class: 0\n",
      "|   |   |   |   |   |   |   |   |--- physicalhealth >  18.50\n",
      "|   |   |   |   |   |   |   |   |   |--- class: 1\n",
      "|   |   |   |   |   |   |--- genhealth=very good >  0.50\n",
      "|   |   |   |   |   |   |   |--- agecategory=50-54 <= 0.50\n",
      "|   |   |   |   |   |   |   |   |--- kidneydisease=yes <= 0.50\n",
      "|   |   |   |   |   |   |   |   |   |--- class: 0\n",
      "|   |   |   |   |   |   |   |   |--- kidneydisease=yes >  0.50\n",
      "|   |   |   |   |   |   |   |   |   |--- class: 0\n",
      "|   |   |   |   |   |   |   |--- agecategory=50-54 >  0.50\n",
      "|   |   |   |   |   |   |   |   |--- skincancer=yes <= 0.50\n",
      "|   |   |   |   |   |   |   |   |   |--- class: 0\n",
      "|   |   |   |   |   |   |   |   |--- skincancer=yes >  0.50\n",
      "|   |   |   |   |   |   |   |   |   |--- class: 0\n",
      "|   |   |   |   |--- smoking=no >  0.50\n",
      "|   |   |   |   |   |--- agecategory=75-79 <= 0.50\n",
      "|   |   |   |   |   |   |--- kidneydisease=yes <= 0.50\n",
      "|   |   |   |   |   |   |   |--- agecategory=80 or older <= 0.50\n",
      "|   |   |   |   |   |   |   |   |--- agecategory=70-74 <= 0.50\n",
      "|   |   |   |   |   |   |   |   |   |--- class: 0\n",
      "|   |   |   |   |   |   |   |   |--- agecategory=70-74 >  0.50\n",
      "|   |   |   |   |   |   |   |   |   |--- class: 0\n",
      "|   |   |   |   |   |   |   |--- agecategory=80 or older >  0.50\n",
      "|   |   |   |   |   |   |   |   |--- mentalhealth <= 29.00\n",
      "|   |   |   |   |   |   |   |   |   |--- class: 0\n",
      "|   |   |   |   |   |   |   |   |--- mentalhealth >  29.00\n",
      "|   |   |   |   |   |   |   |   |   |--- class: 1\n",
      "|   |   |   |   |   |   |--- kidneydisease=yes >  0.50\n",
      "|   |   |   |   |   |   |   |--- bmi <= 58.33\n",
      "|   |   |   |   |   |   |   |   |--- agecategory=80 or older <= 0.50\n",
      "|   |   |   |   |   |   |   |   |   |--- class: 0\n",
      "|   |   |   |   |   |   |   |   |--- agecategory=80 or older >  0.50\n",
      "|   |   |   |   |   |   |   |   |   |--- class: 0\n",
      "|   |   |   |   |   |   |   |--- bmi >  58.33\n",
      "|   |   |   |   |   |   |   |   |--- class: 1\n",
      "|   |   |   |   |   |--- agecategory=75-79 >  0.50\n",
      "|   |   |   |   |   |   |--- kidneydisease=yes <= 0.50\n",
      "|   |   |   |   |   |   |   |--- genhealth=poor <= 0.50\n",
      "|   |   |   |   |   |   |   |   |--- race=white <= 0.50\n",
      "|   |   |   |   |   |   |   |   |   |--- class: 0\n",
      "|   |   |   |   |   |   |   |   |--- race=white >  0.50\n",
      "|   |   |   |   |   |   |   |   |   |--- class: 0\n",
      "|   |   |   |   |   |   |   |--- genhealth=poor >  0.50\n",
      "|   |   |   |   |   |   |   |   |--- mentalhealth <= 0.50\n",
      "|   |   |   |   |   |   |   |   |   |--- class: 0\n",
      "|   |   |   |   |   |   |   |   |--- mentalhealth >  0.50\n",
      "|   |   |   |   |   |   |   |   |   |--- class: 1\n",
      "|   |   |   |   |   |   |--- kidneydisease=yes >  0.50\n",
      "|   |   |   |   |   |   |   |--- genhealth=fair <= 0.50\n",
      "|   |   |   |   |   |   |   |   |--- genhealth=poor <= 0.50\n",
      "|   |   |   |   |   |   |   |   |   |--- class: 0\n",
      "|   |   |   |   |   |   |   |   |--- genhealth=poor >  0.50\n",
      "|   |   |   |   |   |   |   |   |   |--- class: 1\n",
      "|   |   |   |   |   |   |   |--- genhealth=fair >  0.50\n",
      "|   |   |   |   |   |   |   |   |--- bmi <= 25.86\n",
      "|   |   |   |   |   |   |   |   |   |--- class: 0\n",
      "|   |   |   |   |   |   |   |   |--- bmi >  25.86\n",
      "|   |   |   |   |   |   |   |   |   |--- class: 1\n",
      "|   |   |   |--- sex=female >  0.50\n",
      "|   |   |   |   |--- kidneydisease=yes <= 0.50\n",
      "|   |   |   |   |   |--- genhealth=fair <= 0.50\n",
      "|   |   |   |   |   |   |--- genhealth=poor <= 0.50\n",
      "|   |   |   |   |   |   |   |--- genhealth=good <= 0.50\n",
      "|   |   |   |   |   |   |   |   |--- agecategory=80 or older <= 0.50\n",
      "|   |   |   |   |   |   |   |   |   |--- class: 0\n",
      "|   |   |   |   |   |   |   |   |--- agecategory=80 or older >  0.50\n",
      "|   |   |   |   |   |   |   |   |   |--- class: 0\n",
      "|   |   |   |   |   |   |   |--- genhealth=good >  0.50\n",
      "|   |   |   |   |   |   |   |   |--- smoking=yes <= 0.50\n",
      "|   |   |   |   |   |   |   |   |   |--- class: 0\n",
      "|   |   |   |   |   |   |   |   |--- smoking=yes >  0.50\n",
      "|   |   |   |   |   |   |   |   |   |--- class: 0\n",
      "|   |   |   |   |   |   |--- genhealth=poor >  0.50\n",
      "|   |   |   |   |   |   |   |--- sleeptime <= 9.50\n",
      "|   |   |   |   |   |   |   |   |--- agecategory=70-74 <= 0.50\n",
      "|   |   |   |   |   |   |   |   |   |--- class: 0\n",
      "|   |   |   |   |   |   |   |   |--- agecategory=70-74 >  0.50\n",
      "|   |   |   |   |   |   |   |   |   |--- class: 0\n",
      "|   |   |   |   |   |   |   |--- sleeptime >  9.50\n",
      "|   |   |   |   |   |   |   |   |--- mentalhealth <= 1.00\n",
      "|   |   |   |   |   |   |   |   |   |--- class: 1\n",
      "|   |   |   |   |   |   |   |   |--- mentalhealth >  1.00\n",
      "|   |   |   |   |   |   |   |   |   |--- class: 0\n",
      "|   |   |   |   |   |--- genhealth=fair >  0.50\n",
      "|   |   |   |   |   |   |--- agecategory=65-69 <= 0.50\n",
      "|   |   |   |   |   |   |   |--- agecategory=80 or older <= 0.50\n",
      "|   |   |   |   |   |   |   |   |--- smoking=no <= 0.50\n",
      "|   |   |   |   |   |   |   |   |   |--- class: 0\n",
      "|   |   |   |   |   |   |   |   |--- smoking=no >  0.50\n",
      "|   |   |   |   |   |   |   |   |   |--- class: 0\n",
      "|   |   |   |   |   |   |   |--- agecategory=80 or older >  0.50\n",
      "|   |   |   |   |   |   |   |   |--- bmi <= 20.65\n",
      "|   |   |   |   |   |   |   |   |   |--- class: 1\n",
      "|   |   |   |   |   |   |   |   |--- bmi >  20.65\n",
      "|   |   |   |   |   |   |   |   |   |--- class: 0\n",
      "|   |   |   |   |   |   |--- agecategory=65-69 >  0.50\n",
      "|   |   |   |   |   |   |   |--- bmi <= 24.84\n",
      "|   |   |   |   |   |   |   |   |--- bmi <= 23.49\n",
      "|   |   |   |   |   |   |   |   |   |--- class: 0\n",
      "|   |   |   |   |   |   |   |   |--- bmi >  23.49\n",
      "|   |   |   |   |   |   |   |   |   |--- class: 1\n",
      "|   |   |   |   |   |   |   |--- bmi >  24.84\n",
      "|   |   |   |   |   |   |   |   |--- bmi <= 29.69\n",
      "|   |   |   |   |   |   |   |   |   |--- class: 0\n",
      "|   |   |   |   |   |   |   |   |--- bmi >  29.69\n",
      "|   |   |   |   |   |   |   |   |   |--- class: 0\n",
      "|   |   |   |   |--- kidneydisease=yes >  0.50\n",
      "|   |   |   |   |   |--- physicalhealth <= 6.50\n",
      "|   |   |   |   |   |   |--- race=white <= 0.50\n",
      "|   |   |   |   |   |   |   |--- genhealth=fair <= 0.50\n",
      "|   |   |   |   |   |   |   |   |--- genhealth=poor <= 0.50\n",
      "|   |   |   |   |   |   |   |   |   |--- class: 0\n",
      "|   |   |   |   |   |   |   |   |--- genhealth=poor >  0.50\n",
      "|   |   |   |   |   |   |   |   |   |--- class: 0\n",
      "|   |   |   |   |   |   |   |--- genhealth=fair >  0.50\n",
      "|   |   |   |   |   |   |   |   |--- agecategory=75-79 <= 0.50\n",
      "|   |   |   |   |   |   |   |   |   |--- class: 0\n",
      "|   |   |   |   |   |   |   |   |--- agecategory=75-79 >  0.50\n",
      "|   |   |   |   |   |   |   |   |   |--- class: 0\n",
      "|   |   |   |   |   |   |--- race=white >  0.50\n",
      "|   |   |   |   |   |   |   |--- genhealth=very good <= 0.50\n",
      "|   |   |   |   |   |   |   |   |--- sleeptime <= 4.50\n",
      "|   |   |   |   |   |   |   |   |   |--- class: 1\n",
      "|   |   |   |   |   |   |   |   |--- sleeptime >  4.50\n",
      "|   |   |   |   |   |   |   |   |   |--- class: 0\n",
      "|   |   |   |   |   |   |   |--- genhealth=very good >  0.50\n",
      "|   |   |   |   |   |   |   |   |--- sleeptime <= 10.50\n",
      "|   |   |   |   |   |   |   |   |   |--- class: 0\n",
      "|   |   |   |   |   |   |   |   |--- sleeptime >  10.50\n",
      "|   |   |   |   |   |   |   |   |   |--- class: 1\n",
      "|   |   |   |   |   |--- physicalhealth >  6.50\n",
      "|   |   |   |   |   |   |--- sleeptime <= 4.50\n",
      "|   |   |   |   |   |   |   |--- bmi <= 24.18\n",
      "|   |   |   |   |   |   |   |   |--- class: 0\n",
      "|   |   |   |   |   |   |   |--- bmi >  24.18\n",
      "|   |   |   |   |   |   |   |   |--- agecategory=50-54 <= 0.50\n",
      "|   |   |   |   |   |   |   |   |   |--- class: 1\n",
      "|   |   |   |   |   |   |   |   |--- agecategory=50-54 >  0.50\n",
      "|   |   |   |   |   |   |   |   |   |--- class: 0\n",
      "|   |   |   |   |   |   |--- sleeptime >  4.50\n",
      "|   |   |   |   |   |   |   |--- bmi <= 20.32\n",
      "|   |   |   |   |   |   |   |   |--- race=white <= 0.50\n",
      "|   |   |   |   |   |   |   |   |   |--- class: 0\n",
      "|   |   |   |   |   |   |   |   |--- race=white >  0.50\n",
      "|   |   |   |   |   |   |   |   |   |--- class: 1\n",
      "|   |   |   |   |   |   |   |--- bmi >  20.32\n",
      "|   |   |   |   |   |   |   |   |--- agecategory=70-74 <= 0.50\n",
      "|   |   |   |   |   |   |   |   |   |--- class: 0\n",
      "|   |   |   |   |   |   |   |   |--- agecategory=70-74 >  0.50\n",
      "|   |   |   |   |   |   |   |   |   |--- class: 0\n",
      "|--- stroke=yes >  0.50\n",
      "|   |--- genhealth=poor <= 0.50\n",
      "|   |   |--- genhealth=fair <= 0.50\n",
      "|   |   |   |--- diabetic=yes <= 0.50\n",
      "|   |   |   |   |--- sex=female <= 0.50\n",
      "|   |   |   |   |   |--- genhealth=good <= 0.50\n",
      "|   |   |   |   |   |   |--- agecategory=80 or older <= 0.50\n",
      "|   |   |   |   |   |   |   |--- sleeptime <= 2.50\n",
      "|   |   |   |   |   |   |   |   |--- class: 1\n",
      "|   |   |   |   |   |   |   |--- sleeptime >  2.50\n",
      "|   |   |   |   |   |   |   |   |--- diffwalking=no <= 0.50\n",
      "|   |   |   |   |   |   |   |   |   |--- class: 0\n",
      "|   |   |   |   |   |   |   |   |--- diffwalking=no >  0.50\n",
      "|   |   |   |   |   |   |   |   |   |--- class: 0\n",
      "|   |   |   |   |   |   |--- agecategory=80 or older >  0.50\n",
      "|   |   |   |   |   |   |   |--- bmi <= 25.85\n",
      "|   |   |   |   |   |   |   |   |--- sleeptime <= 6.50\n",
      "|   |   |   |   |   |   |   |   |   |--- class: 0\n",
      "|   |   |   |   |   |   |   |   |--- sleeptime >  6.50\n",
      "|   |   |   |   |   |   |   |   |   |--- class: 0\n",
      "|   |   |   |   |   |   |   |--- bmi >  25.85\n",
      "|   |   |   |   |   |   |   |   |--- bmi <= 26.48\n",
      "|   |   |   |   |   |   |   |   |   |--- class: 1\n",
      "|   |   |   |   |   |   |   |   |--- bmi >  26.48\n",
      "|   |   |   |   |   |   |   |   |   |--- class: 0\n",
      "|   |   |   |   |   |--- genhealth=good >  0.50\n",
      "|   |   |   |   |   |   |--- race=black <= 0.50\n",
      "|   |   |   |   |   |   |   |--- agecategory=75-79 <= 0.50\n",
      "|   |   |   |   |   |   |   |   |--- smoking=no <= 0.50\n",
      "|   |   |   |   |   |   |   |   |   |--- class: 0\n",
      "|   |   |   |   |   |   |   |   |--- smoking=no >  0.50\n",
      "|   |   |   |   |   |   |   |   |   |--- class: 0\n",
      "|   |   |   |   |   |   |   |--- agecategory=75-79 >  0.50\n",
      "|   |   |   |   |   |   |   |   |--- diabetic=no, borderline diabetes <= 0.50\n",
      "|   |   |   |   |   |   |   |   |   |--- class: 0\n",
      "|   |   |   |   |   |   |   |   |--- diabetic=no, borderline diabetes >  0.50\n",
      "|   |   |   |   |   |   |   |   |   |--- class: 1\n",
      "|   |   |   |   |   |   |--- race=black >  0.50\n",
      "|   |   |   |   |   |   |   |--- sleeptime <= 13.00\n",
      "|   |   |   |   |   |   |   |   |--- kidneydisease=no <= 0.50\n",
      "|   |   |   |   |   |   |   |   |   |--- class: 1\n",
      "|   |   |   |   |   |   |   |   |--- kidneydisease=no >  0.50\n",
      "|   |   |   |   |   |   |   |   |   |--- class: 0\n",
      "|   |   |   |   |   |   |   |--- sleeptime >  13.00\n",
      "|   |   |   |   |   |   |   |   |--- smoking=yes <= 0.50\n",
      "|   |   |   |   |   |   |   |   |   |--- class: 0\n",
      "|   |   |   |   |   |   |   |   |--- smoking=yes >  0.50\n",
      "|   |   |   |   |   |   |   |   |   |--- class: 1\n",
      "|   |   |   |   |--- sex=female >  0.50\n",
      "|   |   |   |   |   |--- diffwalking=no <= 0.50\n",
      "|   |   |   |   |   |   |--- sleeptime <= 4.50\n",
      "|   |   |   |   |   |   |   |--- agecategory=80 or older <= 0.50\n",
      "|   |   |   |   |   |   |   |   |--- bmi <= 23.05\n",
      "|   |   |   |   |   |   |   |   |   |--- class: 0\n",
      "|   |   |   |   |   |   |   |   |--- bmi >  23.05\n",
      "|   |   |   |   |   |   |   |   |   |--- class: 1\n",
      "|   |   |   |   |   |   |   |--- agecategory=80 or older >  0.50\n",
      "|   |   |   |   |   |   |   |   |--- class: 0\n",
      "|   |   |   |   |   |   |--- sleeptime >  4.50\n",
      "|   |   |   |   |   |   |   |--- agecategory=80 or older <= 0.50\n",
      "|   |   |   |   |   |   |   |   |--- smoking=yes <= 0.50\n",
      "|   |   |   |   |   |   |   |   |   |--- class: 0\n",
      "|   |   |   |   |   |   |   |   |--- smoking=yes >  0.50\n",
      "|   |   |   |   |   |   |   |   |   |--- class: 0\n",
      "|   |   |   |   |   |   |   |--- agecategory=80 or older >  0.50\n",
      "|   |   |   |   |   |   |   |   |--- bmi <= 21.41\n",
      "|   |   |   |   |   |   |   |   |   |--- class: 1\n",
      "|   |   |   |   |   |   |   |   |--- bmi >  21.41\n",
      "|   |   |   |   |   |   |   |   |   |--- class: 0\n",
      "|   |   |   |   |   |--- diffwalking=no >  0.50\n",
      "|   |   |   |   |   |   |--- genhealth=good <= 0.50\n",
      "|   |   |   |   |   |   |   |--- sleeptime <= 5.50\n",
      "|   |   |   |   |   |   |   |   |--- mentalhealth <= 2.50\n",
      "|   |   |   |   |   |   |   |   |   |--- class: 0\n",
      "|   |   |   |   |   |   |   |   |--- mentalhealth >  2.50\n",
      "|   |   |   |   |   |   |   |   |   |--- class: 0\n",
      "|   |   |   |   |   |   |   |--- sleeptime >  5.50\n",
      "|   |   |   |   |   |   |   |   |--- kidneydisease=no <= 0.50\n",
      "|   |   |   |   |   |   |   |   |   |--- class: 0\n",
      "|   |   |   |   |   |   |   |   |--- kidneydisease=no >  0.50\n",
      "|   |   |   |   |   |   |   |   |   |--- class: 0\n",
      "|   |   |   |   |   |   |--- genhealth=good >  0.50\n",
      "|   |   |   |   |   |   |   |--- bmi <= 20.55\n",
      "|   |   |   |   |   |   |   |   |--- bmi <= 20.10\n",
      "|   |   |   |   |   |   |   |   |   |--- class: 0\n",
      "|   |   |   |   |   |   |   |   |--- bmi >  20.10\n",
      "|   |   |   |   |   |   |   |   |   |--- class: 1\n",
      "|   |   |   |   |   |   |   |--- bmi >  20.55\n",
      "|   |   |   |   |   |   |   |   |--- bmi <= 29.40\n",
      "|   |   |   |   |   |   |   |   |   |--- class: 0\n",
      "|   |   |   |   |   |   |   |   |--- bmi >  29.40\n",
      "|   |   |   |   |   |   |   |   |   |--- class: 0\n",
      "|   |   |   |--- diabetic=yes >  0.50\n",
      "|   |   |   |   |--- sex=male <= 0.50\n",
      "|   |   |   |   |   |--- kidneydisease=yes <= 0.50\n",
      "|   |   |   |   |   |   |--- physicalactivity=yes <= 0.50\n",
      "|   |   |   |   |   |   |   |--- agecategory=50-54 <= 0.50\n",
      "|   |   |   |   |   |   |   |   |--- smoking=no <= 0.50\n",
      "|   |   |   |   |   |   |   |   |   |--- class: 0\n",
      "|   |   |   |   |   |   |   |   |--- smoking=no >  0.50\n",
      "|   |   |   |   |   |   |   |   |   |--- class: 0\n",
      "|   |   |   |   |   |   |   |--- agecategory=50-54 >  0.50\n",
      "|   |   |   |   |   |   |   |   |--- class: 0\n",
      "|   |   |   |   |   |   |--- physicalactivity=yes >  0.50\n",
      "|   |   |   |   |   |   |   |--- sleeptime <= 2.50\n",
      "|   |   |   |   |   |   |   |   |--- class: 1\n",
      "|   |   |   |   |   |   |   |--- sleeptime >  2.50\n",
      "|   |   |   |   |   |   |   |   |--- bmi <= 48.05\n",
      "|   |   |   |   |   |   |   |   |   |--- class: 0\n",
      "|   |   |   |   |   |   |   |   |--- bmi >  48.05\n",
      "|   |   |   |   |   |   |   |   |   |--- class: 1\n",
      "|   |   |   |   |   |--- kidneydisease=yes >  0.50\n",
      "|   |   |   |   |   |   |--- genhealth=good <= 0.50\n",
      "|   |   |   |   |   |   |   |--- asthma=no <= 0.50\n",
      "|   |   |   |   |   |   |   |   |--- class: 1\n",
      "|   |   |   |   |   |   |   |--- asthma=no >  0.50\n",
      "|   |   |   |   |   |   |   |   |--- diffwalking=no <= 0.50\n",
      "|   |   |   |   |   |   |   |   |   |--- class: 0\n",
      "|   |   |   |   |   |   |   |   |--- diffwalking=no >  0.50\n",
      "|   |   |   |   |   |   |   |   |   |--- class: 1\n",
      "|   |   |   |   |   |   |--- genhealth=good >  0.50\n",
      "|   |   |   |   |   |   |   |--- sleeptime <= 8.50\n",
      "|   |   |   |   |   |   |   |   |--- bmi <= 32.19\n",
      "|   |   |   |   |   |   |   |   |   |--- class: 1\n",
      "|   |   |   |   |   |   |   |   |--- bmi >  32.19\n",
      "|   |   |   |   |   |   |   |   |   |--- class: 0\n",
      "|   |   |   |   |   |   |   |--- sleeptime >  8.50\n",
      "|   |   |   |   |   |   |   |   |--- bmi <= 32.77\n",
      "|   |   |   |   |   |   |   |   |   |--- class: 0\n",
      "|   |   |   |   |   |   |   |   |--- bmi >  32.77\n",
      "|   |   |   |   |   |   |   |   |   |--- class: 1\n",
      "|   |   |   |   |--- sex=male >  0.50\n",
      "|   |   |   |   |   |--- agecategory=80 or older <= 0.50\n",
      "|   |   |   |   |   |   |--- physicalhealth <= 0.50\n",
      "|   |   |   |   |   |   |   |--- sleeptime <= 4.50\n",
      "|   |   |   |   |   |   |   |   |--- kidneydisease=no <= 0.50\n",
      "|   |   |   |   |   |   |   |   |   |--- class: 0\n",
      "|   |   |   |   |   |   |   |   |--- kidneydisease=no >  0.50\n",
      "|   |   |   |   |   |   |   |   |   |--- class: 1\n",
      "|   |   |   |   |   |   |   |--- sleeptime >  4.50\n",
      "|   |   |   |   |   |   |   |   |--- bmi <= 37.15\n",
      "|   |   |   |   |   |   |   |   |   |--- class: 0\n",
      "|   |   |   |   |   |   |   |   |--- bmi >  37.15\n",
      "|   |   |   |   |   |   |   |   |   |--- class: 1\n",
      "|   |   |   |   |   |   |--- physicalhealth >  0.50\n",
      "|   |   |   |   |   |   |   |--- genhealth=excellent <= 0.50\n",
      "|   |   |   |   |   |   |   |   |--- kidneydisease=yes <= 0.50\n",
      "|   |   |   |   |   |   |   |   |   |--- class: 0\n",
      "|   |   |   |   |   |   |   |   |--- kidneydisease=yes >  0.50\n",
      "|   |   |   |   |   |   |   |   |   |--- class: 1\n",
      "|   |   |   |   |   |   |   |--- genhealth=excellent >  0.50\n",
      "|   |   |   |   |   |   |   |   |--- class: 1\n",
      "|   |   |   |   |   |--- agecategory=80 or older >  0.50\n",
      "|   |   |   |   |   |   |--- physicalhealth <= 4.50\n",
      "|   |   |   |   |   |   |   |--- kidneydisease=yes <= 0.50\n",
      "|   |   |   |   |   |   |   |   |--- bmi <= 21.55\n",
      "|   |   |   |   |   |   |   |   |   |--- class: 0\n",
      "|   |   |   |   |   |   |   |   |--- bmi >  21.55\n",
      "|   |   |   |   |   |   |   |   |   |--- class: 1\n",
      "|   |   |   |   |   |   |   |--- kidneydisease=yes >  0.50\n",
      "|   |   |   |   |   |   |   |   |--- class: 1\n",
      "|   |   |   |   |   |   |--- physicalhealth >  4.50\n",
      "|   |   |   |   |   |   |   |--- bmi <= 20.76\n",
      "|   |   |   |   |   |   |   |   |--- class: 1\n",
      "|   |   |   |   |   |   |   |--- bmi >  20.76\n",
      "|   |   |   |   |   |   |   |   |--- genhealth=good <= 0.50\n",
      "|   |   |   |   |   |   |   |   |   |--- class: 0\n",
      "|   |   |   |   |   |   |   |   |--- genhealth=good >  0.50\n",
      "|   |   |   |   |   |   |   |   |   |--- class: 0\n",
      "|   |   |--- genhealth=fair >  0.50\n",
      "|   |   |   |--- sex=male <= 0.50\n",
      "|   |   |   |   |--- kidneydisease=no <= 0.50\n",
      "|   |   |   |   |   |--- agecategory=45-49 <= 0.50\n",
      "|   |   |   |   |   |   |--- bmi <= 31.98\n",
      "|   |   |   |   |   |   |   |--- sleeptime <= 8.50\n",
      "|   |   |   |   |   |   |   |   |--- bmi <= 22.77\n",
      "|   |   |   |   |   |   |   |   |   |--- class: 1\n",
      "|   |   |   |   |   |   |   |   |--- bmi >  22.77\n",
      "|   |   |   |   |   |   |   |   |   |--- class: 0\n",
      "|   |   |   |   |   |   |   |--- sleeptime >  8.50\n",
      "|   |   |   |   |   |   |   |   |--- bmi <= 20.88\n",
      "|   |   |   |   |   |   |   |   |   |--- class: 0\n",
      "|   |   |   |   |   |   |   |   |--- bmi >  20.88\n",
      "|   |   |   |   |   |   |   |   |   |--- class: 1\n",
      "|   |   |   |   |   |   |--- bmi >  31.98\n",
      "|   |   |   |   |   |   |   |--- agecategory=70-74 <= 0.50\n",
      "|   |   |   |   |   |   |   |   |--- diabetic=no, borderline diabetes <= 0.50\n",
      "|   |   |   |   |   |   |   |   |   |--- class: 0\n",
      "|   |   |   |   |   |   |   |   |--- diabetic=no, borderline diabetes >  0.50\n",
      "|   |   |   |   |   |   |   |   |   |--- class: 1\n",
      "|   |   |   |   |   |   |   |--- agecategory=70-74 >  0.50\n",
      "|   |   |   |   |   |   |   |   |--- smoking=no <= 0.50\n",
      "|   |   |   |   |   |   |   |   |   |--- class: 1\n",
      "|   |   |   |   |   |   |   |   |--- smoking=no >  0.50\n",
      "|   |   |   |   |   |   |   |   |   |--- class: 0\n",
      "|   |   |   |   |   |--- agecategory=45-49 >  0.50\n",
      "|   |   |   |   |   |   |--- class: 0\n",
      "|   |   |   |   |--- kidneydisease=no >  0.50\n",
      "|   |   |   |   |   |--- agecategory=80 or older <= 0.50\n",
      "|   |   |   |   |   |   |--- diabetic=yes <= 0.50\n",
      "|   |   |   |   |   |   |   |--- physicalhealth <= 5.50\n",
      "|   |   |   |   |   |   |   |   |--- bmi <= 40.95\n",
      "|   |   |   |   |   |   |   |   |   |--- class: 0\n",
      "|   |   |   |   |   |   |   |   |--- bmi >  40.95\n",
      "|   |   |   |   |   |   |   |   |   |--- class: 1\n",
      "|   |   |   |   |   |   |   |--- physicalhealth >  5.50\n",
      "|   |   |   |   |   |   |   |   |--- agecategory=65-69 <= 0.50\n",
      "|   |   |   |   |   |   |   |   |   |--- class: 0\n",
      "|   |   |   |   |   |   |   |   |--- agecategory=65-69 >  0.50\n",
      "|   |   |   |   |   |   |   |   |   |--- class: 0\n",
      "|   |   |   |   |   |   |--- diabetic=yes >  0.50\n",
      "|   |   |   |   |   |   |   |--- asthma=no <= 0.50\n",
      "|   |   |   |   |   |   |   |   |--- physicalhealth <= 6.50\n",
      "|   |   |   |   |   |   |   |   |   |--- class: 1\n",
      "|   |   |   |   |   |   |   |   |--- physicalhealth >  6.50\n",
      "|   |   |   |   |   |   |   |   |   |--- class: 0\n",
      "|   |   |   |   |   |   |   |--- asthma=no >  0.50\n",
      "|   |   |   |   |   |   |   |   |--- bmi <= 24.86\n",
      "|   |   |   |   |   |   |   |   |   |--- class: 1\n",
      "|   |   |   |   |   |   |   |   |--- bmi >  24.86\n",
      "|   |   |   |   |   |   |   |   |   |--- class: 0\n",
      "|   |   |   |   |   |--- agecategory=80 or older >  0.50\n",
      "|   |   |   |   |   |   |--- bmi <= 18.16\n",
      "|   |   |   |   |   |   |   |--- class: 0\n",
      "|   |   |   |   |   |   |--- bmi >  18.16\n",
      "|   |   |   |   |   |   |   |--- physicalhealth <= 2.50\n",
      "|   |   |   |   |   |   |   |   |--- sleeptime <= 7.50\n",
      "|   |   |   |   |   |   |   |   |   |--- class: 0\n",
      "|   |   |   |   |   |   |   |   |--- sleeptime >  7.50\n",
      "|   |   |   |   |   |   |   |   |   |--- class: 1\n",
      "|   |   |   |   |   |   |   |--- physicalhealth >  2.50\n",
      "|   |   |   |   |   |   |   |   |--- mentalhealth <= 7.50\n",
      "|   |   |   |   |   |   |   |   |   |--- class: 1\n",
      "|   |   |   |   |   |   |   |   |--- mentalhealth >  7.50\n",
      "|   |   |   |   |   |   |   |   |   |--- class: 1\n",
      "|   |   |   |--- sex=male >  0.50\n",
      "|   |   |   |   |--- skincancer=no <= 0.50\n",
      "|   |   |   |   |   |--- race=black <= 0.50\n",
      "|   |   |   |   |   |   |--- bmi <= 40.97\n",
      "|   |   |   |   |   |   |   |--- bmi <= 33.93\n",
      "|   |   |   |   |   |   |   |   |--- bmi <= 32.02\n",
      "|   |   |   |   |   |   |   |   |   |--- class: 1\n",
      "|   |   |   |   |   |   |   |   |--- bmi >  32.02\n",
      "|   |   |   |   |   |   |   |   |   |--- class: 0\n",
      "|   |   |   |   |   |   |   |--- bmi >  33.93\n",
      "|   |   |   |   |   |   |   |   |--- race=other <= 0.50\n",
      "|   |   |   |   |   |   |   |   |   |--- class: 1\n",
      "|   |   |   |   |   |   |   |   |--- race=other >  0.50\n",
      "|   |   |   |   |   |   |   |   |   |--- class: 0\n",
      "|   |   |   |   |   |   |--- bmi >  40.97\n",
      "|   |   |   |   |   |   |   |--- physicalactivity=no <= 0.50\n",
      "|   |   |   |   |   |   |   |   |--- class: 0\n",
      "|   |   |   |   |   |   |   |--- physicalactivity=no >  0.50\n",
      "|   |   |   |   |   |   |   |   |--- class: 1\n",
      "|   |   |   |   |   |--- race=black >  0.50\n",
      "|   |   |   |   |   |   |--- class: 0\n",
      "|   |   |   |   |--- skincancer=no >  0.50\n",
      "|   |   |   |   |   |--- bmi <= 21.75\n",
      "|   |   |   |   |   |   |--- race=american indian/alaskan native <= 0.50\n",
      "|   |   |   |   |   |   |   |--- kidneydisease=yes <= 0.50\n",
      "|   |   |   |   |   |   |   |   |--- agecategory=75-79 <= 0.50\n",
      "|   |   |   |   |   |   |   |   |   |--- class: 0\n",
      "|   |   |   |   |   |   |   |   |--- agecategory=75-79 >  0.50\n",
      "|   |   |   |   |   |   |   |   |   |--- class: 1\n",
      "|   |   |   |   |   |   |   |--- kidneydisease=yes >  0.50\n",
      "|   |   |   |   |   |   |   |   |--- sleeptime <= 6.50\n",
      "|   |   |   |   |   |   |   |   |   |--- class: 0\n",
      "|   |   |   |   |   |   |   |   |--- sleeptime >  6.50\n",
      "|   |   |   |   |   |   |   |   |   |--- class: 1\n",
      "|   |   |   |   |   |   |--- race=american indian/alaskan native >  0.50\n",
      "|   |   |   |   |   |   |   |--- class: 1\n",
      "|   |   |   |   |   |--- bmi >  21.75\n",
      "|   |   |   |   |   |   |--- agecategory=80 or older <= 0.50\n",
      "|   |   |   |   |   |   |   |--- diabetic=yes <= 0.50\n",
      "|   |   |   |   |   |   |   |   |--- asthma=yes <= 0.50\n",
      "|   |   |   |   |   |   |   |   |   |--- class: 0\n",
      "|   |   |   |   |   |   |   |   |--- asthma=yes >  0.50\n",
      "|   |   |   |   |   |   |   |   |   |--- class: 1\n",
      "|   |   |   |   |   |   |   |--- diabetic=yes >  0.50\n",
      "|   |   |   |   |   |   |   |   |--- bmi <= 41.99\n",
      "|   |   |   |   |   |   |   |   |   |--- class: 1\n",
      "|   |   |   |   |   |   |   |   |--- bmi >  41.99\n",
      "|   |   |   |   |   |   |   |   |   |--- class: 0\n",
      "|   |   |   |   |   |   |--- agecategory=80 or older >  0.50\n",
      "|   |   |   |   |   |   |   |--- bmi <= 29.98\n",
      "|   |   |   |   |   |   |   |   |--- race=black <= 0.50\n",
      "|   |   |   |   |   |   |   |   |   |--- class: 1\n",
      "|   |   |   |   |   |   |   |   |--- race=black >  0.50\n",
      "|   |   |   |   |   |   |   |   |   |--- class: 0\n",
      "|   |   |   |   |   |   |   |--- bmi >  29.98\n",
      "|   |   |   |   |   |   |   |   |--- diabetic=no, borderline diabetes <= 0.50\n",
      "|   |   |   |   |   |   |   |   |   |--- class: 0\n",
      "|   |   |   |   |   |   |   |   |--- diabetic=no, borderline diabetes >  0.50\n",
      "|   |   |   |   |   |   |   |   |   |--- class: 1\n",
      "|   |--- genhealth=poor >  0.50\n",
      "|   |   |--- sex=male <= 0.50\n",
      "|   |   |   |--- physicalactivity=yes <= 0.50\n",
      "|   |   |   |   |--- bmi <= 30.00\n",
      "|   |   |   |   |   |--- kidneydisease=no <= 0.50\n",
      "|   |   |   |   |   |   |--- physicalhealth <= 25.50\n",
      "|   |   |   |   |   |   |   |--- physicalhealth <= 1.50\n",
      "|   |   |   |   |   |   |   |   |--- class: 1\n",
      "|   |   |   |   |   |   |   |--- physicalhealth >  1.50\n",
      "|   |   |   |   |   |   |   |   |--- agecategory=80 or older <= 0.50\n",
      "|   |   |   |   |   |   |   |   |   |--- class: 0\n",
      "|   |   |   |   |   |   |   |   |--- agecategory=80 or older >  0.50\n",
      "|   |   |   |   |   |   |   |   |   |--- class: 1\n",
      "|   |   |   |   |   |   |--- physicalhealth >  25.50\n",
      "|   |   |   |   |   |   |   |--- mentalhealth <= 9.50\n",
      "|   |   |   |   |   |   |   |   |--- bmi <= 21.63\n",
      "|   |   |   |   |   |   |   |   |   |--- class: 1\n",
      "|   |   |   |   |   |   |   |   |--- bmi >  21.63\n",
      "|   |   |   |   |   |   |   |   |   |--- class: 0\n",
      "|   |   |   |   |   |   |   |--- mentalhealth >  9.50\n",
      "|   |   |   |   |   |   |   |   |--- agecategory=80 or older <= 0.50\n",
      "|   |   |   |   |   |   |   |   |   |--- class: 1\n",
      "|   |   |   |   |   |   |   |   |--- agecategory=80 or older >  0.50\n",
      "|   |   |   |   |   |   |   |   |   |--- class: 1\n",
      "|   |   |   |   |   |--- kidneydisease=no >  0.50\n",
      "|   |   |   |   |   |   |--- bmi <= 29.24\n",
      "|   |   |   |   |   |   |   |--- skincancer=no <= 0.50\n",
      "|   |   |   |   |   |   |   |   |--- bmi <= 21.05\n",
      "|   |   |   |   |   |   |   |   |   |--- class: 1\n",
      "|   |   |   |   |   |   |   |   |--- bmi >  21.05\n",
      "|   |   |   |   |   |   |   |   |   |--- class: 0\n",
      "|   |   |   |   |   |   |   |--- skincancer=no >  0.50\n",
      "|   |   |   |   |   |   |   |   |--- alcoholdrinking=no <= 0.50\n",
      "|   |   |   |   |   |   |   |   |   |--- class: 0\n",
      "|   |   |   |   |   |   |   |   |--- alcoholdrinking=no >  0.50\n",
      "|   |   |   |   |   |   |   |   |   |--- class: 0\n",
      "|   |   |   |   |   |   |--- bmi >  29.24\n",
      "|   |   |   |   |   |   |   |--- diffwalking=no <= 0.50\n",
      "|   |   |   |   |   |   |   |   |--- class: 0\n",
      "|   |   |   |   |   |   |   |--- diffwalking=no >  0.50\n",
      "|   |   |   |   |   |   |   |   |--- agecategory=70-74 <= 0.50\n",
      "|   |   |   |   |   |   |   |   |   |--- class: 1\n",
      "|   |   |   |   |   |   |   |   |--- agecategory=70-74 >  0.50\n",
      "|   |   |   |   |   |   |   |   |   |--- class: 0\n",
      "|   |   |   |   |--- bmi >  30.00\n",
      "|   |   |   |   |   |--- agecategory=75-79 <= 0.50\n",
      "|   |   |   |   |   |   |--- agecategory=70-74 <= 0.50\n",
      "|   |   |   |   |   |   |   |--- skincancer=yes <= 0.50\n",
      "|   |   |   |   |   |   |   |   |--- diabetic=yes <= 0.50\n",
      "|   |   |   |   |   |   |   |   |   |--- class: 0\n",
      "|   |   |   |   |   |   |   |   |--- diabetic=yes >  0.50\n",
      "|   |   |   |   |   |   |   |   |   |--- class: 1\n",
      "|   |   |   |   |   |   |   |--- skincancer=yes >  0.50\n",
      "|   |   |   |   |   |   |   |   |--- physicalhealth <= 7.50\n",
      "|   |   |   |   |   |   |   |   |   |--- class: 0\n",
      "|   |   |   |   |   |   |   |   |--- physicalhealth >  7.50\n",
      "|   |   |   |   |   |   |   |   |   |--- class: 1\n",
      "|   |   |   |   |   |   |--- agecategory=70-74 >  0.50\n",
      "|   |   |   |   |   |   |   |--- sleeptime <= 6.50\n",
      "|   |   |   |   |   |   |   |   |--- race=american indian/alaskan native <= 0.50\n",
      "|   |   |   |   |   |   |   |   |   |--- class: 0\n",
      "|   |   |   |   |   |   |   |   |--- race=american indian/alaskan native >  0.50\n",
      "|   |   |   |   |   |   |   |   |   |--- class: 1\n",
      "|   |   |   |   |   |   |   |--- sleeptime >  6.50\n",
      "|   |   |   |   |   |   |   |   |--- diabetic=no, borderline diabetes <= 0.50\n",
      "|   |   |   |   |   |   |   |   |   |--- class: 1\n",
      "|   |   |   |   |   |   |   |   |--- diabetic=no, borderline diabetes >  0.50\n",
      "|   |   |   |   |   |   |   |   |   |--- class: 0\n",
      "|   |   |   |   |   |--- agecategory=75-79 >  0.50\n",
      "|   |   |   |   |   |   |--- physicalhealth <= 10.00\n",
      "|   |   |   |   |   |   |   |--- kidneydisease=no <= 0.50\n",
      "|   |   |   |   |   |   |   |   |--- class: 0\n",
      "|   |   |   |   |   |   |   |--- kidneydisease=no >  0.50\n",
      "|   |   |   |   |   |   |   |   |--- class: 1\n",
      "|   |   |   |   |   |   |--- physicalhealth >  10.00\n",
      "|   |   |   |   |   |   |   |--- bmi <= 34.85\n",
      "|   |   |   |   |   |   |   |   |--- class: 1\n",
      "|   |   |   |   |   |   |   |--- bmi >  34.85\n",
      "|   |   |   |   |   |   |   |   |--- bmi <= 35.19\n",
      "|   |   |   |   |   |   |   |   |   |--- class: 0\n",
      "|   |   |   |   |   |   |   |   |--- bmi >  35.19\n",
      "|   |   |   |   |   |   |   |   |   |--- class: 1\n",
      "|   |   |   |--- physicalactivity=yes >  0.50\n",
      "|   |   |   |   |--- bmi <= 20.10\n",
      "|   |   |   |   |   |--- skincancer=yes <= 0.50\n",
      "|   |   |   |   |   |   |--- sleeptime <= 3.50\n",
      "|   |   |   |   |   |   |   |--- class: 0\n",
      "|   |   |   |   |   |   |--- sleeptime >  3.50\n",
      "|   |   |   |   |   |   |   |--- physicalhealth <= 12.50\n",
      "|   |   |   |   |   |   |   |   |--- agecategory=80 or older <= 0.50\n",
      "|   |   |   |   |   |   |   |   |   |--- class: 1\n",
      "|   |   |   |   |   |   |   |   |--- agecategory=80 or older >  0.50\n",
      "|   |   |   |   |   |   |   |   |   |--- class: 0\n",
      "|   |   |   |   |   |   |   |--- physicalhealth >  12.50\n",
      "|   |   |   |   |   |   |   |   |--- class: 1\n",
      "|   |   |   |   |   |--- skincancer=yes >  0.50\n",
      "|   |   |   |   |   |   |--- mentalhealth <= 9.50\n",
      "|   |   |   |   |   |   |   |--- class: 0\n",
      "|   |   |   |   |   |   |--- mentalhealth >  9.50\n",
      "|   |   |   |   |   |   |   |--- class: 1\n",
      "|   |   |   |   |--- bmi >  20.10\n",
      "|   |   |   |   |   |--- sleeptime <= 11.00\n",
      "|   |   |   |   |   |   |--- agecategory=80 or older <= 0.50\n",
      "|   |   |   |   |   |   |   |--- bmi <= 39.57\n",
      "|   |   |   |   |   |   |   |   |--- diabetic=no, borderline diabetes <= 0.50\n",
      "|   |   |   |   |   |   |   |   |   |--- class: 0\n",
      "|   |   |   |   |   |   |   |   |--- diabetic=no, borderline diabetes >  0.50\n",
      "|   |   |   |   |   |   |   |   |   |--- class: 1\n",
      "|   |   |   |   |   |   |   |--- bmi >  39.57\n",
      "|   |   |   |   |   |   |   |   |--- sleeptime <= 7.50\n",
      "|   |   |   |   |   |   |   |   |   |--- class: 0\n",
      "|   |   |   |   |   |   |   |   |--- sleeptime >  7.50\n",
      "|   |   |   |   |   |   |   |   |   |--- class: 0\n",
      "|   |   |   |   |   |   |--- agecategory=80 or older >  0.50\n",
      "|   |   |   |   |   |   |   |--- sleeptime <= 5.50\n",
      "|   |   |   |   |   |   |   |   |--- diabetic=yes <= 0.50\n",
      "|   |   |   |   |   |   |   |   |   |--- class: 1\n",
      "|   |   |   |   |   |   |   |   |--- diabetic=yes >  0.50\n",
      "|   |   |   |   |   |   |   |   |   |--- class: 0\n",
      "|   |   |   |   |   |   |   |--- sleeptime >  5.50\n",
      "|   |   |   |   |   |   |   |   |--- bmi <= 30.44\n",
      "|   |   |   |   |   |   |   |   |   |--- class: 0\n",
      "|   |   |   |   |   |   |   |   |--- bmi >  30.44\n",
      "|   |   |   |   |   |   |   |   |   |--- class: 0\n",
      "|   |   |   |   |   |--- sleeptime >  11.00\n",
      "|   |   |   |   |   |   |--- mentalhealth <= 1.00\n",
      "|   |   |   |   |   |   |   |--- smoking=yes <= 0.50\n",
      "|   |   |   |   |   |   |   |   |--- class: 1\n",
      "|   |   |   |   |   |   |   |--- smoking=yes >  0.50\n",
      "|   |   |   |   |   |   |   |   |--- class: 0\n",
      "|   |   |   |   |   |   |--- mentalhealth >  1.00\n",
      "|   |   |   |   |   |   |   |--- bmi <= 21.58\n",
      "|   |   |   |   |   |   |   |   |--- class: 0\n",
      "|   |   |   |   |   |   |   |--- bmi >  21.58\n",
      "|   |   |   |   |   |   |   |   |--- class: 1\n",
      "|   |   |--- sex=male >  0.50\n",
      "|   |   |   |--- agecategory=35-39 <= 0.50\n",
      "|   |   |   |   |--- bmi <= 26.96\n",
      "|   |   |   |   |   |--- bmi <= 26.89\n",
      "|   |   |   |   |   |   |--- physicalhealth <= 14.50\n",
      "|   |   |   |   |   |   |   |--- diffwalking=no <= 0.50\n",
      "|   |   |   |   |   |   |   |   |--- sleeptime <= 7.50\n",
      "|   |   |   |   |   |   |   |   |   |--- class: 0\n",
      "|   |   |   |   |   |   |   |   |--- sleeptime >  7.50\n",
      "|   |   |   |   |   |   |   |   |   |--- class: 0\n",
      "|   |   |   |   |   |   |   |--- diffwalking=no >  0.50\n",
      "|   |   |   |   |   |   |   |   |--- alcoholdrinking=no <= 0.50\n",
      "|   |   |   |   |   |   |   |   |   |--- class: 0\n",
      "|   |   |   |   |   |   |   |   |--- alcoholdrinking=no >  0.50\n",
      "|   |   |   |   |   |   |   |   |   |--- class: 1\n",
      "|   |   |   |   |   |   |--- physicalhealth >  14.50\n",
      "|   |   |   |   |   |   |   |--- agecategory=60-64 <= 0.50\n",
      "|   |   |   |   |   |   |   |   |--- physicalhealth <= 19.50\n",
      "|   |   |   |   |   |   |   |   |   |--- class: 1\n",
      "|   |   |   |   |   |   |   |   |--- physicalhealth >  19.50\n",
      "|   |   |   |   |   |   |   |   |   |--- class: 1\n",
      "|   |   |   |   |   |   |   |--- agecategory=60-64 >  0.50\n",
      "|   |   |   |   |   |   |   |   |--- bmi <= 20.90\n",
      "|   |   |   |   |   |   |   |   |   |--- class: 1\n",
      "|   |   |   |   |   |   |   |   |--- bmi >  20.90\n",
      "|   |   |   |   |   |   |   |   |   |--- class: 0\n",
      "|   |   |   |   |   |--- bmi >  26.89\n",
      "|   |   |   |   |   |   |--- class: 0\n",
      "|   |   |   |   |--- bmi >  26.96\n",
      "|   |   |   |   |   |--- kidneydisease=no <= 0.50\n",
      "|   |   |   |   |   |   |--- agecategory=65-69 <= 0.50\n",
      "|   |   |   |   |   |   |   |--- agecategory=45-49 <= 0.50\n",
      "|   |   |   |   |   |   |   |   |--- agecategory=75-79 <= 0.50\n",
      "|   |   |   |   |   |   |   |   |   |--- class: 1\n",
      "|   |   |   |   |   |   |   |   |--- agecategory=75-79 >  0.50\n",
      "|   |   |   |   |   |   |   |   |   |--- class: 1\n",
      "|   |   |   |   |   |   |   |--- agecategory=45-49 >  0.50\n",
      "|   |   |   |   |   |   |   |   |--- class: 0\n",
      "|   |   |   |   |   |   |--- agecategory=65-69 >  0.50\n",
      "|   |   |   |   |   |   |   |--- skincancer=no <= 0.50\n",
      "|   |   |   |   |   |   |   |   |--- class: 0\n",
      "|   |   |   |   |   |   |   |--- skincancer=no >  0.50\n",
      "|   |   |   |   |   |   |   |   |--- diabetic=no <= 0.50\n",
      "|   |   |   |   |   |   |   |   |   |--- class: 1\n",
      "|   |   |   |   |   |   |   |   |--- diabetic=no >  0.50\n",
      "|   |   |   |   |   |   |   |   |   |--- class: 0\n",
      "|   |   |   |   |   |--- kidneydisease=no >  0.50\n",
      "|   |   |   |   |   |   |--- diabetic=yes <= 0.50\n",
      "|   |   |   |   |   |   |   |--- skincancer=no <= 0.50\n",
      "|   |   |   |   |   |   |   |   |--- bmi <= 31.48\n",
      "|   |   |   |   |   |   |   |   |   |--- class: 1\n",
      "|   |   |   |   |   |   |   |   |--- bmi >  31.48\n",
      "|   |   |   |   |   |   |   |   |   |--- class: 0\n",
      "|   |   |   |   |   |   |   |--- skincancer=no >  0.50\n",
      "|   |   |   |   |   |   |   |   |--- sleeptime <= 3.50\n",
      "|   |   |   |   |   |   |   |   |   |--- class: 1\n",
      "|   |   |   |   |   |   |   |   |--- sleeptime >  3.50\n",
      "|   |   |   |   |   |   |   |   |   |--- class: 1\n",
      "|   |   |   |   |   |   |--- diabetic=yes >  0.50\n",
      "|   |   |   |   |   |   |   |--- bmi <= 44.83\n",
      "|   |   |   |   |   |   |   |   |--- physicalhealth <= 29.00\n",
      "|   |   |   |   |   |   |   |   |   |--- class: 1\n",
      "|   |   |   |   |   |   |   |   |--- physicalhealth >  29.00\n",
      "|   |   |   |   |   |   |   |   |   |--- class: 1\n",
      "|   |   |   |   |   |   |   |--- bmi >  44.83\n",
      "|   |   |   |   |   |   |   |   |--- bmi <= 48.74\n",
      "|   |   |   |   |   |   |   |   |   |--- class: 0\n",
      "|   |   |   |   |   |   |   |   |--- bmi >  48.74\n",
      "|   |   |   |   |   |   |   |   |   |--- class: 1\n",
      "|   |   |   |--- agecategory=35-39 >  0.50\n",
      "|   |   |   |   |--- class: 0\n",
      "\n"
     ]
    },
    {
     "name": "stderr",
     "output_type": "stream",
     "text": [
      "C:\\Users\\USER\\anaconda3\\envs\\keras_env\\lib\\site-packages\\sklearn\\utils\\deprecation.py:87: FutureWarning: Function get_feature_names is deprecated; get_feature_names is deprecated in 1.0 and will be removed in 1.2. Please use get_feature_names_out instead.\n",
      "  warnings.warn(msg, category=FutureWarning)\n"
     ]
    }
   ],
   "source": [
    "print(export_text(dt, feature_names=dv.get_feature_names()))"
   ]
  },
  {
   "cell_type": "code",
   "execution_count": 210,
   "id": "2d3885be",
   "metadata": {},
   "outputs": [
    {
     "name": "stdout",
     "output_type": "stream",
     "text": [
      "   1 -> 0.566\n",
      "   2 -> 0.659\n",
      "   3 -> 0.703\n",
      "   4 -> 0.732\n",
      "   5 -> 0.753\n",
      "   6 -> 0.774\n",
      "   9 -> 0.808\n",
      "  12 -> 0.784\n",
      "  15 -> 0.709\n",
      "  20 -> 0.566\n",
      "None -> 0.587\n"
     ]
    }
   ],
   "source": [
    "depths = [1, 2, 3, 4, 5, 6, 9, 12, 15, 20, None]\n",
    "\n",
    "for depth in depths: \n",
    "    dt = DecisionTreeClassifier(max_depth=depth)\n",
    "    dt.fit(X_train, y_train)\n",
    "    \n",
    "    y_pred = dt.predict_proba(X_val)[:, 1]\n",
    "    auc = roc_auc_score(y_val, y_pred)\n",
    "    \n",
    "    print('%4s -> %.3f' % (depth, auc))"
   ]
  },
  {
   "cell_type": "markdown",
   "id": "d2d13c99",
   "metadata": {},
   "source": [
    "It is still worse than the **Logistic Regression** Model by 4%"
   ]
  },
  {
   "cell_type": "code",
   "execution_count": 211,
   "id": "3b245ab6",
   "metadata": {},
   "outputs": [],
   "source": [
    "scores = []\n",
    "\n",
    "for depth in [6, 9, 12]:\n",
    "    for min_sample in [1, 5, 10, 15, 20, 500, 100, 200]:\n",
    "        dt = DecisionTreeClassifier(max_depth=depth, min_samples_leaf=min_sample)\n",
    "        dt.fit(X_train, y_train)\n",
    "\n",
    "        y_pred = dt.predict_proba(X_val)[:, 1]\n",
    "        auc = roc_auc_score(y_val, y_pred)\n",
    "        \n",
    "        scores.append((depth, min_sample, auc))"
   ]
  },
  {
   "cell_type": "code",
   "execution_count": 212,
   "id": "759fcb43",
   "metadata": {},
   "outputs": [],
   "source": [
    "columns = ['max_depth', 'min_samples_leaf', 'auc']\n",
    "df_scores = pd.DataFrame(scores, columns=columns)"
   ]
  },
  {
   "cell_type": "code",
   "execution_count": 213,
   "id": "cb2e0386",
   "metadata": {},
   "outputs": [
    {
     "data": {
      "text/html": [
       "<div>\n",
       "<style scoped>\n",
       "    .dataframe tbody tr th:only-of-type {\n",
       "        vertical-align: middle;\n",
       "    }\n",
       "\n",
       "    .dataframe tbody tr th {\n",
       "        vertical-align: top;\n",
       "    }\n",
       "\n",
       "    .dataframe thead tr th {\n",
       "        text-align: left;\n",
       "    }\n",
       "\n",
       "    .dataframe thead tr:last-of-type th {\n",
       "        text-align: right;\n",
       "    }\n",
       "</style>\n",
       "<table border=\"1\" class=\"dataframe\">\n",
       "  <thead>\n",
       "    <tr>\n",
       "      <th></th>\n",
       "      <th colspan=\"3\" halign=\"left\">auc</th>\n",
       "    </tr>\n",
       "    <tr>\n",
       "      <th>max_depth</th>\n",
       "      <th>6</th>\n",
       "      <th>9</th>\n",
       "      <th>12</th>\n",
       "    </tr>\n",
       "    <tr>\n",
       "      <th>min_samples_leaf</th>\n",
       "      <th></th>\n",
       "      <th></th>\n",
       "      <th></th>\n",
       "    </tr>\n",
       "  </thead>\n",
       "  <tbody>\n",
       "    <tr>\n",
       "      <th>1</th>\n",
       "      <td>0.774</td>\n",
       "      <td>0.808</td>\n",
       "      <td>0.784</td>\n",
       "    </tr>\n",
       "    <tr>\n",
       "      <th>5</th>\n",
       "      <td>0.774</td>\n",
       "      <td>0.811</td>\n",
       "      <td>0.792</td>\n",
       "    </tr>\n",
       "    <tr>\n",
       "      <th>10</th>\n",
       "      <td>0.775</td>\n",
       "      <td>0.813</td>\n",
       "      <td>0.802</td>\n",
       "    </tr>\n",
       "    <tr>\n",
       "      <th>15</th>\n",
       "      <td>0.774</td>\n",
       "      <td>0.815</td>\n",
       "      <td>0.813</td>\n",
       "    </tr>\n",
       "    <tr>\n",
       "      <th>20</th>\n",
       "      <td>0.774</td>\n",
       "      <td>0.814</td>\n",
       "      <td>0.816</td>\n",
       "    </tr>\n",
       "    <tr>\n",
       "      <th>100</th>\n",
       "      <td>0.774</td>\n",
       "      <td>0.816</td>\n",
       "      <td>0.826</td>\n",
       "    </tr>\n",
       "    <tr>\n",
       "      <th>200</th>\n",
       "      <td>0.775</td>\n",
       "      <td>0.816</td>\n",
       "      <td>0.828</td>\n",
       "    </tr>\n",
       "    <tr>\n",
       "      <th>500</th>\n",
       "      <td>0.774</td>\n",
       "      <td>0.815</td>\n",
       "      <td>0.826</td>\n",
       "    </tr>\n",
       "  </tbody>\n",
       "</table>\n",
       "</div>"
      ],
      "text/plain": [
       "                    auc              \n",
       "max_depth            6      9      12\n",
       "min_samples_leaf                     \n",
       "1                 0.774  0.808  0.784\n",
       "5                 0.774  0.811  0.792\n",
       "10                0.775  0.813  0.802\n",
       "15                0.774  0.815  0.813\n",
       "20                0.774  0.814  0.816\n",
       "100               0.774  0.816  0.826\n",
       "200               0.775  0.816  0.828\n",
       "500               0.774  0.815  0.826"
      ]
     },
     "execution_count": 213,
     "metadata": {},
     "output_type": "execute_result"
    }
   ],
   "source": [
    "df_scores_pivot = df_scores.pivot(index='min_samples_leaf', columns=['max_depth'], values=['auc'])\n",
    "df_scores_pivot.round(3)"
   ]
  },
  {
   "cell_type": "code",
   "execution_count": 214,
   "id": "6174ea92",
   "metadata": {},
   "outputs": [
    {
     "data": {
      "text/plain": [
       "<AxesSubplot:xlabel='None-max_depth', ylabel='min_samples_leaf'>"
      ]
     },
     "execution_count": 214,
     "metadata": {},
     "output_type": "execute_result"
    },
    {
     "data": {
      "image/png": "[encoded data removed]",
      "text/plain": [
       "<Figure size 432x288 with 2 Axes>"
      ]
     },
     "metadata": {
      "needs_background": "light"
     },
     "output_type": "display_data"
    }
   ],
   "source": [
    "sns.heatmap(df_scores_pivot, annot=True, fmt=\".3f\", color='red')"
   ]
  },
  {
   "cell_type": "markdown",
   "id": "7f60a4f8",
   "metadata": {},
   "source": [
    "We can see that best params for this tree is **min_sample_leaf=200** and **max_depth=12** but I will use **min_sample_leaf=100** and **max_depth=12** since there is a very little difference"
   ]
  },
  {
   "cell_type": "code",
   "execution_count": 219,
   "id": "c087bbf5",
   "metadata": {},
   "outputs": [
    {
     "data": {
      "text/plain": [
       "DecisionTreeClassifier(max_depth=12, min_samples_leaf=200)"
      ]
     },
     "execution_count": 219,
     "metadata": {},
     "output_type": "execute_result"
    }
   ],
   "source": [
    "dt = DecisionTreeClassifier(max_depth=12, min_samples_leaf=200)\n",
    "dt.fit(X_train, y_train)"
   ]
  },
  {
   "cell_type": "code",
   "execution_count": 220,
   "id": "e72ede2c",
   "metadata": {},
   "outputs": [
    {
     "name": "stdout",
     "output_type": "stream",
     "text": [
      "val: 0.8276884958149023\n"
     ]
    }
   ],
   "source": [
    "y_pred = dt.predict_proba(X_val)[:, 1]\n",
    "auc = roc_auc_score(y_val, y_pred)\n",
    "print('val:', auc)"
   ]
  },
  {
   "cell_type": "markdown",
   "id": "dd142736",
   "metadata": {},
   "source": [
    "We still have a **2%** drop compared to **Logistic Regression**"
   ]
  },
  {
   "cell_type": "code",
   "execution_count": 221,
   "id": "4256c1ec",
   "metadata": {},
   "outputs": [],
   "source": [
    "fpr, tpr, thresholds = roc_curve(y_val, y_pred)"
   ]
  },
  {
   "cell_type": "code",
   "execution_count": 222,
   "id": "68bc8257",
   "metadata": {},
   "outputs": [
    {
     "data": {
      "text/plain": [
       "<matplotlib.legend.Legend at 0x226f7c9e988>"
      ]
     },
     "execution_count": 222,
     "metadata": {},
     "output_type": "execute_result"
    },
    {
     "data": {
      "image/png": "[encoded data removed]",
      "text/plain": [
       "<Figure size 360x360 with 1 Axes>"
      ]
     },
     "metadata": {
      "needs_background": "light"
     },
     "output_type": "display_data"
    }
   ],
   "source": [
    "plt.figure(figsize=(5,5))\n",
    "\n",
    "plt.plot(fpr, tpr, label='model')\n",
    "plt.plot([0,1], [0,1], label='random', linestyle='--')\n",
    "\n",
    "plt.xlabel('FPR')\n",
    "plt.ylabel('TPR')\n",
    "\n",
    "plt.legend()"
   ]
  },
  {
   "cell_type": "markdown",
   "id": "1a0af16d",
   "metadata": {},
   "source": [
    "### Random Forest & Ensembles"
   ]
  },
  {
   "cell_type": "code",
   "execution_count": 223,
   "id": "6ee19db1",
   "metadata": {},
   "outputs": [],
   "source": [
    "scores = []\n",
    "\n",
    "for n in range(10, 201, 10):\n",
    "    rf = RandomForestClassifier(n_estimators=n, random_state=1)\n",
    "    rf.fit(X_train, y_train)\n",
    "\n",
    "    y_pred = rf.predict_proba(X_val)[:, 1]\n",
    "    auc = roc_auc_score(y_val, y_pred)\n",
    "    \n",
    "    scores.append((n, auc))"
   ]
  },
  {
   "cell_type": "code",
   "execution_count": 224,
   "id": "33b7e573",
   "metadata": {},
   "outputs": [],
   "source": [
    "df_scores = pd.DataFrame(scores, columns=['n_estimators', 'auc'])"
   ]
  },
  {
   "cell_type": "code",
   "execution_count": 225,
   "id": "b7863945",
   "metadata": {},
   "outputs": [
    {
     "data": {
      "text/html": [
       "<div>\n",
       "<style scoped>\n",
       "    .dataframe tbody tr th:only-of-type {\n",
       "        vertical-align: middle;\n",
       "    }\n",
       "\n",
       "    .dataframe tbody tr th {\n",
       "        vertical-align: top;\n",
       "    }\n",
       "\n",
       "    .dataframe thead th {\n",
       "        text-align: right;\n",
       "    }\n",
       "</style>\n",
       "<table border=\"1\" class=\"dataframe\">\n",
       "  <thead>\n",
       "    <tr style=\"text-align: right;\">\n",
       "      <th></th>\n",
       "      <th>n_estimators</th>\n",
       "      <th>auc</th>\n",
       "    </tr>\n",
       "  </thead>\n",
       "  <tbody>\n",
       "    <tr>\n",
       "      <th>0</th>\n",
       "      <td>10</td>\n",
       "      <td>0.735963</td>\n",
       "    </tr>\n",
       "    <tr>\n",
       "      <th>1</th>\n",
       "      <td>20</td>\n",
       "      <td>0.758673</td>\n",
       "    </tr>\n",
       "    <tr>\n",
       "      <th>2</th>\n",
       "      <td>30</td>\n",
       "      <td>0.768745</td>\n",
       "    </tr>\n",
       "    <tr>\n",
       "      <th>3</th>\n",
       "      <td>40</td>\n",
       "      <td>0.773777</td>\n",
       "    </tr>\n",
       "    <tr>\n",
       "      <th>4</th>\n",
       "      <td>50</td>\n",
       "      <td>0.777173</td>\n",
       "    </tr>\n",
       "    <tr>\n",
       "      <th>5</th>\n",
       "      <td>60</td>\n",
       "      <td>0.780219</td>\n",
       "    </tr>\n",
       "    <tr>\n",
       "      <th>6</th>\n",
       "      <td>70</td>\n",
       "      <td>0.781478</td>\n",
       "    </tr>\n",
       "    <tr>\n",
       "      <th>7</th>\n",
       "      <td>80</td>\n",
       "      <td>0.782666</td>\n",
       "    </tr>\n",
       "    <tr>\n",
       "      <th>8</th>\n",
       "      <td>90</td>\n",
       "      <td>0.784137</td>\n",
       "    </tr>\n",
       "    <tr>\n",
       "      <th>9</th>\n",
       "      <td>100</td>\n",
       "      <td>0.785017</td>\n",
       "    </tr>\n",
       "    <tr>\n",
       "      <th>10</th>\n",
       "      <td>110</td>\n",
       "      <td>0.785743</td>\n",
       "    </tr>\n",
       "    <tr>\n",
       "      <th>11</th>\n",
       "      <td>120</td>\n",
       "      <td>0.786274</td>\n",
       "    </tr>\n",
       "    <tr>\n",
       "      <th>12</th>\n",
       "      <td>130</td>\n",
       "      <td>0.786858</td>\n",
       "    </tr>\n",
       "    <tr>\n",
       "      <th>13</th>\n",
       "      <td>140</td>\n",
       "      <td>0.787151</td>\n",
       "    </tr>\n",
       "    <tr>\n",
       "      <th>14</th>\n",
       "      <td>150</td>\n",
       "      <td>0.787384</td>\n",
       "    </tr>\n",
       "    <tr>\n",
       "      <th>15</th>\n",
       "      <td>160</td>\n",
       "      <td>0.788145</td>\n",
       "    </tr>\n",
       "    <tr>\n",
       "      <th>16</th>\n",
       "      <td>170</td>\n",
       "      <td>0.788646</td>\n",
       "    </tr>\n",
       "    <tr>\n",
       "      <th>17</th>\n",
       "      <td>180</td>\n",
       "      <td>0.788808</td>\n",
       "    </tr>\n",
       "    <tr>\n",
       "      <th>18</th>\n",
       "      <td>190</td>\n",
       "      <td>0.788831</td>\n",
       "    </tr>\n",
       "    <tr>\n",
       "      <th>19</th>\n",
       "      <td>200</td>\n",
       "      <td>0.789121</td>\n",
       "    </tr>\n",
       "  </tbody>\n",
       "</table>\n",
       "</div>"
      ],
      "text/plain": [
       "    n_estimators       auc\n",
       "0             10  0.735963\n",
       "1             20  0.758673\n",
       "2             30  0.768745\n",
       "3             40  0.773777\n",
       "4             50  0.777173\n",
       "5             60  0.780219\n",
       "6             70  0.781478\n",
       "7             80  0.782666\n",
       "8             90  0.784137\n",
       "9            100  0.785017\n",
       "10           110  0.785743\n",
       "11           120  0.786274\n",
       "12           130  0.786858\n",
       "13           140  0.787151\n",
       "14           150  0.787384\n",
       "15           160  0.788145\n",
       "16           170  0.788646\n",
       "17           180  0.788808\n",
       "18           190  0.788831\n",
       "19           200  0.789121"
      ]
     },
     "execution_count": 225,
     "metadata": {},
     "output_type": "execute_result"
    }
   ],
   "source": [
    "df_scores"
   ]
  },
  {
   "cell_type": "code",
   "execution_count": 226,
   "id": "f2fe3a2f",
   "metadata": {},
   "outputs": [
    {
     "data": {
      "text/plain": [
       "[<matplotlib.lines.Line2D at 0x226f7a203c8>]"
      ]
     },
     "execution_count": 226,
     "metadata": {},
     "output_type": "execute_result"
    },
    {
     "data": {
      "image/png": "[encoded data removed]",
      "text/plain": [
       "<Figure size 432x288 with 1 Axes>"
      ]
     },
     "metadata": {
      "needs_background": "light"
     },
     "output_type": "display_data"
    }
   ],
   "source": [
    "plt.plot(df_scores.n_estimators, df_scores.auc)"
   ]
  },
  {
   "cell_type": "code",
   "execution_count": 227,
   "id": "7d474d4c",
   "metadata": {},
   "outputs": [],
   "source": [
    "scores = []\n",
    "\n",
    "# max-depths\n",
    "for d in [10, 15, 20]:\n",
    "    # no of estimators - no of trees\n",
    "    for n in range(10, 201, 10):\n",
    "        rf = RandomForestClassifier(n_estimators=n,\n",
    "                                    max_depth=d,\n",
    "                                    random_state=1)\n",
    "        rf.fit(X_train, y_train)\n",
    "\n",
    "        y_pred = rf.predict_proba(X_val)[:, 1]\n",
    "        auc = roc_auc_score(y_val, y_pred)\n",
    "\n",
    "        scores.append((d, n, auc))"
   ]
  },
  {
   "cell_type": "code",
   "execution_count": 228,
   "id": "13860a09",
   "metadata": {},
   "outputs": [],
   "source": [
    "columns = ['max_depth', 'n_estimators', 'auc']\n",
    "df_scores = pd.DataFrame(scores, columns=columns)"
   ]
  },
  {
   "cell_type": "code",
   "execution_count": 229,
   "id": "646b6992",
   "metadata": {},
   "outputs": [
    {
     "data": {
      "text/plain": [
       "<matplotlib.legend.Legend at 0x226f7028f88>"
      ]
     },
     "execution_count": 229,
     "metadata": {},
     "output_type": "execute_result"
    },
    {
     "data": {
      "image/png": "[encoded data removed]",
      "text/plain": [
       "<Figure size 432x288 with 1 Axes>"
      ]
     },
     "metadata": {
      "needs_background": "light"
     },
     "output_type": "display_data"
    }
   ],
   "source": [
    "for d in [10, 15, 20]:\n",
    "    df_subset = df_scores[df_scores.max_depth == d]\n",
    "    \n",
    "    plt.plot(df_subset.n_estimators, df_subset.auc,\n",
    "             label='max_depth=%d' % d)\n",
    "\n",
    "plt.legend()"
   ]
  },
  {
   "cell_type": "markdown",
   "id": "6f801aac",
   "metadata": {},
   "source": [
    "Best max_depth = 10"
   ]
  },
  {
   "cell_type": "code",
   "execution_count": 232,
   "id": "376961af",
   "metadata": {},
   "outputs": [],
   "source": [
    "max_depth=10"
   ]
  },
  {
   "cell_type": "code",
   "execution_count": 233,
   "id": "dbd57da6",
   "metadata": {},
   "outputs": [],
   "source": [
    "scores = []\n",
    "\n",
    "for s in [1, 3, 5]:\n",
    "    for n in range(10, 201, 10):\n",
    "        rf = RandomForestClassifier(n_estimators=n,\n",
    "                                    max_depth=max_depth,\n",
    "                                    min_samples_leaf=s,\n",
    "                                    random_state=1)\n",
    "        rf.fit(X_train, y_train)\n",
    "\n",
    "        y_pred = rf.predict_proba(X_val)[:, 1]\n",
    "        auc = roc_auc_score(y_val, y_pred)\n",
    "\n",
    "        scores.append((s, n, auc))"
   ]
  },
  {
   "cell_type": "code",
   "execution_count": 234,
   "id": "c3835962",
   "metadata": {},
   "outputs": [],
   "source": [
    "columns = ['min_samples_leaf', 'n_estimators', 'auc']\n",
    "df_scores = pd.DataFrame(scores, columns=columns)"
   ]
  },
  {
   "cell_type": "code",
   "execution_count": 235,
   "id": "7e87430c",
   "metadata": {},
   "outputs": [
    {
     "data": {
      "text/plain": [
       "<matplotlib.legend.Legend at 0x226f73d8548>"
      ]
     },
     "execution_count": 235,
     "metadata": {},
     "output_type": "execute_result"
    },
    {
     "data": {
      "image/png": "[encoded data removed]",
      "text/plain": [
       "<Figure size 432x288 with 1 Axes>"
      ]
     },
     "metadata": {
      "needs_background": "light"
     },
     "output_type": "display_data"
    }
   ],
   "source": [
    "colors = ['red', 'blue', 'orange']\n",
    "\n",
    "values = [1, 3, 5]\n",
    "\n",
    "for s, col in zip(values, colors):\n",
    "    df_subset = df_scores[df_scores.min_samples_leaf == s]\n",
    "    \n",
    "    plt.plot(df_subset.n_estimators, df_subset.auc,\n",
    "             color=col,\n",
    "             label='min_samples_leaf=%d' % s)\n",
    "\n",
    "plt.legend()"
   ]
  },
  {
   "cell_type": "code",
   "execution_count": 236,
   "id": "fb4a899e",
   "metadata": {},
   "outputs": [],
   "source": [
    "min_samples_leaf = 1"
   ]
  },
  {
   "cell_type": "code",
   "execution_count": 237,
   "id": "cb28eeed",
   "metadata": {},
   "outputs": [
    {
     "data": {
      "text/plain": [
       "RandomForestClassifier(max_depth=10, n_estimators=200, random_state=1)"
      ]
     },
     "execution_count": 237,
     "metadata": {},
     "output_type": "execute_result"
    }
   ],
   "source": [
    "rf = RandomForestClassifier(n_estimators=200,\n",
    "                            max_depth=max_depth,\n",
    "                            min_samples_leaf=min_samples_leaf,\n",
    "                            random_state=1)\n",
    "rf.fit(X_train, y_train)"
   ]
  },
  {
   "cell_type": "code",
   "execution_count": 238,
   "id": "cd233ea5",
   "metadata": {},
   "outputs": [
    {
     "name": "stdout",
     "output_type": "stream",
     "text": [
      "val: 0.8309470653257045\n"
     ]
    }
   ],
   "source": [
    "y_pred = rf.predict_proba(X_val)[:, 1]\n",
    "auc = roc_auc_score(y_val, y_pred)\n",
    "print('val:', auc)"
   ]
  },
  {
   "cell_type": "markdown",
   "id": "df778c9d",
   "metadata": {},
   "source": [
    "Still a little bit worse than our **Logistic Regression** model by **1%**"
   ]
  },
  {
   "cell_type": "markdown",
   "id": "45131879",
   "metadata": {},
   "source": [
    "### Gradient Boosting with XGBoost"
   ]
  },
  {
   "cell_type": "code",
   "execution_count": 240,
   "id": "bb3bdb4a",
   "metadata": {},
   "outputs": [],
   "source": [
    "# we have to convert our data to a form that can be processed by xgBoost\n",
    "features = dv.get_feature_names_out()\n",
    "dtrain = xgb.DMatrix(X_train, label=y_train, feature_names=features)\n",
    "dval = xgb.DMatrix(X_val, label=y_val, feature_names=features)"
   ]
  },
  {
   "cell_type": "code",
   "execution_count": 241,
   "id": "c8c35dd8",
   "metadata": {},
   "outputs": [
    {
     "data": {
      "text/plain": [
       "array(['agecategory=18-24', 'agecategory=25-29', 'agecategory=30-34',\n",
       "       'agecategory=35-39', 'agecategory=40-44', 'agecategory=45-49',\n",
       "       'agecategory=50-54', 'agecategory=55-59', 'agecategory=60-64',\n",
       "       'agecategory=65-69', 'agecategory=70-74', 'agecategory=75-79',\n",
       "       'agecategory=80 or older', 'alcoholdrinking=no',\n",
       "       'alcoholdrinking=yes', 'asthma=no', 'asthma=yes', 'bmi',\n",
       "       'diabetic=no', 'diabetic=no, borderline diabetes', 'diabetic=yes',\n",
       "       'diabetic=yes (during pregnancy)', 'diffwalking=no',\n",
       "       'diffwalking=yes', 'genhealth=excellent', 'genhealth=fair',\n",
       "       'genhealth=good', 'genhealth=poor', 'genhealth=very good',\n",
       "       'kidneydisease=no', 'kidneydisease=yes', 'mentalhealth',\n",
       "       'physicalactivity=no', 'physicalactivity=yes', 'physicalhealth',\n",
       "       'race=american indian/alaskan native', 'race=asian', 'race=black',\n",
       "       'race=hispanic', 'race=other', 'race=white', 'sex=female',\n",
       "       'sex=male', 'skincancer=no', 'skincancer=yes', 'sleeptime',\n",
       "       'smoking=no', 'smoking=yes', 'stroke=no', 'stroke=yes'],\n",
       "      dtype=object)"
      ]
     },
     "execution_count": 241,
     "metadata": {},
     "output_type": "execute_result"
    }
   ],
   "source": [
    "features"
   ]
  },
  {
   "cell_type": "code",
   "execution_count": 242,
   "id": "720bccf2",
   "metadata": {},
   "outputs": [],
   "source": [
    "# basic parameters for an xgBoost model\n",
    "xgb_params = {\n",
    "    'eta': 0.3, \n",
    "    'max_depth': 6,\n",
    "    'min_child_weight': 1,\n",
    "    \n",
    "    'objective': 'binary:logistic',\n",
    "    'nthread': 8,\n",
    "    'seed': 1,\n",
    "    'verbosity': 1,\n",
    "}\n",
    "\n",
    "model = xgb.train(xgb_params, dtrain, num_boost_round=10)"
   ]
  },
  {
   "cell_type": "code",
   "execution_count": 243,
   "id": "feb88cbd",
   "metadata": {},
   "outputs": [
    {
     "data": {
      "text/plain": [
       "0.8313894424154566"
      ]
     },
     "execution_count": 243,
     "metadata": {},
     "output_type": "execute_result"
    }
   ],
   "source": [
    "y_pred = model.predict(dval)\n",
    "roc_auc_score(y_val, y_pred)"
   ]
  },
  {
   "cell_type": "code",
   "execution_count": 244,
   "id": "712a8cd4",
   "metadata": {},
   "outputs": [],
   "source": [
    "watchlist = [(dtrain, 'train'), (dval, 'val')]"
   ]
  },
  {
   "cell_type": "code",
   "execution_count": 245,
   "id": "6a1533f1",
   "metadata": {},
   "outputs": [],
   "source": [
    "%%capture output\n",
    "\n",
    "xgb_params = {\n",
    "    'eta': 0.3, \n",
    "    'max_depth': 6,\n",
    "    'min_child_weight': 1,\n",
    "    \n",
    "    'objective': 'binary:logistic',\n",
    "    'eval_metric': 'auc',\n",
    "\n",
    "    'nthread': 8,\n",
    "    'seed': 1,\n",
    "    'verbosity': 1,\n",
    "}\n",
    "\n",
    "model = xgb.train(xgb_params, dtrain, num_boost_round=200,\n",
    "                  verbose_eval=5,\n",
    "                  evals=watchlist)"
   ]
  },
  {
   "cell_type": "code",
   "execution_count": 246,
   "id": "d97735cf",
   "metadata": {},
   "outputs": [],
   "source": [
    "def parse_xgb_output(output):\n",
    "    results = []\n",
    "\n",
    "    for line in output.stdout.strip().split('\\n'):\n",
    "        it_line, train_line, val_line = line.split('\\t')\n",
    "\n",
    "        it = int(it_line.strip('[]'))\n",
    "        train = float(train_line.split(':')[1])\n",
    "        val = float(val_line.split(':')[1])\n",
    "\n",
    "        results.append((it, train, val))\n",
    "    \n",
    "    columns = ['num_iter', 'train_auc', 'val_auc']\n",
    "    df_results = pd.DataFrame(results, columns=columns)\n",
    "    return df_results"
   ]
  },
  {
   "cell_type": "code",
   "execution_count": 247,
   "id": "f14ed730",
   "metadata": {},
   "outputs": [],
   "source": [
    "df_score = parse_xgb_output(output)"
   ]
  },
  {
   "cell_type": "code",
   "execution_count": 248,
   "id": "b15787f6",
   "metadata": {},
   "outputs": [
    {
     "data": {
      "text/plain": [
       "<matplotlib.legend.Legend at 0x226f7d98908>"
      ]
     },
     "execution_count": 248,
     "metadata": {},
     "output_type": "execute_result"
    },
    {
     "data": {
      "image/png": "[encoded data removed]",
      "text/plain": [
       "<Figure size 432x288 with 1 Axes>"
      ]
     },
     "metadata": {
      "needs_background": "light"
     },
     "output_type": "display_data"
    }
   ],
   "source": [
    "plt.plot(df_score.num_iter, df_score.train_auc, label='train')\n",
    "plt.plot(df_score.num_iter, df_score.val_auc, label='val')\n",
    "plt.legend()"
   ]
  },
  {
   "cell_type": "markdown",
   "id": "56c375f4",
   "metadata": {},
   "source": [
    "It is over-fitting as we can see. As it grows it learns the training set well but it is quite bad at predicting a new dataset"
   ]
  },
  {
   "cell_type": "markdown",
   "id": "f61dca8d",
   "metadata": {},
   "source": [
    "### we tune hyper-parameters"
   ]
  },
  {
   "cell_type": "code",
   "execution_count": 249,
   "id": "fcd1d7bf",
   "metadata": {},
   "outputs": [],
   "source": [
    "scores = {}"
   ]
  },
  {
   "cell_type": "markdown",
   "id": "a196b44b",
   "metadata": {},
   "source": [
    "Tuning **learning rate**"
   ]
  },
  {
   "cell_type": "code",
   "execution_count": 261,
   "id": "055e793b",
   "metadata": {},
   "outputs": [],
   "source": [
    "%%capture output\n",
    "\n",
    "xgb_params = {\n",
    "    'eta': 1.0, \n",
    "    'max_depth': 6,\n",
    "    'min_child_weight': 1,\n",
    "    \n",
    "    'objective': 'binary:logistic',\n",
    "    'eval_metric': 'auc',\n",
    "\n",
    "    'nthread': 8,\n",
    "    'seed': 1,\n",
    "    'verbosity': 1,\n",
    "}\n",
    "\n",
    "model = xgb.train(xgb_params, dtrain, num_boost_round=200,\n",
    "                  verbose_eval=5,\n",
    "                  evals=watchlist)"
   ]
  },
  {
   "cell_type": "code",
   "execution_count": 262,
   "id": "90f0a273",
   "metadata": {},
   "outputs": [
    {
     "data": {
      "text/plain": [
       "'eta=1.0'"
      ]
     },
     "execution_count": 262,
     "metadata": {},
     "output_type": "execute_result"
    }
   ],
   "source": [
    "key = 'eta={}'.format(xgb_params['eta'])\n",
    "scores[key] = parse_xgb_output(output)\n",
    "key"
   ]
  },
  {
   "cell_type": "code",
   "execution_count": 263,
   "id": "df03df58",
   "metadata": {},
   "outputs": [
    {
     "data": {
      "text/plain": [
       "dict_keys(['eta=0.01', 'eta=0.05', 'eta=0.1', 'eta=0.3', 'eta=1.0'])"
      ]
     },
     "execution_count": 263,
     "metadata": {},
     "output_type": "execute_result"
    }
   ],
   "source": [
    "scores.keys()"
   ]
  },
  {
   "cell_type": "code",
   "execution_count": 265,
   "id": "4a8093fc",
   "metadata": {},
   "outputs": [
    {
     "data": {
      "text/plain": [
       "<matplotlib.legend.Legend at 0x226f6a7dc88>"
      ]
     },
     "execution_count": 265,
     "metadata": {},
     "output_type": "execute_result"
    },
    {
     "data": {
      "image/png": "[encoded data removed]",
      "text/plain": [
       "<Figure size 432x288 with 1 Axes>"
      ]
     },
     "metadata": {
      "needs_background": "light"
     },
     "output_type": "display_data"
    }
   ],
   "source": [
    "etas = ['eta=0.3', 'eta=0.1', 'eta=0.05']\n",
    "for eta in etas:\n",
    "    df_score = scores[eta]\n",
    "    plt.plot(df_score.num_iter, df_score.val_auc, label=eta)\n",
    "\n",
    "plt.legend()"
   ]
  },
  {
   "cell_type": "code",
   "execution_count": 271,
   "id": "20d7b020",
   "metadata": {},
   "outputs": [
    {
     "data": {
      "text/html": [
       "<div>\n",
       "<style scoped>\n",
       "    .dataframe tbody tr th:only-of-type {\n",
       "        vertical-align: middle;\n",
       "    }\n",
       "\n",
       "    .dataframe tbody tr th {\n",
       "        vertical-align: top;\n",
       "    }\n",
       "\n",
       "    .dataframe thead th {\n",
       "        text-align: right;\n",
       "    }\n",
       "</style>\n",
       "<table border=\"1\" class=\"dataframe\">\n",
       "  <thead>\n",
       "    <tr style=\"text-align: right;\">\n",
       "      <th></th>\n",
       "      <th>num_iter</th>\n",
       "      <th>train_auc</th>\n",
       "      <th>val_auc</th>\n",
       "    </tr>\n",
       "  </thead>\n",
       "  <tbody>\n",
       "    <tr>\n",
       "      <th>0</th>\n",
       "      <td>0</td>\n",
       "      <td>0.77534</td>\n",
       "      <td>0.77463</td>\n",
       "    </tr>\n",
       "    <tr>\n",
       "      <th>1</th>\n",
       "      <td>5</td>\n",
       "      <td>0.78695</td>\n",
       "      <td>0.78657</td>\n",
       "    </tr>\n",
       "    <tr>\n",
       "      <th>2</th>\n",
       "      <td>10</td>\n",
       "      <td>0.81297</td>\n",
       "      <td>0.81219</td>\n",
       "    </tr>\n",
       "    <tr>\n",
       "      <th>3</th>\n",
       "      <td>15</td>\n",
       "      <td>0.82072</td>\n",
       "      <td>0.81969</td>\n",
       "    </tr>\n",
       "    <tr>\n",
       "      <th>4</th>\n",
       "      <td>20</td>\n",
       "      <td>0.82688</td>\n",
       "      <td>0.82558</td>\n",
       "    </tr>\n",
       "    <tr>\n",
       "      <th>5</th>\n",
       "      <td>25</td>\n",
       "      <td>0.83267</td>\n",
       "      <td>0.83044</td>\n",
       "    </tr>\n",
       "    <tr>\n",
       "      <th>6</th>\n",
       "      <td>30</td>\n",
       "      <td>0.83746</td>\n",
       "      <td>0.83435</td>\n",
       "    </tr>\n",
       "    <tr>\n",
       "      <th>7</th>\n",
       "      <td>35</td>\n",
       "      <td>0.84144</td>\n",
       "      <td>0.83804</td>\n",
       "    </tr>\n",
       "    <tr>\n",
       "      <th>8</th>\n",
       "      <td>40</td>\n",
       "      <td>0.84368</td>\n",
       "      <td>0.83975</td>\n",
       "    </tr>\n",
       "    <tr>\n",
       "      <th>9</th>\n",
       "      <td>45</td>\n",
       "      <td>0.84539</td>\n",
       "      <td>0.84087</td>\n",
       "    </tr>\n",
       "    <tr>\n",
       "      <th>10</th>\n",
       "      <td>50</td>\n",
       "      <td>0.84710</td>\n",
       "      <td>0.84178</td>\n",
       "    </tr>\n",
       "    <tr>\n",
       "      <th>11</th>\n",
       "      <td>55</td>\n",
       "      <td>0.84838</td>\n",
       "      <td>0.84232</td>\n",
       "    </tr>\n",
       "    <tr>\n",
       "      <th>12</th>\n",
       "      <td>60</td>\n",
       "      <td>0.84960</td>\n",
       "      <td>0.84283</td>\n",
       "    </tr>\n",
       "    <tr>\n",
       "      <th>13</th>\n",
       "      <td>65</td>\n",
       "      <td>0.85068</td>\n",
       "      <td>0.84316</td>\n",
       "    </tr>\n",
       "    <tr>\n",
       "      <th>14</th>\n",
       "      <td>70</td>\n",
       "      <td>0.85166</td>\n",
       "      <td>0.84331</td>\n",
       "    </tr>\n",
       "    <tr>\n",
       "      <th>15</th>\n",
       "      <td>75</td>\n",
       "      <td>0.85256</td>\n",
       "      <td>0.84342</td>\n",
       "    </tr>\n",
       "    <tr>\n",
       "      <th>16</th>\n",
       "      <td>80</td>\n",
       "      <td>0.85348</td>\n",
       "      <td>0.84354</td>\n",
       "    </tr>\n",
       "    <tr>\n",
       "      <th>17</th>\n",
       "      <td>85</td>\n",
       "      <td>0.85419</td>\n",
       "      <td>0.84368</td>\n",
       "    </tr>\n",
       "    <tr>\n",
       "      <th>18</th>\n",
       "      <td>90</td>\n",
       "      <td>0.85492</td>\n",
       "      <td>0.84374</td>\n",
       "    </tr>\n",
       "    <tr>\n",
       "      <th>19</th>\n",
       "      <td>95</td>\n",
       "      <td>0.85565</td>\n",
       "      <td>0.84375</td>\n",
       "    </tr>\n",
       "    <tr>\n",
       "      <th>20</th>\n",
       "      <td>100</td>\n",
       "      <td>0.85640</td>\n",
       "      <td>0.84376</td>\n",
       "    </tr>\n",
       "    <tr>\n",
       "      <th>21</th>\n",
       "      <td>105</td>\n",
       "      <td>0.85721</td>\n",
       "      <td>0.84371</td>\n",
       "    </tr>\n",
       "    <tr>\n",
       "      <th>22</th>\n",
       "      <td>110</td>\n",
       "      <td>0.85786</td>\n",
       "      <td>0.84374</td>\n",
       "    </tr>\n",
       "    <tr>\n",
       "      <th>23</th>\n",
       "      <td>115</td>\n",
       "      <td>0.85841</td>\n",
       "      <td>0.84367</td>\n",
       "    </tr>\n",
       "    <tr>\n",
       "      <th>24</th>\n",
       "      <td>120</td>\n",
       "      <td>0.85916</td>\n",
       "      <td>0.84360</td>\n",
       "    </tr>\n",
       "    <tr>\n",
       "      <th>25</th>\n",
       "      <td>125</td>\n",
       "      <td>0.85955</td>\n",
       "      <td>0.84353</td>\n",
       "    </tr>\n",
       "    <tr>\n",
       "      <th>26</th>\n",
       "      <td>130</td>\n",
       "      <td>0.85997</td>\n",
       "      <td>0.84346</td>\n",
       "    </tr>\n",
       "    <tr>\n",
       "      <th>27</th>\n",
       "      <td>135</td>\n",
       "      <td>0.86042</td>\n",
       "      <td>0.84343</td>\n",
       "    </tr>\n",
       "    <tr>\n",
       "      <th>28</th>\n",
       "      <td>140</td>\n",
       "      <td>0.86077</td>\n",
       "      <td>0.84341</td>\n",
       "    </tr>\n",
       "    <tr>\n",
       "      <th>29</th>\n",
       "      <td>145</td>\n",
       "      <td>0.86115</td>\n",
       "      <td>0.84339</td>\n",
       "    </tr>\n",
       "    <tr>\n",
       "      <th>30</th>\n",
       "      <td>150</td>\n",
       "      <td>0.86160</td>\n",
       "      <td>0.84333</td>\n",
       "    </tr>\n",
       "    <tr>\n",
       "      <th>31</th>\n",
       "      <td>155</td>\n",
       "      <td>0.86211</td>\n",
       "      <td>0.84329</td>\n",
       "    </tr>\n",
       "    <tr>\n",
       "      <th>32</th>\n",
       "      <td>160</td>\n",
       "      <td>0.86244</td>\n",
       "      <td>0.84325</td>\n",
       "    </tr>\n",
       "    <tr>\n",
       "      <th>33</th>\n",
       "      <td>165</td>\n",
       "      <td>0.86282</td>\n",
       "      <td>0.84319</td>\n",
       "    </tr>\n",
       "    <tr>\n",
       "      <th>34</th>\n",
       "      <td>170</td>\n",
       "      <td>0.86323</td>\n",
       "      <td>0.84311</td>\n",
       "    </tr>\n",
       "    <tr>\n",
       "      <th>35</th>\n",
       "      <td>175</td>\n",
       "      <td>0.86382</td>\n",
       "      <td>0.84303</td>\n",
       "    </tr>\n",
       "    <tr>\n",
       "      <th>36</th>\n",
       "      <td>180</td>\n",
       "      <td>0.86414</td>\n",
       "      <td>0.84302</td>\n",
       "    </tr>\n",
       "    <tr>\n",
       "      <th>37</th>\n",
       "      <td>185</td>\n",
       "      <td>0.86462</td>\n",
       "      <td>0.84295</td>\n",
       "    </tr>\n",
       "    <tr>\n",
       "      <th>38</th>\n",
       "      <td>190</td>\n",
       "      <td>0.86506</td>\n",
       "      <td>0.84288</td>\n",
       "    </tr>\n",
       "    <tr>\n",
       "      <th>39</th>\n",
       "      <td>195</td>\n",
       "      <td>0.86550</td>\n",
       "      <td>0.84281</td>\n",
       "    </tr>\n",
       "    <tr>\n",
       "      <th>40</th>\n",
       "      <td>199</td>\n",
       "      <td>0.86588</td>\n",
       "      <td>0.84277</td>\n",
       "    </tr>\n",
       "  </tbody>\n",
       "</table>\n",
       "</div>"
      ],
      "text/plain": [
       "    num_iter  train_auc  val_auc\n",
       "0          0    0.77534  0.77463\n",
       "1          5    0.78695  0.78657\n",
       "2         10    0.81297  0.81219\n",
       "3         15    0.82072  0.81969\n",
       "4         20    0.82688  0.82558\n",
       "5         25    0.83267  0.83044\n",
       "6         30    0.83746  0.83435\n",
       "7         35    0.84144  0.83804\n",
       "8         40    0.84368  0.83975\n",
       "9         45    0.84539  0.84087\n",
       "10        50    0.84710  0.84178\n",
       "11        55    0.84838  0.84232\n",
       "12        60    0.84960  0.84283\n",
       "13        65    0.85068  0.84316\n",
       "14        70    0.85166  0.84331\n",
       "15        75    0.85256  0.84342\n",
       "16        80    0.85348  0.84354\n",
       "17        85    0.85419  0.84368\n",
       "18        90    0.85492  0.84374\n",
       "19        95    0.85565  0.84375\n",
       "20       100    0.85640  0.84376\n",
       "21       105    0.85721  0.84371\n",
       "22       110    0.85786  0.84374\n",
       "23       115    0.85841  0.84367\n",
       "24       120    0.85916  0.84360\n",
       "25       125    0.85955  0.84353\n",
       "26       130    0.85997  0.84346\n",
       "27       135    0.86042  0.84343\n",
       "28       140    0.86077  0.84341\n",
       "29       145    0.86115  0.84339\n",
       "30       150    0.86160  0.84333\n",
       "31       155    0.86211  0.84329\n",
       "32       160    0.86244  0.84325\n",
       "33       165    0.86282  0.84319\n",
       "34       170    0.86323  0.84311\n",
       "35       175    0.86382  0.84303\n",
       "36       180    0.86414  0.84302\n",
       "37       185    0.86462  0.84295\n",
       "38       190    0.86506  0.84288\n",
       "39       195    0.86550  0.84281\n",
       "40       199    0.86588  0.84277"
      ]
     },
     "execution_count": 271,
     "metadata": {},
     "output_type": "execute_result"
    }
   ],
   "source": [
    "scores['eta=0.1']"
   ]
  },
  {
   "cell_type": "markdown",
   "id": "88df1d76",
   "metadata": {},
   "source": [
    "The best learning rate is **0.1** it best iteration is **60**"
   ]
  },
  {
   "cell_type": "markdown",
   "id": "ee91acde",
   "metadata": {},
   "source": [
    "Next, we tune the **max_depth**"
   ]
  },
  {
   "cell_type": "code",
   "execution_count": 272,
   "id": "332233e0",
   "metadata": {},
   "outputs": [],
   "source": [
    "scores = {}"
   ]
  },
  {
   "cell_type": "code",
   "execution_count": 282,
   "id": "7948dda7",
   "metadata": {},
   "outputs": [],
   "source": [
    "%%capture output\n",
    "\n",
    "# eta is now 0.1\n",
    "# max_depth_used while training = [3, 4, 6, 9, None]\n",
    "xgb_params = {\n",
    "    'eta': 0.1, \n",
    "    'max_depth': 9,\n",
    "    'min_child_weight': 1,\n",
    "    \n",
    "    'objective': 'binary:logistic',\n",
    "    'eval_metric': 'auc',\n",
    "\n",
    "    'nthread': 8,\n",
    "    'seed': 1,\n",
    "    'verbosity': 1,\n",
    "}\n",
    "\n",
    "model = xgb.train(xgb_params, dtrain, num_boost_round=200,\n",
    "                  verbose_eval=5,\n",
    "                  evals=watchlist)"
   ]
  },
  {
   "cell_type": "code",
   "execution_count": 283,
   "id": "7b28a371",
   "metadata": {},
   "outputs": [
    {
     "data": {
      "text/plain": [
       "'max_depth=9'"
      ]
     },
     "execution_count": 283,
     "metadata": {},
     "output_type": "execute_result"
    }
   ],
   "source": [
    "key = 'max_depth=%s' % (xgb_params['max_depth'])\n",
    "scores[key] = parse_xgb_output(output)\n",
    "key"
   ]
  },
  {
   "cell_type": "code",
   "execution_count": 287,
   "id": "8002bf57",
   "metadata": {},
   "outputs": [
    {
     "data": {
      "text/plain": [
       "<matplotlib.legend.Legend at 0x226f6e1cf88>"
      ]
     },
     "execution_count": 287,
     "metadata": {},
     "output_type": "execute_result"
    },
    {
     "data": {
      "image/png": "[encoded data removed]",
      "text/plain": [
       "<Figure size 432x288 with 1 Axes>"
      ]
     },
     "metadata": {
      "needs_background": "light"
     },
     "output_type": "display_data"
    }
   ],
   "source": [
    "for max_depth, df_score in scores.items():\n",
    "    plt.plot(df_score.num_iter, df_score.val_auc, label=max_depth)\n",
    "\n",
    "# plt.ylim(0.74, 0.86)\n",
    "plt.legend()"
   ]
  },
  {
   "cell_type": "markdown",
   "id": "6fc614e2",
   "metadata": {},
   "source": [
    "I go with a **max_depth=6** because it starts performing well quickly and it stabilizes at the end too. **max_depth=3** starts achieving good performance really slow but also catches up."
   ]
  },
  {
   "cell_type": "markdown",
   "id": "c21a1e8a",
   "metadata": {},
   "source": [
    "Tuning **min_child_weight** hyperparameter"
   ]
  },
  {
   "cell_type": "code",
   "execution_count": 288,
   "id": "4b2c19e6",
   "metadata": {},
   "outputs": [],
   "source": [
    "scores = {}"
   ]
  },
  {
   "cell_type": "code",
   "execution_count": 295,
   "id": "2c8e9990",
   "metadata": {},
   "outputs": [],
   "source": [
    "%%capture output\n",
    "\n",
    "\n",
    "# min_child_weight = [1,10,15]\n",
    "xgb_params = {\n",
    "    'eta': 0.1, \n",
    "    'max_depth': 6,\n",
    "    'min_child_weight': 15,\n",
    "    \n",
    "    'objective': 'binary:logistic',\n",
    "    'eval_metric': 'auc',\n",
    "\n",
    "    'nthread': 8,\n",
    "    'seed': 1,\n",
    "    'verbosity': 1,\n",
    "}\n",
    "\n",
    "model = xgb.train(xgb_params, dtrain, num_boost_round=200,\n",
    "                  verbose_eval=5,\n",
    "                  evals=watchlist)"
   ]
  },
  {
   "cell_type": "code",
   "execution_count": 296,
   "id": "9d838420",
   "metadata": {},
   "outputs": [
    {
     "data": {
      "text/plain": [
       "'min_child_weight=15'"
      ]
     },
     "execution_count": 296,
     "metadata": {},
     "output_type": "execute_result"
    }
   ],
   "source": [
    "key = 'min_child_weight=%s' % (xgb_params['min_child_weight'])\n",
    "scores[key] = parse_xgb_output(output)\n",
    "key"
   ]
  },
  {
   "cell_type": "code",
   "execution_count": 297,
   "id": "c4ecf265",
   "metadata": {},
   "outputs": [
    {
     "data": {
      "text/plain": [
       "<matplotlib.legend.Legend at 0x226f715ef08>"
      ]
     },
     "execution_count": 297,
     "metadata": {},
     "output_type": "execute_result"
    },
    {
     "data": {
      "image/png": "[encoded data removed]",
      "text/plain": [
       "<Figure size 432x288 with 1 Axes>"
      ]
     },
     "metadata": {
      "needs_background": "light"
     },
     "output_type": "display_data"
    }
   ],
   "source": [
    "for min_child_weight, df_score in scores.items():\n",
    "    plt.plot(df_score.num_iter, df_score.val_auc, label=min_child_weight)\n",
    "\n",
    "# plt.ylim(0.860, 0.8750)\n",
    "plt.legend()"
   ]
  },
  {
   "cell_type": "markdown",
   "id": "4d64238d",
   "metadata": {},
   "source": [
    "There is no difference in the range of **[1, 10, 15] min_child_weight** that I tried, so I stick with the minimum. **min_child_weight=1**"
   ]
  },
  {
   "cell_type": "code",
   "execution_count": 298,
   "id": "27e09b12",
   "metadata": {},
   "outputs": [],
   "source": [
    "# the best model after tuning is\n",
    "xgb_params = {\n",
    "    'eta': 0.1, \n",
    "    'max_depth': 6,\n",
    "    'min_child_weight': 1,\n",
    "    \n",
    "    'objective': 'binary:logistic',\n",
    "    'eval_metric': 'auc',\n",
    "\n",
    "    'nthread': 8,\n",
    "    'seed': 1,\n",
    "    'verbosity': 1,\n",
    "}\n",
    "\n",
    "model = xgb.train(xgb_params, dtrain, num_boost_round=200)"
   ]
  },
  {
   "cell_type": "markdown",
   "id": "d527af94",
   "metadata": {},
   "source": [
    "### Selecting the best model from the 4 models trained."
   ]
  },
  {
   "cell_type": "markdown",
   "id": "f506caea",
   "metadata": {},
   "source": [
    "Basic Logistic Regression Model"
   ]
  },
  {
   "cell_type": "code",
   "execution_count": 306,
   "id": "c4622b03",
   "metadata": {},
   "outputs": [
    {
     "data": {
      "text/plain": [
       "LogisticRegression(solver='liblinear')"
      ]
     },
     "execution_count": 306,
     "metadata": {},
     "output_type": "execute_result"
    }
   ],
   "source": [
    "# lr_model = Logistic Regression Model\n",
    "lr_model = LogisticRegression(solver='liblinear', penalty='l2')\n",
    "lr_model.fit(X_train, y_train)"
   ]
  },
  {
   "cell_type": "code",
   "execution_count": 307,
   "id": "3ee01545",
   "metadata": {},
   "outputs": [
    {
     "data": {
      "text/plain": [
       "0.8405355265915435"
      ]
     },
     "execution_count": 307,
     "metadata": {},
     "output_type": "execute_result"
    }
   ],
   "source": [
    "lr_y_pred = lr_model.predict_proba(X_val)[:, 1]\n",
    "roc_auc_score(y_val, lr_y_pred)"
   ]
  },
  {
   "cell_type": "code",
   "execution_count": 308,
   "id": "73686701",
   "metadata": {},
   "outputs": [],
   "source": [
    "fpr, tpr, thresholds = roc_curve(y_val, lr_y_pred)"
   ]
  },
  {
   "cell_type": "code",
   "execution_count": 309,
   "id": "55e8c4d3",
   "metadata": {},
   "outputs": [
    {
     "data": {
      "text/plain": [
       "<matplotlib.legend.Legend at 0x226f6c60bc8>"
      ]
     },
     "execution_count": 309,
     "metadata": {},
     "output_type": "execute_result"
    },
    {
     "data": {
      "image/png": "[encoded data removed]",
      "text/plain": [
       "<Figure size 360x360 with 1 Axes>"
      ]
     },
     "metadata": {
      "needs_background": "light"
     },
     "output_type": "display_data"
    }
   ],
   "source": [
    "plt.figure(figsize=(5,5))\n",
    "\n",
    "plt.plot(fpr, tpr, label='lr_model')\n",
    "plt.plot([0,1], [0,1], label='random', linestyle='--')\n",
    "\n",
    "plt.xlabel('FPR')\n",
    "plt.ylabel('TPR')\n",
    "\n",
    "plt.legend()"
   ]
  },
  {
   "cell_type": "markdown",
   "id": "296dff7a",
   "metadata": {},
   "source": [
    "Decision Tree Classifier"
   ]
  },
  {
   "cell_type": "code",
   "execution_count": 310,
   "id": "35f3122a",
   "metadata": {},
   "outputs": [
    {
     "data": {
      "text/plain": [
       "DecisionTreeClassifier(max_depth=12, min_samples_leaf=200)"
      ]
     },
     "execution_count": 310,
     "metadata": {},
     "output_type": "execute_result"
    }
   ],
   "source": [
    "dt = DecisionTreeClassifier(max_depth=12, min_samples_leaf=200)\n",
    "dt.fit(X_train, y_train)"
   ]
  },
  {
   "cell_type": "code",
   "execution_count": 311,
   "id": "7fac6b27",
   "metadata": {},
   "outputs": [
    {
     "data": {
      "text/plain": [
       "0.8276884958149023"
      ]
     },
     "execution_count": 311,
     "metadata": {},
     "output_type": "execute_result"
    }
   ],
   "source": [
    "dt_y_pred = dt.predict_proba(X_val)[:, 1]\n",
    "roc_auc_score(y_val, dt_y_pred)"
   ]
  },
  {
   "cell_type": "code",
   "execution_count": 312,
   "id": "d92dc957",
   "metadata": {},
   "outputs": [],
   "source": [
    "fpr, tpr, thresholds = roc_curve(y_val, dt_y_pred)"
   ]
  },
  {
   "cell_type": "code",
   "execution_count": 313,
   "id": "e34712a1",
   "metadata": {},
   "outputs": [
    {
     "data": {
      "text/plain": [
       "<matplotlib.legend.Legend at 0x226f7cb8b48>"
      ]
     },
     "execution_count": 313,
     "metadata": {},
     "output_type": "execute_result"
    },
    {
     "data": {
      "image/png": "[encoded data removed]",
      "text/plain": [
       "<Figure size 360x360 with 1 Axes>"
      ]
     },
     "metadata": {
      "needs_background": "light"
     },
     "output_type": "display_data"
    }
   ],
   "source": [
    "plt.figure(figsize=(5,5))\n",
    "\n",
    "plt.plot(fpr, tpr, label='dt')\n",
    "plt.plot([0,1], [0,1], label='random', linestyle='--')\n",
    "\n",
    "plt.xlabel('FPR')\n",
    "plt.ylabel('TPR')\n",
    "\n",
    "plt.legend()"
   ]
  },
  {
   "cell_type": "markdown",
   "id": "75cdc96f",
   "metadata": {},
   "source": [
    "Random Forest & Ensembles"
   ]
  },
  {
   "cell_type": "code",
   "execution_count": 314,
   "id": "08e882e2",
   "metadata": {},
   "outputs": [
    {
     "data": {
      "text/plain": [
       "RandomForestClassifier(max_depth=10, n_estimators=200, random_state=1)"
      ]
     },
     "execution_count": 314,
     "metadata": {},
     "output_type": "execute_result"
    }
   ],
   "source": [
    "rf = RandomForestClassifier(n_estimators=200,\n",
    "                            max_depth=10,\n",
    "                            min_samples_leaf=1,\n",
    "                            random_state=1)\n",
    "rf.fit(X_train, y_train)"
   ]
  },
  {
   "cell_type": "code",
   "execution_count": 315,
   "id": "c3c684c4",
   "metadata": {},
   "outputs": [
    {
     "data": {
      "text/plain": [
       "0.8309470653257045"
      ]
     },
     "execution_count": 315,
     "metadata": {},
     "output_type": "execute_result"
    }
   ],
   "source": [
    "rf_y_pred = rf.predict_proba(X_val)[:, 1]\n",
    "roc_auc_score(y_val, rf_y_pred)"
   ]
  },
  {
   "cell_type": "code",
   "execution_count": 316,
   "id": "a71d03ed",
   "metadata": {},
   "outputs": [],
   "source": [
    "fpr, tpr, thresholds = roc_curve(y_val, rf_y_pred)"
   ]
  },
  {
   "cell_type": "code",
   "execution_count": 317,
   "id": "15b785a6",
   "metadata": {},
   "outputs": [
    {
     "data": {
      "text/plain": [
       "<matplotlib.legend.Legend at 0x226f737aa48>"
      ]
     },
     "execution_count": 317,
     "metadata": {},
     "output_type": "execute_result"
    },
    {
     "data": {
      "image/png": "[encoded data removed]",
      "text/plain": [
       "<Figure size 360x360 with 1 Axes>"
      ]
     },
     "metadata": {
      "needs_background": "light"
     },
     "output_type": "display_data"
    }
   ],
   "source": [
    "plt.figure(figsize=(5,5))\n",
    "\n",
    "plt.plot(fpr, tpr, label='rf')\n",
    "plt.plot([0,1], [0,1], label='random', linestyle='--')\n",
    "\n",
    "plt.xlabel('FPR')\n",
    "plt.ylabel('TPR')\n",
    "\n",
    "plt.legend()"
   ]
  },
  {
   "cell_type": "markdown",
   "id": "b2a03f62",
   "metadata": {},
   "source": [
    "XGBoost & Gradient Boosting"
   ]
  },
  {
   "cell_type": "code",
   "execution_count": 318,
   "id": "ea367a8f",
   "metadata": {},
   "outputs": [],
   "source": [
    "# the best model after tuning is\n",
    "xgb_params = {\n",
    "    'eta': 0.1, \n",
    "    'max_depth': 6,\n",
    "    'min_child_weight': 1,\n",
    "    \n",
    "    'objective': 'binary:logistic',\n",
    "    'eval_metric': 'auc',\n",
    "\n",
    "    'nthread': 8,\n",
    "    'seed': 1,\n",
    "    'verbosity': 1,\n",
    "}\n",
    "\n",
    "xgb_model = xgb.train(xgb_params, dtrain, num_boost_round=200)"
   ]
  },
  {
   "cell_type": "code",
   "execution_count": 319,
   "id": "8214270e",
   "metadata": {},
   "outputs": [
    {
     "data": {
      "text/plain": [
       "0.842773906434698"
      ]
     },
     "execution_count": 319,
     "metadata": {},
     "output_type": "execute_result"
    }
   ],
   "source": [
    "xgb_y_pred = xgb_model.predict(dval)\n",
    "roc_auc_score(y_val, xgb_y_pred)"
   ]
  },
  {
   "cell_type": "code",
   "execution_count": 320,
   "id": "1b0543c8",
   "metadata": {},
   "outputs": [],
   "source": [
    "fpr, tpr, thresholds = roc_curve(y_val, xgb_y_pred)"
   ]
  },
  {
   "cell_type": "code",
   "execution_count": 321,
   "id": "cc56e49e",
   "metadata": {},
   "outputs": [
    {
     "data": {
      "text/plain": [
       "<matplotlib.legend.Legend at 0x226f7319388>"
      ]
     },
     "execution_count": 321,
     "metadata": {},
     "output_type": "execute_result"
    },
    {
     "data": {
      "image/png": "[encoded data removed]",
      "text/plain": [
       "<Figure size 360x360 with 1 Axes>"
      ]
     },
     "metadata": {
      "needs_background": "light"
     },
     "output_type": "display_data"
    }
   ],
   "source": [
    "plt.figure(figsize=(5,5))\n",
    "\n",
    "plt.plot(fpr, tpr, label='xgb_model')\n",
    "plt.plot([0,1], [0,1], label='random', linestyle='--')\n",
    "\n",
    "plt.xlabel('FPR')\n",
    "plt.ylabel('TPR')\n",
    "\n",
    "plt.legend()"
   ]
  },
  {
   "cell_type": "markdown",
   "id": "08b4e6c0",
   "metadata": {},
   "source": [
    "The Xgb model is 0.3% better so we go with it"
   ]
  },
  {
   "cell_type": "code",
   "execution_count": 323,
   "id": "3e12d23e",
   "metadata": {},
   "outputs": [],
   "source": [
    "df_full_train = df_full_train.reset_index(drop=True)"
   ]
  },
  {
   "cell_type": "code",
   "execution_count": 324,
   "id": "917999a6",
   "metadata": {},
   "outputs": [
    {
     "data": {
      "text/html": [
       "<div>\n",
       "<style scoped>\n",
       "    .dataframe tbody tr th:only-of-type {\n",
       "        vertical-align: middle;\n",
       "    }\n",
       "\n",
       "    .dataframe tbody tr th {\n",
       "        vertical-align: top;\n",
       "    }\n",
       "\n",
       "    .dataframe thead th {\n",
       "        text-align: right;\n",
       "    }\n",
       "</style>\n",
       "<table border=\"1\" class=\"dataframe\">\n",
       "  <thead>\n",
       "    <tr style=\"text-align: right;\">\n",
       "      <th></th>\n",
       "      <th>heartdisease</th>\n",
       "      <th>bmi</th>\n",
       "      <th>smoking</th>\n",
       "      <th>alcoholdrinking</th>\n",
       "      <th>stroke</th>\n",
       "      <th>physicalhealth</th>\n",
       "      <th>mentalhealth</th>\n",
       "      <th>diffwalking</th>\n",
       "      <th>sex</th>\n",
       "      <th>agecategory</th>\n",
       "      <th>race</th>\n",
       "      <th>diabetic</th>\n",
       "      <th>physicalactivity</th>\n",
       "      <th>genhealth</th>\n",
       "      <th>sleeptime</th>\n",
       "      <th>asthma</th>\n",
       "      <th>kidneydisease</th>\n",
       "      <th>skincancer</th>\n",
       "    </tr>\n",
       "  </thead>\n",
       "  <tbody>\n",
       "    <tr>\n",
       "      <th>0</th>\n",
       "      <td>0</td>\n",
       "      <td>24.53</td>\n",
       "      <td>yes</td>\n",
       "      <td>no</td>\n",
       "      <td>no</td>\n",
       "      <td>2.0</td>\n",
       "      <td>0.0</td>\n",
       "      <td>no</td>\n",
       "      <td>female</td>\n",
       "      <td>75-79</td>\n",
       "      <td>white</td>\n",
       "      <td>no</td>\n",
       "      <td>yes</td>\n",
       "      <td>fair</td>\n",
       "      <td>6.0</td>\n",
       "      <td>no</td>\n",
       "      <td>no</td>\n",
       "      <td>no</td>\n",
       "    </tr>\n",
       "    <tr>\n",
       "      <th>1</th>\n",
       "      <td>0</td>\n",
       "      <td>33.00</td>\n",
       "      <td>yes</td>\n",
       "      <td>no</td>\n",
       "      <td>no</td>\n",
       "      <td>0.0</td>\n",
       "      <td>0.0</td>\n",
       "      <td>no</td>\n",
       "      <td>male</td>\n",
       "      <td>50-54</td>\n",
       "      <td>white</td>\n",
       "      <td>no</td>\n",
       "      <td>yes</td>\n",
       "      <td>excellent</td>\n",
       "      <td>7.0</td>\n",
       "      <td>no</td>\n",
       "      <td>no</td>\n",
       "      <td>no</td>\n",
       "    </tr>\n",
       "    <tr>\n",
       "      <th>2</th>\n",
       "      <td>0</td>\n",
       "      <td>27.60</td>\n",
       "      <td>no</td>\n",
       "      <td>no</td>\n",
       "      <td>no</td>\n",
       "      <td>0.0</td>\n",
       "      <td>5.0</td>\n",
       "      <td>no</td>\n",
       "      <td>male</td>\n",
       "      <td>35-39</td>\n",
       "      <td>white</td>\n",
       "      <td>no</td>\n",
       "      <td>yes</td>\n",
       "      <td>excellent</td>\n",
       "      <td>9.0</td>\n",
       "      <td>no</td>\n",
       "      <td>no</td>\n",
       "      <td>no</td>\n",
       "    </tr>\n",
       "    <tr>\n",
       "      <th>3</th>\n",
       "      <td>0</td>\n",
       "      <td>28.70</td>\n",
       "      <td>yes</td>\n",
       "      <td>no</td>\n",
       "      <td>no</td>\n",
       "      <td>0.0</td>\n",
       "      <td>14.0</td>\n",
       "      <td>no</td>\n",
       "      <td>male</td>\n",
       "      <td>45-49</td>\n",
       "      <td>white</td>\n",
       "      <td>no</td>\n",
       "      <td>yes</td>\n",
       "      <td>excellent</td>\n",
       "      <td>8.0</td>\n",
       "      <td>no</td>\n",
       "      <td>no</td>\n",
       "      <td>no</td>\n",
       "    </tr>\n",
       "    <tr>\n",
       "      <th>4</th>\n",
       "      <td>1</td>\n",
       "      <td>28.98</td>\n",
       "      <td>yes</td>\n",
       "      <td>no</td>\n",
       "      <td>no</td>\n",
       "      <td>0.0</td>\n",
       "      <td>0.0</td>\n",
       "      <td>no</td>\n",
       "      <td>male</td>\n",
       "      <td>70-74</td>\n",
       "      <td>white</td>\n",
       "      <td>no, borderline diabetes</td>\n",
       "      <td>yes</td>\n",
       "      <td>good</td>\n",
       "      <td>7.0</td>\n",
       "      <td>no</td>\n",
       "      <td>no</td>\n",
       "      <td>no</td>\n",
       "    </tr>\n",
       "    <tr>\n",
       "      <th>...</th>\n",
       "      <td>...</td>\n",
       "      <td>...</td>\n",
       "      <td>...</td>\n",
       "      <td>...</td>\n",
       "      <td>...</td>\n",
       "      <td>...</td>\n",
       "      <td>...</td>\n",
       "      <td>...</td>\n",
       "      <td>...</td>\n",
       "      <td>...</td>\n",
       "      <td>...</td>\n",
       "      <td>...</td>\n",
       "      <td>...</td>\n",
       "      <td>...</td>\n",
       "      <td>...</td>\n",
       "      <td>...</td>\n",
       "      <td>...</td>\n",
       "      <td>...</td>\n",
       "    </tr>\n",
       "    <tr>\n",
       "      <th>255831</th>\n",
       "      <td>0</td>\n",
       "      <td>23.96</td>\n",
       "      <td>yes</td>\n",
       "      <td>no</td>\n",
       "      <td>no</td>\n",
       "      <td>0.0</td>\n",
       "      <td>0.0</td>\n",
       "      <td>yes</td>\n",
       "      <td>male</td>\n",
       "      <td>80 or older</td>\n",
       "      <td>white</td>\n",
       "      <td>no</td>\n",
       "      <td>yes</td>\n",
       "      <td>very good</td>\n",
       "      <td>10.0</td>\n",
       "      <td>no</td>\n",
       "      <td>no</td>\n",
       "      <td>yes</td>\n",
       "    </tr>\n",
       "    <tr>\n",
       "      <th>255832</th>\n",
       "      <td>0</td>\n",
       "      <td>28.62</td>\n",
       "      <td>yes</td>\n",
       "      <td>no</td>\n",
       "      <td>no</td>\n",
       "      <td>0.0</td>\n",
       "      <td>0.0</td>\n",
       "      <td>no</td>\n",
       "      <td>male</td>\n",
       "      <td>55-59</td>\n",
       "      <td>white</td>\n",
       "      <td>no</td>\n",
       "      <td>no</td>\n",
       "      <td>excellent</td>\n",
       "      <td>7.0</td>\n",
       "      <td>no</td>\n",
       "      <td>no</td>\n",
       "      <td>no</td>\n",
       "    </tr>\n",
       "    <tr>\n",
       "      <th>255833</th>\n",
       "      <td>0</td>\n",
       "      <td>19.53</td>\n",
       "      <td>yes</td>\n",
       "      <td>no</td>\n",
       "      <td>no</td>\n",
       "      <td>30.0</td>\n",
       "      <td>0.0</td>\n",
       "      <td>no</td>\n",
       "      <td>male</td>\n",
       "      <td>60-64</td>\n",
       "      <td>white</td>\n",
       "      <td>no</td>\n",
       "      <td>no</td>\n",
       "      <td>very good</td>\n",
       "      <td>7.0</td>\n",
       "      <td>no</td>\n",
       "      <td>no</td>\n",
       "      <td>no</td>\n",
       "    </tr>\n",
       "    <tr>\n",
       "      <th>255834</th>\n",
       "      <td>0</td>\n",
       "      <td>25.39</td>\n",
       "      <td>no</td>\n",
       "      <td>no</td>\n",
       "      <td>no</td>\n",
       "      <td>0.0</td>\n",
       "      <td>5.0</td>\n",
       "      <td>no</td>\n",
       "      <td>female</td>\n",
       "      <td>45-49</td>\n",
       "      <td>white</td>\n",
       "      <td>no</td>\n",
       "      <td>yes</td>\n",
       "      <td>good</td>\n",
       "      <td>7.0</td>\n",
       "      <td>yes</td>\n",
       "      <td>no</td>\n",
       "      <td>no</td>\n",
       "    </tr>\n",
       "    <tr>\n",
       "      <th>255835</th>\n",
       "      <td>0</td>\n",
       "      <td>25.77</td>\n",
       "      <td>no</td>\n",
       "      <td>no</td>\n",
       "      <td>no</td>\n",
       "      <td>0.0</td>\n",
       "      <td>4.0</td>\n",
       "      <td>no</td>\n",
       "      <td>male</td>\n",
       "      <td>18-24</td>\n",
       "      <td>white</td>\n",
       "      <td>no</td>\n",
       "      <td>yes</td>\n",
       "      <td>excellent</td>\n",
       "      <td>6.0</td>\n",
       "      <td>yes</td>\n",
       "      <td>no</td>\n",
       "      <td>no</td>\n",
       "    </tr>\n",
       "  </tbody>\n",
       "</table>\n",
       "<p>255836 rows × 18 columns</p>\n",
       "</div>"
      ],
      "text/plain": [
       "        heartdisease    bmi smoking alcoholdrinking stroke  physicalhealth  \\\n",
       "0                  0  24.53     yes              no     no             2.0   \n",
       "1                  0  33.00     yes              no     no             0.0   \n",
       "2                  0  27.60      no              no     no             0.0   \n",
       "3                  0  28.70     yes              no     no             0.0   \n",
       "4                  1  28.98     yes              no     no             0.0   \n",
       "...              ...    ...     ...             ...    ...             ...   \n",
       "255831             0  23.96     yes              no     no             0.0   \n",
       "255832             0  28.62     yes              no     no             0.0   \n",
       "255833             0  19.53     yes              no     no            30.0   \n",
       "255834             0  25.39      no              no     no             0.0   \n",
       "255835             0  25.77      no              no     no             0.0   \n",
       "\n",
       "        mentalhealth diffwalking     sex  agecategory   race  \\\n",
       "0                0.0          no  female        75-79  white   \n",
       "1                0.0          no    male        50-54  white   \n",
       "2                5.0          no    male        35-39  white   \n",
       "3               14.0          no    male        45-49  white   \n",
       "4                0.0          no    male        70-74  white   \n",
       "...              ...         ...     ...          ...    ...   \n",
       "255831           0.0         yes    male  80 or older  white   \n",
       "255832           0.0          no    male        55-59  white   \n",
       "255833           0.0          no    male        60-64  white   \n",
       "255834           5.0          no  female        45-49  white   \n",
       "255835           4.0          no    male        18-24  white   \n",
       "\n",
       "                       diabetic physicalactivity  genhealth  sleeptime asthma  \\\n",
       "0                            no              yes       fair        6.0     no   \n",
       "1                            no              yes  excellent        7.0     no   \n",
       "2                            no              yes  excellent        9.0     no   \n",
       "3                            no              yes  excellent        8.0     no   \n",
       "4       no, borderline diabetes              yes       good        7.0     no   \n",
       "...                         ...              ...        ...        ...    ...   \n",
       "255831                       no              yes  very good       10.0     no   \n",
       "255832                       no               no  excellent        7.0     no   \n",
       "255833                       no               no  very good        7.0     no   \n",
       "255834                       no              yes       good        7.0    yes   \n",
       "255835                       no              yes  excellent        6.0    yes   \n",
       "\n",
       "       kidneydisease skincancer  \n",
       "0                 no         no  \n",
       "1                 no         no  \n",
       "2                 no         no  \n",
       "3                 no         no  \n",
       "4                 no         no  \n",
       "...              ...        ...  \n",
       "255831            no        yes  \n",
       "255832            no         no  \n",
       "255833            no         no  \n",
       "255834            no         no  \n",
       "255835            no         no  \n",
       "\n",
       "[255836 rows x 18 columns]"
      ]
     },
     "execution_count": 324,
     "metadata": {},
     "output_type": "execute_result"
    }
   ],
   "source": [
    "df_full_train"
   ]
  },
  {
   "cell_type": "code",
   "execution_count": 326,
   "id": "8ee4ab30",
   "metadata": {},
   "outputs": [
    {
     "data": {
      "text/plain": [
       "0         0\n",
       "1         0\n",
       "2         0\n",
       "3         0\n",
       "4         1\n",
       "         ..\n",
       "255831    0\n",
       "255832    0\n",
       "255833    0\n",
       "255834    0\n",
       "255835    0\n",
       "Name: heartdisease, Length: 255836, dtype: int32"
      ]
     },
     "execution_count": 326,
     "metadata": {},
     "output_type": "execute_result"
    }
   ],
   "source": [
    "y_full_train = df_full_train.heartdisease\n",
    "y_full_train"
   ]
  },
  {
   "cell_type": "code",
   "execution_count": 328,
   "id": "0f5f9cef",
   "metadata": {},
   "outputs": [],
   "source": [
    "del df_full_train['heartdisease']"
   ]
  },
  {
   "cell_type": "code",
   "execution_count": 329,
   "id": "c396a9df",
   "metadata": {},
   "outputs": [],
   "source": [
    "dicts_full_train = df_full_train.to_dict(orient='records')\n",
    "\n",
    "dv = DictVectorizer(sparse=False)\n",
    "X_full_train = dv.fit_transform(dicts_full_train)\n",
    "\n",
    "dicts_test = df_test.to_dict(orient='records')\n",
    "X_test = dv.transform(dicts_test)"
   ]
  },
  {
   "cell_type": "code",
   "execution_count": 330,
   "id": "c8a4b53c",
   "metadata": {},
   "outputs": [],
   "source": [
    "dfulltrain = xgb.DMatrix(X_full_train, label=y_full_train,\n",
    "                    feature_names=dv.get_feature_names_out())\n",
    "\n",
    "dtest = xgb.DMatrix(X_test, feature_names=dv.get_feature_names_out())"
   ]
  },
  {
   "cell_type": "code",
   "execution_count": 331,
   "id": "c7dc4c45",
   "metadata": {},
   "outputs": [],
   "source": [
    "# the best model after tuning is\n",
    "xgb_params = {\n",
    "    'eta': 0.1, \n",
    "    'max_depth': 6,\n",
    "    'min_child_weight': 1,\n",
    "    \n",
    "    'objective': 'binary:logistic',\n",
    "    'eval_metric': 'auc',\n",
    "\n",
    "    'nthread': 8,\n",
    "    'seed': 1,\n",
    "    'verbosity': 1,\n",
    "}\n",
    "\n",
    "xgb_model = xgb.train(xgb_params, dtrain, num_boost_round=200)"
   ]
  },
  {
   "cell_type": "code",
   "execution_count": 332,
   "id": "a2c3bc65",
   "metadata": {},
   "outputs": [
    {
     "data": {
      "text/plain": [
       "0.842773906434698"
      ]
     },
     "execution_count": 332,
     "metadata": {},
     "output_type": "execute_result"
    }
   ],
   "source": [
    "xgb_y_pred = xgb_model.predict(dval)\n",
    "roc_auc_score(y_val, xgb_y_pred)"
   ]
  },
  {
   "cell_type": "code",
   "execution_count": 333,
   "id": "7461f697",
   "metadata": {},
   "outputs": [],
   "source": [
    "y_pred = xgb_model.predict(dtest)"
   ]
  },
  {
   "cell_type": "code",
   "execution_count": 334,
   "id": "5207ac4d",
   "metadata": {},
   "outputs": [
    {
     "data": {
      "text/plain": [
       "0.8450991276769502"
      ]
     },
     "execution_count": 334,
     "metadata": {},
     "output_type": "execute_result"
    }
   ],
   "source": [
    "roc_auc_score(y_test, y_pred)"
   ]
  },
  {
   "cell_type": "code",
   "execution_count": 336,
   "id": "2cf6bc2f",
   "metadata": {},
   "outputs": [
    {
     "data": {
      "text/plain": [
       "<matplotlib.legend.Legend at 0x226f72389c8>"
      ]
     },
     "execution_count": 336,
     "metadata": {},
     "output_type": "execute_result"
    },
    {
     "data": {
      "image/png": "[encoded data removed]",
      "text/plain": [
       "<Figure size 360x360 with 1 Axes>"
      ]
     },
     "metadata": {
      "needs_background": "light"
     },
     "output_type": "display_data"
    }
   ],
   "source": [
    "fpr, tpr, thresholds = roc_curve(y_test, y_pred)\n",
    "\n",
    "\n",
    "\n",
    "plt.figure(figsize=(5,5))\n",
    "\n",
    "plt.plot(fpr, tpr, label='xgb_model')\n",
    "plt.plot([0,1], [0,1], label='random', linestyle='--')\n",
    "\n",
    "plt.xlabel('FPR')\n",
    "plt.ylabel('TPR')\n",
    "\n",
    "plt.legend()"
   ]
  },
  {
   "cell_type": "code",
   "execution_count": 341,
   "id": "0ef38de9",
   "metadata": {},
   "outputs": [
    {
     "data": {
      "text/plain": [
       "<AxesSubplot:title={'center':'Feature importance'}, xlabel='F score', ylabel='Features'>"
      ]
     },
     "execution_count": 341,
     "metadata": {},
     "output_type": "execute_result"
    },
    {
     "data": {
      "image/png": "[encoded data removed]",
      "text/plain": [
       "<Figure size 432x288 with 1 Axes>"
      ]
     },
     "metadata": {
      "needs_background": "light"
     },
     "output_type": "display_data"
    }
   ],
   "source": [
    "xgb.plot_importance(xgb_model,max_num_features=16 )"
   ]
  },
  {
   "cell_type": "markdown",
   "id": "38f99bae",
   "metadata": {},
   "source": [
    "We can see the features which really affect the model. And here we see that your BMI is great factor in predicting someone's Heart Disease"
   ]
  },
  {
   "cell_type": "markdown",
   "id": "b8e103c1",
   "metadata": {},
   "source": [
    "### Using the XGB model\n"
   ]
  },
  {
   "cell_type": "code",
   "execution_count": 374,
   "id": "bc682558",
   "metadata": {},
   "outputs": [
    {
     "data": {
      "text/plain": [
       "{'bmi': 34.09,\n",
       " 'smoking': 'yes',\n",
       " 'alcoholdrinking': 'no',\n",
       " 'stroke': 'no',\n",
       " 'physicalhealth': 28.0,\n",
       " 'mentalhealth': 0.0,\n",
       " 'diffwalking': 'no',\n",
       " 'sex': 'male',\n",
       " 'agecategory': '60-64',\n",
       " 'race': 'white',\n",
       " 'diabetic': 'no',\n",
       " 'physicalactivity': 'yes',\n",
       " 'genhealth': 'good',\n",
       " 'sleeptime': 7.0,\n",
       " 'asthma': 'no',\n",
       " 'kidneydisease': 'no',\n",
       " 'skincancer': 'no'}"
      ]
     },
     "execution_count": 374,
     "metadata": {},
     "output_type": "execute_result"
    }
   ],
   "source": [
    "user_no = -3\n",
    "patient = dicts_test[user_no]\n",
    "patient"
   ]
  },
  {
   "cell_type": "code",
   "execution_count": 375,
   "id": "7ed66688",
   "metadata": {},
   "outputs": [
    {
     "data": {
      "text/plain": [
       "array([0, 1, 0, ..., 1, 0, 0])"
      ]
     },
     "execution_count": 375,
     "metadata": {},
     "output_type": "execute_result"
    }
   ],
   "source": [
    "y_test"
   ]
  },
  {
   "cell_type": "code",
   "execution_count": 376,
   "id": "df9f13e2",
   "metadata": {},
   "outputs": [
    {
     "data": {
      "text/plain": [
       "1"
      ]
     },
     "execution_count": 376,
     "metadata": {},
     "output_type": "execute_result"
    }
   ],
   "source": [
    "y_test[user_no]"
   ]
  },
  {
   "cell_type": "code",
   "execution_count": 377,
   "id": "4b6f53b0",
   "metadata": {},
   "outputs": [],
   "source": [
    "X_one_patient = dv.transform([patient])\n",
    "dtest = xgb.DMatrix(X_one_patient, feature_names=dv.get_feature_names_out())"
   ]
  },
  {
   "cell_type": "code",
   "execution_count": 378,
   "id": "d9513491",
   "metadata": {},
   "outputs": [
    {
     "data": {
      "text/plain": [
       "0.15354683"
      ]
     },
     "execution_count": 378,
     "metadata": {},
     "output_type": "execute_result"
    }
   ],
   "source": [
    "heart_disease_prob = model.predict(dtest)[0]\n",
    "heart_disease_prob"
   ]
  },
  {
   "cell_type": "code",
   "execution_count": 379,
   "id": "7840d4f9",
   "metadata": {},
   "outputs": [
    {
     "data": {
      "text/plain": [
       "0"
      ]
     },
     "execution_count": 379,
     "metadata": {},
     "output_type": "execute_result"
    }
   ],
   "source": [
    "heart_disease_prob.astype(int)"
   ]
  },
  {
   "cell_type": "code",
   "execution_count": 380,
   "id": "82c92225",
   "metadata": {},
   "outputs": [
    {
     "name": "stdout",
     "output_type": "stream",
     "text": [
      "Customer MIGHT NOT have heart disease!\n"
     ]
    }
   ],
   "source": [
    "if heart_disease_prob.astype(int) == 0:\n",
    "    print('Customer MIGHT NOT have heart disease!')\n",
    "else:\n",
    "    print('Customer MIGHT have heart disease!')"
   ]
  },
  {
   "cell_type": "markdown",
   "id": "729236d2",
   "metadata": {},
   "source": [
    "### Save the model\n"
   ]
  },
  {
   "cell_type": "code",
   "execution_count": 383,
   "id": "21bfdf72",
   "metadata": {},
   "outputs": [],
   "source": [
    "# hyper-parameters for xgb model\n",
    "eta = 0.1\n",
    "max_depth = 6\n",
    "min_child_weight = 1"
   ]
  },
  {
   "cell_type": "code",
   "execution_count": 384,
   "id": "47b31e01",
   "metadata": {},
   "outputs": [
    {
     "data": {
      "text/plain": [
       "'xgb_model_eta=0.1_max_depth=6_min_child_weight=1.bin'"
      ]
     },
     "execution_count": 384,
     "metadata": {},
     "output_type": "execute_result"
    }
   ],
   "source": [
    "output_file = 'xgb_model_eta={}_max_depth={}_min_child_weight={}.bin'.format(eta, max_depth, min_child_weight)\n",
    "output_file"
   ]
  },
  {
   "cell_type": "code",
   "execution_count": 387,
   "id": "6a3adc2d",
   "metadata": {},
   "outputs": [],
   "source": [
    "with open(output_file, 'wb') as f_out:\n",
    "    pickle.dump((dv, xgb_model), f_out)"
   ]
  },
  {
   "cell_type": "markdown",
   "id": "1d6b344a",
   "metadata": {},
   "source": [
    "### Using the model"
   ]
  },
  {
   "cell_type": "code",
   "execution_count": 388,
   "id": "68327e25",
   "metadata": {},
   "outputs": [],
   "source": [
    "model_filename = 'xgb_model_eta=0.1_max_depth=6_min_child_weight=1.bin'"
   ]
  },
  {
   "cell_type": "code",
   "execution_count": 389,
   "id": "3cc458a5",
   "metadata": {},
   "outputs": [],
   "source": [
    "with open(model_filename, 'rb') as f_in:\n",
    "    dv, model = pickle.load(f_in)"
   ]
  },
  {
   "cell_type": "code",
   "execution_count": 390,
   "id": "364ff7c6",
   "metadata": {},
   "outputs": [
    {
     "data": {
      "text/plain": [
       "(DictVectorizer(sparse=False), <xgboost.core.Booster at 0x226f9141088>)"
      ]
     },
     "execution_count": 390,
     "metadata": {},
     "output_type": "execute_result"
    }
   ],
   "source": [
    "dv, model"
   ]
  },
  {
   "cell_type": "code",
   "execution_count": 392,
   "id": "0249fb94",
   "metadata": {},
   "outputs": [
    {
     "data": {
      "text/plain": [
       "{'bmi': 29.84,\n",
       " 'smoking': 'no',\n",
       " 'alcoholdrinking': 'no',\n",
       " 'stroke': 'no',\n",
       " 'physicalhealth': 5.0,\n",
       " 'mentalhealth': 0.0,\n",
       " 'diffwalking': 'no',\n",
       " 'sex': 'male',\n",
       " 'agecategory': '60-64',\n",
       " 'race': 'white',\n",
       " 'diabetic': 'no',\n",
       " 'physicalactivity': 'yes',\n",
       " 'genhealth': 'very good',\n",
       " 'sleeptime': 8.0,\n",
       " 'asthma': 'no',\n",
       " 'kidneydisease': 'no',\n",
       " 'skincancer': 'no'}"
      ]
     },
     "execution_count": 392,
     "metadata": {},
     "output_type": "execute_result"
    }
   ],
   "source": [
    "selected_patient = 150\n",
    "patient = dicts_test[selected_patient]\n",
    "patient"
   ]
  },
  {
   "cell_type": "code",
   "execution_count": 395,
   "id": "c6ad4b90",
   "metadata": {},
   "outputs": [],
   "source": [
    "X= dv.transform([patient])\n",
    "dtest = xgb.DMatrix(X, feature_names=dv.get_feature_names_out())"
   ]
  },
  {
   "cell_type": "code",
   "execution_count": 396,
   "id": "69c2fd7f",
   "metadata": {},
   "outputs": [
    {
     "data": {
      "text/plain": [
       "0.0581077"
      ]
     },
     "execution_count": 396,
     "metadata": {},
     "output_type": "execute_result"
    }
   ],
   "source": [
    "model.predict(dtest)[0]"
   ]
  },
  {
   "cell_type": "code",
   "execution_count": 399,
   "id": "6a5323a2",
   "metadata": {},
   "outputs": [
    {
     "data": {
      "text/plain": [
       "0"
      ]
     },
     "execution_count": 399,
     "metadata": {},
     "output_type": "execute_result"
    }
   ],
   "source": [
    "y_test[selected_patient]"
   ]
  },
  {
   "cell_type": "code",
   "execution_count": null,
   "id": "c260829a",
   "metadata": {},
   "outputs": [],
   "source": []
  }
 ],
 "metadata": {
  "kernelspec": {
   "display_name": "Python 3 (ipykernel)",
   "language": "python",
   "name": "python3"
  },
  "language_info": {
   "codemirror_mode": {
    "name": "ipython",
    "version": 3
   },
   "file_extension": ".py",
   "mimetype": "text/x-python",
   "name": "python",
   "nbconvert_exporter": "python",
   "pygments_lexer": "ipython3",
   "version": "3.7.9"
  }
 },
 "nbformat": 4,
 "nbformat_minor": 5
}
