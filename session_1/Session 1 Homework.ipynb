{
 "cells": [
  {
   "cell_type": "code",
   "execution_count": 36,
   "id": "5d4fc680",
   "metadata": {},
   "outputs": [],
   "source": [
    "import numpy as np\n",
    "import pandas as pd"
   ]
  },
  {
   "cell_type": "code",
   "execution_count": 37,
   "id": "fa53763c",
   "metadata": {},
   "outputs": [
    {
     "data": {
      "text/plain": [
       "'1.21.2'"
      ]
     },
     "execution_count": 37,
     "metadata": {},
     "output_type": "execute_result"
    }
   ],
   "source": [
    "np.__version__"
   ]
  },
  {
   "cell_type": "code",
   "execution_count": 38,
   "id": "d5ff6282",
   "metadata": {},
   "outputs": [],
   "source": [
    "data = 'https://raw.githubusercontent.com/alexeygrigorev/mlbookcamp-code/master/chapter-02-car-price/data.csv'"
   ]
  },
  {
   "cell_type": "code",
   "execution_count": 39,
   "id": "cb325e0c",
   "metadata": {},
   "outputs": [],
   "source": [
    "# !wget data -o cars_data.csv"
   ]
  },
  {
   "cell_type": "code",
   "execution_count": 40,
   "id": "526c0bb6",
   "metadata": {},
   "outputs": [],
   "source": [
    "df = pd.read_csv('cars_data.csv')"
   ]
  },
  {
   "cell_type": "code",
   "execution_count": 41,
   "id": "cc015003",
   "metadata": {},
   "outputs": [
    {
     "data": {
      "text/plain": [
       "(11914, 16)"
      ]
     },
     "execution_count": 41,
     "metadata": {},
     "output_type": "execute_result"
    }
   ],
   "source": [
    "# to get number of records, I just check the shape\n",
    "df.shape"
   ]
  },
  {
   "cell_type": "markdown",
   "id": "a90afef9",
   "metadata": {},
   "source": [
    "The number of records are: **11914** in number"
   ]
  },
  {
   "cell_type": "code",
   "execution_count": 42,
   "id": "5df6cb19",
   "metadata": {},
   "outputs": [
    {
     "data": {
      "text/html": [
       "<div>\n",
       "<style scoped>\n",
       "    .dataframe tbody tr th:only-of-type {\n",
       "        vertical-align: middle;\n",
       "    }\n",
       "\n",
       "    .dataframe tbody tr th {\n",
       "        vertical-align: top;\n",
       "    }\n",
       "\n",
       "    .dataframe thead th {\n",
       "        text-align: right;\n",
       "    }\n",
       "</style>\n",
       "<table border=\"1\" class=\"dataframe\">\n",
       "  <thead>\n",
       "    <tr style=\"text-align: right;\">\n",
       "      <th></th>\n",
       "      <th>Make</th>\n",
       "      <th>Model</th>\n",
       "      <th>Year</th>\n",
       "      <th>Engine Fuel Type</th>\n",
       "      <th>Engine HP</th>\n",
       "      <th>Engine Cylinders</th>\n",
       "      <th>Transmission Type</th>\n",
       "      <th>Driven_Wheels</th>\n",
       "      <th>Number of Doors</th>\n",
       "      <th>Market Category</th>\n",
       "      <th>Vehicle Size</th>\n",
       "      <th>Vehicle Style</th>\n",
       "      <th>highway MPG</th>\n",
       "      <th>city mpg</th>\n",
       "      <th>Popularity</th>\n",
       "      <th>MSRP</th>\n",
       "    </tr>\n",
       "  </thead>\n",
       "  <tbody>\n",
       "    <tr>\n",
       "      <th>0</th>\n",
       "      <td>BMW</td>\n",
       "      <td>1 Series M</td>\n",
       "      <td>2011</td>\n",
       "      <td>premium unleaded (required)</td>\n",
       "      <td>335.0</td>\n",
       "      <td>6.0</td>\n",
       "      <td>MANUAL</td>\n",
       "      <td>rear wheel drive</td>\n",
       "      <td>2.0</td>\n",
       "      <td>Factory Tuner,Luxury,High-Performance</td>\n",
       "      <td>Compact</td>\n",
       "      <td>Coupe</td>\n",
       "      <td>26</td>\n",
       "      <td>19</td>\n",
       "      <td>3916</td>\n",
       "      <td>46135</td>\n",
       "    </tr>\n",
       "    <tr>\n",
       "      <th>1</th>\n",
       "      <td>BMW</td>\n",
       "      <td>1 Series</td>\n",
       "      <td>2011</td>\n",
       "      <td>premium unleaded (required)</td>\n",
       "      <td>300.0</td>\n",
       "      <td>6.0</td>\n",
       "      <td>MANUAL</td>\n",
       "      <td>rear wheel drive</td>\n",
       "      <td>2.0</td>\n",
       "      <td>Luxury,Performance</td>\n",
       "      <td>Compact</td>\n",
       "      <td>Convertible</td>\n",
       "      <td>28</td>\n",
       "      <td>19</td>\n",
       "      <td>3916</td>\n",
       "      <td>40650</td>\n",
       "    </tr>\n",
       "    <tr>\n",
       "      <th>2</th>\n",
       "      <td>BMW</td>\n",
       "      <td>1 Series</td>\n",
       "      <td>2011</td>\n",
       "      <td>premium unleaded (required)</td>\n",
       "      <td>300.0</td>\n",
       "      <td>6.0</td>\n",
       "      <td>MANUAL</td>\n",
       "      <td>rear wheel drive</td>\n",
       "      <td>2.0</td>\n",
       "      <td>Luxury,High-Performance</td>\n",
       "      <td>Compact</td>\n",
       "      <td>Coupe</td>\n",
       "      <td>28</td>\n",
       "      <td>20</td>\n",
       "      <td>3916</td>\n",
       "      <td>36350</td>\n",
       "    </tr>\n",
       "    <tr>\n",
       "      <th>3</th>\n",
       "      <td>BMW</td>\n",
       "      <td>1 Series</td>\n",
       "      <td>2011</td>\n",
       "      <td>premium unleaded (required)</td>\n",
       "      <td>230.0</td>\n",
       "      <td>6.0</td>\n",
       "      <td>MANUAL</td>\n",
       "      <td>rear wheel drive</td>\n",
       "      <td>2.0</td>\n",
       "      <td>Luxury,Performance</td>\n",
       "      <td>Compact</td>\n",
       "      <td>Coupe</td>\n",
       "      <td>28</td>\n",
       "      <td>18</td>\n",
       "      <td>3916</td>\n",
       "      <td>29450</td>\n",
       "    </tr>\n",
       "    <tr>\n",
       "      <th>4</th>\n",
       "      <td>BMW</td>\n",
       "      <td>1 Series</td>\n",
       "      <td>2011</td>\n",
       "      <td>premium unleaded (required)</td>\n",
       "      <td>230.0</td>\n",
       "      <td>6.0</td>\n",
       "      <td>MANUAL</td>\n",
       "      <td>rear wheel drive</td>\n",
       "      <td>2.0</td>\n",
       "      <td>Luxury</td>\n",
       "      <td>Compact</td>\n",
       "      <td>Convertible</td>\n",
       "      <td>28</td>\n",
       "      <td>18</td>\n",
       "      <td>3916</td>\n",
       "      <td>34500</td>\n",
       "    </tr>\n",
       "  </tbody>\n",
       "</table>\n",
       "</div>"
      ],
      "text/plain": [
       "  Make       Model  Year             Engine Fuel Type  Engine HP  \\\n",
       "0  BMW  1 Series M  2011  premium unleaded (required)      335.0   \n",
       "1  BMW    1 Series  2011  premium unleaded (required)      300.0   \n",
       "2  BMW    1 Series  2011  premium unleaded (required)      300.0   \n",
       "3  BMW    1 Series  2011  premium unleaded (required)      230.0   \n",
       "4  BMW    1 Series  2011  premium unleaded (required)      230.0   \n",
       "\n",
       "   Engine Cylinders Transmission Type     Driven_Wheels  Number of Doors  \\\n",
       "0               6.0            MANUAL  rear wheel drive              2.0   \n",
       "1               6.0            MANUAL  rear wheel drive              2.0   \n",
       "2               6.0            MANUAL  rear wheel drive              2.0   \n",
       "3               6.0            MANUAL  rear wheel drive              2.0   \n",
       "4               6.0            MANUAL  rear wheel drive              2.0   \n",
       "\n",
       "                         Market Category Vehicle Size Vehicle Style  \\\n",
       "0  Factory Tuner,Luxury,High-Performance      Compact         Coupe   \n",
       "1                     Luxury,Performance      Compact   Convertible   \n",
       "2                Luxury,High-Performance      Compact         Coupe   \n",
       "3                     Luxury,Performance      Compact         Coupe   \n",
       "4                                 Luxury      Compact   Convertible   \n",
       "\n",
       "   highway MPG  city mpg  Popularity   MSRP  \n",
       "0           26        19        3916  46135  \n",
       "1           28        19        3916  40650  \n",
       "2           28        20        3916  36350  \n",
       "3           28        18        3916  29450  \n",
       "4           28        18        3916  34500  "
      ]
     },
     "execution_count": 42,
     "metadata": {},
     "output_type": "execute_result"
    }
   ],
   "source": [
    "df.head()"
   ]
  },
  {
   "cell_type": "code",
   "execution_count": 43,
   "id": "d3873c32",
   "metadata": {},
   "outputs": [
    {
     "data": {
      "text/plain": [
       "Chevrolet        1123\n",
       "Ford              881\n",
       "Volkswagen        809\n",
       "Toyota            746\n",
       "Dodge             626\n",
       "Nissan            558\n",
       "GMC               515\n",
       "Honda             449\n",
       "Mazda             423\n",
       "Cadillac          397\n",
       "Mercedes-Benz     353\n",
       "Suzuki            351\n",
       "BMW               334\n",
       "Infiniti          330\n",
       "Audi              328\n",
       "Hyundai           303\n",
       "Volvo             281\n",
       "Subaru            256\n",
       "Acura             252\n",
       "Kia               231\n",
       "Mitsubishi        213\n",
       "Lexus             202\n",
       "Buick             196\n",
       "Chrysler          187\n",
       "Pontiac           186\n",
       "Lincoln           164\n",
       "Oldsmobile        150\n",
       "Land Rover        143\n",
       "Porsche           136\n",
       "Saab              111\n",
       "Aston Martin       93\n",
       "Plymouth           82\n",
       "Bentley            74\n",
       "Ferrari            69\n",
       "FIAT               62\n",
       "Scion              60\n",
       "Maserati           58\n",
       "Lamborghini        52\n",
       "Rolls-Royce        31\n",
       "Lotus              29\n",
       "Tesla              18\n",
       "HUMMER             17\n",
       "Maybach            16\n",
       "Alfa Romeo          5\n",
       "McLaren             5\n",
       "Spyker              3\n",
       "Genesis             3\n",
       "Bugatti             3\n",
       "Name: Make, dtype: int64"
      ]
     },
     "execution_count": 43,
     "metadata": {},
     "output_type": "execute_result"
    }
   ],
   "source": [
    "# find the top 3\n",
    "df['Make'].value_counts()"
   ]
  },
  {
   "cell_type": "markdown",
   "id": "2343dca7",
   "metadata": {},
   "source": [
    "Top 3 from the above is: **Chevrolet, Ford, Volkswagen**"
   ]
  },
  {
   "cell_type": "code",
   "execution_count": 44,
   "id": "4476afad",
   "metadata": {},
   "outputs": [
    {
     "data": {
      "text/plain": [
       "Index(['Make', 'Model', 'Year', 'Engine Fuel Type', 'Engine HP',\n",
       "       'Engine Cylinders', 'Transmission Type', 'Driven_Wheels',\n",
       "       'Number of Doors', 'Market Category', 'Vehicle Size', 'Vehicle Style',\n",
       "       'highway MPG', 'city mpg', 'Popularity', 'MSRP'],\n",
       "      dtype='object')"
      ]
     },
     "execution_count": 44,
     "metadata": {},
     "output_type": "execute_result"
    }
   ],
   "source": [
    "# find the unique values for Audi Make\n",
    "df.columns"
   ]
  },
  {
   "cell_type": "code",
   "execution_count": 45,
   "id": "4a939939",
   "metadata": {},
   "outputs": [
    {
     "data": {
      "text/plain": [
       "2"
      ]
     },
     "execution_count": 45,
     "metadata": {},
     "output_type": "execute_result"
    }
   ],
   "source": [
    "(df['Make'] == 'Audi').nunique()"
   ]
  },
  {
   "cell_type": "code",
   "execution_count": 46,
   "id": "8abaedda",
   "metadata": {},
   "outputs": [
    {
     "data": {
      "text/plain": [
       "Make                   1\n",
       "Model                 34\n",
       "Year                  20\n",
       "Engine Fuel Type       5\n",
       "Engine HP             40\n",
       "Engine Cylinders       6\n",
       "Transmission Type      3\n",
       "Driven_Wheels          2\n",
       "Number of Doors        2\n",
       "Market Category       15\n",
       "Vehicle Size           3\n",
       "Vehicle Style          6\n",
       "highway MPG           23\n",
       "city mpg              18\n",
       "Popularity             1\n",
       "MSRP                 234\n",
       "dtype: int64"
      ]
     },
     "execution_count": 46,
     "metadata": {},
     "output_type": "execute_result"
    }
   ],
   "source": [
    "# filter dataset to check if the make is equals \"Audi\" \n",
    "# and then display all the unique properties of the Audi car\n",
    "\n",
    "df[df['Make'].str.contains('Audi')].nunique()"
   ]
  },
  {
   "cell_type": "markdown",
   "id": "1f774f2d",
   "metadata": {},
   "source": [
    "We have **34 models** in the Audi car"
   ]
  },
  {
   "cell_type": "code",
   "execution_count": 47,
   "id": "7541f7fa",
   "metadata": {},
   "outputs": [
    {
     "data": {
      "text/plain": [
       "Make                    0\n",
       "Model                   0\n",
       "Year                    0\n",
       "Engine Fuel Type        3\n",
       "Engine HP              69\n",
       "Engine Cylinders       30\n",
       "Transmission Type       0\n",
       "Driven_Wheels           0\n",
       "Number of Doors         6\n",
       "Market Category      3742\n",
       "Vehicle Size            0\n",
       "Vehicle Style           0\n",
       "highway MPG             0\n",
       "city mpg                0\n",
       "Popularity              0\n",
       "MSRP                    0\n",
       "dtype: int64"
      ]
     },
     "execution_count": 47,
     "metadata": {},
     "output_type": "execute_result"
    }
   ],
   "source": [
    "# number of empty rows\n",
    "df.isnull().sum()"
   ]
  },
  {
   "cell_type": "markdown",
   "id": "70ad05d4",
   "metadata": {},
   "source": [
    "We have **5 columns** with empty values"
   ]
  },
  {
   "cell_type": "code",
   "execution_count": 48,
   "id": "d5e7fc7e",
   "metadata": {},
   "outputs": [
    {
     "data": {
      "text/plain": [
       "count    11884.000000\n",
       "mean         5.628829\n",
       "std          1.780559\n",
       "min          0.000000\n",
       "25%          4.000000\n",
       "50%          6.000000\n",
       "75%          6.000000\n",
       "max         16.000000\n",
       "Name: Engine Cylinders, dtype: float64"
      ]
     },
     "execution_count": 48,
     "metadata": {},
     "output_type": "execute_result"
    }
   ],
   "source": [
    "df['Engine Cylinders'].describe()"
   ]
  },
  {
   "cell_type": "code",
   "execution_count": 49,
   "id": "c36966fe",
   "metadata": {},
   "outputs": [
    {
     "data": {
      "text/plain": [
       "6.0"
      ]
     },
     "execution_count": 49,
     "metadata": {},
     "output_type": "execute_result"
    }
   ],
   "source": [
    "df['Engine Cylinders'].median()"
   ]
  },
  {
   "cell_type": "markdown",
   "id": "92d9cee4",
   "metadata": {},
   "source": [
    "The 50% percentile is the same as median which is **6.00**"
   ]
  },
  {
   "cell_type": "code",
   "execution_count": 50,
   "id": "a2a7ed99",
   "metadata": {},
   "outputs": [
    {
     "data": {
      "text/plain": [
       "0    4.0\n",
       "dtype: float64"
      ]
     },
     "execution_count": 50,
     "metadata": {},
     "output_type": "execute_result"
    }
   ],
   "source": [
    "df['Engine Cylinders'].mode()"
   ]
  },
  {
   "cell_type": "code",
   "execution_count": 51,
   "id": "20d56023",
   "metadata": {},
   "outputs": [],
   "source": [
    "# fill the null values with mode value\n",
    "df_engine = df['Engine Cylinders'].fillna(4.0)"
   ]
  },
  {
   "cell_type": "code",
   "execution_count": 52,
   "id": "fa4bbac3",
   "metadata": {},
   "outputs": [
    {
     "data": {
      "text/plain": [
       "11899    6.0\n",
       "11900    6.0\n",
       "11901    4.0\n",
       "11902    6.0\n",
       "11903    8.0\n",
       "11904    8.0\n",
       "11905    8.0\n",
       "11906    6.0\n",
       "11907    6.0\n",
       "11908    6.0\n",
       "11909    6.0\n",
       "11910    6.0\n",
       "11911    6.0\n",
       "11912    6.0\n",
       "11913    6.0\n",
       "Name: Engine Cylinders, dtype: float64"
      ]
     },
     "execution_count": 52,
     "metadata": {},
     "output_type": "execute_result"
    }
   ],
   "source": [
    "df_engine.tail(15)"
   ]
  },
  {
   "cell_type": "code",
   "execution_count": 53,
   "id": "8bef964c",
   "metadata": {},
   "outputs": [
    {
     "data": {
      "text/plain": [
       "6.0"
      ]
     },
     "execution_count": 53,
     "metadata": {},
     "output_type": "execute_result"
    }
   ],
   "source": [
    "df_engine.median()"
   ]
  },
  {
   "cell_type": "markdown",
   "id": "5d442f37",
   "metadata": {},
   "source": [
    "No the MEAN **did not change**"
   ]
  },
  {
   "cell_type": "code",
   "execution_count": 54,
   "id": "370a4e95",
   "metadata": {},
   "outputs": [],
   "source": [
    "# select lotus car\n",
    "df_lotus = df[df['Make'] == 'Lotus']"
   ]
  },
  {
   "cell_type": "code",
   "execution_count": 55,
   "id": "3a4b2b84",
   "metadata": {},
   "outputs": [
    {
     "data": {
      "text/html": [
       "<div>\n",
       "<style scoped>\n",
       "    .dataframe tbody tr th:only-of-type {\n",
       "        vertical-align: middle;\n",
       "    }\n",
       "\n",
       "    .dataframe tbody tr th {\n",
       "        vertical-align: top;\n",
       "    }\n",
       "\n",
       "    .dataframe thead th {\n",
       "        text-align: right;\n",
       "    }\n",
       "</style>\n",
       "<table border=\"1\" class=\"dataframe\">\n",
       "  <thead>\n",
       "    <tr style=\"text-align: right;\">\n",
       "      <th></th>\n",
       "      <th>Make</th>\n",
       "      <th>Model</th>\n",
       "      <th>Year</th>\n",
       "      <th>Engine Fuel Type</th>\n",
       "      <th>Engine HP</th>\n",
       "      <th>Engine Cylinders</th>\n",
       "      <th>Transmission Type</th>\n",
       "      <th>Driven_Wheels</th>\n",
       "      <th>Number of Doors</th>\n",
       "      <th>Market Category</th>\n",
       "      <th>Vehicle Size</th>\n",
       "      <th>Vehicle Style</th>\n",
       "      <th>highway MPG</th>\n",
       "      <th>city mpg</th>\n",
       "      <th>Popularity</th>\n",
       "      <th>MSRP</th>\n",
       "    </tr>\n",
       "  </thead>\n",
       "  <tbody>\n",
       "    <tr>\n",
       "      <th>3912</th>\n",
       "      <td>Lotus</td>\n",
       "      <td>Elise</td>\n",
       "      <td>2009</td>\n",
       "      <td>premium unleaded (required)</td>\n",
       "      <td>189.0</td>\n",
       "      <td>4.0</td>\n",
       "      <td>MANUAL</td>\n",
       "      <td>rear wheel drive</td>\n",
       "      <td>2.0</td>\n",
       "      <td>Exotic,High-Performance</td>\n",
       "      <td>Compact</td>\n",
       "      <td>Convertible</td>\n",
       "      <td>27</td>\n",
       "      <td>21</td>\n",
       "      <td>613</td>\n",
       "      <td>43995</td>\n",
       "    </tr>\n",
       "    <tr>\n",
       "      <th>3913</th>\n",
       "      <td>Lotus</td>\n",
       "      <td>Elise</td>\n",
       "      <td>2009</td>\n",
       "      <td>premium unleaded (required)</td>\n",
       "      <td>218.0</td>\n",
       "      <td>4.0</td>\n",
       "      <td>MANUAL</td>\n",
       "      <td>rear wheel drive</td>\n",
       "      <td>2.0</td>\n",
       "      <td>Exotic,High-Performance</td>\n",
       "      <td>Compact</td>\n",
       "      <td>Convertible</td>\n",
       "      <td>26</td>\n",
       "      <td>20</td>\n",
       "      <td>613</td>\n",
       "      <td>54990</td>\n",
       "    </tr>\n",
       "    <tr>\n",
       "      <th>3914</th>\n",
       "      <td>Lotus</td>\n",
       "      <td>Elise</td>\n",
       "      <td>2009</td>\n",
       "      <td>premium unleaded (required)</td>\n",
       "      <td>189.0</td>\n",
       "      <td>4.0</td>\n",
       "      <td>MANUAL</td>\n",
       "      <td>rear wheel drive</td>\n",
       "      <td>2.0</td>\n",
       "      <td>Exotic,High-Performance</td>\n",
       "      <td>Compact</td>\n",
       "      <td>Convertible</td>\n",
       "      <td>27</td>\n",
       "      <td>21</td>\n",
       "      <td>613</td>\n",
       "      <td>47250</td>\n",
       "    </tr>\n",
       "    <tr>\n",
       "      <th>3915</th>\n",
       "      <td>Lotus</td>\n",
       "      <td>Elise</td>\n",
       "      <td>2010</td>\n",
       "      <td>premium unleaded (required)</td>\n",
       "      <td>189.0</td>\n",
       "      <td>4.0</td>\n",
       "      <td>MANUAL</td>\n",
       "      <td>rear wheel drive</td>\n",
       "      <td>2.0</td>\n",
       "      <td>Exotic,High-Performance</td>\n",
       "      <td>Compact</td>\n",
       "      <td>Convertible</td>\n",
       "      <td>27</td>\n",
       "      <td>21</td>\n",
       "      <td>613</td>\n",
       "      <td>47250</td>\n",
       "    </tr>\n",
       "    <tr>\n",
       "      <th>3916</th>\n",
       "      <td>Lotus</td>\n",
       "      <td>Elise</td>\n",
       "      <td>2010</td>\n",
       "      <td>premium unleaded (required)</td>\n",
       "      <td>218.0</td>\n",
       "      <td>4.0</td>\n",
       "      <td>MANUAL</td>\n",
       "      <td>rear wheel drive</td>\n",
       "      <td>2.0</td>\n",
       "      <td>Exotic,High-Performance</td>\n",
       "      <td>Compact</td>\n",
       "      <td>Convertible</td>\n",
       "      <td>26</td>\n",
       "      <td>20</td>\n",
       "      <td>613</td>\n",
       "      <td>54990</td>\n",
       "    </tr>\n",
       "  </tbody>\n",
       "</table>\n",
       "</div>"
      ],
      "text/plain": [
       "       Make  Model  Year             Engine Fuel Type  Engine HP  \\\n",
       "3912  Lotus  Elise  2009  premium unleaded (required)      189.0   \n",
       "3913  Lotus  Elise  2009  premium unleaded (required)      218.0   \n",
       "3914  Lotus  Elise  2009  premium unleaded (required)      189.0   \n",
       "3915  Lotus  Elise  2010  premium unleaded (required)      189.0   \n",
       "3916  Lotus  Elise  2010  premium unleaded (required)      218.0   \n",
       "\n",
       "      Engine Cylinders Transmission Type     Driven_Wheels  Number of Doors  \\\n",
       "3912               4.0            MANUAL  rear wheel drive              2.0   \n",
       "3913               4.0            MANUAL  rear wheel drive              2.0   \n",
       "3914               4.0            MANUAL  rear wheel drive              2.0   \n",
       "3915               4.0            MANUAL  rear wheel drive              2.0   \n",
       "3916               4.0            MANUAL  rear wheel drive              2.0   \n",
       "\n",
       "              Market Category Vehicle Size Vehicle Style  highway MPG  \\\n",
       "3912  Exotic,High-Performance      Compact   Convertible           27   \n",
       "3913  Exotic,High-Performance      Compact   Convertible           26   \n",
       "3914  Exotic,High-Performance      Compact   Convertible           27   \n",
       "3915  Exotic,High-Performance      Compact   Convertible           27   \n",
       "3916  Exotic,High-Performance      Compact   Convertible           26   \n",
       "\n",
       "      city mpg  Popularity   MSRP  \n",
       "3912        21         613  43995  \n",
       "3913        20         613  54990  \n",
       "3914        21         613  47250  \n",
       "3915        21         613  47250  \n",
       "3916        20         613  54990  "
      ]
     },
     "execution_count": 55,
     "metadata": {},
     "output_type": "execute_result"
    }
   ],
   "source": [
    "df_lotus.head()"
   ]
  },
  {
   "cell_type": "code",
   "execution_count": 56,
   "id": "68b67b48",
   "metadata": {},
   "outputs": [
    {
     "data": {
      "text/html": [
       "<div>\n",
       "<style scoped>\n",
       "    .dataframe tbody tr th:only-of-type {\n",
       "        vertical-align: middle;\n",
       "    }\n",
       "\n",
       "    .dataframe tbody tr th {\n",
       "        vertical-align: top;\n",
       "    }\n",
       "\n",
       "    .dataframe thead th {\n",
       "        text-align: right;\n",
       "    }\n",
       "</style>\n",
       "<table border=\"1\" class=\"dataframe\">\n",
       "  <thead>\n",
       "    <tr style=\"text-align: right;\">\n",
       "      <th></th>\n",
       "      <th>Engine HP</th>\n",
       "      <th>Engine Cylinders</th>\n",
       "    </tr>\n",
       "  </thead>\n",
       "  <tbody>\n",
       "    <tr>\n",
       "      <th>0</th>\n",
       "      <td>189.0</td>\n",
       "      <td>4.0</td>\n",
       "    </tr>\n",
       "    <tr>\n",
       "      <th>1</th>\n",
       "      <td>218.0</td>\n",
       "      <td>4.0</td>\n",
       "    </tr>\n",
       "    <tr>\n",
       "      <th>2</th>\n",
       "      <td>189.0</td>\n",
       "      <td>4.0</td>\n",
       "    </tr>\n",
       "    <tr>\n",
       "      <th>3</th>\n",
       "      <td>189.0</td>\n",
       "      <td>4.0</td>\n",
       "    </tr>\n",
       "    <tr>\n",
       "      <th>4</th>\n",
       "      <td>218.0</td>\n",
       "      <td>4.0</td>\n",
       "    </tr>\n",
       "  </tbody>\n",
       "</table>\n",
       "</div>"
      ],
      "text/plain": [
       "   Engine HP  Engine Cylinders\n",
       "0      189.0               4.0\n",
       "1      218.0               4.0\n",
       "2      189.0               4.0\n",
       "3      189.0               4.0\n",
       "4      218.0               4.0"
      ]
     },
     "execution_count": 56,
     "metadata": {},
     "output_type": "execute_result"
    }
   ],
   "source": [
    "# select with only engine hp and engine cylinders\n",
    "df_lotus_with_engine_hp_and_engine_cylinders = df_lotus[['Engine HP', 'Engine Cylinders']]\n",
    "df_lotus_with_engine_hp_and_engine_cylinders.reset_index(drop=True).head()"
   ]
  },
  {
   "cell_type": "code",
   "execution_count": 57,
   "id": "0acc7ae6",
   "metadata": {},
   "outputs": [],
   "source": [
    "df_lotus_with_engine_hp_and_engine_cylinders = df_lotus_with_engine_hp_and_engine_cylinders.drop_duplicates()"
   ]
  },
  {
   "cell_type": "code",
   "execution_count": 58,
   "id": "56d292c3",
   "metadata": {},
   "outputs": [
    {
     "data": {
      "text/plain": [
       "(9, 2)"
      ]
     },
     "execution_count": 58,
     "metadata": {},
     "output_type": "execute_result"
    }
   ],
   "source": [
    "df_lotus_with_engine_hp_and_engine_cylinders.shape"
   ]
  },
  {
   "cell_type": "markdown",
   "id": "e1f3eb9b",
   "metadata": {},
   "source": [
    "It is 9 rows as expected"
   ]
  },
  {
   "cell_type": "code",
   "execution_count": 59,
   "id": "7e5cecf0",
   "metadata": {},
   "outputs": [],
   "source": [
    "X = np.array(df_lotus_with_engine_hp_and_engine_cylinders)"
   ]
  },
  {
   "cell_type": "code",
   "execution_count": 60,
   "id": "d4efde4e",
   "metadata": {},
   "outputs": [
    {
     "data": {
      "text/plain": [
       "array([[189.,   4.],\n",
       "       [218.,   4.],\n",
       "       [217.,   4.],\n",
       "       [350.,   8.],\n",
       "       [400.,   6.],\n",
       "       [276.,   6.],\n",
       "       [345.,   6.],\n",
       "       [257.,   4.],\n",
       "       [240.,   4.]])"
      ]
     },
     "execution_count": 60,
     "metadata": {},
     "output_type": "execute_result"
    }
   ],
   "source": [
    "X"
   ]
  },
  {
   "cell_type": "code",
   "execution_count": 61,
   "id": "d6f9480d",
   "metadata": {},
   "outputs": [
    {
     "data": {
      "text/plain": [
       "array([[7.31684e+05, 1.34100e+04],\n",
       "       [1.34100e+04, 2.52000e+02]])"
      ]
     },
     "execution_count": 61,
     "metadata": {},
     "output_type": "execute_result"
    }
   ],
   "source": [
    "# matrix-mulitplication\n",
    "XTX = X.T.dot(X)\n",
    "XTX"
   ]
  },
  {
   "cell_type": "code",
   "execution_count": 62,
   "id": "d48f4a92",
   "metadata": {},
   "outputs": [],
   "source": [
    "# inverse is:\n",
    "X_inv = np.linalg.inv(XTX)"
   ]
  },
  {
   "cell_type": "code",
   "execution_count": 63,
   "id": "4c9746a4",
   "metadata": {},
   "outputs": [
    {
     "data": {
      "text/plain": [
       "array([[ 5.53084235e-05, -2.94319825e-03],\n",
       "       [-2.94319825e-03,  1.60588447e-01]])"
      ]
     },
     "execution_count": 63,
     "metadata": {},
     "output_type": "execute_result"
    }
   ],
   "source": [
    "X_inv"
   ]
  },
  {
   "cell_type": "code",
   "execution_count": 64,
   "id": "18604b16",
   "metadata": {},
   "outputs": [],
   "source": [
    "y = np.array([1100, 800, 750, 850, 1300, 1000, 1000, 1300, 800])"
   ]
  },
  {
   "cell_type": "code",
   "execution_count": 65,
   "id": "fd8c0bc9",
   "metadata": {},
   "outputs": [
    {
     "data": {
      "text/plain": [
       "array([1100,  800,  750,  850, 1300, 1000, 1000, 1300,  800])"
      ]
     },
     "execution_count": 65,
     "metadata": {},
     "output_type": "execute_result"
    }
   ],
   "source": [
    "y"
   ]
  },
  {
   "cell_type": "code",
   "execution_count": 66,
   "id": "2b7814df",
   "metadata": {},
   "outputs": [],
   "source": [
    "product_X = X_inv.dot(X.T)"
   ]
  },
  {
   "cell_type": "code",
   "execution_count": 67,
   "id": "c2a523fb",
   "metadata": {},
   "outputs": [],
   "source": [
    "w = product_X.dot(y)"
   ]
  },
  {
   "cell_type": "code",
   "execution_count": 68,
   "id": "8d86b112",
   "metadata": {},
   "outputs": [
    {
     "data": {
      "text/plain": [
       "array([  4.59494481, -63.56432501])"
      ]
     },
     "execution_count": 68,
     "metadata": {},
     "output_type": "execute_result"
    }
   ],
   "source": [
    "w"
   ]
  },
  {
   "cell_type": "markdown",
   "id": "7d15da14",
   "metadata": {},
   "source": [
    "The value of the first element in *w* is **4.59494481**"
   ]
  },
  {
   "cell_type": "code",
   "execution_count": null,
   "id": "0c227d6f",
   "metadata": {},
   "outputs": [],
   "source": []
  }
 ],
 "metadata": {
  "kernelspec": {
   "display_name": "Python 3 (ipykernel)",
   "language": "python",
   "name": "python3"
  },
  "language_info": {
   "codemirror_mode": {
    "name": "ipython",
    "version": 3
   },
   "file_extension": ".py",
   "mimetype": "text/x-python",
   "name": "python",
   "nbconvert_exporter": "python",
   "pygments_lexer": "ipython3",
   "version": "3.10.0"
  },
  "vscode": {
   "interpreter": {
    "hash": "df95319d8ce4e1d89f5365ae10992bc1f65da593082b1d264e8f529830ec2f02"
   }
  }
 },
 "nbformat": 4,
 "nbformat_minor": 5
}
