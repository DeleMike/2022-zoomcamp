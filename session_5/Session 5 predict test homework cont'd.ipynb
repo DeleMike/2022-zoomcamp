{
 "cells": [
  {
   "cell_type": "code",
   "execution_count": 13,
   "id": "31efb3ac",
   "metadata": {},
   "outputs": [],
   "source": [
    "import requests"
   ]
  },
  {
   "cell_type": "code",
   "execution_count": 28,
   "id": "575d3fab",
   "metadata": {},
   "outputs": [],
   "source": [
    "url = \"http://localhost:9696/predict\""
   ]
  },
  {
   "cell_type": "code",
   "execution_count": 29,
   "id": "978b64f7",
   "metadata": {},
   "outputs": [],
   "source": [
    "client = {\"reports\": 0, \"share\": 0.245, \"expenditure\": 3.438, \"owner\": \"yes\"}\n",
    "response = requests.post(url, json=client).json()"
   ]
  },
  {
   "cell_type": "code",
   "execution_count": 30,
   "id": "b94d32ac",
   "metadata": {},
   "outputs": [
    {
     "data": {
      "text/plain": [
       "{'default': True, 'default_probability': 0.7692649226628628}"
      ]
     },
     "execution_count": 30,
     "metadata": {},
     "output_type": "execute_result"
    }
   ],
   "source": [
    "response"
   ]
  },
  {
   "cell_type": "markdown",
   "id": "1a14b379",
   "metadata": {},
   "source": [
    "The answer is `0.928`"
   ]
  },
  {
   "cell_type": "code",
   "execution_count": 31,
   "id": "8c967b74",
   "metadata": {},
   "outputs": [],
   "source": [
    "url = \"http://localhost:9696/predict\""
   ]
  },
  {
   "cell_type": "code",
   "execution_count": 32,
   "id": "10dfa313",
   "metadata": {},
   "outputs": [
    {
     "data": {
      "text/plain": [
       "{'default': True, 'default_probability': 0.7692649226628628}"
      ]
     },
     "execution_count": 32,
     "metadata": {},
     "output_type": "execute_result"
    }
   ],
   "source": [
    "client = {\"reports\": 0, \"share\": 0.245, \"expenditure\": 3.438, \"owner\": \"yes\"}\n",
    "requests.post(url, json=client).json()"
   ]
  },
  {
   "cell_type": "code",
   "execution_count": null,
   "id": "cea97c64",
   "metadata": {},
   "outputs": [],
   "source": []
  }
 ],
 "metadata": {
  "kernelspec": {
   "display_name": "Python 3.7.9 ('keras_env')",
   "language": "python",
   "name": "python3"
  },
  "language_info": {
   "codemirror_mode": {
    "name": "ipython",
    "version": 3
   },
   "file_extension": ".py",
   "mimetype": "text/x-python",
   "name": "python",
   "nbconvert_exporter": "python",
   "pygments_lexer": "ipython3",
   "version": "3.7.9"
  },
  "vscode": {
   "interpreter": {
    "hash": "d54de31b062f75bfa541b455916b34b85a579429c291e296073d49a6e54b7e8e"
   }
  }
 },
 "nbformat": 4,
 "nbformat_minor": 5
}
